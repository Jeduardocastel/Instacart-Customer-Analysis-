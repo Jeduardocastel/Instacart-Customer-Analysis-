{
 "cells": [
  {
   "cell_type": "markdown",
   "id": "9b46d8bb",
   "metadata": {},
   "source": [
    "# Hola &#x1F600;\n",
    "\n",
    "Soy **Hesus Garcia**, revisor de código de Triple Ten, y voy a examinar el proyecto que has desarrollado recientemente. Si encuentro algún error, te lo señalaré para que lo corrijas, ya que mi objetivo es ayudarte a prepararte para un ambiente de trabajo real, donde el líder de tu equipo actuaría de la misma manera. Si no puedes solucionar el problema, te proporcionaré más información en la próxima oportunidad. Cuando encuentres un comentario,  **por favor, no los muevas, no los modifiques ni los borres**. \n",
    "\n",
    "Revisaré cuidadosamente todas las implementaciones que has realizado para cumplir con los requisitos y te proporcionaré mis comentarios de la siguiente manera:\n",
    "\n",
    "\n",
    "<div class=\"alert alert-block alert-success\">\n",
    "<b>Comentario del revisor</b> <a class=“tocSkip”></a>\n",
    "Si todo está perfecto.\n",
    "</div>\n",
    "\n",
    "<div class=\"alert alert-block alert-warning\">\n",
    "<b>Comentario del revisor</b> <a class=“tocSkip”></a>\n",
    "Si tu código está bien pero se puede mejorar o hay algún detalle que le hace falta.\n",
    "</div>\n",
    "\n",
    "<div class=\"alert alert-block alert-danger\">\n",
    "<b>Comentario del revisor</b> <a class=“tocSkip”></a>\n",
    "Si de pronto hace falta algo o existe algún problema con tu código o conclusiones.\n",
    "</div>\n",
    "\n",
    "Puedes responderme de esta forma:\n",
    "<div class=\"alert alert-block alert-info\">\n",
    "<b>Respuesta del estudiante</b> <a class=“tocSkip”></a>\n",
    "</div>\n",
    "\n",
    "</br>\n",
    "\n",
    "**¡Empecemos!**  &#x1F680;\n"
   ]
  },
  {
   "cell_type": "markdown",
   "id": "3Xg_RQfnafXz",
   "metadata": {
    "id": "3Xg_RQfnafXz"
   },
   "source": [
    "# ¡Llena ese carrito!"
   ]
  },
  {
   "cell_type": "markdown",
   "id": "mhIvmmkW414q",
   "metadata": {
    "id": "mhIvmmkW414q"
   },
   "source": [
    "# Introducción\n",
    "\n",
    "Instacart es una plataforma de entregas de comestibles donde la clientela puede registrar un pedido y hacer que se lo entreguen, similar a Uber Eats y Door Dash.\n",
    "El conjunto de datos que te hemos proporcionado tiene modificaciones del original. Redujimos el tamaño del conjunto para que tus cálculos se hicieran más rápido e introdujimos valores ausentes y duplicados. Tuvimos cuidado de conservar las distribuciones de los datos originales cuando hicimos los cambios.\n",
    "\n",
    "Debes completar tres pasos. Para cada uno de ellos, escribe una breve introducción que refleje con claridad cómo pretendes resolver cada paso, y escribe párrafos explicatorios que justifiquen tus decisiones al tiempo que avanzas en tu solución.  También escribe una conclusión que resuma tus hallazgos y elecciones.\n"
   ]
  },
  {
   "cell_type": "markdown",
   "id": "3MbyzpOQZ5Or",
   "metadata": {
    "id": "3MbyzpOQZ5Or"
   },
   "source": [
    "## Diccionario de datos\n",
    "\n",
    "Hay cinco tablas en el conjunto de datos, y tendrás que usarlas todas para hacer el preprocesamiento de datos y el análisis exploratorio de datos. A continuación se muestra un diccionario de datos que enumera las columnas de cada tabla y describe los datos que contienen.\n",
    "\n",
    "- `instacart_orders.csv`: cada fila corresponde a un pedido en la aplicación Instacart.\n",
    "    - `'order_id'`: número de ID que identifica de manera única cada pedido.\n",
    "    - `'user_id'`: número de ID que identifica de manera única la cuenta de cada cliente.\n",
    "    - `'order_number'`: el número de veces que este cliente ha hecho un pedido.\n",
    "    - `'order_dow'`: día de la semana en que se hizo el pedido (0 si es domingo).\n",
    "    - `'order_hour_of_day'`: hora del día en que se hizo el pedido.\n",
    "    - `'days_since_prior_order'`: número de días transcurridos desde que este cliente hizo su pedido anterior.\n",
    "- `products.csv`: cada fila corresponde a un producto único que pueden comprar los clientes.\n",
    "    - `'product_id'`: número ID que identifica de manera única cada producto.\n",
    "    - `'product_name'`: nombre del producto.\n",
    "    - `'aisle_id'`: número ID que identifica de manera única cada categoría de pasillo de víveres.\n",
    "    - `'department_id'`: número ID que identifica de manera única cada departamento de víveres.\n",
    "- `order_products.csv`: cada fila corresponde a un artículo pedido en un pedido.\n",
    "    - `'order_id'`: número de ID que identifica de manera única cada pedido.\n",
    "    - `'product_id'`: número ID que identifica de manera única cada producto.\n",
    "    - `'add_to_cart_order'`: el orden secuencial en el que se añadió cada artículo en el carrito.\n",
    "    - `'reordered'`: 0 si el cliente nunca ha pedido este producto antes, 1 si lo ha pedido.\n",
    "- `aisles.csv`\n",
    "    - `'aisle_id'`: número ID que identifica de manera única cada categoría de pasillo de víveres.\n",
    "    - `'aisle'`: nombre del pasillo.\n",
    "- `departments.csv`\n",
    "    - `'department_id'`: número ID que identifica de manera única cada departamento de víveres.\n",
    "    - `'department'`: nombre del departamento."
   ]
  },
  {
   "cell_type": "markdown",
   "id": "n3Ha_cNSZ8lK",
   "metadata": {
    "id": "n3Ha_cNSZ8lK"
   },
   "source": [
    "# Paso 1. Descripción de los datos\n",
    "\n",
    "Lee los archivos de datos (`/datasets/instacart_orders.csv`, `/datasets/products.csv`, `/datasets/aisles.csv`, `/datasets/departments.csv` y `/datasets/order_products.csv`) con `pd.read_csv()` usando los parámetros adecuados para leer los datos correctamente. Verifica la información para cada DataFrame creado.\n"
   ]
  },
  {
   "cell_type": "markdown",
   "id": "OmlQPLlyaAfR",
   "metadata": {
    "id": "OmlQPLlyaAfR"
   },
   "source": [
    "## Plan de solución\n",
    "\n",
    "Escribe aquí tu plan de solución para el Paso 1. Descripción de los datos.\n",
    "\n",
    "> En el paso 1, se realizará la limpieza de los datos, empezando por la lectura de cada uno de los archivos de datos y posteriormente se le realizará el analisis inicial en donde observaremos los tipos de datos, cantidad de filas, columnas y valores vacios. Esto nos dará un punto de partida para despues pasar al analisis detallado de los datos."
   ]
  },
  {
   "cell_type": "code",
   "execution_count": 1,
   "id": "fbf1adab",
   "metadata": {
    "id": "fbf1adab"
   },
   "outputs": [],
   "source": [
    "# importar librerías\n",
    "import pandas as pd"
   ]
  },
  {
   "cell_type": "code",
   "execution_count": 2,
   "id": "ad36396d",
   "metadata": {
    "id": "ad36396d"
   },
   "outputs": [],
   "source": [
    "# leer conjuntos de datos en los DataFrames\n",
    "orders = pd.read_csv('/datasets/instacart_orders.csv', sep=';')\n",
    "products = pd.read_csv('/datasets/products.csv', sep=';')\n",
    "aisles = pd.read_csv('/datasets/aisles.csv', sep=';')\n",
    "departments = pd.read_csv('/datasets/departments.csv',sep=';')\n",
    "order_products = pd.read_csv('/datasets/order_products.csv',sep=';') "
   ]
  },
  {
   "cell_type": "code",
   "execution_count": 3,
   "id": "ad6a1efa",
   "metadata": {
    "id": "ad6a1efa"
   },
   "outputs": [
    {
     "name": "stdout",
     "output_type": "stream",
     "text": [
      "<class 'pandas.core.frame.DataFrame'>\n",
      "RangeIndex: 478967 entries, 0 to 478966\n",
      "Data columns (total 6 columns):\n",
      " #   Column                  Non-Null Count   Dtype  \n",
      "---  ------                  --------------   -----  \n",
      " 0   order_id                478967 non-null  int64  \n",
      " 1   user_id                 478967 non-null  int64  \n",
      " 2   order_number            478967 non-null  int64  \n",
      " 3   order_dow               478967 non-null  int64  \n",
      " 4   order_hour_of_day       478967 non-null  int64  \n",
      " 5   days_since_prior_order  450148 non-null  float64\n",
      "dtypes: float64(1), int64(5)\n",
      "memory usage: 21.9 MB\n"
     ]
    },
    {
     "data": {
      "text/html": [
       "<div>\n",
       "<style scoped>\n",
       "    .dataframe tbody tr th:only-of-type {\n",
       "        vertical-align: middle;\n",
       "    }\n",
       "\n",
       "    .dataframe tbody tr th {\n",
       "        vertical-align: top;\n",
       "    }\n",
       "\n",
       "    .dataframe thead th {\n",
       "        text-align: right;\n",
       "    }\n",
       "</style>\n",
       "<table border=\"1\" class=\"dataframe\">\n",
       "  <thead>\n",
       "    <tr style=\"text-align: right;\">\n",
       "      <th></th>\n",
       "      <th>order_id</th>\n",
       "      <th>user_id</th>\n",
       "      <th>order_number</th>\n",
       "      <th>order_dow</th>\n",
       "      <th>order_hour_of_day</th>\n",
       "      <th>days_since_prior_order</th>\n",
       "    </tr>\n",
       "  </thead>\n",
       "  <tbody>\n",
       "    <tr>\n",
       "      <th>0</th>\n",
       "      <td>1515936</td>\n",
       "      <td>183418</td>\n",
       "      <td>11</td>\n",
       "      <td>6</td>\n",
       "      <td>13</td>\n",
       "      <td>30.0</td>\n",
       "    </tr>\n",
       "    <tr>\n",
       "      <th>1</th>\n",
       "      <td>1690866</td>\n",
       "      <td>163593</td>\n",
       "      <td>5</td>\n",
       "      <td>5</td>\n",
       "      <td>12</td>\n",
       "      <td>9.0</td>\n",
       "    </tr>\n",
       "    <tr>\n",
       "      <th>2</th>\n",
       "      <td>1454967</td>\n",
       "      <td>39980</td>\n",
       "      <td>4</td>\n",
       "      <td>5</td>\n",
       "      <td>19</td>\n",
       "      <td>2.0</td>\n",
       "    </tr>\n",
       "    <tr>\n",
       "      <th>3</th>\n",
       "      <td>1768857</td>\n",
       "      <td>82516</td>\n",
       "      <td>56</td>\n",
       "      <td>0</td>\n",
       "      <td>20</td>\n",
       "      <td>10.0</td>\n",
       "    </tr>\n",
       "    <tr>\n",
       "      <th>4</th>\n",
       "      <td>3007858</td>\n",
       "      <td>196724</td>\n",
       "      <td>2</td>\n",
       "      <td>4</td>\n",
       "      <td>12</td>\n",
       "      <td>17.0</td>\n",
       "    </tr>\n",
       "  </tbody>\n",
       "</table>\n",
       "</div>"
      ],
      "text/plain": [
       "   order_id  user_id  order_number  order_dow  order_hour_of_day  \\\n",
       "0   1515936   183418            11          6                 13   \n",
       "1   1690866   163593             5          5                 12   \n",
       "2   1454967    39980             4          5                 19   \n",
       "3   1768857    82516            56          0                 20   \n",
       "4   3007858   196724             2          4                 12   \n",
       "\n",
       "   days_since_prior_order  \n",
       "0                    30.0  \n",
       "1                     9.0  \n",
       "2                     2.0  \n",
       "3                    10.0  \n",
       "4                    17.0  "
      ]
     },
     "execution_count": 3,
     "metadata": {},
     "output_type": "execute_result"
    }
   ],
   "source": [
    "# mostrar información del DataFrame\n",
    "\n",
    "orders.info()\n",
    "orders.head()"
   ]
  },
  {
   "cell_type": "code",
   "execution_count": 4,
   "id": "5130e05e",
   "metadata": {
    "id": "5130e05e"
   },
   "outputs": [
    {
     "name": "stdout",
     "output_type": "stream",
     "text": [
      "<class 'pandas.core.frame.DataFrame'>\n",
      "RangeIndex: 49694 entries, 0 to 49693\n",
      "Data columns (total 4 columns):\n",
      " #   Column         Non-Null Count  Dtype \n",
      "---  ------         --------------  ----- \n",
      " 0   product_id     49694 non-null  int64 \n",
      " 1   product_name   48436 non-null  object\n",
      " 2   aisle_id       49694 non-null  int64 \n",
      " 3   department_id  49694 non-null  int64 \n",
      "dtypes: int64(3), object(1)\n",
      "memory usage: 1.5+ MB\n"
     ]
    },
    {
     "data": {
      "text/html": [
       "<div>\n",
       "<style scoped>\n",
       "    .dataframe tbody tr th:only-of-type {\n",
       "        vertical-align: middle;\n",
       "    }\n",
       "\n",
       "    .dataframe tbody tr th {\n",
       "        vertical-align: top;\n",
       "    }\n",
       "\n",
       "    .dataframe thead th {\n",
       "        text-align: right;\n",
       "    }\n",
       "</style>\n",
       "<table border=\"1\" class=\"dataframe\">\n",
       "  <thead>\n",
       "    <tr style=\"text-align: right;\">\n",
       "      <th></th>\n",
       "      <th>product_id</th>\n",
       "      <th>product_name</th>\n",
       "      <th>aisle_id</th>\n",
       "      <th>department_id</th>\n",
       "    </tr>\n",
       "  </thead>\n",
       "  <tbody>\n",
       "    <tr>\n",
       "      <th>0</th>\n",
       "      <td>1</td>\n",
       "      <td>Chocolate Sandwich Cookies</td>\n",
       "      <td>61</td>\n",
       "      <td>19</td>\n",
       "    </tr>\n",
       "    <tr>\n",
       "      <th>1</th>\n",
       "      <td>2</td>\n",
       "      <td>All-Seasons Salt</td>\n",
       "      <td>104</td>\n",
       "      <td>13</td>\n",
       "    </tr>\n",
       "    <tr>\n",
       "      <th>2</th>\n",
       "      <td>3</td>\n",
       "      <td>Robust Golden Unsweetened Oolong Tea</td>\n",
       "      <td>94</td>\n",
       "      <td>7</td>\n",
       "    </tr>\n",
       "    <tr>\n",
       "      <th>3</th>\n",
       "      <td>4</td>\n",
       "      <td>Smart Ones Classic Favorites Mini Rigatoni Wit...</td>\n",
       "      <td>38</td>\n",
       "      <td>1</td>\n",
       "    </tr>\n",
       "    <tr>\n",
       "      <th>4</th>\n",
       "      <td>5</td>\n",
       "      <td>Green Chile Anytime Sauce</td>\n",
       "      <td>5</td>\n",
       "      <td>13</td>\n",
       "    </tr>\n",
       "  </tbody>\n",
       "</table>\n",
       "</div>"
      ],
      "text/plain": [
       "   product_id                                       product_name  aisle_id  \\\n",
       "0           1                         Chocolate Sandwich Cookies        61   \n",
       "1           2                                   All-Seasons Salt       104   \n",
       "2           3               Robust Golden Unsweetened Oolong Tea        94   \n",
       "3           4  Smart Ones Classic Favorites Mini Rigatoni Wit...        38   \n",
       "4           5                          Green Chile Anytime Sauce         5   \n",
       "\n",
       "   department_id  \n",
       "0             19  \n",
       "1             13  \n",
       "2              7  \n",
       "3              1  \n",
       "4             13  "
      ]
     },
     "execution_count": 4,
     "metadata": {},
     "output_type": "execute_result"
    }
   ],
   "source": [
    "# mostrar información del DataFrame\n",
    "\n",
    "products.info()\n",
    "products.head()"
   ]
  },
  {
   "cell_type": "code",
   "execution_count": 5,
   "id": "d8370c05",
   "metadata": {
    "id": "d8370c05"
   },
   "outputs": [
    {
     "name": "stdout",
     "output_type": "stream",
     "text": [
      "<class 'pandas.core.frame.DataFrame'>\n",
      "RangeIndex: 134 entries, 0 to 133\n",
      "Data columns (total 2 columns):\n",
      " #   Column    Non-Null Count  Dtype \n",
      "---  ------    --------------  ----- \n",
      " 0   aisle_id  134 non-null    int64 \n",
      " 1   aisle     134 non-null    object\n",
      "dtypes: int64(1), object(1)\n",
      "memory usage: 2.2+ KB\n"
     ]
    },
    {
     "data": {
      "text/html": [
       "<div>\n",
       "<style scoped>\n",
       "    .dataframe tbody tr th:only-of-type {\n",
       "        vertical-align: middle;\n",
       "    }\n",
       "\n",
       "    .dataframe tbody tr th {\n",
       "        vertical-align: top;\n",
       "    }\n",
       "\n",
       "    .dataframe thead th {\n",
       "        text-align: right;\n",
       "    }\n",
       "</style>\n",
       "<table border=\"1\" class=\"dataframe\">\n",
       "  <thead>\n",
       "    <tr style=\"text-align: right;\">\n",
       "      <th></th>\n",
       "      <th>aisle_id</th>\n",
       "      <th>aisle</th>\n",
       "    </tr>\n",
       "  </thead>\n",
       "  <tbody>\n",
       "    <tr>\n",
       "      <th>0</th>\n",
       "      <td>1</td>\n",
       "      <td>prepared soups salads</td>\n",
       "    </tr>\n",
       "    <tr>\n",
       "      <th>1</th>\n",
       "      <td>2</td>\n",
       "      <td>specialty cheeses</td>\n",
       "    </tr>\n",
       "    <tr>\n",
       "      <th>2</th>\n",
       "      <td>3</td>\n",
       "      <td>energy granola bars</td>\n",
       "    </tr>\n",
       "    <tr>\n",
       "      <th>3</th>\n",
       "      <td>4</td>\n",
       "      <td>instant foods</td>\n",
       "    </tr>\n",
       "    <tr>\n",
       "      <th>4</th>\n",
       "      <td>5</td>\n",
       "      <td>marinades meat preparation</td>\n",
       "    </tr>\n",
       "  </tbody>\n",
       "</table>\n",
       "</div>"
      ],
      "text/plain": [
       "   aisle_id                       aisle\n",
       "0         1       prepared soups salads\n",
       "1         2           specialty cheeses\n",
       "2         3         energy granola bars\n",
       "3         4               instant foods\n",
       "4         5  marinades meat preparation"
      ]
     },
     "execution_count": 5,
     "metadata": {},
     "output_type": "execute_result"
    }
   ],
   "source": [
    "# mostrar información del DataFrame\n",
    "aisles.info()\n",
    "aisles.head()"
   ]
  },
  {
   "cell_type": "code",
   "execution_count": 6,
   "id": "59e2090f",
   "metadata": {
    "id": "59e2090f"
   },
   "outputs": [
    {
     "name": "stdout",
     "output_type": "stream",
     "text": [
      "<class 'pandas.core.frame.DataFrame'>\n",
      "RangeIndex: 21 entries, 0 to 20\n",
      "Data columns (total 2 columns):\n",
      " #   Column         Non-Null Count  Dtype \n",
      "---  ------         --------------  ----- \n",
      " 0   department_id  21 non-null     int64 \n",
      " 1   department     21 non-null     object\n",
      "dtypes: int64(1), object(1)\n",
      "memory usage: 464.0+ bytes\n"
     ]
    },
    {
     "data": {
      "text/html": [
       "<div>\n",
       "<style scoped>\n",
       "    .dataframe tbody tr th:only-of-type {\n",
       "        vertical-align: middle;\n",
       "    }\n",
       "\n",
       "    .dataframe tbody tr th {\n",
       "        vertical-align: top;\n",
       "    }\n",
       "\n",
       "    .dataframe thead th {\n",
       "        text-align: right;\n",
       "    }\n",
       "</style>\n",
       "<table border=\"1\" class=\"dataframe\">\n",
       "  <thead>\n",
       "    <tr style=\"text-align: right;\">\n",
       "      <th></th>\n",
       "      <th>department_id</th>\n",
       "      <th>department</th>\n",
       "    </tr>\n",
       "  </thead>\n",
       "  <tbody>\n",
       "    <tr>\n",
       "      <th>0</th>\n",
       "      <td>1</td>\n",
       "      <td>frozen</td>\n",
       "    </tr>\n",
       "    <tr>\n",
       "      <th>1</th>\n",
       "      <td>2</td>\n",
       "      <td>other</td>\n",
       "    </tr>\n",
       "    <tr>\n",
       "      <th>2</th>\n",
       "      <td>3</td>\n",
       "      <td>bakery</td>\n",
       "    </tr>\n",
       "    <tr>\n",
       "      <th>3</th>\n",
       "      <td>4</td>\n",
       "      <td>produce</td>\n",
       "    </tr>\n",
       "    <tr>\n",
       "      <th>4</th>\n",
       "      <td>5</td>\n",
       "      <td>alcohol</td>\n",
       "    </tr>\n",
       "  </tbody>\n",
       "</table>\n",
       "</div>"
      ],
      "text/plain": [
       "   department_id department\n",
       "0              1     frozen\n",
       "1              2      other\n",
       "2              3     bakery\n",
       "3              4    produce\n",
       "4              5    alcohol"
      ]
     },
     "execution_count": 6,
     "metadata": {},
     "output_type": "execute_result"
    }
   ],
   "source": [
    "# mostrar información del DataFrame\n",
    "\n",
    "departments.info()\n",
    "departments.head()"
   ]
  },
  {
   "cell_type": "code",
   "execution_count": 7,
   "id": "6fc81694",
   "metadata": {
    "id": "6fc81694"
   },
   "outputs": [
    {
     "name": "stdout",
     "output_type": "stream",
     "text": [
      "<class 'pandas.core.frame.DataFrame'>\n",
      "RangeIndex: 4545007 entries, 0 to 4545006\n",
      "Data columns (total 4 columns):\n",
      " #   Column             Dtype  \n",
      "---  ------             -----  \n",
      " 0   order_id           int64  \n",
      " 1   product_id         int64  \n",
      " 2   add_to_cart_order  float64\n",
      " 3   reordered          int64  \n",
      "dtypes: float64(1), int64(3)\n",
      "memory usage: 138.7 MB\n"
     ]
    },
    {
     "data": {
      "text/html": [
       "<div>\n",
       "<style scoped>\n",
       "    .dataframe tbody tr th:only-of-type {\n",
       "        vertical-align: middle;\n",
       "    }\n",
       "\n",
       "    .dataframe tbody tr th {\n",
       "        vertical-align: top;\n",
       "    }\n",
       "\n",
       "    .dataframe thead th {\n",
       "        text-align: right;\n",
       "    }\n",
       "</style>\n",
       "<table border=\"1\" class=\"dataframe\">\n",
       "  <thead>\n",
       "    <tr style=\"text-align: right;\">\n",
       "      <th></th>\n",
       "      <th>order_id</th>\n",
       "      <th>product_id</th>\n",
       "      <th>add_to_cart_order</th>\n",
       "      <th>reordered</th>\n",
       "    </tr>\n",
       "  </thead>\n",
       "  <tbody>\n",
       "    <tr>\n",
       "      <th>0</th>\n",
       "      <td>2141543</td>\n",
       "      <td>11440</td>\n",
       "      <td>17.0</td>\n",
       "      <td>0</td>\n",
       "    </tr>\n",
       "    <tr>\n",
       "      <th>1</th>\n",
       "      <td>567889</td>\n",
       "      <td>1560</td>\n",
       "      <td>1.0</td>\n",
       "      <td>1</td>\n",
       "    </tr>\n",
       "    <tr>\n",
       "      <th>2</th>\n",
       "      <td>2261212</td>\n",
       "      <td>26683</td>\n",
       "      <td>1.0</td>\n",
       "      <td>1</td>\n",
       "    </tr>\n",
       "    <tr>\n",
       "      <th>3</th>\n",
       "      <td>491251</td>\n",
       "      <td>8670</td>\n",
       "      <td>35.0</td>\n",
       "      <td>1</td>\n",
       "    </tr>\n",
       "    <tr>\n",
       "      <th>4</th>\n",
       "      <td>2571142</td>\n",
       "      <td>1940</td>\n",
       "      <td>5.0</td>\n",
       "      <td>1</td>\n",
       "    </tr>\n",
       "  </tbody>\n",
       "</table>\n",
       "</div>"
      ],
      "text/plain": [
       "   order_id  product_id  add_to_cart_order  reordered\n",
       "0   2141543       11440               17.0          0\n",
       "1    567889        1560                1.0          1\n",
       "2   2261212       26683                1.0          1\n",
       "3    491251        8670               35.0          1\n",
       "4   2571142        1940                5.0          1"
      ]
     },
     "execution_count": 7,
     "metadata": {},
     "output_type": "execute_result"
    }
   ],
   "source": [
    "# mostrar información del DataFrame\n",
    "\n",
    "order_products.info()\n",
    "order_products.head()"
   ]
  },
  {
   "cell_type": "markdown",
   "id": "t75BD19oaR5f",
   "metadata": {
    "id": "t75BD19oaR5f"
   },
   "source": [
    "## Conclusiones\n",
    "\n",
    "#Escribe aquí tus conclusiones intermedias sobre el Paso 1. Descripción de los datos.\n",
    "\n",
    "En primer lugar, se puede inferir que los datos estan delimitados por punto y coma, por ende es importante indicar en el código el parámetro (sep=';'). Para hacer más facil el analisis especificare lo que se encontró por cada una de los archivos:\n",
    "\n",
    "**orders** = Es un DataFrame o tabla de pandas, con indices que van desde 0 hasta 478966, indicando un total de 478967 filas, además tiene 6 columnas, de las cuales las primeras 5 columnas  no cuentan con valores Nulos o vacíos y son de tipo entero. La última columna days_since_prior_order si tiene valores nulos y es de tipo flotante. Por último, la cantidad de memoria que esta utilizando este archivo es 21.9 megabytes.\n",
    "\n",
    "**products** = Es un DataFrame o tabla de pandas, con indices que van desde 0 to 49693 indicando un total de 49694 filas, contiene 4 columnas, de las cuales 3 de ellas  no cuentan con valores Nulos o vacíos y son de tipo object. La columna product_name, si tiene valores nulos y es de tipo flotante. Por último, la cantidad de memoria que esta utilizando este archivo es 1.5 megabytes.\n",
    "\n",
    "\n",
    "**aisles** = Es un DataFrame o tabla de pandas, con indices que van desde 0 to 133indicando un total de 134 filas, contiene 2 columnas sin  valores Nulos o vacíos. Sin embargo, la primera: La primera: aisle_id  es de tipo entero y la segunda: aisle es de tipo object. Por último, la cantidad de memoria que esta utilizando este archivo es 2.2 megabytes.\n",
    "\n",
    "**departments** = Es un DataFrame o tabla de pandas, con indices que van desde 0 to 20 indicando un total de 21 filas, contiene 2 columnas sin  valores Nulos o vacíos. Sin embargo, la primera: La primera: department_id es de tipo entero y la segunda department es de tipo object. Por último, la cantidad de memoria que esta utilizando este archivo es 464 bytes.\n",
    "\n",
    "\n",
    "**order_products** = Es un DataFrame o tabla de pandas, con indices que van desde 0 to 4545006, indicando un total de 4545007 filas, contiene 3 columnas sin  valores Nulos o vacíos. Tiene 3 columnas de tipo entero y la columna: add_to_cart_order, es de tipo flotante. Por último, la cantidad de memoria que esta utilizando este archivo es 138.7 megabytes."
   ]
  },
  {
   "cell_type": "markdown",
   "id": "bfa8db7d",
   "metadata": {},
   "source": [
    "<div class=\"alert alert-block alert-success\">\n",
    "<b>Comentario del revisor para el Paso 1: Descripción de los datos</b> <a class=\"tocSkip\"></a>\n",
    "Has realizado un buen trabajo en la importación y descripción inicial de los datos:\n",
    "\n",
    "Importaste correctamente las librerías necesarias y leíste los archivos CSV con el separador adecuado.\n",
    "Utilizaste de manera efectiva el método info() para cada DataFrame.\n",
    "Tus conclusiones son detalladas y muestran una buena comprensión de cada conjunto de datos.\n",
    "\n",
    "Áreas de mejora:\n",
    "\n",
    "Podrías haber incluido el uso de describe() para obtener estadísticas descriptivas de las columnas numéricas.\n",
    "Considera usar head() para mostrar las primeras filas de cada DataFrame y obtener una vista rápida de los datos.\n",
    "\n",
    "En general, has demostrado una sólida comprensión de cómo abordar la descripción inicial de los datos.\n",
    "</div>\n"
   ]
  },
  {
   "cell_type": "markdown",
   "id": "8RJHqxVmaVsF",
   "metadata": {
    "id": "8RJHqxVmaVsF"
   },
   "source": [
    "# Paso 2. Preprocesamiento de los datos\n",
    "\n",
    "Preprocesa los datos de la siguiente manera:\n",
    "\n",
    "- Verifica y corrige los tipos de datos (por ejemplo, asegúrate de que las columnas de ID sean números enteros).\n",
    "- Identifica y completa los valores ausentes.\n",
    "- Identifica y elimina los valores duplicados.\n",
    "\n",
    "Asegúrate de explicar qué tipos de valores ausentes y duplicados encontraste, cómo los completaste o eliminaste y por qué usaste esos métodos. ¿Por qué crees que estos valores ausentes y duplicados pueden haber estado presentes en el conjunto de datos?"
   ]
  },
  {
   "cell_type": "markdown",
   "id": "p6poABZQaZYb",
   "metadata": {
    "id": "p6poABZQaZYb"
   },
   "source": [
    "## Plan de solución\n",
    "\n",
    "Escribe aquí tu plan para el Paso 2. Preprocesamiento de los datos.\n",
    "\n",
    "> En la etapa de Preprocesamiento de datos es crucial para los analistas de datos, ya que en esta etapa se preparan los datos en un formato adecuado, se eliminan errores, para despues estandarizar los datos para su posterior analisis."
   ]
  },
  {
   "cell_type": "markdown",
   "id": "07357848-dc64-4156-9cc3-01ff4365226d",
   "metadata": {
    "id": "07357848-dc64-4156-9cc3-01ff4365226d"
   },
   "source": [
    "## Encuentra y elimina los valores duplicados (y describe cómo tomaste tus decisiones)."
   ]
  },
  {
   "cell_type": "markdown",
   "id": "f179f0a9",
   "metadata": {
    "id": "f179f0a9"
   },
   "source": [
    "### `instacart_orders` data frame"
   ]
  },
  {
   "cell_type": "code",
   "execution_count": 8,
   "id": "b99297a5-405a-463d-8535-9adc3da4ad74",
   "metadata": {
    "id": "b99297a5-405a-463d-8535-9adc3da4ad74"
   },
   "outputs": [
    {
     "data": {
      "text/html": [
       "<div>\n",
       "<style scoped>\n",
       "    .dataframe tbody tr th:only-of-type {\n",
       "        vertical-align: middle;\n",
       "    }\n",
       "\n",
       "    .dataframe tbody tr th {\n",
       "        vertical-align: top;\n",
       "    }\n",
       "\n",
       "    .dataframe thead th {\n",
       "        text-align: right;\n",
       "    }\n",
       "</style>\n",
       "<table border=\"1\" class=\"dataframe\">\n",
       "  <thead>\n",
       "    <tr style=\"text-align: right;\">\n",
       "      <th></th>\n",
       "      <th>order_id</th>\n",
       "      <th>user_id</th>\n",
       "      <th>order_number</th>\n",
       "      <th>order_dow</th>\n",
       "      <th>order_hour_of_day</th>\n",
       "      <th>days_since_prior_order</th>\n",
       "    </tr>\n",
       "  </thead>\n",
       "  <tbody>\n",
       "    <tr>\n",
       "      <th>145574</th>\n",
       "      <td>794638</td>\n",
       "      <td>50898</td>\n",
       "      <td>24</td>\n",
       "      <td>3</td>\n",
       "      <td>2</td>\n",
       "      <td>2.0</td>\n",
       "    </tr>\n",
       "    <tr>\n",
       "      <th>223105</th>\n",
       "      <td>2160484</td>\n",
       "      <td>107525</td>\n",
       "      <td>16</td>\n",
       "      <td>3</td>\n",
       "      <td>2</td>\n",
       "      <td>30.0</td>\n",
       "    </tr>\n",
       "    <tr>\n",
       "      <th>230807</th>\n",
       "      <td>1918001</td>\n",
       "      <td>188546</td>\n",
       "      <td>14</td>\n",
       "      <td>3</td>\n",
       "      <td>2</td>\n",
       "      <td>16.0</td>\n",
       "    </tr>\n",
       "    <tr>\n",
       "      <th>266232</th>\n",
       "      <td>1782114</td>\n",
       "      <td>106752</td>\n",
       "      <td>1</td>\n",
       "      <td>3</td>\n",
       "      <td>2</td>\n",
       "      <td>NaN</td>\n",
       "    </tr>\n",
       "    <tr>\n",
       "      <th>273805</th>\n",
       "      <td>1112182</td>\n",
       "      <td>202304</td>\n",
       "      <td>84</td>\n",
       "      <td>3</td>\n",
       "      <td>2</td>\n",
       "      <td>6.0</td>\n",
       "    </tr>\n",
       "    <tr>\n",
       "      <th>284038</th>\n",
       "      <td>2845099</td>\n",
       "      <td>31189</td>\n",
       "      <td>11</td>\n",
       "      <td>3</td>\n",
       "      <td>2</td>\n",
       "      <td>7.0</td>\n",
       "    </tr>\n",
       "    <tr>\n",
       "      <th>311713</th>\n",
       "      <td>1021560</td>\n",
       "      <td>53767</td>\n",
       "      <td>3</td>\n",
       "      <td>3</td>\n",
       "      <td>2</td>\n",
       "      <td>9.0</td>\n",
       "    </tr>\n",
       "    <tr>\n",
       "      <th>321100</th>\n",
       "      <td>408114</td>\n",
       "      <td>68324</td>\n",
       "      <td>4</td>\n",
       "      <td>3</td>\n",
       "      <td>2</td>\n",
       "      <td>18.0</td>\n",
       "    </tr>\n",
       "    <tr>\n",
       "      <th>323900</th>\n",
       "      <td>1919531</td>\n",
       "      <td>191501</td>\n",
       "      <td>32</td>\n",
       "      <td>3</td>\n",
       "      <td>2</td>\n",
       "      <td>7.0</td>\n",
       "    </tr>\n",
       "    <tr>\n",
       "      <th>345917</th>\n",
       "      <td>2232988</td>\n",
       "      <td>82565</td>\n",
       "      <td>1</td>\n",
       "      <td>3</td>\n",
       "      <td>2</td>\n",
       "      <td>NaN</td>\n",
       "    </tr>\n",
       "    <tr>\n",
       "      <th>371905</th>\n",
       "      <td>391768</td>\n",
       "      <td>57671</td>\n",
       "      <td>19</td>\n",
       "      <td>3</td>\n",
       "      <td>2</td>\n",
       "      <td>10.0</td>\n",
       "    </tr>\n",
       "    <tr>\n",
       "      <th>394347</th>\n",
       "      <td>467134</td>\n",
       "      <td>63189</td>\n",
       "      <td>21</td>\n",
       "      <td>3</td>\n",
       "      <td>2</td>\n",
       "      <td>2.0</td>\n",
       "    </tr>\n",
       "    <tr>\n",
       "      <th>411408</th>\n",
       "      <td>1286742</td>\n",
       "      <td>183220</td>\n",
       "      <td>48</td>\n",
       "      <td>3</td>\n",
       "      <td>2</td>\n",
       "      <td>4.0</td>\n",
       "    </tr>\n",
       "    <tr>\n",
       "      <th>415163</th>\n",
       "      <td>2282673</td>\n",
       "      <td>86751</td>\n",
       "      <td>49</td>\n",
       "      <td>3</td>\n",
       "      <td>2</td>\n",
       "      <td>2.0</td>\n",
       "    </tr>\n",
       "    <tr>\n",
       "      <th>441599</th>\n",
       "      <td>2125197</td>\n",
       "      <td>14050</td>\n",
       "      <td>48</td>\n",
       "      <td>3</td>\n",
       "      <td>2</td>\n",
       "      <td>3.0</td>\n",
       "    </tr>\n",
       "  </tbody>\n",
       "</table>\n",
       "</div>"
      ],
      "text/plain": [
       "        order_id  user_id  order_number  order_dow  order_hour_of_day  \\\n",
       "145574    794638    50898            24          3                  2   \n",
       "223105   2160484   107525            16          3                  2   \n",
       "230807   1918001   188546            14          3                  2   \n",
       "266232   1782114   106752             1          3                  2   \n",
       "273805   1112182   202304            84          3                  2   \n",
       "284038   2845099    31189            11          3                  2   \n",
       "311713   1021560    53767             3          3                  2   \n",
       "321100    408114    68324             4          3                  2   \n",
       "323900   1919531   191501            32          3                  2   \n",
       "345917   2232988    82565             1          3                  2   \n",
       "371905    391768    57671            19          3                  2   \n",
       "394347    467134    63189            21          3                  2   \n",
       "411408   1286742   183220            48          3                  2   \n",
       "415163   2282673    86751            49          3                  2   \n",
       "441599   2125197    14050            48          3                  2   \n",
       "\n",
       "        days_since_prior_order  \n",
       "145574                     2.0  \n",
       "223105                    30.0  \n",
       "230807                    16.0  \n",
       "266232                     NaN  \n",
       "273805                     6.0  \n",
       "284038                     7.0  \n",
       "311713                     9.0  \n",
       "321100                    18.0  \n",
       "323900                     7.0  \n",
       "345917                     NaN  \n",
       "371905                    10.0  \n",
       "394347                     2.0  \n",
       "411408                     4.0  \n",
       "415163                     2.0  \n",
       "441599                     3.0  "
      ]
     },
     "execution_count": 8,
     "metadata": {},
     "output_type": "execute_result"
    }
   ],
   "source": [
    "# Revisa si hay pedidos duplicados\n",
    "\n",
    "orders[orders.duplicated()]"
   ]
  },
  {
   "cell_type": "code",
   "execution_count": 9,
   "id": "cdb5a3eb",
   "metadata": {},
   "outputs": [
    {
     "data": {
      "text/plain": [
       "15"
      ]
     },
     "execution_count": 9,
     "metadata": {},
     "output_type": "execute_result"
    }
   ],
   "source": [
    "orders.duplicated().sum()"
   ]
  },
  {
   "cell_type": "markdown",
   "id": "PEkwUX_gvt5A",
   "metadata": {
    "id": "PEkwUX_gvt5A"
   },
   "source": [
    "¿Tienes líneas duplicadas? Si sí, ¿qué tienen en común?\n",
    "\n",
    "> Si, encontre valores duplicados especificamente en la columna día de la semana, en donde el día miercoles que es el numer 3 se encontraron los duplicados, problamente ese día hubo una falla en el sistema. "
   ]
  },
  {
   "cell_type": "code",
   "execution_count": 10,
   "id": "0d44de5d",
   "metadata": {
    "id": "0d44de5d"
   },
   "outputs": [
    {
     "name": "stdout",
     "output_type": "stream",
     "text": [
      "Pedidos que se hicieron el miércoles a las 2:00 a.m.:\n",
      "        order_id  user_id  order_number  order_dow  order_hour_of_day  \\\n",
      "4838     2766110   162084            41          3                  2   \n",
      "5156     2190225   138285            18          3                  2   \n",
      "15506     553049    58599            13          3                  2   \n",
      "18420     382357   120200            19          3                  2   \n",
      "24691     690242    77357             2          3                  2   \n",
      "...          ...      ...           ...        ...                ...   \n",
      "457013   3384021    14881             6          3                  2   \n",
      "458816    910166   164782            18          3                  2   \n",
      "459635   1680532   106435             6          3                  2   \n",
      "468324    222962    54979            59          3                  2   \n",
      "477526   2592344    46860            38          3                  2   \n",
      "\n",
      "        days_since_prior_order  \n",
      "4838                      16.0  \n",
      "5156                      11.0  \n",
      "15506                      7.0  \n",
      "18420                     11.0  \n",
      "24691                      9.0  \n",
      "...                        ...  \n",
      "457013                    30.0  \n",
      "458816                     4.0  \n",
      "459635                    21.0  \n",
      "468324                     3.0  \n",
      "477526                     3.0  \n",
      "\n",
      "[121 rows x 6 columns]\n"
     ]
    }
   ],
   "source": [
    "# Basándote en tus hallazgos,\n",
    "# Verifica todos los pedidos que se hicieron el miércoles a las 2:00 a.m.\n",
    "\n",
    "pedidos_miercoles = orders[(orders['order_dow'] == 3) & (orders['order_hour_of_day'] == 2)]\n",
    "\n",
    "print(\"Pedidos que se hicieron el miércoles a las 2:00 a.m.:\")\n",
    "print(pedidos_miercoles)"
   ]
  },
  {
   "cell_type": "markdown",
   "id": "vu2OWyoqwOx5",
   "metadata": {
    "id": "vu2OWyoqwOx5"
   },
   "source": [
    "¿Qué sugiere este resultado?\n",
    "\n",
    "> Este resultado sugiere que si bien los miercoles, son los dias con valores duplicados, las personas duran varios días en volver a realizar pedidos "
   ]
  },
  {
   "cell_type": "code",
   "execution_count": 11,
   "id": "480563c7",
   "metadata": {
    "id": "480563c7"
   },
   "outputs": [
    {
     "data": {
      "text/html": [
       "<div>\n",
       "<style scoped>\n",
       "    .dataframe tbody tr th:only-of-type {\n",
       "        vertical-align: middle;\n",
       "    }\n",
       "\n",
       "    .dataframe tbody tr th {\n",
       "        vertical-align: top;\n",
       "    }\n",
       "\n",
       "    .dataframe thead th {\n",
       "        text-align: right;\n",
       "    }\n",
       "</style>\n",
       "<table border=\"1\" class=\"dataframe\">\n",
       "  <thead>\n",
       "    <tr style=\"text-align: right;\">\n",
       "      <th></th>\n",
       "      <th>order_id</th>\n",
       "      <th>user_id</th>\n",
       "      <th>order_number</th>\n",
       "      <th>order_dow</th>\n",
       "      <th>order_hour_of_day</th>\n",
       "      <th>days_since_prior_order</th>\n",
       "    </tr>\n",
       "  </thead>\n",
       "  <tbody>\n",
       "    <tr>\n",
       "      <th>0</th>\n",
       "      <td>1515936</td>\n",
       "      <td>183418</td>\n",
       "      <td>11</td>\n",
       "      <td>6</td>\n",
       "      <td>13</td>\n",
       "      <td>30.0</td>\n",
       "    </tr>\n",
       "    <tr>\n",
       "      <th>1</th>\n",
       "      <td>1690866</td>\n",
       "      <td>163593</td>\n",
       "      <td>5</td>\n",
       "      <td>5</td>\n",
       "      <td>12</td>\n",
       "      <td>9.0</td>\n",
       "    </tr>\n",
       "    <tr>\n",
       "      <th>2</th>\n",
       "      <td>1454967</td>\n",
       "      <td>39980</td>\n",
       "      <td>4</td>\n",
       "      <td>5</td>\n",
       "      <td>19</td>\n",
       "      <td>2.0</td>\n",
       "    </tr>\n",
       "    <tr>\n",
       "      <th>3</th>\n",
       "      <td>1768857</td>\n",
       "      <td>82516</td>\n",
       "      <td>56</td>\n",
       "      <td>0</td>\n",
       "      <td>20</td>\n",
       "      <td>10.0</td>\n",
       "    </tr>\n",
       "    <tr>\n",
       "      <th>4</th>\n",
       "      <td>3007858</td>\n",
       "      <td>196724</td>\n",
       "      <td>2</td>\n",
       "      <td>4</td>\n",
       "      <td>12</td>\n",
       "      <td>17.0</td>\n",
       "    </tr>\n",
       "    <tr>\n",
       "      <th>...</th>\n",
       "      <td>...</td>\n",
       "      <td>...</td>\n",
       "      <td>...</td>\n",
       "      <td>...</td>\n",
       "      <td>...</td>\n",
       "      <td>...</td>\n",
       "    </tr>\n",
       "    <tr>\n",
       "      <th>478962</th>\n",
       "      <td>3210681</td>\n",
       "      <td>5617</td>\n",
       "      <td>5</td>\n",
       "      <td>1</td>\n",
       "      <td>14</td>\n",
       "      <td>7.0</td>\n",
       "    </tr>\n",
       "    <tr>\n",
       "      <th>478963</th>\n",
       "      <td>3270802</td>\n",
       "      <td>112087</td>\n",
       "      <td>2</td>\n",
       "      <td>3</td>\n",
       "      <td>13</td>\n",
       "      <td>6.0</td>\n",
       "    </tr>\n",
       "    <tr>\n",
       "      <th>478964</th>\n",
       "      <td>885349</td>\n",
       "      <td>82944</td>\n",
       "      <td>16</td>\n",
       "      <td>2</td>\n",
       "      <td>11</td>\n",
       "      <td>6.0</td>\n",
       "    </tr>\n",
       "    <tr>\n",
       "      <th>478965</th>\n",
       "      <td>216274</td>\n",
       "      <td>4391</td>\n",
       "      <td>3</td>\n",
       "      <td>3</td>\n",
       "      <td>8</td>\n",
       "      <td>8.0</td>\n",
       "    </tr>\n",
       "    <tr>\n",
       "      <th>478966</th>\n",
       "      <td>2071924</td>\n",
       "      <td>1730</td>\n",
       "      <td>18</td>\n",
       "      <td>1</td>\n",
       "      <td>14</td>\n",
       "      <td>15.0</td>\n",
       "    </tr>\n",
       "  </tbody>\n",
       "</table>\n",
       "<p>478952 rows × 6 columns</p>\n",
       "</div>"
      ],
      "text/plain": [
       "        order_id  user_id  order_number  order_dow  order_hour_of_day  \\\n",
       "0        1515936   183418            11          6                 13   \n",
       "1        1690866   163593             5          5                 12   \n",
       "2        1454967    39980             4          5                 19   \n",
       "3        1768857    82516            56          0                 20   \n",
       "4        3007858   196724             2          4                 12   \n",
       "...          ...      ...           ...        ...                ...   \n",
       "478962   3210681     5617             5          1                 14   \n",
       "478963   3270802   112087             2          3                 13   \n",
       "478964    885349    82944            16          2                 11   \n",
       "478965    216274     4391             3          3                  8   \n",
       "478966   2071924     1730            18          1                 14   \n",
       "\n",
       "        days_since_prior_order  \n",
       "0                         30.0  \n",
       "1                          9.0  \n",
       "2                          2.0  \n",
       "3                         10.0  \n",
       "4                         17.0  \n",
       "...                        ...  \n",
       "478962                     7.0  \n",
       "478963                     6.0  \n",
       "478964                     6.0  \n",
       "478965                     8.0  \n",
       "478966                    15.0  \n",
       "\n",
       "[478952 rows x 6 columns]"
      ]
     },
     "execution_count": 11,
     "metadata": {},
     "output_type": "execute_result"
    }
   ],
   "source": [
    "# Elimina los pedidos duplicados\n",
    "orders.drop_duplicates(inplace = True)\n",
    "orders"
   ]
  },
  {
   "cell_type": "code",
   "execution_count": 12,
   "id": "0b2396a2",
   "metadata": {
    "id": "0b2396a2"
   },
   "outputs": [
    {
     "data": {
      "text/plain": [
       "0"
      ]
     },
     "execution_count": 12,
     "metadata": {},
     "output_type": "execute_result"
    }
   ],
   "source": [
    "# Vuelve a verificar si hay filas duplicadas\n",
    "orders.duplicated().sum()\n"
   ]
  },
  {
   "cell_type": "code",
   "execution_count": 13,
   "id": "f6113ef1",
   "metadata": {
    "id": "f6113ef1"
   },
   "outputs": [
    {
     "data": {
      "text/html": [
       "<div>\n",
       "<style scoped>\n",
       "    .dataframe tbody tr th:only-of-type {\n",
       "        vertical-align: middle;\n",
       "    }\n",
       "\n",
       "    .dataframe tbody tr th {\n",
       "        vertical-align: top;\n",
       "    }\n",
       "\n",
       "    .dataframe thead th {\n",
       "        text-align: right;\n",
       "    }\n",
       "</style>\n",
       "<table border=\"1\" class=\"dataframe\">\n",
       "  <thead>\n",
       "    <tr style=\"text-align: right;\">\n",
       "      <th></th>\n",
       "      <th>order_id</th>\n",
       "      <th>user_id</th>\n",
       "      <th>order_number</th>\n",
       "      <th>order_dow</th>\n",
       "      <th>order_hour_of_day</th>\n",
       "      <th>days_since_prior_order</th>\n",
       "    </tr>\n",
       "  </thead>\n",
       "  <tbody>\n",
       "  </tbody>\n",
       "</table>\n",
       "</div>"
      ],
      "text/plain": [
       "Empty DataFrame\n",
       "Columns: [order_id, user_id, order_number, order_dow, order_hour_of_day, days_since_prior_order]\n",
       "Index: []"
      ]
     },
     "execution_count": 13,
     "metadata": {},
     "output_type": "execute_result"
    }
   ],
   "source": [
    "# Vuelve a verificar si hay IDs duplicados de pedidos\n",
    "orders[orders['order_id'].duplicated()]\n"
   ]
  },
  {
   "cell_type": "markdown",
   "id": "5e8905ae",
   "metadata": {
    "id": "5e8905ae"
   },
   "source": [
    "Describe brevemente tus hallazgos y lo que hiciste con ellos\n",
    "\n",
    ">Usé el método duplicated() para determinar los valores duplicados, los cuales se encuentran los días miercoles de la semana y posterior a esto los elimine con el metodo drop_duplicates. "
   ]
  },
  {
   "cell_type": "markdown",
   "id": "45e6bc46",
   "metadata": {
    "id": "45e6bc46"
   },
   "source": [
    "### `products` data frame"
   ]
  },
  {
   "cell_type": "code",
   "execution_count": 14,
   "id": "5f526b5b-8175-46fa-a0fd-441767d50e64",
   "metadata": {
    "id": "5f526b5b-8175-46fa-a0fd-441767d50e64"
   },
   "outputs": [
    {
     "data": {
      "text/html": [
       "<div>\n",
       "<style scoped>\n",
       "    .dataframe tbody tr th:only-of-type {\n",
       "        vertical-align: middle;\n",
       "    }\n",
       "\n",
       "    .dataframe tbody tr th {\n",
       "        vertical-align: top;\n",
       "    }\n",
       "\n",
       "    .dataframe thead th {\n",
       "        text-align: right;\n",
       "    }\n",
       "</style>\n",
       "<table border=\"1\" class=\"dataframe\">\n",
       "  <thead>\n",
       "    <tr style=\"text-align: right;\">\n",
       "      <th></th>\n",
       "      <th>product_id</th>\n",
       "      <th>product_name</th>\n",
       "      <th>aisle_id</th>\n",
       "      <th>department_id</th>\n",
       "    </tr>\n",
       "  </thead>\n",
       "  <tbody>\n",
       "  </tbody>\n",
       "</table>\n",
       "</div>"
      ],
      "text/plain": [
       "Empty DataFrame\n",
       "Columns: [product_id, product_name, aisle_id, department_id]\n",
       "Index: []"
      ]
     },
     "execution_count": 14,
     "metadata": {},
     "output_type": "execute_result"
    }
   ],
   "source": [
    "# Verifica si hay filas totalmente duplicadas\n",
    "products[products.duplicated()]\n"
   ]
  },
  {
   "cell_type": "code",
   "execution_count": 15,
   "id": "88daa4f4",
   "metadata": {
    "id": "88daa4f4"
   },
   "outputs": [
    {
     "data": {
      "text/html": [
       "<div>\n",
       "<style scoped>\n",
       "    .dataframe tbody tr th:only-of-type {\n",
       "        vertical-align: middle;\n",
       "    }\n",
       "\n",
       "    .dataframe tbody tr th {\n",
       "        vertical-align: top;\n",
       "    }\n",
       "\n",
       "    .dataframe thead th {\n",
       "        text-align: right;\n",
       "    }\n",
       "</style>\n",
       "<table border=\"1\" class=\"dataframe\">\n",
       "  <thead>\n",
       "    <tr style=\"text-align: right;\">\n",
       "      <th></th>\n",
       "      <th>product_id</th>\n",
       "      <th>product_name</th>\n",
       "      <th>aisle_id</th>\n",
       "      <th>department_id</th>\n",
       "    </tr>\n",
       "  </thead>\n",
       "  <tbody>\n",
       "  </tbody>\n",
       "</table>\n",
       "</div>"
      ],
      "text/plain": [
       "Empty DataFrame\n",
       "Columns: [product_id, product_name, aisle_id, department_id]\n",
       "Index: []"
      ]
     },
     "execution_count": 15,
     "metadata": {},
     "output_type": "execute_result"
    }
   ],
   "source": [
    "# Verifica si hay IDs duplicadas de productos\n",
    "products[products.duplicated(subset='product_id')]"
   ]
  },
  {
   "cell_type": "code",
   "execution_count": 16,
   "id": "c773f0bf",
   "metadata": {
    "id": "c773f0bf"
   },
   "outputs": [
    {
     "data": {
      "text/plain": [
       "0                               CHOCOLATE SANDWICH COOKIES\n",
       "1                                         ALL-SEASONS SALT\n",
       "2                     ROBUST GOLDEN UNSWEETENED OOLONG TEA\n",
       "3        SMART ONES CLASSIC FAVORITES MINI RIGATONI WIT...\n",
       "4                                GREEN CHILE ANYTIME SAUCE\n",
       "                               ...                        \n",
       "49689                        HIGH PERFORMANCE ENERGY DRINK\n",
       "49690                        ORIGINAL PANCAKE & WAFFLE MIX\n",
       "49691      ORGANIC INSTANT OATMEAL LIGHT MAPLE BROWN SUGAR\n",
       "49692                               SPRING WATER BODY WASH\n",
       "49693                              BURRITO- STEAK & CHEESE\n",
       "Name: product_name, Length: 49694, dtype: object"
      ]
     },
     "execution_count": 16,
     "metadata": {},
     "output_type": "execute_result"
    }
   ],
   "source": [
    "# Revisa si hay nombres duplicados de productos (convierte los nombres a letras mayúsculas para compararlos mejor)\n",
    "\n",
    "# Convertir los nombres de productos a letras mayúsculas\n",
    "\n",
    "products['product_name'].str.upper()\n"
   ]
  },
  {
   "cell_type": "code",
   "execution_count": 17,
   "id": "01efd02e",
   "metadata": {
    "id": "01efd02e"
   },
   "outputs": [
    {
     "data": {
      "text/plain": [
       "1361"
      ]
     },
     "execution_count": 17,
     "metadata": {},
     "output_type": "execute_result"
    }
   ],
   "source": [
    "# Revisa si hay nombres duplicados de productos no faltantes\n",
    "products['product_name'].str.upper().duplicated().sum()"
   ]
  },
  {
   "cell_type": "markdown",
   "id": "9da8d293",
   "metadata": {
    "id": "9da8d293"
   },
   "source": [
    "Describe brevemente tus hallazgos y lo que hiciste con ellos.\n",
    "\n",
    "> Con la realización de este ejercicio se obtuvo un resultado de 1361 productos duplicados de la columna products. "
   ]
  },
  {
   "cell_type": "markdown",
   "id": "60f30db1",
   "metadata": {
    "id": "60f30db1"
   },
   "source": [
    "### `departments` data frame"
   ]
  },
  {
   "cell_type": "code",
   "execution_count": 18,
   "id": "fb410ad4-0fbf-4b80-bb09-23fdea79afe3",
   "metadata": {
    "id": "fb410ad4-0fbf-4b80-bb09-23fdea79afe3"
   },
   "outputs": [
    {
     "data": {
      "text/html": [
       "<div>\n",
       "<style scoped>\n",
       "    .dataframe tbody tr th:only-of-type {\n",
       "        vertical-align: middle;\n",
       "    }\n",
       "\n",
       "    .dataframe tbody tr th {\n",
       "        vertical-align: top;\n",
       "    }\n",
       "\n",
       "    .dataframe thead th {\n",
       "        text-align: right;\n",
       "    }\n",
       "</style>\n",
       "<table border=\"1\" class=\"dataframe\">\n",
       "  <thead>\n",
       "    <tr style=\"text-align: right;\">\n",
       "      <th></th>\n",
       "      <th>department_id</th>\n",
       "      <th>department</th>\n",
       "    </tr>\n",
       "  </thead>\n",
       "  <tbody>\n",
       "  </tbody>\n",
       "</table>\n",
       "</div>"
      ],
      "text/plain": [
       "Empty DataFrame\n",
       "Columns: [department_id, department]\n",
       "Index: []"
      ]
     },
     "execution_count": 18,
     "metadata": {},
     "output_type": "execute_result"
    }
   ],
   "source": [
    "# Revisa si hay filas totalmente duplicadas\n",
    "departments[departments.duplicated()]"
   ]
  },
  {
   "cell_type": "code",
   "execution_count": 19,
   "id": "332b12bb",
   "metadata": {
    "id": "332b12bb"
   },
   "outputs": [
    {
     "data": {
      "text/html": [
       "<div>\n",
       "<style scoped>\n",
       "    .dataframe tbody tr th:only-of-type {\n",
       "        vertical-align: middle;\n",
       "    }\n",
       "\n",
       "    .dataframe tbody tr th {\n",
       "        vertical-align: top;\n",
       "    }\n",
       "\n",
       "    .dataframe thead th {\n",
       "        text-align: right;\n",
       "    }\n",
       "</style>\n",
       "<table border=\"1\" class=\"dataframe\">\n",
       "  <thead>\n",
       "    <tr style=\"text-align: right;\">\n",
       "      <th></th>\n",
       "      <th>department_id</th>\n",
       "      <th>department</th>\n",
       "    </tr>\n",
       "  </thead>\n",
       "  <tbody>\n",
       "  </tbody>\n",
       "</table>\n",
       "</div>"
      ],
      "text/plain": [
       "Empty DataFrame\n",
       "Columns: [department_id, department]\n",
       "Index: []"
      ]
     },
     "execution_count": 19,
     "metadata": {},
     "output_type": "execute_result"
    }
   ],
   "source": [
    "# Revisa si hay IDs duplicadas de productos\n",
    "departments[departments.duplicated(subset='department_id')]"
   ]
  },
  {
   "cell_type": "markdown",
   "id": "bd30d78e",
   "metadata": {
    "id": "bd30d78e"
   },
   "source": [
    "Describe brevemente tus hallazgos y lo que hiciste con ellos.\n",
    "\n",
    "> Con la realización de este duplicated, nos damos cuenta que en las columnas del archivo 'department' no hay datos duplicados "
   ]
  },
  {
   "cell_type": "markdown",
   "id": "889349c1",
   "metadata": {
    "id": "889349c1"
   },
   "source": [
    "### `aisles` data frame"
   ]
  },
  {
   "cell_type": "code",
   "execution_count": 20,
   "id": "9da89fb9-4679-40f5-ad0d-c34df753a3f8",
   "metadata": {
    "id": "9da89fb9-4679-40f5-ad0d-c34df753a3f8"
   },
   "outputs": [
    {
     "data": {
      "text/html": [
       "<div>\n",
       "<style scoped>\n",
       "    .dataframe tbody tr th:only-of-type {\n",
       "        vertical-align: middle;\n",
       "    }\n",
       "\n",
       "    .dataframe tbody tr th {\n",
       "        vertical-align: top;\n",
       "    }\n",
       "\n",
       "    .dataframe thead th {\n",
       "        text-align: right;\n",
       "    }\n",
       "</style>\n",
       "<table border=\"1\" class=\"dataframe\">\n",
       "  <thead>\n",
       "    <tr style=\"text-align: right;\">\n",
       "      <th></th>\n",
       "      <th>aisle_id</th>\n",
       "      <th>aisle</th>\n",
       "    </tr>\n",
       "  </thead>\n",
       "  <tbody>\n",
       "  </tbody>\n",
       "</table>\n",
       "</div>"
      ],
      "text/plain": [
       "Empty DataFrame\n",
       "Columns: [aisle_id, aisle]\n",
       "Index: []"
      ]
     },
     "execution_count": 20,
     "metadata": {},
     "output_type": "execute_result"
    }
   ],
   "source": [
    "# Revisa si hay filas totalmente duplicadas\n",
    "aisles[aisles.duplicated()]"
   ]
  },
  {
   "cell_type": "code",
   "execution_count": 21,
   "id": "da7c2822",
   "metadata": {
    "id": "da7c2822"
   },
   "outputs": [
    {
     "data": {
      "text/html": [
       "<div>\n",
       "<style scoped>\n",
       "    .dataframe tbody tr th:only-of-type {\n",
       "        vertical-align: middle;\n",
       "    }\n",
       "\n",
       "    .dataframe tbody tr th {\n",
       "        vertical-align: top;\n",
       "    }\n",
       "\n",
       "    .dataframe thead th {\n",
       "        text-align: right;\n",
       "    }\n",
       "</style>\n",
       "<table border=\"1\" class=\"dataframe\">\n",
       "  <thead>\n",
       "    <tr style=\"text-align: right;\">\n",
       "      <th></th>\n",
       "      <th>aisle_id</th>\n",
       "      <th>aisle</th>\n",
       "    </tr>\n",
       "  </thead>\n",
       "  <tbody>\n",
       "  </tbody>\n",
       "</table>\n",
       "</div>"
      ],
      "text/plain": [
       "Empty DataFrame\n",
       "Columns: [aisle_id, aisle]\n",
       "Index: []"
      ]
     },
     "execution_count": 21,
     "metadata": {},
     "output_type": "execute_result"
    }
   ],
   "source": [
    "# Revisa si hay IDs duplicadas de productos\n",
    "aisles[aisles.duplicated(subset='aisle_id')]"
   ]
  },
  {
   "cell_type": "markdown",
   "id": "ac63826f",
   "metadata": {
    "id": "ac63826f"
   },
   "source": [
    "Describe brevemente tus hallazgos y lo que hiciste con ellos.\n",
    "\n",
    "> Con la realización de este duplicated, nos damos cuenta que en las columnas del archivo 'aisles' no hay datos duplicados "
   ]
  },
  {
   "cell_type": "markdown",
   "id": "274cd06a",
   "metadata": {
    "id": "274cd06a"
   },
   "source": [
    "### `order_products` data frame"
   ]
  },
  {
   "cell_type": "code",
   "execution_count": 22,
   "id": "52326689-84a8-4b8f-a881-7c68780f62c9",
   "metadata": {
    "id": "52326689-84a8-4b8f-a881-7c68780f62c9"
   },
   "outputs": [
    {
     "data": {
      "text/html": [
       "<div>\n",
       "<style scoped>\n",
       "    .dataframe tbody tr th:only-of-type {\n",
       "        vertical-align: middle;\n",
       "    }\n",
       "\n",
       "    .dataframe tbody tr th {\n",
       "        vertical-align: top;\n",
       "    }\n",
       "\n",
       "    .dataframe thead th {\n",
       "        text-align: right;\n",
       "    }\n",
       "</style>\n",
       "<table border=\"1\" class=\"dataframe\">\n",
       "  <thead>\n",
       "    <tr style=\"text-align: right;\">\n",
       "      <th></th>\n",
       "      <th>order_id</th>\n",
       "      <th>product_id</th>\n",
       "      <th>add_to_cart_order</th>\n",
       "      <th>reordered</th>\n",
       "    </tr>\n",
       "  </thead>\n",
       "  <tbody>\n",
       "  </tbody>\n",
       "</table>\n",
       "</div>"
      ],
      "text/plain": [
       "Empty DataFrame\n",
       "Columns: [order_id, product_id, add_to_cart_order, reordered]\n",
       "Index: []"
      ]
     },
     "execution_count": 22,
     "metadata": {},
     "output_type": "execute_result"
    }
   ],
   "source": [
    "# Revisa si hay filas totalmente duplicadas\n",
    "order_products[order_products.duplicated()]"
   ]
  },
  {
   "cell_type": "code",
   "execution_count": 23,
   "id": "7b861391",
   "metadata": {
    "id": "7b861391"
   },
   "outputs": [
    {
     "data": {
      "text/html": [
       "<div>\n",
       "<style scoped>\n",
       "    .dataframe tbody tr th:only-of-type {\n",
       "        vertical-align: middle;\n",
       "    }\n",
       "\n",
       "    .dataframe tbody tr th {\n",
       "        vertical-align: top;\n",
       "    }\n",
       "\n",
       "    .dataframe thead th {\n",
       "        text-align: right;\n",
       "    }\n",
       "</style>\n",
       "<table border=\"1\" class=\"dataframe\">\n",
       "  <thead>\n",
       "    <tr style=\"text-align: right;\">\n",
       "      <th></th>\n",
       "      <th>order_id</th>\n",
       "      <th>product_id</th>\n",
       "      <th>add_to_cart_order</th>\n",
       "      <th>reordered</th>\n",
       "    </tr>\n",
       "  </thead>\n",
       "  <tbody>\n",
       "    <tr>\n",
       "      <th>367</th>\n",
       "      <td>2867619</td>\n",
       "      <td>48094</td>\n",
       "      <td>9.0</td>\n",
       "      <td>0</td>\n",
       "    </tr>\n",
       "    <tr>\n",
       "      <th>824</th>\n",
       "      <td>844425</td>\n",
       "      <td>39408</td>\n",
       "      <td>10.0</td>\n",
       "      <td>1</td>\n",
       "    </tr>\n",
       "    <tr>\n",
       "      <th>1124</th>\n",
       "      <td>3319857</td>\n",
       "      <td>37067</td>\n",
       "      <td>19.0</td>\n",
       "      <td>0</td>\n",
       "    </tr>\n",
       "    <tr>\n",
       "      <th>1258</th>\n",
       "      <td>1038788</td>\n",
       "      <td>12471</td>\n",
       "      <td>14.0</td>\n",
       "      <td>0</td>\n",
       "    </tr>\n",
       "    <tr>\n",
       "      <th>1303</th>\n",
       "      <td>2825714</td>\n",
       "      <td>44632</td>\n",
       "      <td>16.0</td>\n",
       "      <td>1</td>\n",
       "    </tr>\n",
       "    <tr>\n",
       "      <th>...</th>\n",
       "      <td>...</td>\n",
       "      <td>...</td>\n",
       "      <td>...</td>\n",
       "      <td>...</td>\n",
       "    </tr>\n",
       "    <tr>\n",
       "      <th>4545002</th>\n",
       "      <td>577211</td>\n",
       "      <td>15290</td>\n",
       "      <td>12.0</td>\n",
       "      <td>1</td>\n",
       "    </tr>\n",
       "    <tr>\n",
       "      <th>4545003</th>\n",
       "      <td>1219554</td>\n",
       "      <td>21914</td>\n",
       "      <td>9.0</td>\n",
       "      <td>0</td>\n",
       "    </tr>\n",
       "    <tr>\n",
       "      <th>4545004</th>\n",
       "      <td>692640</td>\n",
       "      <td>47766</td>\n",
       "      <td>4.0</td>\n",
       "      <td>1</td>\n",
       "    </tr>\n",
       "    <tr>\n",
       "      <th>4545005</th>\n",
       "      <td>319435</td>\n",
       "      <td>691</td>\n",
       "      <td>8.0</td>\n",
       "      <td>1</td>\n",
       "    </tr>\n",
       "    <tr>\n",
       "      <th>4545006</th>\n",
       "      <td>1398151</td>\n",
       "      <td>28733</td>\n",
       "      <td>9.0</td>\n",
       "      <td>0</td>\n",
       "    </tr>\n",
       "  </tbody>\n",
       "</table>\n",
       "<p>4094961 rows × 4 columns</p>\n",
       "</div>"
      ],
      "text/plain": [
       "         order_id  product_id  add_to_cart_order  reordered\n",
       "367       2867619       48094                9.0          0\n",
       "824        844425       39408               10.0          1\n",
       "1124      3319857       37067               19.0          0\n",
       "1258      1038788       12471               14.0          0\n",
       "1303      2825714       44632               16.0          1\n",
       "...           ...         ...                ...        ...\n",
       "4545002    577211       15290               12.0          1\n",
       "4545003   1219554       21914                9.0          0\n",
       "4545004    692640       47766                4.0          1\n",
       "4545005    319435         691                8.0          1\n",
       "4545006   1398151       28733                9.0          0\n",
       "\n",
       "[4094961 rows x 4 columns]"
      ]
     },
     "execution_count": 23,
     "metadata": {},
     "output_type": "execute_result"
    }
   ],
   "source": [
    "# Vuelve a verificar si hay cualquier otro duplicado engañoso\n",
    "order_products[order_products.duplicated(subset='order_id')]"
   ]
  },
  {
   "cell_type": "markdown",
   "id": "0b890492",
   "metadata": {
    "id": "0b890492"
   },
   "source": [
    "Describe brevemente tus hallazgos y lo que hiciste con ellos.\n",
    "\n",
    "> Con la función duplicated() podemos obtener los datos duplicados, pero al realizar el primer ejercicio, no obtenemos datos duplicados. Por eso es importante revisar cuidadosamente los datos ya que podemos tener datos engañosos, para esto analizamos solamente si hay duplicados en la columna 'order_id' y sí obtuvimos duplicados. La función duplicated(subset='order_id') busca duplicados únicamente en la columna order_id, sin considerar otras columnas. Esto puede ser útil para ver si hay pedidos que aparecen más de una vez en el DataFrame. Esto significa que cada order_id podría aparecer varias veces."
   ]
  },
  {
   "cell_type": "markdown",
   "id": "1e46de76",
   "metadata": {
    "id": "1e46de76"
   },
   "source": [
    "## Encuentra y elimina los valores ausentes\n",
    "\n",
    "Al trabajar con valores duplicados, pudimos observar que también nos falta investigar valores ausentes:\n",
    "\n",
    "* La columna `'product_name'` de la tabla products.\n",
    "* La columna `'days_since_prior_order'` de la tabla orders.\n",
    "* La columna `'add_to_cart_order'` de la tabla order_productos."
   ]
  },
  {
   "cell_type": "markdown",
   "id": "c0aebd78",
   "metadata": {
    "id": "c0aebd78"
   },
   "source": [
    "### `products` data frame"
   ]
  },
  {
   "cell_type": "code",
   "execution_count": 24,
   "id": "fe4a8b0f",
   "metadata": {
    "id": "fe4a8b0f"
   },
   "outputs": [
    {
     "data": {
      "text/html": [
       "<div>\n",
       "<style scoped>\n",
       "    .dataframe tbody tr th:only-of-type {\n",
       "        vertical-align: middle;\n",
       "    }\n",
       "\n",
       "    .dataframe tbody tr th {\n",
       "        vertical-align: top;\n",
       "    }\n",
       "\n",
       "    .dataframe thead th {\n",
       "        text-align: right;\n",
       "    }\n",
       "</style>\n",
       "<table border=\"1\" class=\"dataframe\">\n",
       "  <thead>\n",
       "    <tr style=\"text-align: right;\">\n",
       "      <th></th>\n",
       "      <th>product_id</th>\n",
       "      <th>product_name</th>\n",
       "      <th>aisle_id</th>\n",
       "      <th>department_id</th>\n",
       "    </tr>\n",
       "  </thead>\n",
       "  <tbody>\n",
       "    <tr>\n",
       "      <th>37</th>\n",
       "      <td>38</td>\n",
       "      <td>NaN</td>\n",
       "      <td>100</td>\n",
       "      <td>21</td>\n",
       "    </tr>\n",
       "    <tr>\n",
       "      <th>71</th>\n",
       "      <td>72</td>\n",
       "      <td>NaN</td>\n",
       "      <td>100</td>\n",
       "      <td>21</td>\n",
       "    </tr>\n",
       "    <tr>\n",
       "      <th>109</th>\n",
       "      <td>110</td>\n",
       "      <td>NaN</td>\n",
       "      <td>100</td>\n",
       "      <td>21</td>\n",
       "    </tr>\n",
       "    <tr>\n",
       "      <th>296</th>\n",
       "      <td>297</td>\n",
       "      <td>NaN</td>\n",
       "      <td>100</td>\n",
       "      <td>21</td>\n",
       "    </tr>\n",
       "    <tr>\n",
       "      <th>416</th>\n",
       "      <td>417</td>\n",
       "      <td>NaN</td>\n",
       "      <td>100</td>\n",
       "      <td>21</td>\n",
       "    </tr>\n",
       "    <tr>\n",
       "      <th>...</th>\n",
       "      <td>...</td>\n",
       "      <td>...</td>\n",
       "      <td>...</td>\n",
       "      <td>...</td>\n",
       "    </tr>\n",
       "    <tr>\n",
       "      <th>49552</th>\n",
       "      <td>49553</td>\n",
       "      <td>NaN</td>\n",
       "      <td>100</td>\n",
       "      <td>21</td>\n",
       "    </tr>\n",
       "    <tr>\n",
       "      <th>49574</th>\n",
       "      <td>49575</td>\n",
       "      <td>NaN</td>\n",
       "      <td>100</td>\n",
       "      <td>21</td>\n",
       "    </tr>\n",
       "    <tr>\n",
       "      <th>49640</th>\n",
       "      <td>49641</td>\n",
       "      <td>NaN</td>\n",
       "      <td>100</td>\n",
       "      <td>21</td>\n",
       "    </tr>\n",
       "    <tr>\n",
       "      <th>49663</th>\n",
       "      <td>49664</td>\n",
       "      <td>NaN</td>\n",
       "      <td>100</td>\n",
       "      <td>21</td>\n",
       "    </tr>\n",
       "    <tr>\n",
       "      <th>49668</th>\n",
       "      <td>49669</td>\n",
       "      <td>NaN</td>\n",
       "      <td>100</td>\n",
       "      <td>21</td>\n",
       "    </tr>\n",
       "  </tbody>\n",
       "</table>\n",
       "<p>1258 rows × 4 columns</p>\n",
       "</div>"
      ],
      "text/plain": [
       "       product_id product_name  aisle_id  department_id\n",
       "37             38          NaN       100             21\n",
       "71             72          NaN       100             21\n",
       "109           110          NaN       100             21\n",
       "296           297          NaN       100             21\n",
       "416           417          NaN       100             21\n",
       "...           ...          ...       ...            ...\n",
       "49552       49553          NaN       100             21\n",
       "49574       49575          NaN       100             21\n",
       "49640       49641          NaN       100             21\n",
       "49663       49664          NaN       100             21\n",
       "49668       49669          NaN       100             21\n",
       "\n",
       "[1258 rows x 4 columns]"
      ]
     },
     "execution_count": 24,
     "metadata": {},
     "output_type": "execute_result"
    }
   ],
   "source": [
    "# Encuentra los valores ausentes en la columna 'product_name'\n",
    "\n",
    "products[products['product_name'].isna()]"
   ]
  },
  {
   "cell_type": "markdown",
   "id": "-A6x1AbJhjkp",
   "metadata": {
    "id": "-A6x1AbJhjkp"
   },
   "source": [
    "Describe brevemente cuáles son tus hallazgos.\n",
    "\n",
    ">En primer lugar, se utilizó .isna()  para localizar las filas en el DataFrame 'products' donde la columna product_name tiene valores ausentes (es decir, NaN o \"Not a Number\"), obteniendo como resultado 1258 filas con valores ausentes.  "
   ]
  },
  {
   "cell_type": "code",
   "execution_count": 25,
   "id": "684198a7",
   "metadata": {},
   "outputs": [
    {
     "data": {
      "text/plain": [
       "1258"
      ]
     },
     "execution_count": 25,
     "metadata": {},
     "output_type": "execute_result"
    }
   ],
   "source": [
    "products['product_name'].isna().sum()"
   ]
  },
  {
   "cell_type": "code",
   "execution_count": 26,
   "id": "e96167bc",
   "metadata": {
    "id": "e96167bc"
   },
   "outputs": [
    {
     "data": {
      "text/html": [
       "<div>\n",
       "<style scoped>\n",
       "    .dataframe tbody tr th:only-of-type {\n",
       "        vertical-align: middle;\n",
       "    }\n",
       "\n",
       "    .dataframe tbody tr th {\n",
       "        vertical-align: top;\n",
       "    }\n",
       "\n",
       "    .dataframe thead th {\n",
       "        text-align: right;\n",
       "    }\n",
       "</style>\n",
       "<table border=\"1\" class=\"dataframe\">\n",
       "  <thead>\n",
       "    <tr style=\"text-align: right;\">\n",
       "      <th></th>\n",
       "      <th>product_id</th>\n",
       "      <th>product_name</th>\n",
       "      <th>aisle_id</th>\n",
       "      <th>department_id</th>\n",
       "    </tr>\n",
       "  </thead>\n",
       "  <tbody>\n",
       "  </tbody>\n",
       "</table>\n",
       "</div>"
      ],
      "text/plain": [
       "Empty DataFrame\n",
       "Columns: [product_id, product_name, aisle_id, department_id]\n",
       "Index: []"
      ]
     },
     "execution_count": 26,
     "metadata": {},
     "output_type": "execute_result"
    }
   ],
   "source": [
    "#  ¿Todos los nombres de productos ausentes están relacionados con el pasillo con ID 100?\n",
    "products[(products['product_name'].isna()) & (products['aisle_id'] !=100)]"
   ]
  },
  {
   "cell_type": "markdown",
   "id": "WRpIfXRphpSL",
   "metadata": {
    "id": "WRpIfXRphpSL"
   },
   "source": [
    "Describe brevemente cuáles son tus hallazgos.\n",
    "\n",
    ">Todos los valores nulos o vacios de la columna 'product_name' vienen del pasillo 100 y el departamento 21"
   ]
  },
  {
   "cell_type": "code",
   "execution_count": 27,
   "id": "8fd0a541",
   "metadata": {
    "id": "8fd0a541"
   },
   "outputs": [
    {
     "data": {
      "text/html": [
       "<div>\n",
       "<style scoped>\n",
       "    .dataframe tbody tr th:only-of-type {\n",
       "        vertical-align: middle;\n",
       "    }\n",
       "\n",
       "    .dataframe tbody tr th {\n",
       "        vertical-align: top;\n",
       "    }\n",
       "\n",
       "    .dataframe thead th {\n",
       "        text-align: right;\n",
       "    }\n",
       "</style>\n",
       "<table border=\"1\" class=\"dataframe\">\n",
       "  <thead>\n",
       "    <tr style=\"text-align: right;\">\n",
       "      <th></th>\n",
       "      <th>product_id</th>\n",
       "      <th>product_name</th>\n",
       "      <th>aisle_id</th>\n",
       "      <th>department_id</th>\n",
       "    </tr>\n",
       "  </thead>\n",
       "  <tbody>\n",
       "  </tbody>\n",
       "</table>\n",
       "</div>"
      ],
      "text/plain": [
       "Empty DataFrame\n",
       "Columns: [product_id, product_name, aisle_id, department_id]\n",
       "Index: []"
      ]
     },
     "execution_count": 27,
     "metadata": {},
     "output_type": "execute_result"
    }
   ],
   "source": [
    "# ¿Todos los nombres de productos ausentes están relacionados con el departamento con ID 21?\n",
    "products[(products['product_name'].isna()) & (products['department_id'] !=21)]"
   ]
  },
  {
   "cell_type": "markdown",
   "id": "qDpdYn1Fht_I",
   "metadata": {
    "id": "qDpdYn1Fht_I"
   },
   "source": [
    "Describe brevemente cuáles son tus hallazgos."
   ]
  },
  {
   "cell_type": "code",
   "execution_count": 28,
   "id": "325c3464",
   "metadata": {
    "id": "325c3464"
   },
   "outputs": [
    {
     "name": "stdout",
     "output_type": "stream",
     "text": [
      "Información del pasillo con ID 100:\n"
     ]
    },
    {
     "data": {
      "text/html": [
       "<div>\n",
       "<style scoped>\n",
       "    .dataframe tbody tr th:only-of-type {\n",
       "        vertical-align: middle;\n",
       "    }\n",
       "\n",
       "    .dataframe tbody tr th {\n",
       "        vertical-align: top;\n",
       "    }\n",
       "\n",
       "    .dataframe thead th {\n",
       "        text-align: right;\n",
       "    }\n",
       "</style>\n",
       "<table border=\"1\" class=\"dataframe\">\n",
       "  <thead>\n",
       "    <tr style=\"text-align: right;\">\n",
       "      <th></th>\n",
       "      <th>aisle_id</th>\n",
       "      <th>aisle</th>\n",
       "    </tr>\n",
       "  </thead>\n",
       "  <tbody>\n",
       "    <tr>\n",
       "      <th>99</th>\n",
       "      <td>100</td>\n",
       "      <td>missing</td>\n",
       "    </tr>\n",
       "  </tbody>\n",
       "</table>\n",
       "</div>"
      ],
      "text/plain": [
       "    aisle_id    aisle\n",
       "99       100  missing"
      ]
     },
     "execution_count": 28,
     "metadata": {},
     "output_type": "execute_result"
    }
   ],
   "source": [
    "# Usa las tablas department y aisle para revisar los datos del pasillo con ID 100 y el departamento con ID 21.\n",
    "\n",
    "# Filtrar el pasillo con ID 100\n",
    "pasillo_id = 100\n",
    "pasillo_info = aisles[aisles['aisle_id'] == pasillo_id]\n",
    "\n",
    "print(\"Información del pasillo con ID 100:\")\n",
    "pasillo_info"
   ]
  },
  {
   "cell_type": "code",
   "execution_count": 29,
   "id": "b890c70b",
   "metadata": {},
   "outputs": [
    {
     "name": "stdout",
     "output_type": "stream",
     "text": [
      "\n",
      "Información del departamento con ID 21:\n"
     ]
    },
    {
     "data": {
      "text/html": [
       "<div>\n",
       "<style scoped>\n",
       "    .dataframe tbody tr th:only-of-type {\n",
       "        vertical-align: middle;\n",
       "    }\n",
       "\n",
       "    .dataframe tbody tr th {\n",
       "        vertical-align: top;\n",
       "    }\n",
       "\n",
       "    .dataframe thead th {\n",
       "        text-align: right;\n",
       "    }\n",
       "</style>\n",
       "<table border=\"1\" class=\"dataframe\">\n",
       "  <thead>\n",
       "    <tr style=\"text-align: right;\">\n",
       "      <th></th>\n",
       "      <th>department_id</th>\n",
       "      <th>department</th>\n",
       "    </tr>\n",
       "  </thead>\n",
       "  <tbody>\n",
       "    <tr>\n",
       "      <th>20</th>\n",
       "      <td>21</td>\n",
       "      <td>missing</td>\n",
       "    </tr>\n",
       "  </tbody>\n",
       "</table>\n",
       "</div>"
      ],
      "text/plain": [
       "    department_id department\n",
       "20             21    missing"
      ]
     },
     "execution_count": 29,
     "metadata": {},
     "output_type": "execute_result"
    }
   ],
   "source": [
    "# Filtrar el departamento con ID 21\n",
    "departamento_id = 21\n",
    "departamento_info = departments[departments['department_id'] == departamento_id]\n",
    "print(\"\\nInformación del departamento con ID 21:\")\n",
    "\n",
    "departamento_info"
   ]
  },
  {
   "cell_type": "markdown",
   "id": "nqhSTUPhhvEJ",
   "metadata": {
    "id": "nqhSTUPhhvEJ"
   },
   "source": [
    "Describe brevemente cuáles son tus hallazgos.\n",
    "\n",
    ">Esto significa que tamto en la fila 100 de 'aisle' y la fila 21 de 'departments' hay valores que faltantes o que probablemente tienen un error. "
   ]
  },
  {
   "cell_type": "code",
   "execution_count": 30,
   "id": "6b295120",
   "metadata": {
    "id": "6b295120"
   },
   "outputs": [
    {
     "data": {
      "text/html": [
       "<div>\n",
       "<style scoped>\n",
       "    .dataframe tbody tr th:only-of-type {\n",
       "        vertical-align: middle;\n",
       "    }\n",
       "\n",
       "    .dataframe tbody tr th {\n",
       "        vertical-align: top;\n",
       "    }\n",
       "\n",
       "    .dataframe thead th {\n",
       "        text-align: right;\n",
       "    }\n",
       "</style>\n",
       "<table border=\"1\" class=\"dataframe\">\n",
       "  <thead>\n",
       "    <tr style=\"text-align: right;\">\n",
       "      <th></th>\n",
       "      <th>product_id</th>\n",
       "      <th>product_name</th>\n",
       "      <th>aisle_id</th>\n",
       "      <th>department_id</th>\n",
       "    </tr>\n",
       "  </thead>\n",
       "  <tbody>\n",
       "    <tr>\n",
       "      <th>0</th>\n",
       "      <td>1</td>\n",
       "      <td>Chocolate Sandwich Cookies</td>\n",
       "      <td>61</td>\n",
       "      <td>19</td>\n",
       "    </tr>\n",
       "    <tr>\n",
       "      <th>1</th>\n",
       "      <td>2</td>\n",
       "      <td>All-Seasons Salt</td>\n",
       "      <td>104</td>\n",
       "      <td>13</td>\n",
       "    </tr>\n",
       "    <tr>\n",
       "      <th>2</th>\n",
       "      <td>3</td>\n",
       "      <td>Robust Golden Unsweetened Oolong Tea</td>\n",
       "      <td>94</td>\n",
       "      <td>7</td>\n",
       "    </tr>\n",
       "    <tr>\n",
       "      <th>3</th>\n",
       "      <td>4</td>\n",
       "      <td>Smart Ones Classic Favorites Mini Rigatoni Wit...</td>\n",
       "      <td>38</td>\n",
       "      <td>1</td>\n",
       "    </tr>\n",
       "    <tr>\n",
       "      <th>4</th>\n",
       "      <td>5</td>\n",
       "      <td>Green Chile Anytime Sauce</td>\n",
       "      <td>5</td>\n",
       "      <td>13</td>\n",
       "    </tr>\n",
       "    <tr>\n",
       "      <th>...</th>\n",
       "      <td>...</td>\n",
       "      <td>...</td>\n",
       "      <td>...</td>\n",
       "      <td>...</td>\n",
       "    </tr>\n",
       "    <tr>\n",
       "      <th>49689</th>\n",
       "      <td>49690</td>\n",
       "      <td>HIGH PERFORMANCE ENERGY DRINK</td>\n",
       "      <td>64</td>\n",
       "      <td>7</td>\n",
       "    </tr>\n",
       "    <tr>\n",
       "      <th>49690</th>\n",
       "      <td>49691</td>\n",
       "      <td>ORIGINAL PANCAKE &amp; WAFFLE MIX</td>\n",
       "      <td>130</td>\n",
       "      <td>14</td>\n",
       "    </tr>\n",
       "    <tr>\n",
       "      <th>49691</th>\n",
       "      <td>49692</td>\n",
       "      <td>ORGANIC INSTANT OATMEAL LIGHT MAPLE BROWN SUGAR</td>\n",
       "      <td>130</td>\n",
       "      <td>14</td>\n",
       "    </tr>\n",
       "    <tr>\n",
       "      <th>49692</th>\n",
       "      <td>49693</td>\n",
       "      <td>SPRING WATER BODY WASH</td>\n",
       "      <td>127</td>\n",
       "      <td>11</td>\n",
       "    </tr>\n",
       "    <tr>\n",
       "      <th>49693</th>\n",
       "      <td>49694</td>\n",
       "      <td>BURRITO- STEAK &amp; CHEESE</td>\n",
       "      <td>38</td>\n",
       "      <td>1</td>\n",
       "    </tr>\n",
       "  </tbody>\n",
       "</table>\n",
       "<p>49694 rows × 4 columns</p>\n",
       "</div>"
      ],
      "text/plain": [
       "       product_id                                       product_name  \\\n",
       "0               1                         Chocolate Sandwich Cookies   \n",
       "1               2                                   All-Seasons Salt   \n",
       "2               3               Robust Golden Unsweetened Oolong Tea   \n",
       "3               4  Smart Ones Classic Favorites Mini Rigatoni Wit...   \n",
       "4               5                          Green Chile Anytime Sauce   \n",
       "...           ...                                                ...   \n",
       "49689       49690                      HIGH PERFORMANCE ENERGY DRINK   \n",
       "49690       49691                      ORIGINAL PANCAKE & WAFFLE MIX   \n",
       "49691       49692    ORGANIC INSTANT OATMEAL LIGHT MAPLE BROWN SUGAR   \n",
       "49692       49693                             SPRING WATER BODY WASH   \n",
       "49693       49694                            BURRITO- STEAK & CHEESE   \n",
       "\n",
       "       aisle_id  department_id  \n",
       "0            61             19  \n",
       "1           104             13  \n",
       "2            94              7  \n",
       "3            38              1  \n",
       "4             5             13  \n",
       "...         ...            ...  \n",
       "49689        64              7  \n",
       "49690       130             14  \n",
       "49691       130             14  \n",
       "49692       127             11  \n",
       "49693        38              1  \n",
       "\n",
       "[49694 rows x 4 columns]"
      ]
     },
     "execution_count": 30,
     "metadata": {},
     "output_type": "execute_result"
    }
   ],
   "source": [
    "# Completa los nombres de productos ausentes con 'Unknown'\n",
    "products.fillna('Unknown')"
   ]
  },
  {
   "cell_type": "code",
   "execution_count": 31,
   "id": "e60479d1",
   "metadata": {},
   "outputs": [],
   "source": [
    "products.fillna('Unknown', inplace = True)"
   ]
  },
  {
   "cell_type": "markdown",
   "id": "fc70e5ad",
   "metadata": {
    "id": "fc70e5ad"
   },
   "source": [
    "Describe brevemente tus hallazgos y lo que hiciste con ellos.\n",
    "\n",
    ">En este apartado rellenamos los valores ausentes por la palabra 'Unknown', esto con el fin de poder procesar más facilmente nuestros datos. "
   ]
  },
  {
   "cell_type": "code",
   "execution_count": 32,
   "id": "fc22bdf1",
   "metadata": {},
   "outputs": [
    {
     "data": {
      "text/plain": [
       "product_id       0\n",
       "product_name     0\n",
       "aisle_id         0\n",
       "department_id    0\n",
       "dtype: int64"
      ]
     },
     "execution_count": 32,
     "metadata": {},
     "output_type": "execute_result"
    }
   ],
   "source": [
    "products.isna().sum()"
   ]
  },
  {
   "cell_type": "markdown",
   "id": "7eb45c86",
   "metadata": {
    "id": "7eb45c86"
   },
   "source": [
    "### `orders` data frame"
   ]
  },
  {
   "cell_type": "code",
   "execution_count": 33,
   "id": "93e41d96",
   "metadata": {
    "id": "93e41d96"
   },
   "outputs": [
    {
     "name": "stdout",
     "output_type": "stream",
     "text": [
      "<class 'pandas.core.frame.DataFrame'>\n",
      "Int64Index: 478952 entries, 0 to 478966\n",
      "Data columns (total 6 columns):\n",
      " #   Column                  Non-Null Count   Dtype  \n",
      "---  ------                  --------------   -----  \n",
      " 0   order_id                478952 non-null  int64  \n",
      " 1   user_id                 478952 non-null  int64  \n",
      " 2   order_number            478952 non-null  int64  \n",
      " 3   order_dow               478952 non-null  int64  \n",
      " 4   order_hour_of_day       478952 non-null  int64  \n",
      " 5   days_since_prior_order  450135 non-null  float64\n",
      "dtypes: float64(1), int64(5)\n",
      "memory usage: 25.6 MB\n"
     ]
    }
   ],
   "source": [
    "# Encuentra los valores ausentes\n",
    "orders.info()"
   ]
  },
  {
   "cell_type": "code",
   "execution_count": 34,
   "id": "9de1ff57",
   "metadata": {},
   "outputs": [
    {
     "data": {
      "text/plain": [
       "order_id                      0\n",
       "user_id                       0\n",
       "order_number                  0\n",
       "order_dow                     0\n",
       "order_hour_of_day             0\n",
       "days_since_prior_order    28817\n",
       "dtype: int64"
      ]
     },
     "execution_count": 34,
     "metadata": {},
     "output_type": "execute_result"
    }
   ],
   "source": [
    "orders.isna().sum()"
   ]
  },
  {
   "cell_type": "code",
   "execution_count": 35,
   "id": "7cb1bb7f",
   "metadata": {},
   "outputs": [
    {
     "data": {
      "text/html": [
       "<div>\n",
       "<style scoped>\n",
       "    .dataframe tbody tr th:only-of-type {\n",
       "        vertical-align: middle;\n",
       "    }\n",
       "\n",
       "    .dataframe tbody tr th {\n",
       "        vertical-align: top;\n",
       "    }\n",
       "\n",
       "    .dataframe thead th {\n",
       "        text-align: right;\n",
       "    }\n",
       "</style>\n",
       "<table border=\"1\" class=\"dataframe\">\n",
       "  <thead>\n",
       "    <tr style=\"text-align: right;\">\n",
       "      <th></th>\n",
       "      <th>order_id</th>\n",
       "      <th>user_id</th>\n",
       "      <th>order_number</th>\n",
       "      <th>order_dow</th>\n",
       "      <th>order_hour_of_day</th>\n",
       "      <th>days_since_prior_order</th>\n",
       "    </tr>\n",
       "  </thead>\n",
       "  <tbody>\n",
       "    <tr>\n",
       "      <th>28</th>\n",
       "      <td>133707</td>\n",
       "      <td>182261</td>\n",
       "      <td>1</td>\n",
       "      <td>3</td>\n",
       "      <td>10</td>\n",
       "      <td>NaN</td>\n",
       "    </tr>\n",
       "    <tr>\n",
       "      <th>96</th>\n",
       "      <td>787445</td>\n",
       "      <td>25685</td>\n",
       "      <td>1</td>\n",
       "      <td>6</td>\n",
       "      <td>18</td>\n",
       "      <td>NaN</td>\n",
       "    </tr>\n",
       "    <tr>\n",
       "      <th>100</th>\n",
       "      <td>294410</td>\n",
       "      <td>111449</td>\n",
       "      <td>1</td>\n",
       "      <td>0</td>\n",
       "      <td>19</td>\n",
       "      <td>NaN</td>\n",
       "    </tr>\n",
       "    <tr>\n",
       "      <th>103</th>\n",
       "      <td>2869915</td>\n",
       "      <td>123958</td>\n",
       "      <td>1</td>\n",
       "      <td>4</td>\n",
       "      <td>16</td>\n",
       "      <td>NaN</td>\n",
       "    </tr>\n",
       "    <tr>\n",
       "      <th>104</th>\n",
       "      <td>2521921</td>\n",
       "      <td>42286</td>\n",
       "      <td>1</td>\n",
       "      <td>3</td>\n",
       "      <td>18</td>\n",
       "      <td>NaN</td>\n",
       "    </tr>\n",
       "    <tr>\n",
       "      <th>...</th>\n",
       "      <td>...</td>\n",
       "      <td>...</td>\n",
       "      <td>...</td>\n",
       "      <td>...</td>\n",
       "      <td>...</td>\n",
       "      <td>...</td>\n",
       "    </tr>\n",
       "    <tr>\n",
       "      <th>478895</th>\n",
       "      <td>2589657</td>\n",
       "      <td>205028</td>\n",
       "      <td>1</td>\n",
       "      <td>0</td>\n",
       "      <td>16</td>\n",
       "      <td>NaN</td>\n",
       "    </tr>\n",
       "    <tr>\n",
       "      <th>478896</th>\n",
       "      <td>2222353</td>\n",
       "      <td>141211</td>\n",
       "      <td>1</td>\n",
       "      <td>2</td>\n",
       "      <td>13</td>\n",
       "      <td>NaN</td>\n",
       "    </tr>\n",
       "    <tr>\n",
       "      <th>478922</th>\n",
       "      <td>2272807</td>\n",
       "      <td>204154</td>\n",
       "      <td>1</td>\n",
       "      <td>1</td>\n",
       "      <td>15</td>\n",
       "      <td>NaN</td>\n",
       "    </tr>\n",
       "    <tr>\n",
       "      <th>478926</th>\n",
       "      <td>2499542</td>\n",
       "      <td>68810</td>\n",
       "      <td>1</td>\n",
       "      <td>4</td>\n",
       "      <td>19</td>\n",
       "      <td>NaN</td>\n",
       "    </tr>\n",
       "    <tr>\n",
       "      <th>478945</th>\n",
       "      <td>1387033</td>\n",
       "      <td>22496</td>\n",
       "      <td>1</td>\n",
       "      <td>5</td>\n",
       "      <td>14</td>\n",
       "      <td>NaN</td>\n",
       "    </tr>\n",
       "  </tbody>\n",
       "</table>\n",
       "<p>28817 rows × 6 columns</p>\n",
       "</div>"
      ],
      "text/plain": [
       "        order_id  user_id  order_number  order_dow  order_hour_of_day  \\\n",
       "28        133707   182261             1          3                 10   \n",
       "96        787445    25685             1          6                 18   \n",
       "100       294410   111449             1          0                 19   \n",
       "103      2869915   123958             1          4                 16   \n",
       "104      2521921    42286             1          3                 18   \n",
       "...          ...      ...           ...        ...                ...   \n",
       "478895   2589657   205028             1          0                 16   \n",
       "478896   2222353   141211             1          2                 13   \n",
       "478922   2272807   204154             1          1                 15   \n",
       "478926   2499542    68810             1          4                 19   \n",
       "478945   1387033    22496             1          5                 14   \n",
       "\n",
       "        days_since_prior_order  \n",
       "28                         NaN  \n",
       "96                         NaN  \n",
       "100                        NaN  \n",
       "103                        NaN  \n",
       "104                        NaN  \n",
       "...                        ...  \n",
       "478895                     NaN  \n",
       "478896                     NaN  \n",
       "478922                     NaN  \n",
       "478926                     NaN  \n",
       "478945                     NaN  \n",
       "\n",
       "[28817 rows x 6 columns]"
      ]
     },
     "execution_count": 35,
     "metadata": {},
     "output_type": "execute_result"
    }
   ],
   "source": [
    "orders[orders['days_since_prior_order'].isna()]"
   ]
  },
  {
   "cell_type": "code",
   "execution_count": 36,
   "id": "166e5a86",
   "metadata": {
    "id": "166e5a86"
   },
   "outputs": [
    {
     "data": {
      "text/html": [
       "<div>\n",
       "<style scoped>\n",
       "    .dataframe tbody tr th:only-of-type {\n",
       "        vertical-align: middle;\n",
       "    }\n",
       "\n",
       "    .dataframe tbody tr th {\n",
       "        vertical-align: top;\n",
       "    }\n",
       "\n",
       "    .dataframe thead th {\n",
       "        text-align: right;\n",
       "    }\n",
       "</style>\n",
       "<table border=\"1\" class=\"dataframe\">\n",
       "  <thead>\n",
       "    <tr style=\"text-align: right;\">\n",
       "      <th></th>\n",
       "      <th>order_id</th>\n",
       "      <th>user_id</th>\n",
       "      <th>order_number</th>\n",
       "      <th>order_dow</th>\n",
       "      <th>order_hour_of_day</th>\n",
       "      <th>days_since_prior_order</th>\n",
       "    </tr>\n",
       "  </thead>\n",
       "  <tbody>\n",
       "  </tbody>\n",
       "</table>\n",
       "</div>"
      ],
      "text/plain": [
       "Empty DataFrame\n",
       "Columns: [order_id, user_id, order_number, order_dow, order_hour_of_day, days_since_prior_order]\n",
       "Index: []"
      ]
     },
     "execution_count": 36,
     "metadata": {},
     "output_type": "execute_result"
    }
   ],
   "source": [
    "# ¿Hay algún valor ausente que no sea el primer pedido del cliente?\n",
    "orders[(orders['days_since_prior_order'].isna()) & (orders['order_number'] !=1)]"
   ]
  },
  {
   "cell_type": "markdown",
   "id": "4e23d089",
   "metadata": {
    "id": "4e23d089"
   },
   "source": [
    "Describe brevemente tus hallazgos y lo que hiciste con ellos.\n",
    ">Esto significa que solo los valores ausentes se encuentran en la columna 'order_number' en la 1 orden y esto es logico ya que como son la primera compra, pues no hay datos de compras anteriores, por ende no se pueden comparar. "
   ]
  },
  {
   "cell_type": "code",
   "execution_count": 37,
   "id": "aa949822",
   "metadata": {},
   "outputs": [],
   "source": [
    "orders.fillna(0, inplace=True)"
   ]
  },
  {
   "cell_type": "code",
   "execution_count": 38,
   "id": "8cf3e780",
   "metadata": {},
   "outputs": [
    {
     "data": {
      "text/plain": [
       "order_id                  0\n",
       "user_id                   0\n",
       "order_number              0\n",
       "order_dow                 0\n",
       "order_hour_of_day         0\n",
       "days_since_prior_order    0\n",
       "dtype: int64"
      ]
     },
     "execution_count": 38,
     "metadata": {},
     "output_type": "execute_result"
    }
   ],
   "source": [
    "orders.isna().sum()"
   ]
  },
  {
   "cell_type": "markdown",
   "id": "69dc9ca4",
   "metadata": {
    "id": "69dc9ca4"
   },
   "source": [
    "### `order_products` data frame"
   ]
  },
  {
   "cell_type": "code",
   "execution_count": 39,
   "id": "b8240253",
   "metadata": {
    "id": "b8240253"
   },
   "outputs": [
    {
     "data": {
      "text/plain": [
       "order_id               0\n",
       "product_id             0\n",
       "add_to_cart_order    836\n",
       "reordered              0\n",
       "dtype: int64"
      ]
     },
     "execution_count": 39,
     "metadata": {},
     "output_type": "execute_result"
    }
   ],
   "source": [
    "# Encuentra los valores ausentes\n",
    "order_products.isna().sum()"
   ]
  },
  {
   "cell_type": "code",
   "execution_count": 40,
   "id": "681a6133",
   "metadata": {},
   "outputs": [
    {
     "data": {
      "text/html": [
       "<div>\n",
       "<style scoped>\n",
       "    .dataframe tbody tr th:only-of-type {\n",
       "        vertical-align: middle;\n",
       "    }\n",
       "\n",
       "    .dataframe tbody tr th {\n",
       "        vertical-align: top;\n",
       "    }\n",
       "\n",
       "    .dataframe thead th {\n",
       "        text-align: right;\n",
       "    }\n",
       "</style>\n",
       "<table border=\"1\" class=\"dataframe\">\n",
       "  <thead>\n",
       "    <tr style=\"text-align: right;\">\n",
       "      <th></th>\n",
       "      <th>order_id</th>\n",
       "      <th>product_id</th>\n",
       "      <th>add_to_cart_order</th>\n",
       "      <th>reordered</th>\n",
       "    </tr>\n",
       "  </thead>\n",
       "  <tbody>\n",
       "    <tr>\n",
       "      <th>737</th>\n",
       "      <td>2449164</td>\n",
       "      <td>5068</td>\n",
       "      <td>NaN</td>\n",
       "      <td>0</td>\n",
       "    </tr>\n",
       "    <tr>\n",
       "      <th>9926</th>\n",
       "      <td>1968313</td>\n",
       "      <td>43867</td>\n",
       "      <td>NaN</td>\n",
       "      <td>0</td>\n",
       "    </tr>\n",
       "    <tr>\n",
       "      <th>14394</th>\n",
       "      <td>2926893</td>\n",
       "      <td>11688</td>\n",
       "      <td>NaN</td>\n",
       "      <td>0</td>\n",
       "    </tr>\n",
       "    <tr>\n",
       "      <th>16418</th>\n",
       "      <td>1717990</td>\n",
       "      <td>4142</td>\n",
       "      <td>NaN</td>\n",
       "      <td>0</td>\n",
       "    </tr>\n",
       "    <tr>\n",
       "      <th>30114</th>\n",
       "      <td>1959075</td>\n",
       "      <td>42828</td>\n",
       "      <td>NaN</td>\n",
       "      <td>1</td>\n",
       "    </tr>\n",
       "    <tr>\n",
       "      <th>...</th>\n",
       "      <td>...</td>\n",
       "      <td>...</td>\n",
       "      <td>...</td>\n",
       "      <td>...</td>\n",
       "    </tr>\n",
       "    <tr>\n",
       "      <th>4505662</th>\n",
       "      <td>1800005</td>\n",
       "      <td>7411</td>\n",
       "      <td>NaN</td>\n",
       "      <td>0</td>\n",
       "    </tr>\n",
       "    <tr>\n",
       "      <th>4511400</th>\n",
       "      <td>1633337</td>\n",
       "      <td>260</td>\n",
       "      <td>NaN</td>\n",
       "      <td>0</td>\n",
       "    </tr>\n",
       "    <tr>\n",
       "      <th>4517562</th>\n",
       "      <td>404157</td>\n",
       "      <td>9517</td>\n",
       "      <td>NaN</td>\n",
       "      <td>0</td>\n",
       "    </tr>\n",
       "    <tr>\n",
       "      <th>4534112</th>\n",
       "      <td>1673227</td>\n",
       "      <td>17835</td>\n",
       "      <td>NaN</td>\n",
       "      <td>0</td>\n",
       "    </tr>\n",
       "    <tr>\n",
       "      <th>4535739</th>\n",
       "      <td>1832957</td>\n",
       "      <td>17949</td>\n",
       "      <td>NaN</td>\n",
       "      <td>1</td>\n",
       "    </tr>\n",
       "  </tbody>\n",
       "</table>\n",
       "<p>836 rows × 4 columns</p>\n",
       "</div>"
      ],
      "text/plain": [
       "         order_id  product_id  add_to_cart_order  reordered\n",
       "737       2449164        5068                NaN          0\n",
       "9926      1968313       43867                NaN          0\n",
       "14394     2926893       11688                NaN          0\n",
       "16418     1717990        4142                NaN          0\n",
       "30114     1959075       42828                NaN          1\n",
       "...           ...         ...                ...        ...\n",
       "4505662   1800005        7411                NaN          0\n",
       "4511400   1633337         260                NaN          0\n",
       "4517562    404157        9517                NaN          0\n",
       "4534112   1673227       17835                NaN          0\n",
       "4535739   1832957       17949                NaN          1\n",
       "\n",
       "[836 rows x 4 columns]"
      ]
     },
     "execution_count": 40,
     "metadata": {},
     "output_type": "execute_result"
    }
   ],
   "source": [
    "order_products[order_products['add_to_cart_order'].isna()]"
   ]
  },
  {
   "cell_type": "code",
   "execution_count": 41,
   "id": "9a78e5ee",
   "metadata": {
    "id": "9a78e5ee"
   },
   "outputs": [
    {
     "data": {
      "text/plain": [
       "1.0"
      ]
     },
     "execution_count": 41,
     "metadata": {},
     "output_type": "execute_result"
    }
   ],
   "source": [
    "# ¿Cuáles son los valores mínimos y máximos en esta columna?\n",
    "order_products['add_to_cart_order'].min()"
   ]
  },
  {
   "cell_type": "code",
   "execution_count": 42,
   "id": "753af494",
   "metadata": {},
   "outputs": [
    {
     "data": {
      "text/plain": [
       "64.0"
      ]
     },
     "execution_count": 42,
     "metadata": {},
     "output_type": "execute_result"
    }
   ],
   "source": [
    "order_products['add_to_cart_order'].max()"
   ]
  },
  {
   "cell_type": "markdown",
   "id": "-Z2Ja215jW78",
   "metadata": {
    "id": "-Z2Ja215jW78"
   },
   "source": [
    "Describe brevemente cuáles son tus hallazgos.\n",
    "\n",
    "> Hay 836 valores ausentes en la columna 'add_to_cart_order'. Ademas revisando dicha columna, se puede identificar que las personas añaden desde 1 producto hasta 64 productos. "
   ]
  },
  {
   "cell_type": "code",
   "execution_count": 43,
   "id": "ab9d0c2b",
   "metadata": {
    "id": "ab9d0c2b"
   },
   "outputs": [
    {
     "data": {
      "text/plain": [
       "[9310,\n",
       " 61355,\n",
       " 102236,\n",
       " 129627,\n",
       " 165801,\n",
       " 171934,\n",
       " 180546,\n",
       " 264710,\n",
       " 293169,\n",
       " 388234,\n",
       " 404157,\n",
       " 678116,\n",
       " 733526,\n",
       " 747668,\n",
       " 813364,\n",
       " 844733,\n",
       " 854647,\n",
       " 871281,\n",
       " 888470,\n",
       " 903110,\n",
       " 936852,\n",
       " 1021563,\n",
       " 1038146,\n",
       " 1169835,\n",
       " 1183255,\n",
       " 1220886,\n",
       " 1302315,\n",
       " 1308785,\n",
       " 1386261,\n",
       " 1477139,\n",
       " 1529171,\n",
       " 1564093,\n",
       " 1598369,\n",
       " 1625713,\n",
       " 1633337,\n",
       " 1648217,\n",
       " 1673227,\n",
       " 1677118,\n",
       " 1713430,\n",
       " 1717990,\n",
       " 1730767,\n",
       " 1800005,\n",
       " 1832957,\n",
       " 1888628,\n",
       " 1916118,\n",
       " 1959075,\n",
       " 1961723,\n",
       " 1968313,\n",
       " 2094761,\n",
       " 2136777,\n",
       " 2170451,\n",
       " 2256933,\n",
       " 2409109,\n",
       " 2449164,\n",
       " 2470674,\n",
       " 2479011,\n",
       " 2621907,\n",
       " 2625444,\n",
       " 2652650,\n",
       " 2721963,\n",
       " 2729254,\n",
       " 2849370,\n",
       " 2926893,\n",
       " 2979697,\n",
       " 2997021,\n",
       " 2999801,\n",
       " 3125735,\n",
       " 3308010,\n",
       " 3347453,\n",
       " 3383594]"
      ]
     },
     "execution_count": 43,
     "metadata": {},
     "output_type": "execute_result"
    }
   ],
   "source": [
    "# Guarda todas las IDs de pedidos que tengan un valor ausente en 'add_to_cart_order'\n",
    "\n",
    "orders_id_faltantes = order_products[order_products['add_to_cart_order'].isna()]['order_id'].unique()\n",
    "orders_id_faltantes =sorted(list(orders_id_faltantes))\n",
    "orders_id_faltantes"
   ]
  },
  {
   "cell_type": "code",
   "execution_count": 44,
   "id": "54c31695",
   "metadata": {
    "id": "54c31695"
   },
   "outputs": [
    {
     "data": {
      "text/plain": [
       "order_id\n",
       "4          13\n",
       "9          15\n",
       "11          5\n",
       "19          3\n",
       "20          8\n",
       "           ..\n",
       "3421034    17\n",
       "3421053     9\n",
       "3421071     5\n",
       "3421077     4\n",
       "3421079     1\n",
       "Name: product_id, Length: 450046, dtype: int64"
      ]
     },
     "execution_count": 44,
     "metadata": {},
     "output_type": "execute_result"
    }
   ],
   "source": [
    "# ¿Todos los pedidos con valores ausentes tienen más de 64 productos?\n",
    "# Agrupa todos los pedidos con datos ausentes por su ID de pedido.\n",
    "# Cuenta el número de 'product_id' en cada pedido y revisa el valor mínimo del conteo.\n",
    "\n",
    "order_products.groupby('order_id')['product_id'].count()"
   ]
  },
  {
   "cell_type": "code",
   "execution_count": 45,
   "id": "bde74856",
   "metadata": {},
   "outputs": [
    {
     "data": {
      "text/plain": [
       "order_id\n",
       "61355      127\n",
       "3308010    115\n",
       "2136777    108\n",
       "171934     104\n",
       "1959075     98\n",
       "          ... \n",
       "2231165      1\n",
       "816908       1\n",
       "2230951      1\n",
       "112056       1\n",
       "3421079      1\n",
       "Name: product_id, Length: 450046, dtype: int64"
      ]
     },
     "execution_count": 45,
     "metadata": {},
     "output_type": "execute_result"
    }
   ],
   "source": [
    "order_products.groupby('order_id')['product_id'].count().sort_values(ascending = False)"
   ]
  },
  {
   "cell_type": "markdown",
   "id": "p9V6pddtjglj",
   "metadata": {
    "id": "p9V6pddtjglj"
   },
   "source": [
    "Describe brevemente cuáles son tus hallazgos.\n",
    "> Al agrupar los pedidos con el número de productos, se identifica que hay una order con 127 productos, lo cual no hace referencia al punto anterior en donde encontramos 64 productos. Esto puede ser una falla en el sistema, ya que hay un gap entre el 65 y el 127 "
   ]
  },
  {
   "cell_type": "code",
   "execution_count": 46,
   "id": "7a987d08",
   "metadata": {
    "id": "7a987d08"
   },
   "outputs": [
    {
     "data": {
      "text/html": [
       "<div>\n",
       "<style scoped>\n",
       "    .dataframe tbody tr th:only-of-type {\n",
       "        vertical-align: middle;\n",
       "    }\n",
       "\n",
       "    .dataframe tbody tr th {\n",
       "        vertical-align: top;\n",
       "    }\n",
       "\n",
       "    .dataframe thead th {\n",
       "        text-align: right;\n",
       "    }\n",
       "</style>\n",
       "<table border=\"1\" class=\"dataframe\">\n",
       "  <thead>\n",
       "    <tr style=\"text-align: right;\">\n",
       "      <th></th>\n",
       "      <th>order_id</th>\n",
       "      <th>product_id</th>\n",
       "      <th>add_to_cart_order</th>\n",
       "      <th>reordered</th>\n",
       "    </tr>\n",
       "  </thead>\n",
       "  <tbody>\n",
       "    <tr>\n",
       "      <th>267</th>\n",
       "      <td>2094761</td>\n",
       "      <td>31469</td>\n",
       "      <td>57.0</td>\n",
       "      <td>1</td>\n",
       "    </tr>\n",
       "    <tr>\n",
       "      <th>737</th>\n",
       "      <td>2449164</td>\n",
       "      <td>5068</td>\n",
       "      <td>NaN</td>\n",
       "      <td>0</td>\n",
       "    </tr>\n",
       "    <tr>\n",
       "      <th>1742</th>\n",
       "      <td>2997021</td>\n",
       "      <td>4920</td>\n",
       "      <td>37.0</td>\n",
       "      <td>0</td>\n",
       "    </tr>\n",
       "    <tr>\n",
       "      <th>3463</th>\n",
       "      <td>871281</td>\n",
       "      <td>40063</td>\n",
       "      <td>61.0</td>\n",
       "      <td>1</td>\n",
       "    </tr>\n",
       "    <tr>\n",
       "      <th>3535</th>\n",
       "      <td>171934</td>\n",
       "      <td>36397</td>\n",
       "      <td>7.0</td>\n",
       "      <td>0</td>\n",
       "    </tr>\n",
       "    <tr>\n",
       "      <th>...</th>\n",
       "      <td>...</td>\n",
       "      <td>...</td>\n",
       "      <td>...</td>\n",
       "      <td>...</td>\n",
       "    </tr>\n",
       "    <tr>\n",
       "      <th>4543519</th>\n",
       "      <td>2621907</td>\n",
       "      <td>32018</td>\n",
       "      <td>28.0</td>\n",
       "      <td>1</td>\n",
       "    </tr>\n",
       "    <tr>\n",
       "      <th>4544672</th>\n",
       "      <td>102236</td>\n",
       "      <td>34688</td>\n",
       "      <td>49.0</td>\n",
       "      <td>0</td>\n",
       "    </tr>\n",
       "    <tr>\n",
       "      <th>4544708</th>\n",
       "      <td>2256933</td>\n",
       "      <td>41544</td>\n",
       "      <td>21.0</td>\n",
       "      <td>0</td>\n",
       "    </tr>\n",
       "    <tr>\n",
       "      <th>4544771</th>\n",
       "      <td>180546</td>\n",
       "      <td>12741</td>\n",
       "      <td>46.0</td>\n",
       "      <td>1</td>\n",
       "    </tr>\n",
       "    <tr>\n",
       "      <th>4544810</th>\n",
       "      <td>2136777</td>\n",
       "      <td>20072</td>\n",
       "      <td>10.0</td>\n",
       "      <td>0</td>\n",
       "    </tr>\n",
       "  </tbody>\n",
       "</table>\n",
       "<p>5316 rows × 4 columns</p>\n",
       "</div>"
      ],
      "text/plain": [
       "         order_id  product_id  add_to_cart_order  reordered\n",
       "267       2094761       31469               57.0          1\n",
       "737       2449164        5068                NaN          0\n",
       "1742      2997021        4920               37.0          0\n",
       "3463       871281       40063               61.0          1\n",
       "3535       171934       36397                7.0          0\n",
       "...           ...         ...                ...        ...\n",
       "4543519   2621907       32018               28.0          1\n",
       "4544672    102236       34688               49.0          0\n",
       "4544708   2256933       41544               21.0          0\n",
       "4544771    180546       12741               46.0          1\n",
       "4544810   2136777       20072               10.0          0\n",
       "\n",
       "[5316 rows x 4 columns]"
      ]
     },
     "execution_count": 46,
     "metadata": {},
     "output_type": "execute_result"
    }
   ],
   "source": [
    "# Remplaza los valores ausentes en la columna 'add_to_cart? con 999 y convierte la columna al tipo entero.\n",
    "# Todas las ordenes donde el 'add_to_cart' es nulo:\n",
    "\n",
    "order_products[order_products['order_id'].isin(orders_id_faltantes)]"
   ]
  },
  {
   "cell_type": "code",
   "execution_count": 47,
   "id": "2de0fa01",
   "metadata": {},
   "outputs": [
    {
     "data": {
      "text/plain": [
       "order_id\n",
       "61355      127\n",
       "3308010    115\n",
       "2136777    108\n",
       "171934     104\n",
       "1959075     98\n",
       "          ... \n",
       "888470      65\n",
       "1598369     65\n",
       "747668      65\n",
       "1677118     65\n",
       "9310        65\n",
       "Name: product_id, Length: 70, dtype: int64"
      ]
     },
     "execution_count": 47,
     "metadata": {},
     "output_type": "execute_result"
    }
   ],
   "source": [
    "order_products[order_products['order_id'].isin(orders_id_faltantes)].groupby('order_id')['product_id'].count().sort_values(ascending = False)"
   ]
  },
  {
   "cell_type": "code",
   "execution_count": 48,
   "id": "9d55f162",
   "metadata": {},
   "outputs": [
    {
     "data": {
      "text/plain": [
       "order_id             0\n",
       "product_id           0\n",
       "add_to_cart_order    0\n",
       "reordered            0\n",
       "dtype: int64"
      ]
     },
     "execution_count": 48,
     "metadata": {},
     "output_type": "execute_result"
    }
   ],
   "source": [
    "order_products['add_to_cart_order'] =order_products['add_to_cart_order'].fillna(999).astype('int')\n",
    "order_products.isna().sum()"
   ]
  },
  {
   "cell_type": "markdown",
   "id": "fea4bcc7",
   "metadata": {
    "id": "fea4bcc7"
   },
   "source": [
    "Describe brevemente tus hallazgos y lo que hiciste con ellos.\n",
    "> Al realizar estos codigos, se puede identificar que los NaN de la columna 'add_to_cart_order' son de ordenes que superaron los nùmeros desde el 65 hasta los 127. Posteriormente, para un mejor analisis de los datos se reemplaza los valores nulos por un valor muy grande, en este caso: 999, int. "
   ]
  },
  {
   "cell_type": "markdown",
   "id": "RnplPFY1gSrb",
   "metadata": {
    "id": "RnplPFY1gSrb"
   },
   "source": [
    "## Conclusiones\n",
    "\n",
    "Escribe aquí tus conclusiones intermedias sobre el Paso 2. Preprocesamiento de los datos\n"
   ]
  },
  {
   "cell_type": "markdown",
   "id": "e78e5179",
   "metadata": {},
   "source": [
    "<div class=\"alert alert-block alert-success\">\n",
    "<b>Comentario del revisor para el Paso 2: Preprocesamiento de los datos</b> <a class=\"tocSkip\"></a>\n",
    "Tu enfoque para el preprocesamiento es metódico y cubre todos los aspectos requeridos:\n",
    "\n",
    "Buen trabajo al verificar y manejar los duplicados en cada DataFrame.\n",
    "Excelente manejo de valores nulos, especialmente en la columna 'product_name' y 'days_since_prior_order'.\n",
    "Buena decisión de reemplazar los valores nulos en 'add_to_cart_order' con 999.\n",
    "\n",
    "Puntos destacados:\n",
    "\n",
    "Buena investigación de los patrones en los valores nulos antes de tomar decisiones.\n",
    "Excelente uso de métodos como isna(), fillna() y value_counts() para manejar los datos.\n",
    "\n",
    "Áreas de mejora:\n",
    "\n",
    "Podrías haber proporcionado más explicaciones sobre el impacto de tus decisiones de preprocesamiento en el análisis posterior.\n",
    "\n",
    "</div>"
   ]
  },
  {
   "cell_type": "markdown",
   "id": "UjrOIwTcz3ri",
   "metadata": {
    "id": "UjrOIwTcz3ri"
   },
   "source": [
    "# Paso 3. Análisis de los datos\n",
    "\n",
    "Una vez los datos estén procesados y listos, haz el siguiente análisis:"
   ]
  },
  {
   "cell_type": "markdown",
   "id": "turkish-kidney",
   "metadata": {
    "id": "turkish-kidney"
   },
   "source": [
    "# [A] Fácil (deben completarse todos para aprobar)\n",
    "\n",
    "1. Verifica que los valores en las columnas `'order_hour_of_day'` y `'order_dow'` en la tabla orders sean razonables (es decir, `'order_hour_of_day'` oscile entre 0 y 23 y `'order_dow'` oscile entre 0 y 6).\n",
    "2. Crea un gráfico que muestre el número de personas que hacen pedidos dependiendo de la hora del día.\n",
    "3. Crea un gráfico que muestre qué día de la semana la gente hace sus compras.\n",
    "4. Crea un gráfico que muestre el tiempo que la gente espera hasta hacer su siguiente pedido, y comenta sobre los valores mínimos y máximos."
   ]
  },
  {
   "cell_type": "markdown",
   "id": "short-capability",
   "metadata": {
    "id": "short-capability"
   },
   "source": [
    "### [A1] Verifica que los valores sean sensibles"
   ]
  },
  {
   "cell_type": "code",
   "execution_count": 49,
   "id": "growing-fruit",
   "metadata": {
    "id": "growing-fruit"
   },
   "outputs": [
    {
     "name": "stdout",
     "output_type": "stream",
     "text": [
      "<class 'pandas.core.frame.DataFrame'>\n",
      "Int64Index: 478952 entries, 0 to 478966\n",
      "Data columns (total 6 columns):\n",
      " #   Column                  Non-Null Count   Dtype  \n",
      "---  ------                  --------------   -----  \n",
      " 0   order_id                478952 non-null  int64  \n",
      " 1   user_id                 478952 non-null  int64  \n",
      " 2   order_number            478952 non-null  int64  \n",
      " 3   order_dow               478952 non-null  int64  \n",
      " 4   order_hour_of_day       478952 non-null  int64  \n",
      " 5   days_since_prior_order  478952 non-null  float64\n",
      "dtypes: float64(1), int64(5)\n",
      "memory usage: 25.6 MB\n"
     ]
    }
   ],
   "source": [
    "orders.info()"
   ]
  },
  {
   "cell_type": "code",
   "execution_count": 50,
   "id": "accessory-malaysia",
   "metadata": {
    "id": "accessory-malaysia"
   },
   "outputs": [
    {
     "data": {
      "text/plain": [
       "0      3180\n",
       "1      1763\n",
       "2       989\n",
       "3       770\n",
       "4       765\n",
       "5      1371\n",
       "6      4215\n",
       "7     13043\n",
       "8     25024\n",
       "9     35896\n",
       "10    40578\n",
       "11    40032\n",
       "12    38034\n",
       "13    39007\n",
       "14    39631\n",
       "15    39789\n",
       "16    38112\n",
       "17    31930\n",
       "18    25510\n",
       "19    19547\n",
       "20    14624\n",
       "21    11019\n",
       "22     8512\n",
       "23     5611\n",
       "Name: order_hour_of_day, dtype: int64"
      ]
     },
     "execution_count": 50,
     "metadata": {},
     "output_type": "execute_result"
    }
   ],
   "source": [
    "compras_hora_dia = orders['order_hour_of_day'].value_counts().sort_index()\n",
    "compras_hora_dia"
   ]
  },
  {
   "cell_type": "markdown",
   "id": "hmR2GNQ6lCsX",
   "metadata": {
    "id": "hmR2GNQ6lCsX"
   },
   "source": [
    "Escribe aquí tus conclusiones\n",
    "\n"
   ]
  },
  {
   "cell_type": "markdown",
   "id": "a6743a70",
   "metadata": {
    "id": "a6743a70"
   },
   "source": [
    "### [A2] Para cada hora del día, ¿cuántas personas hacen órdenes?"
   ]
  },
  {
   "cell_type": "code",
   "execution_count": 51,
   "id": "a36cca27",
   "metadata": {
    "id": "a36cca27"
   },
   "outputs": [],
   "source": [
    "import matplotlib.pyplot as plt"
   ]
  },
  {
   "cell_type": "code",
   "execution_count": 52,
   "id": "a1cce284",
   "metadata": {},
   "outputs": [
    {
     "data": {
      "text/plain": [
       "pandas.core.series.Series"
      ]
     },
     "execution_count": 52,
     "metadata": {},
     "output_type": "execute_result"
    }
   ],
   "source": [
    "type(compras_hora_dia)"
   ]
  },
  {
   "cell_type": "code",
   "execution_count": 53,
   "id": "98d678af",
   "metadata": {},
   "outputs": [
    {
     "data": {
      "image/png": "[encoded data removed]",
      "text/plain": [
       "<Figure size 640x480 with 1 Axes>"
      ]
     },
     "metadata": {},
     "output_type": "display_data"
    }
   ],
   "source": [
    "compras_hora_dia.plot(\n",
    "    kind='bar',\n",
    "    title='Ordenes por hora del dìa',\n",
    "    xlabel= 'Hora del dìa',\n",
    "    ylabel= 'Nùmero de ordenes'\n",
    ")\n",
    "plt.show()"
   ]
  },
  {
   "cell_type": "markdown",
   "id": "11270eed",
   "metadata": {
    "id": "11270eed"
   },
   "source": [
    "Escribe aquí tus conclusiones\n",
    ">Con la realización de este grafico, se puede intepretar que la mayor cantidad de pedidos se realizan entre las 10 am y 4 pm. "
   ]
  },
  {
   "cell_type": "markdown",
   "id": "documented-command",
   "metadata": {
    "id": "documented-command"
   },
   "source": [
    "### [A3] ¿Qué día de la semana compran víveres las personas?"
   ]
  },
  {
   "cell_type": "code",
   "execution_count": 54,
   "id": "chief-digit",
   "metadata": {
    "id": "chief-digit"
   },
   "outputs": [
    {
     "data": {
      "text/plain": [
       "0    84090\n",
       "1    82185\n",
       "2    65833\n",
       "3    60897\n",
       "4    59810\n",
       "5    63488\n",
       "6    62649\n",
       "Name: order_dow, dtype: int64"
      ]
     },
     "execution_count": 54,
     "metadata": {},
     "output_type": "execute_result"
    }
   ],
   "source": [
    "pedidos_por_dia_semana = orders['order_dow'].value_counts().sort_index()\n",
    "pedidos_por_dia_semana"
   ]
  },
  {
   "cell_type": "code",
   "execution_count": 55,
   "id": "ac8b15ca",
   "metadata": {},
   "outputs": [],
   "source": [
    "import matplotlib.pyplot as plt"
   ]
  },
  {
   "cell_type": "code",
   "execution_count": 56,
   "id": "9422e344",
   "metadata": {},
   "outputs": [
    {
     "data": {
      "image/png": "[encoded data removed]",
      "text/plain": [
       "<Figure size 640x480 with 1 Axes>"
      ]
     },
     "metadata": {},
     "output_type": "display_data"
    }
   ],
   "source": [
    "pedidos_por_dia_semana.plot(\n",
    "    kind='bar',\n",
    "    title='Ordenes por dias de la semana',\n",
    "    xlabel= 'Dia de la semana',\n",
    "    ylabel= 'Nùmero de ordenes'\n",
    ")\n",
    "plt.show()"
   ]
  },
  {
   "cell_type": "markdown",
   "id": "dominant-lightning",
   "metadata": {
    "id": "dominant-lightning"
   },
   "source": [
    "Escribe aquí tus conclusiones\n",
    "> Con esta grafica y analisis de datos podemos comprender que las personas compran con mas frecuencia los viveres los días Domingo y Lunes. "
   ]
  },
  {
   "cell_type": "markdown",
   "id": "cutting-concert",
   "metadata": {
    "id": "cutting-concert"
   },
   "source": [
    "### [A4] ¿Cuánto tiempo esperan las personas hasta hacer otro pedido? Comenta sobre los valores mínimos y máximos."
   ]
  },
  {
   "cell_type": "code",
   "execution_count": 57,
   "id": "c231f523",
   "metadata": {
    "id": "c231f523"
   },
   "outputs": [
    {
     "data": {
      "text/plain": [
       "0.0     38406\n",
       "1.0     20179\n",
       "2.0     27138\n",
       "3.0     30224\n",
       "4.0     31006\n",
       "5.0     30096\n",
       "6.0     33930\n",
       "7.0     44577\n",
       "8.0     25361\n",
       "9.0     16753\n",
       "10.0    13309\n",
       "11.0    11467\n",
       "12.0    10658\n",
       "13.0    11737\n",
       "14.0    13992\n",
       "15.0     9416\n",
       "16.0     6587\n",
       "17.0     5498\n",
       "18.0     4971\n",
       "19.0     4939\n",
       "20.0     5302\n",
       "21.0     6448\n",
       "22.0     4514\n",
       "23.0     3337\n",
       "24.0     3015\n",
       "25.0     2711\n",
       "26.0     2640\n",
       "27.0     2986\n",
       "28.0     3745\n",
       "29.0     2673\n",
       "30.0    51337\n",
       "Name: days_since_prior_order, dtype: int64"
      ]
     },
     "execution_count": 57,
     "metadata": {},
     "output_type": "execute_result"
    }
   ],
   "source": [
    "espera_pedidos = orders['days_since_prior_order'].value_counts().sort_index()\n",
    "espera_pedidos"
   ]
  },
  {
   "cell_type": "code",
   "execution_count": 58,
   "id": "820f58de",
   "metadata": {},
   "outputs": [
    {
     "data": {
      "text/plain": [
       "0.0"
      ]
     },
     "execution_count": 58,
     "metadata": {},
     "output_type": "execute_result"
    }
   ],
   "source": [
    "valor_minimo = orders['days_since_prior_order'].min()\n",
    "valor_minimo"
   ]
  },
  {
   "cell_type": "code",
   "execution_count": 59,
   "id": "f364cd65",
   "metadata": {},
   "outputs": [
    {
     "data": {
      "text/plain": [
       "30.0"
      ]
     },
     "execution_count": 59,
     "metadata": {},
     "output_type": "execute_result"
    }
   ],
   "source": [
    "valor_maximo = orders['days_since_prior_order'].max()\n",
    "valor_maximo"
   ]
  },
  {
   "cell_type": "code",
   "execution_count": 60,
   "id": "c7a11e37",
   "metadata": {},
   "outputs": [
    {
     "data": {
      "image/png": "[encoded data removed]",
      "text/plain": [
       "<Figure size 640x480 with 1 Axes>"
      ]
     },
     "metadata": {},
     "output_type": "display_data"
    }
   ],
   "source": [
    "espera_pedidos.plot(\n",
    "    kind='bar',\n",
    "    title='Dias de espera hasta el siguiente pedido',\n",
    "    xlabel= 'Dia',\n",
    "    ylabel= 'Nùmero de ordenes'\n",
    ")\n",
    "plt.show()"
   ]
  },
  {
   "cell_type": "markdown",
   "id": "discrete-vertex",
   "metadata": {
    "id": "discrete-vertex"
   },
   "source": [
    "Escribe aquí tus conclusiones\n",
    ">Esta grafica significa que la mayoria de las personas esperan 30 dias para realizar una nueva compra . Aunque algunos tambien solo esperan 7 dias para volver a comprar. "
   ]
  },
  {
   "cell_type": "markdown",
   "id": "tight-staff",
   "metadata": {
    "id": "tight-staff"
   },
   "source": [
    "# [B] Intermedio (deben completarse todos para aprobar)\n",
    "\n",
    "1. ¿Existe alguna diferencia entre las distribuciones `'order_hour_of_day'` de los miércoles y los sábados? Traza gráficos de barra de `'order_hour_of_day'` para ambos días en la misma figura y describe las diferencias que observes.\n",
    "2. Grafica la distribución para el número de órdenes que hacen los clientes (es decir, cuántos clientes hicieron solo 1 pedido, cuántos hicieron 2, cuántos 3, y así sucesivamente...).\n",
    "3. ¿Cuáles son los 20 principales productos que se piden con más frecuencia (muestra su identificación y nombre)?"
   ]
  },
  {
   "cell_type": "markdown",
   "id": "packed-classic",
   "metadata": {
    "id": "packed-classic"
   },
   "source": [
    "### [B1] Diferencia entre miércoles y sábados para  `'order_hour_of_day'`. Traza gráficos de barra para los dos días y describe las diferencias que veas."
   ]
  },
  {
   "cell_type": "code",
   "execution_count": 61,
   "id": "d89b8403",
   "metadata": {
    "id": "d89b8403"
   },
   "outputs": [
    {
     "data": {
      "text/plain": [
       "array([6, 5, 0, 4, 3, 1, 2])"
      ]
     },
     "execution_count": 61,
     "metadata": {},
     "output_type": "execute_result"
    }
   ],
   "source": [
    "orders['order_dow'].unique()"
   ]
  },
  {
   "cell_type": "code",
   "execution_count": 62,
   "id": "94e54e8a",
   "metadata": {
    "id": "94e54e8a"
   },
   "outputs": [],
   "source": [
    "miercoles_filtro = orders['order_dow'] == 3"
   ]
  },
  {
   "cell_type": "code",
   "execution_count": 63,
   "id": "797c90a8",
   "metadata": {
    "id": "797c90a8"
   },
   "outputs": [
    {
     "data": {
      "text/plain": [
       "0      373\n",
       "1      215\n",
       "2      106\n",
       "3      101\n",
       "4      108\n",
       "5      170\n",
       "6      643\n",
       "7     1732\n",
       "8     3125\n",
       "9     4490\n",
       "10    5026\n",
       "11    5004\n",
       "12    4688\n",
       "13    4674\n",
       "14    4774\n",
       "15    5163\n",
       "16    4976\n",
       "17    4175\n",
       "18    3463\n",
       "19    2652\n",
       "20    1917\n",
       "21    1450\n",
       "22    1154\n",
       "23     718\n",
       "Name: order_hour_of_day, dtype: int64"
      ]
     },
     "execution_count": 63,
     "metadata": {},
     "output_type": "execute_result"
    }
   ],
   "source": [
    "#Contar el numero de pedidos por hora del día \n",
    "ordenes_miercoles = orders[miercoles_filtro]['order_hour_of_day'].value_counts().sort_index()\n",
    "ordenes_miercoles"
   ]
  },
  {
   "cell_type": "code",
   "execution_count": 64,
   "id": "35bcea30",
   "metadata": {
    "id": "35bcea30"
   },
   "outputs": [],
   "source": [
    "sabado_filtro = orders['order_dow'] == 6"
   ]
  },
  {
   "cell_type": "code",
   "execution_count": 65,
   "id": "cfc4f95e",
   "metadata": {},
   "outputs": [
    {
     "data": {
      "text/plain": [
       "0      464\n",
       "1      254\n",
       "2      177\n",
       "3      125\n",
       "4      118\n",
       "5      161\n",
       "6      451\n",
       "7     1619\n",
       "8     3246\n",
       "9     4311\n",
       "10    4919\n",
       "11    5116\n",
       "12    5132\n",
       "13    5323\n",
       "14    5375\n",
       "15    5188\n",
       "16    5029\n",
       "17    4295\n",
       "18    3338\n",
       "19    2610\n",
       "20    1847\n",
       "21    1473\n",
       "22    1185\n",
       "23     893\n",
       "Name: order_hour_of_day, dtype: int64"
      ]
     },
     "execution_count": 65,
     "metadata": {},
     "output_type": "execute_result"
    }
   ],
   "source": [
    "ordenes_sabado = orders[sabado_filtro]['order_hour_of_day'].value_counts().sort_index()\n",
    "ordenes_sabado"
   ]
  },
  {
   "cell_type": "code",
   "execution_count": 66,
   "id": "f49a5fe9",
   "metadata": {},
   "outputs": [],
   "source": [
    "miercoles_y_sabado= pd.concat([ordenes_sabado, ordenes_miercoles], axis=1)"
   ]
  },
  {
   "cell_type": "code",
   "execution_count": 67,
   "id": "d0bb1eec",
   "metadata": {},
   "outputs": [
    {
     "data": {
      "text/html": [
       "<div>\n",
       "<style scoped>\n",
       "    .dataframe tbody tr th:only-of-type {\n",
       "        vertical-align: middle;\n",
       "    }\n",
       "\n",
       "    .dataframe tbody tr th {\n",
       "        vertical-align: top;\n",
       "    }\n",
       "\n",
       "    .dataframe thead th {\n",
       "        text-align: right;\n",
       "    }\n",
       "</style>\n",
       "<table border=\"1\" class=\"dataframe\">\n",
       "  <thead>\n",
       "    <tr style=\"text-align: right;\">\n",
       "      <th></th>\n",
       "      <th>Sabado</th>\n",
       "      <th>Miercoles</th>\n",
       "    </tr>\n",
       "  </thead>\n",
       "  <tbody>\n",
       "    <tr>\n",
       "      <th>0</th>\n",
       "      <td>464</td>\n",
       "      <td>373</td>\n",
       "    </tr>\n",
       "    <tr>\n",
       "      <th>1</th>\n",
       "      <td>254</td>\n",
       "      <td>215</td>\n",
       "    </tr>\n",
       "    <tr>\n",
       "      <th>2</th>\n",
       "      <td>177</td>\n",
       "      <td>106</td>\n",
       "    </tr>\n",
       "    <tr>\n",
       "      <th>3</th>\n",
       "      <td>125</td>\n",
       "      <td>101</td>\n",
       "    </tr>\n",
       "    <tr>\n",
       "      <th>4</th>\n",
       "      <td>118</td>\n",
       "      <td>108</td>\n",
       "    </tr>\n",
       "    <tr>\n",
       "      <th>5</th>\n",
       "      <td>161</td>\n",
       "      <td>170</td>\n",
       "    </tr>\n",
       "    <tr>\n",
       "      <th>6</th>\n",
       "      <td>451</td>\n",
       "      <td>643</td>\n",
       "    </tr>\n",
       "    <tr>\n",
       "      <th>7</th>\n",
       "      <td>1619</td>\n",
       "      <td>1732</td>\n",
       "    </tr>\n",
       "    <tr>\n",
       "      <th>8</th>\n",
       "      <td>3246</td>\n",
       "      <td>3125</td>\n",
       "    </tr>\n",
       "    <tr>\n",
       "      <th>9</th>\n",
       "      <td>4311</td>\n",
       "      <td>4490</td>\n",
       "    </tr>\n",
       "    <tr>\n",
       "      <th>10</th>\n",
       "      <td>4919</td>\n",
       "      <td>5026</td>\n",
       "    </tr>\n",
       "    <tr>\n",
       "      <th>11</th>\n",
       "      <td>5116</td>\n",
       "      <td>5004</td>\n",
       "    </tr>\n",
       "    <tr>\n",
       "      <th>12</th>\n",
       "      <td>5132</td>\n",
       "      <td>4688</td>\n",
       "    </tr>\n",
       "    <tr>\n",
       "      <th>13</th>\n",
       "      <td>5323</td>\n",
       "      <td>4674</td>\n",
       "    </tr>\n",
       "    <tr>\n",
       "      <th>14</th>\n",
       "      <td>5375</td>\n",
       "      <td>4774</td>\n",
       "    </tr>\n",
       "    <tr>\n",
       "      <th>15</th>\n",
       "      <td>5188</td>\n",
       "      <td>5163</td>\n",
       "    </tr>\n",
       "    <tr>\n",
       "      <th>16</th>\n",
       "      <td>5029</td>\n",
       "      <td>4976</td>\n",
       "    </tr>\n",
       "    <tr>\n",
       "      <th>17</th>\n",
       "      <td>4295</td>\n",
       "      <td>4175</td>\n",
       "    </tr>\n",
       "    <tr>\n",
       "      <th>18</th>\n",
       "      <td>3338</td>\n",
       "      <td>3463</td>\n",
       "    </tr>\n",
       "    <tr>\n",
       "      <th>19</th>\n",
       "      <td>2610</td>\n",
       "      <td>2652</td>\n",
       "    </tr>\n",
       "    <tr>\n",
       "      <th>20</th>\n",
       "      <td>1847</td>\n",
       "      <td>1917</td>\n",
       "    </tr>\n",
       "    <tr>\n",
       "      <th>21</th>\n",
       "      <td>1473</td>\n",
       "      <td>1450</td>\n",
       "    </tr>\n",
       "    <tr>\n",
       "      <th>22</th>\n",
       "      <td>1185</td>\n",
       "      <td>1154</td>\n",
       "    </tr>\n",
       "    <tr>\n",
       "      <th>23</th>\n",
       "      <td>893</td>\n",
       "      <td>718</td>\n",
       "    </tr>\n",
       "  </tbody>\n",
       "</table>\n",
       "</div>"
      ],
      "text/plain": [
       "    Sabado  Miercoles\n",
       "0      464        373\n",
       "1      254        215\n",
       "2      177        106\n",
       "3      125        101\n",
       "4      118        108\n",
       "5      161        170\n",
       "6      451        643\n",
       "7     1619       1732\n",
       "8     3246       3125\n",
       "9     4311       4490\n",
       "10    4919       5026\n",
       "11    5116       5004\n",
       "12    5132       4688\n",
       "13    5323       4674\n",
       "14    5375       4774\n",
       "15    5188       5163\n",
       "16    5029       4976\n",
       "17    4295       4175\n",
       "18    3338       3463\n",
       "19    2610       2652\n",
       "20    1847       1917\n",
       "21    1473       1450\n",
       "22    1185       1154\n",
       "23     893        718"
      ]
     },
     "execution_count": 67,
     "metadata": {},
     "output_type": "execute_result"
    }
   ],
   "source": [
    "miercoles_y_sabado.columns = ['Sabado', 'Miercoles']\n",
    "miercoles_y_sabado"
   ]
  },
  {
   "cell_type": "code",
   "execution_count": 68,
   "id": "73281e35",
   "metadata": {},
   "outputs": [
    {
     "data": {
      "image/png": "[encoded data removed]",
      "text/plain": [
       "<Figure size 640x480 with 1 Axes>"
      ]
     },
     "metadata": {},
     "output_type": "display_data"
    }
   ],
   "source": [
    "miercoles_y_sabado.plot(\n",
    "    kind='bar',\n",
    "    title='Comparacion de ordenes de Sabado y Miercoles', \n",
    "    xlabel='Hora del dia', \n",
    "    ylabel='Numero de ordenes'\n",
    ")\n",
    "plt.show()"
   ]
  },
  {
   "cell_type": "markdown",
   "id": "charitable-congo",
   "metadata": {
    "id": "charitable-congo"
   },
   "source": [
    "Escribe aquí tus conclusiones\n",
    "> Obtuvimos las ordenes del miercoles y sabado y las concatemanos por los indices de filas. Con el grafico podemos observar que los días sabados en las horas pico se incrementan las ordenes, mientras que los miercoles las ordenes disminuyen en dichos dias, puede ser porque es horario laboral o es hora de almuerzo y no tienen tiempo para ir comprar. "
   ]
  },
  {
   "cell_type": "markdown",
   "id": "e3891143",
   "metadata": {
    "id": "e3891143"
   },
   "source": [
    "### [B2] ¿Cuál es la distribución para el número de pedidos por cliente?"
   ]
  },
  {
   "cell_type": "code",
   "execution_count": 69,
   "id": "d8c26c23",
   "metadata": {
    "id": "d8c26c23"
   },
   "outputs": [
    {
     "data": {
      "text/plain": [
       "2         2\n",
       "4         2\n",
       "5         1\n",
       "6         2\n",
       "7         2\n",
       "         ..\n",
       "206203    1\n",
       "206206    7\n",
       "206207    5\n",
       "206208    9\n",
       "206209    2\n",
       "Name: user_id, Length: 157437, dtype: int64"
      ]
     },
     "execution_count": 69,
     "metadata": {},
     "output_type": "execute_result"
    }
   ],
   "source": [
    "ordenes_por_cliente = orders['user_id'].value_counts().sort_index()\n",
    "ordenes_por_cliente"
   ]
  },
  {
   "cell_type": "code",
   "execution_count": 70,
   "id": "00e69a66",
   "metadata": {
    "id": "00e69a66"
   },
   "outputs": [
    {
     "data": {
      "image/png": "[encoded data removed]",
      "text/plain": [
       "<Figure size 640x480 with 1 Axes>"
      ]
     },
     "metadata": {},
     "output_type": "display_data"
    }
   ],
   "source": [
    "from matplotlib import pyplot as plt\n",
    "\n",
    "ordenes_por_cliente.plot(\n",
    "    kind='hist',\n",
    "    title='Distribución del número de órdenes por cliente', \n",
    "    xlabel='Número de órdenes', \n",
    "    ylabel='Cantidad de clientes'\n",
    ")\n",
    "plt.show()"
   ]
  },
  {
   "cell_type": "markdown",
   "id": "d2eff7d5",
   "metadata": {
    "id": "d2eff7d5"
   },
   "source": [
    "Escribe aquí tus conclusiones\n",
    ">La gráfica muestra cómo se distribuyen los pedidos entre los clientes, es decir que muy pocos clientes hacen muchos pedidos y por lo tanto la mayoria de clientes realizan solo un pedido. "
   ]
  },
  {
   "cell_type": "markdown",
   "id": "54a0319c",
   "metadata": {
    "id": "54a0319c"
   },
   "source": [
    "### [B3] ¿Cuáles son los 20 productos más populares (muestra su ID y nombre)?"
   ]
  },
  {
   "cell_type": "code",
   "execution_count": 71,
   "id": "exterior-arizona",
   "metadata": {
    "id": "exterior-arizona",
    "scrolled": true
   },
   "outputs": [
    {
     "data": {
      "text/plain": [
       "product_id  product_name            \n",
       "24852       Banana                      66050\n",
       "13176       Bag of Organic Bananas      53297\n",
       "21137       Organic Strawberries        37039\n",
       "21903       Organic Baby Spinach        33971\n",
       "47209       Organic Hass Avocado        29773\n",
       "47766       Organic Avocado             24689\n",
       "47626       Large Lemon                 21495\n",
       "16797       Strawberries                20018\n",
       "26209       Limes                       19690\n",
       "27845       Organic Whole Milk          19600\n",
       "27966       Organic Raspberries         19197\n",
       "22935       Organic Yellow Onion        15898\n",
       "24964       Organic Garlic              15292\n",
       "45007       Organic Zucchini            14584\n",
       "39275       Organic Blueberries         13879\n",
       "49683       Cucumber Kirby              13675\n",
       "28204       Organic Fuji Apple          12544\n",
       "5876        Organic Lemon               12232\n",
       "8277        Apple Honeycrisp Organic    11993\n",
       "40706       Organic Grape Tomatoes      11781\n",
       "dtype: int64"
      ]
     },
     "execution_count": 71,
     "metadata": {},
     "output_type": "execute_result"
    }
   ],
   "source": [
    "productos_merge = order_products.merge(products)\n",
    "productos_frecuencia = productos_merge[['product_id','product_name']].value_counts().sort_values(ascending=False).head(20)\n",
    "productos_frecuencia "
   ]
  },
  {
   "cell_type": "markdown",
   "id": "7df00f47",
   "metadata": {
    "id": "7df00f47"
   },
   "source": [
    "Escribe aquí tus conclusiones\n",
    "> Los 20 productos más populares son los productos que van con la tendencia de lo organico y lo saludable"
   ]
  },
  {
   "cell_type": "markdown",
   "id": "gross-theme",
   "metadata": {
    "id": "gross-theme"
   },
   "source": [
    "# [C] Difícil (deben completarse todos para aprobar)\n",
    "\n",
    "1. ¿Cuántos artículos suelen comprar las personas en un pedido? ¿Cómo es la distribución?\n",
    "2. ¿Cuáles son los 20 principales artículos que vuelven a pedirse con mayor frecuencia (muestra sus nombres e IDs de los productos)?\n",
    "3. Para cada producto, ¿cuál es la tasa de repetición del pedido (número de repeticiones de pedido/total de pedidos?\n",
    "4. Para cada cliente, ¿qué proporción de los productos que pidió ya los había pedido? Calcula la tasa de repetición de pedido para cada usuario en lugar de para cada producto.\n",
    "5. ¿Cuáles son los 20 principales artículos que la gente pone primero en sus carritos (muestra las IDs de los productos, sus nombres, y el número de veces en que fueron el primer artículo en añadirse al carrito)?"
   ]
  },
  {
   "cell_type": "markdown",
   "id": "romantic-deposit",
   "metadata": {
    "id": "romantic-deposit"
   },
   "source": [
    "### [C1] ¿Cuántos artículos compran normalmente las personas en un pedido? ¿Cómo es la distribución?"
   ]
  },
  {
   "cell_type": "code",
   "execution_count": 72,
   "id": "virtual-punch",
   "metadata": {
    "id": "virtual-punch"
   },
   "outputs": [],
   "source": [
    "total_productos_por_ordenes = order_products.groupby('order_id')['product_id'].count()"
   ]
  },
  {
   "cell_type": "code",
   "execution_count": 73,
   "id": "sensitive-breathing",
   "metadata": {
    "id": "sensitive-breathing"
   },
   "outputs": [
    {
     "data": {
      "text/plain": [
       "order_id\n",
       "4          13\n",
       "9          15\n",
       "11          5\n",
       "19          3\n",
       "20          8\n",
       "           ..\n",
       "3421034    17\n",
       "3421053     9\n",
       "3421071     5\n",
       "3421077     4\n",
       "3421079     1\n",
       "Name: product_id, Length: 450046, dtype: int64"
      ]
     },
     "execution_count": 73,
     "metadata": {},
     "output_type": "execute_result"
    }
   ],
   "source": [
    "total_productos_por_ordenes"
   ]
  },
  {
   "cell_type": "code",
   "execution_count": 74,
   "id": "ac5bc9e8",
   "metadata": {},
   "outputs": [
    {
     "data": {
      "text/plain": [
       "10.098983215049127"
      ]
     },
     "execution_count": 74,
     "metadata": {},
     "output_type": "execute_result"
    }
   ],
   "source": [
    "total_productos_por_ordenes.mean()"
   ]
  },
  {
   "cell_type": "code",
   "execution_count": 75,
   "id": "completed-frank",
   "metadata": {
    "id": "completed-frank"
   },
   "outputs": [
    {
     "data": {
      "text/plain": [
       "1      21847\n",
       "2      26292\n",
       "3      29046\n",
       "4      31054\n",
       "5      31923\n",
       "       ...  \n",
       "98         1\n",
       "104        1\n",
       "108        1\n",
       "115        1\n",
       "127        1\n",
       "Name: product_id, Length: 90, dtype: int64"
      ]
     },
     "execution_count": 75,
     "metadata": {},
     "output_type": "execute_result"
    }
   ],
   "source": [
    "#Productos por cada orden \n",
    "total_productos_por_ordenes.value_counts().sort_index()"
   ]
  },
  {
   "cell_type": "markdown",
   "id": "designed-mortality",
   "metadata": {
    "id": "designed-mortality"
   },
   "source": [
    "Escribe aquí tus conclusiones\n",
    ">En promedio las personas compran 10 productos en cada orden "
   ]
  },
  {
   "cell_type": "code",
   "execution_count": 76,
   "id": "1ea6df2a",
   "metadata": {},
   "outputs": [],
   "source": [
    "Histograma_valores = total_productos_por_ordenes.value_counts().sort_index()"
   ]
  },
  {
   "cell_type": "code",
   "execution_count": 77,
   "id": "faf14117",
   "metadata": {},
   "outputs": [
    {
     "data": {
      "image/png": "[encoded data removed]",
      "text/plain": [
       "<Figure size 640x480 with 1 Axes>"
      ]
     },
     "metadata": {},
     "output_type": "display_data"
    }
   ],
   "source": [
    "Histograma_valores[Histograma_valores.index < 35].plot(\n",
    "    kind='bar',\n",
    "    title='Productos comprados en cada order',\n",
    "    xlabel='Numero de productos',\n",
    "    ylabel='Number of orders'\n",
    ")\n",
    "plt.show()"
   ]
  },
  {
   "cell_type": "markdown",
   "id": "5e6b5537",
   "metadata": {
    "id": "5e6b5537"
   },
   "source": [
    "### [C2] ¿Cuáles son los 20 principales artículos que vuelven a pedirse con mayor frecuencia (muestra sus nombres e IDs de los productos)?"
   ]
  },
  {
   "cell_type": "code",
   "execution_count": 78,
   "id": "9374e55a",
   "metadata": {
    "id": "9374e55a"
   },
   "outputs": [],
   "source": [
    "productos_vuelven_pedirse = productos_merge[productos_merge['reordered'] == 1][['product_id','product_name']].value_counts().sort_values(ascending=False).head(20)"
   ]
  },
  {
   "cell_type": "code",
   "execution_count": 79,
   "id": "possible-change",
   "metadata": {
    "id": "possible-change",
    "scrolled": true
   },
   "outputs": [
    {
     "data": {
      "text/plain": [
       "product_id  product_name            \n",
       "24852       Banana                      55763\n",
       "13176       Bag of Organic Bananas      44450\n",
       "21137       Organic Strawberries        28639\n",
       "21903       Organic Baby Spinach        26233\n",
       "47209       Organic Hass Avocado        23629\n",
       "47766       Organic Avocado             18743\n",
       "27845       Organic Whole Milk          16251\n",
       "47626       Large Lemon                 15044\n",
       "27966       Organic Raspberries         14748\n",
       "16797       Strawberries                13945\n",
       "26209       Limes                       13327\n",
       "22935       Organic Yellow Onion        11145\n",
       "24964       Organic Garlic              10411\n",
       "45007       Organic Zucchini            10076\n",
       "49683       Cucumber Kirby               9538\n",
       "28204       Organic Fuji Apple           8989\n",
       "8277        Apple Honeycrisp Organic     8836\n",
       "39275       Organic Blueberries          8799\n",
       "5876        Organic Lemon                8412\n",
       "49235       Organic Half & Half          8389\n",
       "dtype: int64"
      ]
     },
     "execution_count": 79,
     "metadata": {},
     "output_type": "execute_result"
    }
   ],
   "source": [
    "productos_vuelven_pedirse"
   ]
  },
  {
   "cell_type": "markdown",
   "id": "80e70c74",
   "metadata": {
    "id": "80e70c74"
   },
   "source": [
    "Escribe aquí tus conclusiones\n",
    ">Los productos que se vuelven a pedir siguen siendo los productos organicos, lo que significa que los clientes de la empresa, son clientes que se preocupan por cuidar de su salud."
   ]
  },
  {
   "cell_type": "markdown",
   "id": "9d312b14",
   "metadata": {
    "id": "9d312b14"
   },
   "source": [
    "### [C3] Para cada producto, ¿cuál es la proporción de las veces que se pide y que se vuelve a pedir?"
   ]
  },
  {
   "cell_type": "code",
   "execution_count": 80,
   "id": "8ae9f4b1",
   "metadata": {
    "id": "8ae9f4b1"
   },
   "outputs": [
    {
     "data": {
      "text/html": [
       "<div>\n",
       "<style scoped>\n",
       "    .dataframe tbody tr th:only-of-type {\n",
       "        vertical-align: middle;\n",
       "    }\n",
       "\n",
       "    .dataframe tbody tr th {\n",
       "        vertical-align: top;\n",
       "    }\n",
       "\n",
       "    .dataframe thead th {\n",
       "        text-align: right;\n",
       "    }\n",
       "</style>\n",
       "<table border=\"1\" class=\"dataframe\">\n",
       "  <thead>\n",
       "    <tr style=\"text-align: right;\">\n",
       "      <th></th>\n",
       "      <th>order_id</th>\n",
       "      <th>user_id</th>\n",
       "      <th>order_number</th>\n",
       "      <th>order_dow</th>\n",
       "      <th>order_hour_of_day</th>\n",
       "      <th>days_since_prior_order</th>\n",
       "      <th>product_id</th>\n",
       "      <th>add_to_cart_order</th>\n",
       "      <th>reordered</th>\n",
       "    </tr>\n",
       "  </thead>\n",
       "  <tbody>\n",
       "    <tr>\n",
       "      <th>0</th>\n",
       "      <td>1515936</td>\n",
       "      <td>183418</td>\n",
       "      <td>11</td>\n",
       "      <td>6</td>\n",
       "      <td>13</td>\n",
       "      <td>30.0</td>\n",
       "      <td>19048</td>\n",
       "      <td>1</td>\n",
       "      <td>1</td>\n",
       "    </tr>\n",
       "    <tr>\n",
       "      <th>1</th>\n",
       "      <td>1515936</td>\n",
       "      <td>183418</td>\n",
       "      <td>11</td>\n",
       "      <td>6</td>\n",
       "      <td>13</td>\n",
       "      <td>30.0</td>\n",
       "      <td>47766</td>\n",
       "      <td>3</td>\n",
       "      <td>1</td>\n",
       "    </tr>\n",
       "    <tr>\n",
       "      <th>2</th>\n",
       "      <td>1515936</td>\n",
       "      <td>183418</td>\n",
       "      <td>11</td>\n",
       "      <td>6</td>\n",
       "      <td>13</td>\n",
       "      <td>30.0</td>\n",
       "      <td>45066</td>\n",
       "      <td>9</td>\n",
       "      <td>0</td>\n",
       "    </tr>\n",
       "    <tr>\n",
       "      <th>3</th>\n",
       "      <td>1515936</td>\n",
       "      <td>183418</td>\n",
       "      <td>11</td>\n",
       "      <td>6</td>\n",
       "      <td>13</td>\n",
       "      <td>30.0</td>\n",
       "      <td>24082</td>\n",
       "      <td>11</td>\n",
       "      <td>0</td>\n",
       "    </tr>\n",
       "    <tr>\n",
       "      <th>4</th>\n",
       "      <td>1515936</td>\n",
       "      <td>183418</td>\n",
       "      <td>11</td>\n",
       "      <td>6</td>\n",
       "      <td>13</td>\n",
       "      <td>30.0</td>\n",
       "      <td>24363</td>\n",
       "      <td>4</td>\n",
       "      <td>0</td>\n",
       "    </tr>\n",
       "    <tr>\n",
       "      <th>...</th>\n",
       "      <td>...</td>\n",
       "      <td>...</td>\n",
       "      <td>...</td>\n",
       "      <td>...</td>\n",
       "      <td>...</td>\n",
       "      <td>...</td>\n",
       "      <td>...</td>\n",
       "      <td>...</td>\n",
       "      <td>...</td>\n",
       "    </tr>\n",
       "    <tr>\n",
       "      <th>4545002</th>\n",
       "      <td>2071924</td>\n",
       "      <td>1730</td>\n",
       "      <td>18</td>\n",
       "      <td>1</td>\n",
       "      <td>14</td>\n",
       "      <td>15.0</td>\n",
       "      <td>1503</td>\n",
       "      <td>17</td>\n",
       "      <td>0</td>\n",
       "    </tr>\n",
       "    <tr>\n",
       "      <th>4545003</th>\n",
       "      <td>2071924</td>\n",
       "      <td>1730</td>\n",
       "      <td>18</td>\n",
       "      <td>1</td>\n",
       "      <td>14</td>\n",
       "      <td>15.0</td>\n",
       "      <td>4778</td>\n",
       "      <td>12</td>\n",
       "      <td>1</td>\n",
       "    </tr>\n",
       "    <tr>\n",
       "      <th>4545004</th>\n",
       "      <td>2071924</td>\n",
       "      <td>1730</td>\n",
       "      <td>18</td>\n",
       "      <td>1</td>\n",
       "      <td>14</td>\n",
       "      <td>15.0</td>\n",
       "      <td>11512</td>\n",
       "      <td>1</td>\n",
       "      <td>1</td>\n",
       "    </tr>\n",
       "    <tr>\n",
       "      <th>4545005</th>\n",
       "      <td>2071924</td>\n",
       "      <td>1730</td>\n",
       "      <td>18</td>\n",
       "      <td>1</td>\n",
       "      <td>14</td>\n",
       "      <td>15.0</td>\n",
       "      <td>4920</td>\n",
       "      <td>6</td>\n",
       "      <td>1</td>\n",
       "    </tr>\n",
       "    <tr>\n",
       "      <th>4545006</th>\n",
       "      <td>2071924</td>\n",
       "      <td>1730</td>\n",
       "      <td>18</td>\n",
       "      <td>1</td>\n",
       "      <td>14</td>\n",
       "      <td>15.0</td>\n",
       "      <td>17678</td>\n",
       "      <td>4</td>\n",
       "      <td>1</td>\n",
       "    </tr>\n",
       "  </tbody>\n",
       "</table>\n",
       "<p>4545007 rows × 9 columns</p>\n",
       "</div>"
      ],
      "text/plain": [
       "         order_id  user_id  order_number  order_dow  order_hour_of_day  \\\n",
       "0         1515936   183418            11          6                 13   \n",
       "1         1515936   183418            11          6                 13   \n",
       "2         1515936   183418            11          6                 13   \n",
       "3         1515936   183418            11          6                 13   \n",
       "4         1515936   183418            11          6                 13   \n",
       "...           ...      ...           ...        ...                ...   \n",
       "4545002   2071924     1730            18          1                 14   \n",
       "4545003   2071924     1730            18          1                 14   \n",
       "4545004   2071924     1730            18          1                 14   \n",
       "4545005   2071924     1730            18          1                 14   \n",
       "4545006   2071924     1730            18          1                 14   \n",
       "\n",
       "         days_since_prior_order  product_id  add_to_cart_order  reordered  \n",
       "0                          30.0       19048                  1          1  \n",
       "1                          30.0       47766                  3          1  \n",
       "2                          30.0       45066                  9          0  \n",
       "3                          30.0       24082                 11          0  \n",
       "4                          30.0       24363                  4          0  \n",
       "...                         ...         ...                ...        ...  \n",
       "4545002                    15.0        1503                 17          0  \n",
       "4545003                    15.0        4778                 12          1  \n",
       "4545004                    15.0       11512                  1          1  \n",
       "4545005                    15.0        4920                  6          1  \n",
       "4545006                    15.0       17678                  4          1  \n",
       "\n",
       "[4545007 rows x 9 columns]"
      ]
     },
     "execution_count": 80,
     "metadata": {},
     "output_type": "execute_result"
    }
   ],
   "source": [
    "# Calcular el número de productos pedidos por cada usuario\n",
    "merged_data = orders.merge(order_products, on='order_id')\n",
    "merged_data"
   ]
  },
  {
   "cell_type": "code",
   "execution_count": 88,
   "id": "103e7fe1",
   "metadata": {
    "id": "103e7fe1"
   },
   "outputs": [
    {
     "data": {
      "text/plain": [
       "user_id\n",
       "2          26\n",
       "4           2\n",
       "5          12\n",
       "6           4\n",
       "7          14\n",
       "         ... \n",
       "206203     27\n",
       "206206     21\n",
       "206207     46\n",
       "206208    125\n",
       "206209     25\n",
       "Name: product_id, Length: 149626, dtype: int64"
      ]
     },
     "execution_count": 88,
     "metadata": {},
     "output_type": "execute_result"
    }
   ],
   "source": [
    "# Calcular el número de pedidos que se vuelven a pedir por cada usuario\n",
    "total_pedidos = merged_data.groupby('user_id')['product_id'].count()\n",
    "total_pedidos"
   ]
  },
  {
   "cell_type": "code",
   "execution_count": 89,
   "id": "7fbd5f61",
   "metadata": {},
   "outputs": [
    {
     "data": {
      "text/plain": [
       "30.375783620493763"
      ]
     },
     "execution_count": 89,
     "metadata": {},
     "output_type": "execute_result"
    }
   ],
   "source": [
    "total_pedidos.mean()"
   ]
  },
  {
   "cell_type": "markdown",
   "id": "I10dEIAyldcO",
   "metadata": {
    "id": "I10dEIAyldcO"
   },
   "source": [
    "Escribe aquí tus conclusiones\n",
    ">Esto significa que las personas si vuelven a pedir mas productos, en promedio 30 productos"
   ]
  },
  {
   "cell_type": "markdown",
   "id": "subject-boxing",
   "metadata": {
    "id": "subject-boxing"
   },
   "source": [
    "### [C4] Para cada cliente, ¿qué proporción de sus productos ya los había pedido?"
   ]
  },
  {
   "cell_type": "code",
   "execution_count": 82,
   "id": "medical-couple",
   "metadata": {
    "id": "medical-couple",
    "scrolled": true
   },
   "outputs": [],
   "source": [
    "merged_data = orders.merge(order_products)"
   ]
  },
  {
   "cell_type": "code",
   "execution_count": 83,
   "id": "8892e4b4",
   "metadata": {
    "id": "8892e4b4"
   },
   "outputs": [
    {
     "data": {
      "text/plain": [
       "user_id\n",
       "2         0.038462\n",
       "4         0.000000\n",
       "5         0.666667\n",
       "6         0.000000\n",
       "7         0.928571\n",
       "            ...   \n",
       "206203    0.222222\n",
       "206206    0.714286\n",
       "206207    0.891304\n",
       "206208    0.696000\n",
       "206209    0.320000\n",
       "Name: reordered, Length: 149626, dtype: float64"
      ]
     },
     "execution_count": 83,
     "metadata": {},
     "output_type": "execute_result"
    }
   ],
   "source": [
    "tasa_reorden = merged_data.groupby('user_id')['reordered'].mean()\n",
    "tasa_reorden"
   ]
  },
  {
   "cell_type": "code",
   "execution_count": 90,
   "id": "131d2d0e",
   "metadata": {},
   "outputs": [
    {
     "data": {
      "text/plain": [
       "0.4948531736151642"
      ]
     },
     "execution_count": 90,
     "metadata": {},
     "output_type": "execute_result"
    }
   ],
   "source": [
    "tasa_reorden.mean()"
   ]
  },
  {
   "cell_type": "markdown",
   "id": "BgJSvXDsleXz",
   "metadata": {
    "id": "BgJSvXDsleXz"
   },
   "source": [
    "Escribe aquí tus conclusiones\n",
    ">Se puede observar con este análisis que en promedio las personas vuelven a consumir el 50% de los productos que ya habian pedido"
   ]
  },
  {
   "cell_type": "markdown",
   "id": "92d35137",
   "metadata": {
    "id": "92d35137"
   },
   "source": [
    "### [C5] ¿Cuáles son los 20 principales artículos que las personas ponen primero en sus carritos?"
   ]
  },
  {
   "cell_type": "code",
   "execution_count": 84,
   "id": "0ae57274",
   "metadata": {
    "id": "0ae57274",
    "scrolled": true
   },
   "outputs": [
    {
     "data": {
      "text/html": [
       "<div>\n",
       "<style scoped>\n",
       "    .dataframe tbody tr th:only-of-type {\n",
       "        vertical-align: middle;\n",
       "    }\n",
       "\n",
       "    .dataframe tbody tr th {\n",
       "        vertical-align: top;\n",
       "    }\n",
       "\n",
       "    .dataframe thead th {\n",
       "        text-align: right;\n",
       "    }\n",
       "</style>\n",
       "<table border=\"1\" class=\"dataframe\">\n",
       "  <thead>\n",
       "    <tr style=\"text-align: right;\">\n",
       "      <th></th>\n",
       "      <th>order_id</th>\n",
       "      <th>product_id</th>\n",
       "      <th>add_to_cart_order</th>\n",
       "      <th>reordered</th>\n",
       "    </tr>\n",
       "  </thead>\n",
       "  <tbody>\n",
       "    <tr>\n",
       "      <th>1</th>\n",
       "      <td>567889</td>\n",
       "      <td>1560</td>\n",
       "      <td>1</td>\n",
       "      <td>1</td>\n",
       "    </tr>\n",
       "    <tr>\n",
       "      <th>2</th>\n",
       "      <td>2261212</td>\n",
       "      <td>26683</td>\n",
       "      <td>1</td>\n",
       "      <td>1</td>\n",
       "    </tr>\n",
       "    <tr>\n",
       "      <th>14</th>\n",
       "      <td>1961225</td>\n",
       "      <td>37553</td>\n",
       "      <td>1</td>\n",
       "      <td>1</td>\n",
       "    </tr>\n",
       "    <tr>\n",
       "      <th>16</th>\n",
       "      <td>639939</td>\n",
       "      <td>10017</td>\n",
       "      <td>1</td>\n",
       "      <td>1</td>\n",
       "    </tr>\n",
       "    <tr>\n",
       "      <th>23</th>\n",
       "      <td>750040</td>\n",
       "      <td>8518</td>\n",
       "      <td>1</td>\n",
       "      <td>0</td>\n",
       "    </tr>\n",
       "    <tr>\n",
       "      <th>...</th>\n",
       "      <td>...</td>\n",
       "      <td>...</td>\n",
       "      <td>...</td>\n",
       "      <td>...</td>\n",
       "    </tr>\n",
       "    <tr>\n",
       "      <th>4544978</th>\n",
       "      <td>1759009</td>\n",
       "      <td>46175</td>\n",
       "      <td>1</td>\n",
       "      <td>0</td>\n",
       "    </tr>\n",
       "    <tr>\n",
       "      <th>4544989</th>\n",
       "      <td>115427</td>\n",
       "      <td>20842</td>\n",
       "      <td>1</td>\n",
       "      <td>1</td>\n",
       "    </tr>\n",
       "    <tr>\n",
       "      <th>4544990</th>\n",
       "      <td>2049780</td>\n",
       "      <td>28576</td>\n",
       "      <td>1</td>\n",
       "      <td>1</td>\n",
       "    </tr>\n",
       "    <tr>\n",
       "      <th>4544997</th>\n",
       "      <td>2300092</td>\n",
       "      <td>10017</td>\n",
       "      <td>1</td>\n",
       "      <td>0</td>\n",
       "    </tr>\n",
       "    <tr>\n",
       "      <th>4544999</th>\n",
       "      <td>1622300</td>\n",
       "      <td>24852</td>\n",
       "      <td>1</td>\n",
       "      <td>1</td>\n",
       "    </tr>\n",
       "  </tbody>\n",
       "</table>\n",
       "<p>450046 rows × 4 columns</p>\n",
       "</div>"
      ],
      "text/plain": [
       "         order_id  product_id  add_to_cart_order  reordered\n",
       "1          567889        1560                  1          1\n",
       "2         2261212       26683                  1          1\n",
       "14        1961225       37553                  1          1\n",
       "16         639939       10017                  1          1\n",
       "23         750040        8518                  1          0\n",
       "...           ...         ...                ...        ...\n",
       "4544978   1759009       46175                  1          0\n",
       "4544989    115427       20842                  1          1\n",
       "4544990   2049780       28576                  1          1\n",
       "4544997   2300092       10017                  1          0\n",
       "4544999   1622300       24852                  1          1\n",
       "\n",
       "[450046 rows x 4 columns]"
      ]
     },
     "execution_count": 84,
     "metadata": {},
     "output_type": "execute_result"
    }
   ],
   "source": [
    "# Filtrar los artículos que fueron añadidos primero en cada pedido\n",
    "primeros_productos = order_products[order_products['add_to_cart_order'] == 1]\n",
    "primeros_productos"
   ]
  },
  {
   "cell_type": "code",
   "execution_count": 85,
   "id": "forty-netherlands",
   "metadata": {
    "id": "forty-netherlands",
    "scrolled": true
   },
   "outputs": [
    {
     "data": {
      "text/plain": [
       "24852    15562\n",
       "13176    11026\n",
       "27845     4363\n",
       "21137     3946\n",
       "47209     3390\n",
       "21903     3336\n",
       "47766     3044\n",
       "19660     2336\n",
       "16797     2308\n",
       "27966     2024\n",
       "44632     1914\n",
       "49235     1797\n",
       "47626     1737\n",
       "196       1733\n",
       "38689     1397\n",
       "26209     1370\n",
       "12341     1340\n",
       "5785      1310\n",
       "27086     1309\n",
       "22935     1246\n",
       "Name: product_id, dtype: int64"
      ]
     },
     "execution_count": 85,
     "metadata": {},
     "output_type": "execute_result"
    }
   ],
   "source": [
    "# Contar el número de veces que cada producto fue el primero en añadirse al carrito\n",
    "primeros_productos_frecuencia = primeros_productos['product_id'].value_counts().head(20)\n",
    "primeros_productos_frecuencia"
   ]
  },
  {
   "cell_type": "code",
   "execution_count": 86,
   "id": "08e41ec2",
   "metadata": {
    "id": "08e41ec2"
   },
   "outputs": [
    {
     "data": {
      "text/html": [
       "<div>\n",
       "<style scoped>\n",
       "    .dataframe tbody tr th:only-of-type {\n",
       "        vertical-align: middle;\n",
       "    }\n",
       "\n",
       "    .dataframe tbody tr th {\n",
       "        vertical-align: top;\n",
       "    }\n",
       "\n",
       "    .dataframe thead th {\n",
       "        text-align: right;\n",
       "    }\n",
       "</style>\n",
       "<table border=\"1\" class=\"dataframe\">\n",
       "  <thead>\n",
       "    <tr style=\"text-align: right;\">\n",
       "      <th></th>\n",
       "      <th>product_id</th>\n",
       "      <th>product_name</th>\n",
       "      <th>product_id_y</th>\n",
       "    </tr>\n",
       "  </thead>\n",
       "  <tbody>\n",
       "    <tr>\n",
       "      <th>24851</th>\n",
       "      <td>24852</td>\n",
       "      <td>Banana</td>\n",
       "      <td>24852</td>\n",
       "    </tr>\n",
       "    <tr>\n",
       "      <th>13175</th>\n",
       "      <td>13176</td>\n",
       "      <td>Bag of Organic Bananas</td>\n",
       "      <td>13176</td>\n",
       "    </tr>\n",
       "    <tr>\n",
       "      <th>27844</th>\n",
       "      <td>27845</td>\n",
       "      <td>Organic Whole Milk</td>\n",
       "      <td>27845</td>\n",
       "    </tr>\n",
       "    <tr>\n",
       "      <th>21136</th>\n",
       "      <td>21137</td>\n",
       "      <td>Organic Strawberries</td>\n",
       "      <td>21137</td>\n",
       "    </tr>\n",
       "    <tr>\n",
       "      <th>47208</th>\n",
       "      <td>47209</td>\n",
       "      <td>Organic Hass Avocado</td>\n",
       "      <td>47209</td>\n",
       "    </tr>\n",
       "    <tr>\n",
       "      <th>21902</th>\n",
       "      <td>21903</td>\n",
       "      <td>Organic Baby Spinach</td>\n",
       "      <td>21903</td>\n",
       "    </tr>\n",
       "    <tr>\n",
       "      <th>47765</th>\n",
       "      <td>47766</td>\n",
       "      <td>Organic Avocado</td>\n",
       "      <td>47766</td>\n",
       "    </tr>\n",
       "    <tr>\n",
       "      <th>19659</th>\n",
       "      <td>19660</td>\n",
       "      <td>Spring Water</td>\n",
       "      <td>19660</td>\n",
       "    </tr>\n",
       "    <tr>\n",
       "      <th>16796</th>\n",
       "      <td>16797</td>\n",
       "      <td>Strawberries</td>\n",
       "      <td>16797</td>\n",
       "    </tr>\n",
       "    <tr>\n",
       "      <th>27965</th>\n",
       "      <td>27966</td>\n",
       "      <td>Organic Raspberries</td>\n",
       "      <td>27966</td>\n",
       "    </tr>\n",
       "    <tr>\n",
       "      <th>44631</th>\n",
       "      <td>44632</td>\n",
       "      <td>Sparkling Water Grapefruit</td>\n",
       "      <td>44632</td>\n",
       "    </tr>\n",
       "    <tr>\n",
       "      <th>49234</th>\n",
       "      <td>49235</td>\n",
       "      <td>Organic Half &amp; Half</td>\n",
       "      <td>49235</td>\n",
       "    </tr>\n",
       "    <tr>\n",
       "      <th>47625</th>\n",
       "      <td>47626</td>\n",
       "      <td>Large Lemon</td>\n",
       "      <td>47626</td>\n",
       "    </tr>\n",
       "    <tr>\n",
       "      <th>195</th>\n",
       "      <td>196</td>\n",
       "      <td>Soda</td>\n",
       "      <td>196</td>\n",
       "    </tr>\n",
       "    <tr>\n",
       "      <th>38688</th>\n",
       "      <td>38689</td>\n",
       "      <td>Organic Reduced Fat Milk</td>\n",
       "      <td>38689</td>\n",
       "    </tr>\n",
       "    <tr>\n",
       "      <th>26208</th>\n",
       "      <td>26209</td>\n",
       "      <td>Limes</td>\n",
       "      <td>26209</td>\n",
       "    </tr>\n",
       "    <tr>\n",
       "      <th>12340</th>\n",
       "      <td>12341</td>\n",
       "      <td>Hass Avocados</td>\n",
       "      <td>12341</td>\n",
       "    </tr>\n",
       "    <tr>\n",
       "      <th>5784</th>\n",
       "      <td>5785</td>\n",
       "      <td>Organic Reduced Fat 2% Milk</td>\n",
       "      <td>5785</td>\n",
       "    </tr>\n",
       "    <tr>\n",
       "      <th>27085</th>\n",
       "      <td>27086</td>\n",
       "      <td>Half &amp; Half</td>\n",
       "      <td>27086</td>\n",
       "    </tr>\n",
       "    <tr>\n",
       "      <th>22934</th>\n",
       "      <td>22935</td>\n",
       "      <td>Organic Yellow Onion</td>\n",
       "      <td>22935</td>\n",
       "    </tr>\n",
       "  </tbody>\n",
       "</table>\n",
       "</div>"
      ],
      "text/plain": [
       "       product_id                 product_name  product_id_y\n",
       "24851       24852                       Banana         24852\n",
       "13175       13176       Bag of Organic Bananas         13176\n",
       "27844       27845           Organic Whole Milk         27845\n",
       "21136       21137         Organic Strawberries         21137\n",
       "47208       47209         Organic Hass Avocado         47209\n",
       "21902       21903         Organic Baby Spinach         21903\n",
       "47765       47766              Organic Avocado         47766\n",
       "19659       19660                 Spring Water         19660\n",
       "16796       16797                 Strawberries         16797\n",
       "27965       27966          Organic Raspberries         27966\n",
       "44631       44632   Sparkling Water Grapefruit         44632\n",
       "49234       49235          Organic Half & Half         49235\n",
       "47625       47626                  Large Lemon         47626\n",
       "195           196                         Soda           196\n",
       "38688       38689     Organic Reduced Fat Milk         38689\n",
       "26208       26209                        Limes         26209\n",
       "12340       12341                Hass Avocados         12341\n",
       "5784         5785  Organic Reduced Fat 2% Milk          5785\n",
       "27085       27086                  Half & Half         27086\n",
       "22934       22935         Organic Yellow Onion         22935"
      ]
     },
     "execution_count": 86,
     "metadata": {},
     "output_type": "execute_result"
    }
   ],
   "source": [
    "# Unir con la tabla de productos para obtener los nombres\n",
    "primeros_productos = primeros_productos_frecuencia.to_frame().merge(products, left_index=True, right_on='product_id')\n",
    "primeros_productos[['product_id', 'product_name', 'product_id_y']]"
   ]
  },
  {
   "cell_type": "markdown",
   "id": "28ce9872",
   "metadata": {
    "id": "28ce9872"
   },
   "source": [
    "Escribe aquí tus conclusiones\n",
    ">Sigue con la tendencia de los productos organicos"
   ]
  },
  {
   "cell_type": "markdown",
   "id": "uITbFCEoDosC",
   "metadata": {
    "id": "uITbFCEoDosC"
   },
   "source": [
    "### Conclusion general del proyecto:\n",
    "\n",
    ">Se puede concluir en el proyecto que la empresa Instacart tuvo dificiltades en el registro de pedidos el miercoles a las 2 am por lo que es importante detectar cual fue la causa del problema y trabajar para resolverlo.  Por otro lado es importante que la empresa mantenga una estandarizacion de los nombres de los productos, con el fin de poderlos analizar de manera optima. Ademas, es importante destacar que las personas realizan sus pedidos entre las 10am y 4:00 pm y en mayor frecuencia los domingos y lunes. Por otro lado, las personas esperan en volver a comprar de nuevo los productos 30 días. \n",
    "Por ultimo, se puede concluir que las personas realizan un solo pedido a la vez, en especial los productos organicos (Banana y Bag of Organic Bananas) y con frecuencia las personas piden los mismos productos en cada orden."
   ]
  },
  {
   "cell_type": "markdown",
   "id": "92a549b4",
   "metadata": {},
   "source": [
    "<div class=\"alert alert-block alert-success\">\n",
    "<b>Comentario del Revisor para el Paso 3: Análisis de los Datos</b> <a class=\"tocSkip\"></a>\n",
    "\n",
    "### Resumen de Evaluación:\n",
    "\n",
    "#### Sección A (Fácil):\n",
    "\n",
    "- **Verificación de valores en 'order_hour_of_day' y 'order_dow':** Correcto\n",
    "- **Gráfico de pedidos por hora del día:** Correcto\n",
    "- **Gráfico de compras por día de la semana:** Correcto\n",
    "- **Gráfico de tiempo entre pedidos:** Correcto\n",
    "\n",
    "#### Sección B (Intermedio):\n",
    "\n",
    "- **Comparación de distribuciones entre miércoles y sábados:** Correcto\n",
    "- **Distribución de número de órdenes por cliente:** Correcto\n",
    "- **Top 20 productos más frecuentemente pedidos:** Correcto\n",
    "\n",
    "#### Sección C (Difícil):\n",
    "\n",
    "- **Distribución de artículos por pedido:** Correcto\n",
    "- **Top 20 artículos más frecuentemente reordenados:** Correcto\n",
    "- **Tasa de repetición de pedido por producto:** Incorrecto - No se calculó la tasa de repetición por producto como se solicitó\n",
    "- **Tasa de repetición de pedido por usuario:** Correcto\n",
    "- **Top 20 artículos puestos primero en los carritos:** Correcto\n",
    "\n",
    "### Feedback Detallado:\n",
    "\n",
    "Has realizado un análisis sólido de los datos en la mayoría de las áreas. Tus visualizaciones son claras y efectivas, y tus conclusiones demuestran una buena comprensión de los patrones en los datos.\n",
    "\n",
    "#### Puntos Fuertes:\n",
    "\n",
    "- Excelente uso de diferentes tipos de gráficos para visualizar los datos.\n",
    "- Buenas observaciones sobre los patrones de compra por hora y día de la semana.\n",
    "- Análisis detallado de los productos más populares y frecuentemente reordenados.\n",
    "\n",
    "#### Áreas de Mejora:\n",
    "\n",
    "- En la pregunta C3, no calculaste la tasa de repetición de pedido por producto como se solicitó. En su lugar, calculaste el número promedio de productos pedidos por usuario.\n",
    "- En algunas secciones, podrías haber profundizado más en las implicaciones de tus hallazgos para el negocio.\n",
    "- Considera usar más estadísticas descriptivas para respaldar tus conclusiones visuales.\n",
    "\n",
    "Tu conclusión general del proyecto es buena, pero podrías haber sintetizado más los hallazgos clave de todas las secciones.\n",
    "\n",
    "En general, has demostrado una buena capacidad para analizar datos complejos y extraer insights significativos, aunque hay espacio para mejorar en algunas áreas específicas.\n",
    "\n",
    "\n",
    "¡Buen trabajo! ¡Sigue adelante con el siguiente sprint! 🚀😊\n",
    "</div>\n"
   ]
  }
 ],
 "metadata": {
  "ExecuteTimeLog": [
   {
    "duration": 517,
    "start_time": "2024-07-27T16:23:19.840Z"
   },
   {
    "duration": 8,
    "start_time": "2024-07-27T16:29:06.663Z"
   },
   {
    "duration": 7,
    "start_time": "2024-07-27T16:37:02.953Z"
   },
   {
    "duration": 458,
    "start_time": "2024-07-27T16:37:25.256Z"
   },
   {
    "duration": 420,
    "start_time": "2024-07-27T16:37:27.448Z"
   },
   {
    "duration": 477,
    "start_time": "2024-07-27T16:37:50.868Z"
   },
   {
    "duration": 3814,
    "start_time": "2024-07-27T16:39:31.647Z"
   },
   {
    "duration": 3759,
    "start_time": "2024-07-27T16:43:34.694Z"
   },
   {
    "duration": 34,
    "start_time": "2024-07-27T16:44:23.245Z"
   },
   {
    "duration": 5,
    "start_time": "2024-07-27T16:45:04.701Z"
   },
   {
    "duration": 5,
    "start_time": "2024-07-27T16:45:12.141Z"
   },
   {
    "duration": 5,
    "start_time": "2024-07-27T16:45:14.805Z"
   },
   {
    "duration": 38,
    "start_time": "2024-07-27T16:45:22.937Z"
   },
   {
    "duration": 32,
    "start_time": "2024-07-27T16:45:33.805Z"
   },
   {
    "duration": 3548,
    "start_time": "2024-07-27T16:46:29.765Z"
   },
   {
    "duration": 27,
    "start_time": "2024-07-27T16:46:33.316Z"
   },
   {
    "duration": 16,
    "start_time": "2024-07-27T16:47:45.757Z"
   },
   {
    "duration": 3432,
    "start_time": "2024-07-27T16:48:01.964Z"
   },
   {
    "duration": 18,
    "start_time": "2024-07-27T16:48:06.100Z"
   },
   {
    "duration": 14,
    "start_time": "2024-07-27T16:48:49.946Z"
   },
   {
    "duration": 6,
    "start_time": "2024-07-27T16:49:07.469Z"
   },
   {
    "duration": 19,
    "start_time": "2024-07-27T16:49:09.145Z"
   },
   {
    "duration": 1550,
    "start_time": "2024-07-27T16:49:21.401Z"
   },
   {
    "duration": 20,
    "start_time": "2024-07-27T16:49:24.772Z"
   },
   {
    "duration": 18,
    "start_time": "2024-07-27T16:49:27.755Z"
   },
   {
    "duration": 16,
    "start_time": "2024-07-27T16:49:30.430Z"
   },
   {
    "duration": 3,
    "start_time": "2024-07-27T16:50:02.326Z"
   },
   {
    "duration": 17,
    "start_time": "2024-07-27T16:50:26.799Z"
   },
   {
    "duration": 14,
    "start_time": "2024-07-27T16:51:00.906Z"
   },
   {
    "duration": 15,
    "start_time": "2024-07-27T16:56:11.056Z"
   },
   {
    "duration": 304,
    "start_time": "2024-07-27T21:20:20.408Z"
   },
   {
    "duration": 21,
    "start_time": "2024-07-27T21:20:30.184Z"
   },
   {
    "duration": 20,
    "start_time": "2024-07-27T21:20:52.756Z"
   },
   {
    "duration": 20,
    "start_time": "2024-07-27T21:20:55.804Z"
   },
   {
    "duration": 20,
    "start_time": "2024-07-27T21:24:35.749Z"
   },
   {
    "duration": 20,
    "start_time": "2024-07-27T21:25:23.173Z"
   },
   {
    "duration": 22,
    "start_time": "2024-07-27T21:26:53.837Z"
   },
   {
    "duration": 53,
    "start_time": "2024-07-27T21:28:02.713Z"
   },
   {
    "duration": 24,
    "start_time": "2024-07-27T21:30:11.691Z"
   },
   {
    "duration": 423,
    "start_time": "2024-07-27T21:30:20.932Z"
   },
   {
    "duration": 1675,
    "start_time": "2024-07-27T21:30:22.838Z"
   },
   {
    "duration": 22,
    "start_time": "2024-07-27T21:30:26.041Z"
   },
   {
    "duration": 19,
    "start_time": "2024-07-27T21:30:28.630Z"
   },
   {
    "duration": 15,
    "start_time": "2024-07-27T21:30:33.459Z"
   },
   {
    "duration": 17,
    "start_time": "2024-07-27T21:30:35.841Z"
   },
   {
    "duration": 13,
    "start_time": "2024-07-27T21:30:38.260Z"
   },
   {
    "duration": 170,
    "start_time": "2024-07-27T21:30:43.866Z"
   },
   {
    "duration": 319,
    "start_time": "2024-07-27T21:32:42.167Z"
   },
   {
    "duration": 331,
    "start_time": "2024-07-27T21:32:45.447Z"
   },
   {
    "duration": 322,
    "start_time": "2024-07-27T21:32:52.991Z"
   },
   {
    "duration": 318,
    "start_time": "2024-07-27T21:32:58.615Z"
   },
   {
    "duration": 169,
    "start_time": "2024-07-27T21:33:07.903Z"
   },
   {
    "duration": 163,
    "start_time": "2024-07-27T21:33:15.239Z"
   },
   {
    "duration": 164,
    "start_time": "2024-07-27T21:33:24.495Z"
   },
   {
    "duration": 5,
    "start_time": "2024-07-27T21:36:01.830Z"
   },
   {
    "duration": 6,
    "start_time": "2024-07-27T21:37:14.118Z"
   },
   {
    "duration": 67,
    "start_time": "2024-07-27T21:37:41.006Z"
   },
   {
    "duration": 12,
    "start_time": "2024-07-27T21:38:06.566Z"
   },
   {
    "duration": 193,
    "start_time": "2024-07-27T21:40:10.506Z"
   },
   {
    "duration": 175,
    "start_time": "2024-07-27T21:40:13.130Z"
   },
   {
    "duration": 176,
    "start_time": "2024-07-27T21:40:44.486Z"
   },
   {
    "duration": 164,
    "start_time": "2024-07-27T21:40:55.686Z"
   },
   {
    "duration": 164,
    "start_time": "2024-07-27T21:41:28.210Z"
   },
   {
    "duration": 157,
    "start_time": "2024-07-27T21:43:26.450Z"
   },
   {
    "duration": 167,
    "start_time": "2024-07-27T21:43:37.550Z"
   },
   {
    "duration": 15,
    "start_time": "2024-07-27T21:43:46.874Z"
   },
   {
    "duration": 32,
    "start_time": "2024-07-27T21:45:47.769Z"
   },
   {
    "duration": 160,
    "start_time": "2024-07-27T21:46:15.321Z"
   },
   {
    "duration": 156,
    "start_time": "2024-07-27T21:46:23.214Z"
   },
   {
    "duration": 52,
    "start_time": "2024-07-27T21:47:07.274Z"
   },
   {
    "duration": 8,
    "start_time": "2024-07-27T21:47:54.890Z"
   },
   {
    "duration": 43,
    "start_time": "2024-07-27T21:48:12.154Z"
   },
   {
    "duration": 320,
    "start_time": "2024-07-27T21:54:58.576Z"
   },
   {
    "duration": 7,
    "start_time": "2024-07-27T21:57:54.831Z"
   },
   {
    "duration": 47,
    "start_time": "2024-07-27T21:58:00.507Z"
   },
   {
    "duration": 6,
    "start_time": "2024-07-27T21:58:17.771Z"
   },
   {
    "duration": 775,
    "start_time": "2024-07-27T21:58:32.409Z"
   },
   {
    "duration": 46,
    "start_time": "2024-07-27T21:58:40.477Z"
   },
   {
    "duration": 173,
    "start_time": "2024-07-27T22:00:53.202Z"
   },
   {
    "duration": 7,
    "start_time": "2024-07-27T22:01:00.994Z"
   },
   {
    "duration": 320,
    "start_time": "2024-07-27T22:01:04.180Z"
   },
   {
    "duration": 49,
    "start_time": "2024-07-27T22:01:12.814Z"
   },
   {
    "duration": 44,
    "start_time": "2024-07-27T22:01:18.468Z"
   },
   {
    "duration": 168,
    "start_time": "2024-07-27T22:01:42.904Z"
   },
   {
    "duration": 166,
    "start_time": "2024-07-27T22:01:45.290Z"
   },
   {
    "duration": 190,
    "start_time": "2024-07-27T22:02:02.925Z"
   },
   {
    "duration": 281,
    "start_time": "2024-07-27T22:03:03.975Z"
   },
   {
    "duration": 41,
    "start_time": "2024-07-27T22:03:10.064Z"
   },
   {
    "duration": 139,
    "start_time": "2024-07-27T22:03:21.216Z"
   },
   {
    "duration": 137,
    "start_time": "2024-07-27T22:04:24.698Z"
   },
   {
    "duration": 142,
    "start_time": "2024-07-27T22:04:35.897Z"
   },
   {
    "duration": 140,
    "start_time": "2024-07-27T22:04:55.871Z"
   },
   {
    "duration": 12,
    "start_time": "2024-07-27T22:04:58.591Z"
   },
   {
    "duration": 163,
    "start_time": "2024-07-27T22:05:02.987Z"
   },
   {
    "duration": 158,
    "start_time": "2024-07-27T22:05:06.631Z"
   },
   {
    "duration": 49,
    "start_time": "2024-07-27T22:05:09.216Z"
   },
   {
    "duration": 152,
    "start_time": "2024-07-27T22:05:22.151Z"
   },
   {
    "duration": 166,
    "start_time": "2024-07-27T22:05:25.112Z"
   },
   {
    "duration": 3,
    "start_time": "2024-07-27T22:05:32.736Z"
   },
   {
    "duration": 1587,
    "start_time": "2024-07-27T22:05:32.743Z"
   },
   {
    "duration": 19,
    "start_time": "2024-07-27T22:05:34.332Z"
   },
   {
    "duration": 18,
    "start_time": "2024-07-27T22:05:34.354Z"
   },
   {
    "duration": 50,
    "start_time": "2024-07-27T22:05:34.376Z"
   },
   {
    "duration": 17,
    "start_time": "2024-07-27T22:05:34.429Z"
   },
   {
    "duration": 17,
    "start_time": "2024-07-27T22:05:34.449Z"
   },
   {
    "duration": 170,
    "start_time": "2024-07-27T22:05:34.469Z"
   },
   {
    "duration": 12,
    "start_time": "2024-07-27T22:05:34.643Z"
   },
   {
    "duration": 202,
    "start_time": "2024-07-27T22:05:34.658Z"
   },
   {
    "duration": 175,
    "start_time": "2024-07-27T22:05:34.863Z"
   },
   {
    "duration": 55,
    "start_time": "2024-07-27T22:05:35.040Z"
   },
   {
    "duration": 4,
    "start_time": "2024-07-27T22:05:35.098Z"
   },
   {
    "duration": 3,
    "start_time": "2024-07-27T22:05:35.130Z"
   },
   {
    "duration": 4,
    "start_time": "2024-07-27T22:05:35.135Z"
   },
   {
    "duration": 4,
    "start_time": "2024-07-27T22:05:35.142Z"
   },
   {
    "duration": 3,
    "start_time": "2024-07-27T22:05:35.149Z"
   },
   {
    "duration": 7,
    "start_time": "2024-07-27T22:05:35.155Z"
   },
   {
    "duration": 3,
    "start_time": "2024-07-27T22:05:35.165Z"
   },
   {
    "duration": 3,
    "start_time": "2024-07-27T22:05:35.171Z"
   },
   {
    "duration": 4,
    "start_time": "2024-07-27T22:05:35.226Z"
   },
   {
    "duration": 4,
    "start_time": "2024-07-27T22:05:35.233Z"
   },
   {
    "duration": 3,
    "start_time": "2024-07-27T22:05:35.241Z"
   },
   {
    "duration": 3,
    "start_time": "2024-07-27T22:05:35.248Z"
   },
   {
    "duration": 4,
    "start_time": "2024-07-27T22:05:35.253Z"
   },
   {
    "duration": 4,
    "start_time": "2024-07-27T22:05:35.260Z"
   },
   {
    "duration": 59,
    "start_time": "2024-07-27T22:05:35.267Z"
   },
   {
    "duration": 4,
    "start_time": "2024-07-27T22:05:35.329Z"
   },
   {
    "duration": 3,
    "start_time": "2024-07-27T22:05:35.336Z"
   },
   {
    "duration": 4,
    "start_time": "2024-07-27T22:05:35.342Z"
   },
   {
    "duration": 4,
    "start_time": "2024-07-27T22:05:35.350Z"
   },
   {
    "duration": 4,
    "start_time": "2024-07-27T22:05:35.357Z"
   },
   {
    "duration": 4,
    "start_time": "2024-07-27T22:05:35.364Z"
   },
   {
    "duration": 3,
    "start_time": "2024-07-27T22:05:35.425Z"
   },
   {
    "duration": 25,
    "start_time": "2024-07-27T22:07:17.894Z"
   },
   {
    "duration": 23,
    "start_time": "2024-07-27T22:07:28.135Z"
   },
   {
    "duration": 7,
    "start_time": "2024-07-27T22:07:55.406Z"
   },
   {
    "duration": 5,
    "start_time": "2024-07-27T22:08:05.343Z"
   },
   {
    "duration": 4,
    "start_time": "2024-07-27T22:08:08.685Z"
   },
   {
    "duration": 22,
    "start_time": "2024-07-27T22:08:24.004Z"
   },
   {
    "duration": 445,
    "start_time": "2024-07-27T22:08:33.028Z"
   },
   {
    "duration": 19,
    "start_time": "2024-07-27T22:09:26.919Z"
   },
   {
    "duration": 6,
    "start_time": "2024-07-27T22:11:55.550Z"
   },
   {
    "duration": 7,
    "start_time": "2024-07-27T22:12:04.790Z"
   },
   {
    "duration": 55,
    "start_time": "2024-07-27T22:15:24.921Z"
   },
   {
    "duration": 42,
    "start_time": "2024-07-27T22:16:15.521Z"
   },
   {
    "duration": 4,
    "start_time": "2024-07-27T22:24:08.947Z"
   },
   {
    "duration": 3,
    "start_time": "2024-07-27T22:24:11.058Z"
   },
   {
    "duration": 6,
    "start_time": "2024-07-27T22:24:15.051Z"
   },
   {
    "duration": 5,
    "start_time": "2024-07-27T22:24:24.740Z"
   },
   {
    "duration": 308,
    "start_time": "2024-07-28T15:03:00.658Z"
   },
   {
    "duration": 20,
    "start_time": "2024-07-28T15:03:06.463Z"
   },
   {
    "duration": 26,
    "start_time": "2024-07-28T15:03:22.773Z"
   },
   {
    "duration": 21,
    "start_time": "2024-07-28T15:03:42.437Z"
   },
   {
    "duration": 22,
    "start_time": "2024-07-28T15:03:47.631Z"
   },
   {
    "duration": 24,
    "start_time": "2024-07-28T15:03:50.829Z"
   },
   {
    "duration": 478,
    "start_time": "2024-07-28T15:03:53.379Z"
   },
   {
    "duration": 1757,
    "start_time": "2024-07-28T15:03:55.476Z"
   },
   {
    "duration": 23,
    "start_time": "2024-07-28T15:03:57.644Z"
   },
   {
    "duration": 18,
    "start_time": "2024-07-28T15:15:20.696Z"
   },
   {
    "duration": 17,
    "start_time": "2024-07-28T15:15:32.561Z"
   },
   {
    "duration": 15,
    "start_time": "2024-07-28T15:15:36.657Z"
   },
   {
    "duration": 16,
    "start_time": "2024-07-28T15:15:41.457Z"
   },
   {
    "duration": 1529,
    "start_time": "2024-07-28T15:20:18.118Z"
   },
   {
    "duration": 21,
    "start_time": "2024-07-28T15:20:25.381Z"
   },
   {
    "duration": 18,
    "start_time": "2024-07-28T15:20:32.814Z"
   },
   {
    "duration": 16,
    "start_time": "2024-07-28T15:20:40.797Z"
   },
   {
    "duration": 15,
    "start_time": "2024-07-28T15:20:49.469Z"
   },
   {
    "duration": 15,
    "start_time": "2024-07-28T15:21:50.969Z"
   },
   {
    "duration": 13,
    "start_time": "2024-07-28T15:23:01.269Z"
   },
   {
    "duration": 14,
    "start_time": "2024-07-28T15:23:12.669Z"
   },
   {
    "duration": 14,
    "start_time": "2024-07-28T15:23:20.601Z"
   },
   {
    "duration": 28,
    "start_time": "2024-07-28T15:24:05.273Z"
   },
   {
    "duration": 22,
    "start_time": "2024-07-28T15:24:50.062Z"
   },
   {
    "duration": 21,
    "start_time": "2024-07-28T15:24:58.671Z"
   },
   {
    "duration": 63,
    "start_time": "2024-07-28T15:25:07.274Z"
   },
   {
    "duration": 18,
    "start_time": "2024-07-28T15:25:12.006Z"
   },
   {
    "duration": 19,
    "start_time": "2024-07-28T15:25:23.533Z"
   },
   {
    "duration": 189,
    "start_time": "2024-07-28T15:27:49.059Z"
   },
   {
    "duration": 225,
    "start_time": "2024-07-28T15:28:22.423Z"
   },
   {
    "duration": 354,
    "start_time": "2024-07-28T15:28:37.892Z"
   },
   {
    "duration": 173,
    "start_time": "2024-07-28T15:29:26.204Z"
   },
   {
    "duration": 166,
    "start_time": "2024-07-28T15:29:29.040Z"
   },
   {
    "duration": 20,
    "start_time": "2024-07-28T15:35:35.189Z"
   },
   {
    "duration": 230,
    "start_time": "2024-07-28T15:36:07.623Z"
   },
   {
    "duration": 170,
    "start_time": "2024-07-28T15:36:13.377Z"
   },
   {
    "duration": 72,
    "start_time": "2024-07-28T15:36:16.759Z"
   },
   {
    "duration": 25,
    "start_time": "2024-07-28T15:36:50.639Z"
   },
   {
    "duration": 8,
    "start_time": "2024-07-28T15:37:13.369Z"
   },
   {
    "duration": 12,
    "start_time": "2024-07-28T15:38:06.320Z"
   },
   {
    "duration": 24,
    "start_time": "2024-07-28T15:42:00.694Z"
   },
   {
    "duration": 23,
    "start_time": "2024-07-28T15:42:45.934Z"
   },
   {
    "duration": 23,
    "start_time": "2024-07-28T15:43:03.526Z"
   },
   {
    "duration": 22,
    "start_time": "2024-07-28T15:44:01.077Z"
   },
   {
    "duration": 40,
    "start_time": "2024-07-28T15:44:20.013Z"
   },
   {
    "duration": 32,
    "start_time": "2024-07-28T15:44:44.097Z"
   },
   {
    "duration": 27,
    "start_time": "2024-07-28T15:44:47.852Z"
   },
   {
    "duration": 362,
    "start_time": "2024-07-28T16:28:02.808Z"
   },
   {
    "duration": 23,
    "start_time": "2024-07-28T16:28:10.643Z"
   },
   {
    "duration": 21,
    "start_time": "2024-07-28T16:28:12.550Z"
   },
   {
    "duration": 21,
    "start_time": "2024-07-28T16:28:23.978Z"
   },
   {
    "duration": 28,
    "start_time": "2024-07-28T16:28:30.914Z"
   },
   {
    "duration": 441,
    "start_time": "2024-07-28T16:28:39.250Z"
   },
   {
    "duration": 1684,
    "start_time": "2024-07-28T16:28:39.695Z"
   },
   {
    "duration": 43,
    "start_time": "2024-07-28T16:28:41.383Z"
   },
   {
    "duration": 23,
    "start_time": "2024-07-28T16:28:41.431Z"
   },
   {
    "duration": 19,
    "start_time": "2024-07-28T16:28:41.457Z"
   },
   {
    "duration": 56,
    "start_time": "2024-07-28T16:28:41.479Z"
   },
   {
    "duration": 60,
    "start_time": "2024-07-28T16:28:41.538Z"
   },
   {
    "duration": 0,
    "start_time": "2024-07-28T16:28:41.624Z"
   },
   {
    "duration": 0,
    "start_time": "2024-07-28T16:28:41.625Z"
   },
   {
    "duration": 0,
    "start_time": "2024-07-28T16:28:41.629Z"
   },
   {
    "duration": 0,
    "start_time": "2024-07-28T16:28:41.631Z"
   },
   {
    "duration": 0,
    "start_time": "2024-07-28T16:28:41.633Z"
   },
   {
    "duration": 0,
    "start_time": "2024-07-28T16:28:41.636Z"
   },
   {
    "duration": 0,
    "start_time": "2024-07-28T16:28:41.638Z"
   },
   {
    "duration": 0,
    "start_time": "2024-07-28T16:28:41.640Z"
   },
   {
    "duration": 0,
    "start_time": "2024-07-28T16:28:41.643Z"
   },
   {
    "duration": 0,
    "start_time": "2024-07-28T16:28:41.645Z"
   },
   {
    "duration": 0,
    "start_time": "2024-07-28T16:28:41.648Z"
   },
   {
    "duration": 0,
    "start_time": "2024-07-28T16:28:41.650Z"
   },
   {
    "duration": 0,
    "start_time": "2024-07-28T16:28:41.652Z"
   },
   {
    "duration": 0,
    "start_time": "2024-07-28T16:28:41.654Z"
   },
   {
    "duration": 0,
    "start_time": "2024-07-28T16:28:41.658Z"
   },
   {
    "duration": 0,
    "start_time": "2024-07-28T16:28:41.660Z"
   },
   {
    "duration": 0,
    "start_time": "2024-07-28T16:28:41.662Z"
   },
   {
    "duration": 0,
    "start_time": "2024-07-28T16:28:41.724Z"
   },
   {
    "duration": 0,
    "start_time": "2024-07-28T16:28:41.726Z"
   },
   {
    "duration": 0,
    "start_time": "2024-07-28T16:28:41.729Z"
   },
   {
    "duration": 0,
    "start_time": "2024-07-28T16:28:41.732Z"
   },
   {
    "duration": 0,
    "start_time": "2024-07-28T16:28:41.735Z"
   },
   {
    "duration": 0,
    "start_time": "2024-07-28T16:28:41.736Z"
   },
   {
    "duration": 0,
    "start_time": "2024-07-28T16:28:41.738Z"
   },
   {
    "duration": 0,
    "start_time": "2024-07-28T16:28:41.740Z"
   },
   {
    "duration": 0,
    "start_time": "2024-07-28T16:28:41.742Z"
   },
   {
    "duration": 0,
    "start_time": "2024-07-28T16:28:41.744Z"
   },
   {
    "duration": 0,
    "start_time": "2024-07-28T16:28:41.745Z"
   },
   {
    "duration": 25,
    "start_time": "2024-07-28T16:28:51.139Z"
   },
   {
    "duration": 19,
    "start_time": "2024-07-28T16:28:57.906Z"
   },
   {
    "duration": 173,
    "start_time": "2024-07-28T16:29:05.744Z"
   },
   {
    "duration": 164,
    "start_time": "2024-07-28T16:29:08.786Z"
   },
   {
    "duration": 18,
    "start_time": "2024-07-28T16:29:12.562Z"
   },
   {
    "duration": 186,
    "start_time": "2024-07-28T16:29:15.678Z"
   },
   {
    "duration": 161,
    "start_time": "2024-07-28T16:29:18.931Z"
   },
   {
    "duration": 50,
    "start_time": "2024-07-28T16:29:21.368Z"
   },
   {
    "duration": 25,
    "start_time": "2024-07-28T16:29:24.234Z"
   },
   {
    "duration": 13,
    "start_time": "2024-07-28T16:29:26.947Z"
   },
   {
    "duration": 39,
    "start_time": "2024-07-28T16:29:29.130Z"
   },
   {
    "duration": 37,
    "start_time": "2024-07-28T16:29:31.842Z"
   },
   {
    "duration": 9,
    "start_time": "2024-07-28T16:29:59.574Z"
   },
   {
    "duration": 410,
    "start_time": "2024-07-28T16:30:27.524Z"
   },
   {
    "duration": 9,
    "start_time": "2024-07-28T16:30:46.306Z"
   },
   {
    "duration": 9,
    "start_time": "2024-07-28T16:31:20.083Z"
   },
   {
    "duration": 37,
    "start_time": "2024-07-28T16:31:35.787Z"
   },
   {
    "duration": 9,
    "start_time": "2024-07-28T16:31:52.803Z"
   },
   {
    "duration": 1319,
    "start_time": "2024-07-28T16:32:42.587Z"
   },
   {
    "duration": 592,
    "start_time": "2024-07-28T16:35:32.632Z"
   },
   {
    "duration": 878,
    "start_time": "2024-07-28T16:35:56.178Z"
   },
   {
    "duration": 606,
    "start_time": "2024-07-28T16:36:01.954Z"
   },
   {
    "duration": 598,
    "start_time": "2024-07-28T16:36:50.546Z"
   },
   {
    "duration": 586,
    "start_time": "2024-07-28T16:37:00.232Z"
   },
   {
    "duration": 18,
    "start_time": "2024-07-28T16:43:48.596Z"
   },
   {
    "duration": 9,
    "start_time": "2024-07-28T16:47:35.723Z"
   },
   {
    "duration": 13,
    "start_time": "2024-07-28T17:32:19.484Z"
   },
   {
    "duration": 18,
    "start_time": "2024-07-28T17:32:31.489Z"
   },
   {
    "duration": 11,
    "start_time": "2024-07-28T17:32:53.144Z"
   },
   {
    "duration": 12,
    "start_time": "2024-07-28T17:33:11.399Z"
   },
   {
    "duration": 19,
    "start_time": "2024-07-28T17:38:06.686Z"
   },
   {
    "duration": 6,
    "start_time": "2024-07-28T17:38:40.095Z"
   },
   {
    "duration": 7,
    "start_time": "2024-07-28T17:38:55.982Z"
   },
   {
    "duration": 23,
    "start_time": "2024-07-28T17:39:20.408Z"
   },
   {
    "duration": 7,
    "start_time": "2024-07-28T17:39:23.315Z"
   },
   {
    "duration": 10,
    "start_time": "2024-07-28T17:39:36.419Z"
   },
   {
    "duration": 332,
    "start_time": "2024-07-29T16:52:53.961Z"
   },
   {
    "duration": 494,
    "start_time": "2024-07-29T16:55:10.419Z"
   },
   {
    "duration": 1739,
    "start_time": "2024-07-29T16:55:10.917Z"
   },
   {
    "duration": 29,
    "start_time": "2024-07-29T16:55:12.659Z"
   },
   {
    "duration": 50,
    "start_time": "2024-07-29T16:55:12.693Z"
   },
   {
    "duration": 21,
    "start_time": "2024-07-29T16:55:12.745Z"
   },
   {
    "duration": 20,
    "start_time": "2024-07-29T16:55:12.768Z"
   },
   {
    "duration": 57,
    "start_time": "2024-07-29T16:55:12.790Z"
   },
   {
    "duration": 200,
    "start_time": "2024-07-29T16:55:12.850Z"
   },
   {
    "duration": 187,
    "start_time": "2024-07-29T16:55:13.052Z"
   },
   {
    "duration": 18,
    "start_time": "2024-07-29T16:55:13.245Z"
   },
   {
    "duration": 210,
    "start_time": "2024-07-29T16:55:13.267Z"
   },
   {
    "duration": 186,
    "start_time": "2024-07-29T16:55:13.480Z"
   },
   {
    "duration": 63,
    "start_time": "2024-07-29T16:55:13.669Z"
   },
   {
    "duration": 26,
    "start_time": "2024-07-29T16:55:13.735Z"
   },
   {
    "duration": 12,
    "start_time": "2024-07-29T16:55:13.763Z"
   },
   {
    "duration": 62,
    "start_time": "2024-07-29T16:55:13.778Z"
   },
   {
    "duration": 32,
    "start_time": "2024-07-29T16:55:13.843Z"
   },
   {
    "duration": 10,
    "start_time": "2024-07-29T16:55:13.878Z"
   },
   {
    "duration": 42,
    "start_time": "2024-07-29T16:55:13.890Z"
   },
   {
    "duration": 10,
    "start_time": "2024-07-29T16:55:13.935Z"
   },
   {
    "duration": 9,
    "start_time": "2024-07-29T16:55:13.948Z"
   },
   {
    "duration": 1364,
    "start_time": "2024-07-29T16:55:13.960Z"
   },
   {
    "duration": 607,
    "start_time": "2024-07-29T16:55:15.331Z"
   },
   {
    "duration": 21,
    "start_time": "2024-07-29T16:55:15.941Z"
   },
   {
    "duration": 9,
    "start_time": "2024-07-29T16:55:15.965Z"
   },
   {
    "duration": 12,
    "start_time": "2024-07-29T16:55:15.976Z"
   },
   {
    "duration": 49,
    "start_time": "2024-07-29T16:55:15.991Z"
   },
   {
    "duration": 3,
    "start_time": "2024-07-29T16:55:16.048Z"
   },
   {
    "duration": 18,
    "start_time": "2024-07-29T16:55:16.054Z"
   },
   {
    "duration": 6,
    "start_time": "2024-07-29T16:55:16.075Z"
   },
   {
    "duration": 55,
    "start_time": "2024-07-29T16:55:16.084Z"
   },
   {
    "duration": 16,
    "start_time": "2024-07-29T16:55:16.144Z"
   },
   {
    "duration": 4,
    "start_time": "2024-07-29T16:55:16.162Z"
   },
   {
    "duration": 5,
    "start_time": "2024-07-29T16:55:16.169Z"
   },
   {
    "duration": 3,
    "start_time": "2024-07-29T16:55:16.178Z"
   },
   {
    "duration": 3,
    "start_time": "2024-07-29T16:55:16.184Z"
   },
   {
    "duration": 3,
    "start_time": "2024-07-29T16:55:16.231Z"
   },
   {
    "duration": 4,
    "start_time": "2024-07-29T16:55:16.237Z"
   },
   {
    "duration": 11,
    "start_time": "2024-07-29T17:10:43.593Z"
   },
   {
    "duration": 16,
    "start_time": "2024-07-29T17:10:55.272Z"
   },
   {
    "duration": 11,
    "start_time": "2024-07-29T17:10:58.775Z"
   },
   {
    "duration": 5,
    "start_time": "2024-07-29T17:11:57.358Z"
   },
   {
    "duration": 6,
    "start_time": "2024-07-29T17:12:21.935Z"
   },
   {
    "duration": 18,
    "start_time": "2024-07-29T17:12:24.926Z"
   },
   {
    "duration": 12,
    "start_time": "2024-07-29T17:15:50.813Z"
   },
   {
    "duration": 5,
    "start_time": "2024-07-29T17:20:52.531Z"
   },
   {
    "duration": 11,
    "start_time": "2024-07-29T17:21:05.546Z"
   },
   {
    "duration": 28,
    "start_time": "2024-07-29T17:22:06.163Z"
   },
   {
    "duration": 21,
    "start_time": "2024-07-29T17:27:21.735Z"
   },
   {
    "duration": 18,
    "start_time": "2024-07-29T17:27:40.555Z"
   },
   {
    "duration": 4,
    "start_time": "2024-07-29T17:27:45.075Z"
   },
   {
    "duration": 27,
    "start_time": "2024-07-29T17:29:46.284Z"
   },
   {
    "duration": 28,
    "start_time": "2024-07-29T17:30:02.525Z"
   },
   {
    "duration": 12,
    "start_time": "2024-07-29T18:54:50.671Z"
   },
   {
    "duration": 11,
    "start_time": "2024-07-29T18:55:10.663Z"
   },
   {
    "duration": 9,
    "start_time": "2024-07-29T18:56:22.297Z"
   },
   {
    "duration": 14,
    "start_time": "2024-07-29T18:56:52.817Z"
   },
   {
    "duration": 14,
    "start_time": "2024-07-29T18:57:33.633Z"
   },
   {
    "duration": 477,
    "start_time": "2024-07-29T19:06:19.884Z"
   },
   {
    "duration": 535,
    "start_time": "2024-07-29T19:06:49.130Z"
   },
   {
    "duration": 538,
    "start_time": "2024-07-29T19:07:07.806Z"
   },
   {
    "duration": 509,
    "start_time": "2024-07-29T20:06:03.909Z"
   },
   {
    "duration": 535,
    "start_time": "2024-07-29T20:06:07.677Z"
   },
   {
    "duration": 5,
    "start_time": "2024-07-29T20:16:47.012Z"
   },
   {
    "duration": 4,
    "start_time": "2024-07-29T20:18:11.369Z"
   },
   {
    "duration": 70,
    "start_time": "2024-07-29T20:18:30.229Z"
   },
   {
    "duration": 106,
    "start_time": "2024-07-29T20:18:36.922Z"
   },
   {
    "duration": 105,
    "start_time": "2024-07-29T20:19:51.376Z"
   },
   {
    "duration": 110,
    "start_time": "2024-07-29T20:21:55.761Z"
   },
   {
    "duration": 105,
    "start_time": "2024-07-29T20:22:02.158Z"
   },
   {
    "duration": 83,
    "start_time": "2024-07-29T20:29:11.437Z"
   },
   {
    "duration": 49,
    "start_time": "2024-07-29T20:31:32.452Z"
   },
   {
    "duration": 40,
    "start_time": "2024-07-29T20:31:50.938Z"
   },
   {
    "duration": 55,
    "start_time": "2024-07-29T20:32:05.185Z"
   },
   {
    "duration": 16,
    "start_time": "2024-07-29T20:46:00.116Z"
   },
   {
    "duration": 12,
    "start_time": "2024-07-29T20:47:09.022Z"
   },
   {
    "duration": 12,
    "start_time": "2024-07-29T20:48:07.248Z"
   },
   {
    "duration": 9,
    "start_time": "2024-07-29T20:48:30.944Z"
   },
   {
    "duration": 3870,
    "start_time": "2024-07-29T20:49:18.451Z"
   },
   {
    "duration": 340,
    "start_time": "2024-07-29T20:51:24.398Z"
   },
   {
    "duration": 12,
    "start_time": "2024-07-29T20:52:10.465Z"
   },
   {
    "duration": 104,
    "start_time": "2024-07-29T20:53:59.167Z"
   },
   {
    "duration": 5,
    "start_time": "2024-07-29T20:54:20.452Z"
   },
   {
    "duration": 7,
    "start_time": "2024-07-29T21:08:14.757Z"
   },
   {
    "duration": 11,
    "start_time": "2024-07-29T21:09:02.222Z"
   },
   {
    "duration": 4,
    "start_time": "2024-07-29T21:09:26.366Z"
   },
   {
    "duration": 12,
    "start_time": "2024-07-29T21:10:47.179Z"
   },
   {
    "duration": 13,
    "start_time": "2024-07-29T21:11:06.970Z"
   },
   {
    "duration": 5,
    "start_time": "2024-07-29T21:12:28.736Z"
   },
   {
    "duration": 20,
    "start_time": "2024-07-29T21:13:07.696Z"
   },
   {
    "duration": 5,
    "start_time": "2024-07-29T21:20:40.554Z"
   },
   {
    "duration": 25,
    "start_time": "2024-07-29T21:21:24.045Z"
   },
   {
    "duration": 5,
    "start_time": "2024-07-29T21:22:06.344Z"
   },
   {
    "duration": 21,
    "start_time": "2024-07-29T21:22:11.245Z"
   },
   {
    "duration": 5,
    "start_time": "2024-07-29T21:22:24.693Z"
   },
   {
    "duration": 26,
    "start_time": "2024-07-29T21:22:26.533Z"
   },
   {
    "duration": 9,
    "start_time": "2024-07-29T21:22:33.856Z"
   },
   {
    "duration": 4,
    "start_time": "2024-07-29T21:23:41.742Z"
   },
   {
    "duration": 3,
    "start_time": "2024-07-29T21:23:45.281Z"
   },
   {
    "duration": 6,
    "start_time": "2024-07-29T21:23:50.058Z"
   },
   {
    "duration": 3,
    "start_time": "2024-07-29T21:23:51.662Z"
   },
   {
    "duration": 6,
    "start_time": "2024-07-29T21:24:32.505Z"
   },
   {
    "duration": 10,
    "start_time": "2024-07-29T21:24:40.971Z"
   },
   {
    "duration": 393,
    "start_time": "2024-07-29T22:03:18.838Z"
   },
   {
    "duration": 413,
    "start_time": "2024-07-30T00:10:37.633Z"
   },
   {
    "duration": 25,
    "start_time": "2024-07-30T00:17:26.363Z"
   },
   {
    "duration": 482,
    "start_time": "2024-07-30T00:17:59.028Z"
   },
   {
    "duration": 8,
    "start_time": "2024-07-30T00:18:23.159Z"
   },
   {
    "duration": 12,
    "start_time": "2024-07-30T00:20:22.503Z"
   },
   {
    "duration": 15,
    "start_time": "2024-07-30T00:21:03.522Z"
   },
   {
    "duration": 12,
    "start_time": "2024-07-30T00:22:49.545Z"
   },
   {
    "duration": 14,
    "start_time": "2024-07-30T00:23:26.783Z"
   },
   {
    "duration": 9,
    "start_time": "2024-07-30T00:23:52.172Z"
   },
   {
    "duration": 1489,
    "start_time": "2024-07-30T00:25:21.946Z"
   },
   {
    "duration": 1439,
    "start_time": "2024-07-30T00:27:58.006Z"
   },
   {
    "duration": 199,
    "start_time": "2024-07-30T00:28:20.518Z"
   },
   {
    "duration": 450,
    "start_time": "2024-07-30T01:03:25.406Z"
   },
   {
    "duration": 329,
    "start_time": "2024-07-30T23:27:33.557Z"
   },
   {
    "duration": 21,
    "start_time": "2024-07-30T23:27:57.988Z"
   },
   {
    "duration": 493,
    "start_time": "2024-07-30T23:28:02.420Z"
   },
   {
    "duration": 1729,
    "start_time": "2024-07-30T23:28:02.917Z"
   },
   {
    "duration": 46,
    "start_time": "2024-07-30T23:28:04.649Z"
   },
   {
    "duration": 28,
    "start_time": "2024-07-30T23:28:04.703Z"
   },
   {
    "duration": 23,
    "start_time": "2024-07-30T23:28:04.734Z"
   },
   {
    "duration": 58,
    "start_time": "2024-07-30T23:28:04.759Z"
   },
   {
    "duration": 37,
    "start_time": "2024-07-30T23:28:04.821Z"
   },
   {
    "duration": 207,
    "start_time": "2024-07-30T23:28:04.862Z"
   },
   {
    "duration": 190,
    "start_time": "2024-07-30T23:28:05.072Z"
   },
   {
    "duration": 28,
    "start_time": "2024-07-30T23:28:05.267Z"
   },
   {
    "duration": 220,
    "start_time": "2024-07-30T23:28:05.298Z"
   },
   {
    "duration": 199,
    "start_time": "2024-07-30T23:28:05.522Z"
   },
   {
    "duration": 72,
    "start_time": "2024-07-30T23:28:05.724Z"
   },
   {
    "duration": 29,
    "start_time": "2024-07-30T23:28:05.799Z"
   },
   {
    "duration": 13,
    "start_time": "2024-07-30T23:28:05.831Z"
   },
   {
    "duration": 63,
    "start_time": "2024-07-30T23:28:05.847Z"
   },
   {
    "duration": 34,
    "start_time": "2024-07-30T23:28:05.912Z"
   },
   {
    "duration": 12,
    "start_time": "2024-07-30T23:28:05.948Z"
   },
   {
    "duration": 10,
    "start_time": "2024-07-30T23:28:05.990Z"
   },
   {
    "duration": 11,
    "start_time": "2024-07-30T23:28:06.003Z"
   },
   {
    "duration": 9,
    "start_time": "2024-07-30T23:28:06.017Z"
   },
   {
    "duration": 1438,
    "start_time": "2024-07-30T23:28:06.029Z"
   },
   {
    "duration": 625,
    "start_time": "2024-07-30T23:28:07.470Z"
   },
   {
    "duration": 18,
    "start_time": "2024-07-30T23:28:08.098Z"
   },
   {
    "duration": 8,
    "start_time": "2024-07-30T23:28:08.119Z"
   },
   {
    "duration": 14,
    "start_time": "2024-07-30T23:28:08.131Z"
   },
   {
    "duration": 13,
    "start_time": "2024-07-30T23:28:08.191Z"
   },
   {
    "duration": 4,
    "start_time": "2024-07-30T23:28:08.214Z"
   },
   {
    "duration": 19,
    "start_time": "2024-07-30T23:28:08.220Z"
   },
   {
    "duration": 7,
    "start_time": "2024-07-30T23:28:08.242Z"
   },
   {
    "duration": 12,
    "start_time": "2024-07-30T23:28:08.291Z"
   },
   {
    "duration": 17,
    "start_time": "2024-07-30T23:28:08.306Z"
   },
   {
    "duration": 11,
    "start_time": "2024-07-30T23:28:08.326Z"
   },
   {
    "duration": 60,
    "start_time": "2024-07-30T23:28:08.340Z"
   },
   {
    "duration": 13,
    "start_time": "2024-07-30T23:28:08.403Z"
   },
   {
    "duration": 6,
    "start_time": "2024-07-30T23:28:08.419Z"
   },
   {
    "duration": 12,
    "start_time": "2024-07-30T23:28:08.427Z"
   },
   {
    "duration": 74,
    "start_time": "2024-07-30T23:28:08.442Z"
   },
   {
    "duration": 23,
    "start_time": "2024-07-30T23:28:08.519Z"
   },
   {
    "duration": 65,
    "start_time": "2024-07-30T23:28:08.544Z"
   },
   {
    "duration": 28,
    "start_time": "2024-07-30T23:28:08.614Z"
   },
   {
    "duration": 14,
    "start_time": "2024-07-30T23:28:08.645Z"
   },
   {
    "duration": 537,
    "start_time": "2024-07-30T23:28:08.690Z"
   },
   {
    "duration": 569,
    "start_time": "2024-07-30T23:28:09.231Z"
   },
   {
    "duration": 128,
    "start_time": "2024-07-30T23:28:09.803Z"
   },
   {
    "duration": 112,
    "start_time": "2024-07-30T23:28:09.933Z"
   },
   {
    "duration": 77,
    "start_time": "2024-07-30T23:28:10.048Z"
   },
   {
    "duration": 18,
    "start_time": "2024-07-30T23:28:10.128Z"
   },
   {
    "duration": 13,
    "start_time": "2024-07-30T23:28:10.149Z"
   },
   {
    "duration": 58,
    "start_time": "2024-07-30T23:28:10.191Z"
   },
   {
    "duration": 0,
    "start_time": "2024-07-30T23:28:10.251Z"
   },
   {
    "duration": 0,
    "start_time": "2024-07-30T23:28:10.253Z"
   },
   {
    "duration": 0,
    "start_time": "2024-07-30T23:28:10.256Z"
   },
   {
    "duration": 0,
    "start_time": "2024-07-30T23:28:10.259Z"
   },
   {
    "duration": 0,
    "start_time": "2024-07-30T23:28:10.261Z"
   },
   {
    "duration": 0,
    "start_time": "2024-07-30T23:28:10.290Z"
   },
   {
    "duration": 0,
    "start_time": "2024-07-30T23:28:10.293Z"
   },
   {
    "duration": 1,
    "start_time": "2024-07-30T23:28:10.294Z"
   },
   {
    "duration": 0,
    "start_time": "2024-07-30T23:28:10.298Z"
   },
   {
    "duration": 0,
    "start_time": "2024-07-30T23:28:10.301Z"
   },
   {
    "duration": 0,
    "start_time": "2024-07-30T23:28:10.303Z"
   },
   {
    "duration": 0,
    "start_time": "2024-07-30T23:28:10.305Z"
   },
   {
    "duration": 0,
    "start_time": "2024-07-30T23:28:10.308Z"
   },
   {
    "duration": 0,
    "start_time": "2024-07-30T23:28:10.310Z"
   },
   {
    "duration": 0,
    "start_time": "2024-07-30T23:28:10.313Z"
   },
   {
    "duration": 0,
    "start_time": "2024-07-30T23:28:10.315Z"
   },
   {
    "duration": 4461,
    "start_time": "2024-07-30T23:28:52.856Z"
   },
   {
    "duration": 4,
    "start_time": "2024-07-30T23:29:25.382Z"
   },
   {
    "duration": 12,
    "start_time": "2024-07-30T23:29:26.862Z"
   },
   {
    "duration": 338,
    "start_time": "2024-07-30T23:29:29.647Z"
   },
   {
    "duration": 23,
    "start_time": "2024-07-30T23:29:33.147Z"
   },
   {
    "duration": 10,
    "start_time": "2024-07-30T23:30:03.088Z"
   },
   {
    "duration": 4,
    "start_time": "2024-07-30T23:30:05.574Z"
   },
   {
    "duration": 15,
    "start_time": "2024-07-30T23:30:07.561Z"
   },
   {
    "duration": 4,
    "start_time": "2024-07-30T23:30:11.110Z"
   },
   {
    "duration": 14,
    "start_time": "2024-07-30T23:30:13.273Z"
   },
   {
    "duration": 5,
    "start_time": "2024-07-30T23:30:16.002Z"
   },
   {
    "duration": 11,
    "start_time": "2024-07-30T23:30:17.648Z"
   },
   {
    "duration": 427,
    "start_time": "2024-07-30T23:30:20.146Z"
   },
   {
    "duration": 335,
    "start_time": "2024-07-30T23:30:40.939Z"
   },
   {
    "duration": 23,
    "start_time": "2024-07-30T23:32:18.329Z"
   },
   {
    "duration": 19,
    "start_time": "2024-07-30T23:32:20.965Z"
   },
   {
    "duration": 20,
    "start_time": "2024-07-30T23:33:04.369Z"
   },
   {
    "duration": 19,
    "start_time": "2024-07-30T23:33:08.054Z"
   },
   {
    "duration": 13,
    "start_time": "2024-07-30T23:33:47.967Z"
   },
   {
    "duration": 22,
    "start_time": "2024-07-30T23:34:42.572Z"
   },
   {
    "duration": 22,
    "start_time": "2024-07-30T23:35:00.704Z"
   },
   {
    "duration": 9,
    "start_time": "2024-07-30T23:35:42.853Z"
   },
   {
    "duration": 12,
    "start_time": "2024-07-30T23:35:49.273Z"
   },
   {
    "duration": 13,
    "start_time": "2024-07-30T23:36:09.028Z"
   },
   {
    "duration": 12,
    "start_time": "2024-07-30T23:37:05.277Z"
   },
   {
    "duration": 3,
    "start_time": "2024-07-30T23:38:05.792Z"
   },
   {
    "duration": 8,
    "start_time": "2024-07-30T23:38:07.589Z"
   },
   {
    "duration": 335,
    "start_time": "2024-07-30T23:38:09.340Z"
   },
   {
    "duration": 3,
    "start_time": "2024-07-30T23:39:11.632Z"
   },
   {
    "duration": 226,
    "start_time": "2024-07-30T23:39:59.934Z"
   },
   {
    "duration": 14,
    "start_time": "2024-07-30T23:42:16.192Z"
   },
   {
    "duration": 22,
    "start_time": "2024-07-30T23:42:22.511Z"
   },
   {
    "duration": 7,
    "start_time": "2024-07-30T23:43:00.847Z"
   },
   {
    "duration": 7,
    "start_time": "2024-07-30T23:43:05.945Z"
   },
   {
    "duration": 8,
    "start_time": "2024-07-30T23:43:22.944Z"
   },
   {
    "duration": 385,
    "start_time": "2024-07-30T23:44:24.716Z"
   },
   {
    "duration": 459,
    "start_time": "2024-07-30T23:45:12.744Z"
   },
   {
    "duration": 381,
    "start_time": "2024-07-30T23:45:23.585Z"
   },
   {
    "duration": 14,
    "start_time": "2024-07-30T23:50:40.694Z"
   },
   {
    "duration": 34,
    "start_time": "2024-07-31T00:00:36.382Z"
   },
   {
    "duration": 29,
    "start_time": "2024-07-31T00:00:42.818Z"
   },
   {
    "duration": 49,
    "start_time": "2024-07-31T00:03:28.639Z"
   },
   {
    "duration": 323,
    "start_time": "2024-07-31T00:07:37.692Z"
   },
   {
    "duration": 22,
    "start_time": "2024-07-31T00:09:48.357Z"
   },
   {
    "duration": 22,
    "start_time": "2024-07-31T00:10:14.477Z"
   },
   {
    "duration": 24,
    "start_time": "2024-07-31T00:11:47.365Z"
   },
   {
    "duration": 531,
    "start_time": "2024-07-31T00:11:59.928Z"
   },
   {
    "duration": 1683,
    "start_time": "2024-07-31T00:12:00.463Z"
   },
   {
    "duration": 46,
    "start_time": "2024-07-31T00:12:02.149Z"
   },
   {
    "duration": 25,
    "start_time": "2024-07-31T00:12:02.201Z"
   },
   {
    "duration": 23,
    "start_time": "2024-07-31T00:12:02.229Z"
   },
   {
    "duration": 23,
    "start_time": "2024-07-31T00:12:02.292Z"
   },
   {
    "duration": 20,
    "start_time": "2024-07-31T00:12:02.318Z"
   },
   {
    "duration": 269,
    "start_time": "2024-07-31T00:12:02.342Z"
   },
   {
    "duration": 225,
    "start_time": "2024-07-31T00:12:02.615Z"
   },
   {
    "duration": 15,
    "start_time": "2024-07-31T00:12:02.846Z"
   },
   {
    "duration": 259,
    "start_time": "2024-07-31T00:12:02.864Z"
   },
   {
    "duration": 222,
    "start_time": "2024-07-31T00:12:03.126Z"
   },
   {
    "duration": 74,
    "start_time": "2024-07-31T00:12:03.352Z"
   },
   {
    "duration": 30,
    "start_time": "2024-07-31T00:12:03.429Z"
   },
   {
    "duration": 34,
    "start_time": "2024-07-31T00:12:03.463Z"
   },
   {
    "duration": 33,
    "start_time": "2024-07-31T00:12:03.499Z"
   },
   {
    "duration": 64,
    "start_time": "2024-07-31T00:12:03.535Z"
   },
   {
    "duration": 10,
    "start_time": "2024-07-31T00:12:03.605Z"
   },
   {
    "duration": 10,
    "start_time": "2024-07-31T00:12:03.619Z"
   },
   {
    "duration": 16,
    "start_time": "2024-07-31T00:12:03.633Z"
   },
   {
    "duration": 10,
    "start_time": "2024-07-31T00:12:03.691Z"
   },
   {
    "duration": 1508,
    "start_time": "2024-07-31T00:12:03.705Z"
   },
   {
    "duration": 742,
    "start_time": "2024-07-31T00:12:05.216Z"
   },
   {
    "duration": 31,
    "start_time": "2024-07-31T00:12:05.961Z"
   },
   {
    "duration": 10,
    "start_time": "2024-07-31T00:12:05.995Z"
   },
   {
    "duration": 14,
    "start_time": "2024-07-31T00:12:06.008Z"
   },
   {
    "duration": 15,
    "start_time": "2024-07-31T00:12:06.025Z"
   },
   {
    "duration": 3,
    "start_time": "2024-07-31T00:12:06.094Z"
   },
   {
    "duration": 21,
    "start_time": "2024-07-31T00:12:06.100Z"
   },
   {
    "duration": 6,
    "start_time": "2024-07-31T00:12:06.127Z"
   },
   {
    "duration": 56,
    "start_time": "2024-07-31T00:12:06.136Z"
   },
   {
    "duration": 17,
    "start_time": "2024-07-31T00:12:06.195Z"
   },
   {
    "duration": 12,
    "start_time": "2024-07-31T00:12:06.215Z"
   },
   {
    "duration": 21,
    "start_time": "2024-07-31T00:12:06.229Z"
   },
   {
    "duration": 13,
    "start_time": "2024-07-31T00:12:06.292Z"
   },
   {
    "duration": 7,
    "start_time": "2024-07-31T00:12:06.308Z"
   },
   {
    "duration": 13,
    "start_time": "2024-07-31T00:12:06.321Z"
   },
   {
    "duration": 74,
    "start_time": "2024-07-31T00:12:06.338Z"
   },
   {
    "duration": 19,
    "start_time": "2024-07-31T00:12:06.415Z"
   },
   {
    "duration": 61,
    "start_time": "2024-07-31T00:12:06.438Z"
   },
   {
    "duration": 29,
    "start_time": "2024-07-31T00:12:06.503Z"
   },
   {
    "duration": 14,
    "start_time": "2024-07-31T00:12:06.535Z"
   },
   {
    "duration": 601,
    "start_time": "2024-07-31T00:12:06.552Z"
   },
   {
    "duration": 638,
    "start_time": "2024-07-31T00:12:07.156Z"
   },
   {
    "duration": 121,
    "start_time": "2024-07-31T00:12:07.797Z"
   },
   {
    "duration": 115,
    "start_time": "2024-07-31T00:12:07.921Z"
   },
   {
    "duration": 73,
    "start_time": "2024-07-31T00:12:08.039Z"
   },
   {
    "duration": 16,
    "start_time": "2024-07-31T00:12:08.116Z"
   },
   {
    "duration": 14,
    "start_time": "2024-07-31T00:12:08.135Z"
   },
   {
    "duration": 264,
    "start_time": "2024-07-31T00:12:08.151Z"
   },
   {
    "duration": 6,
    "start_time": "2024-07-31T00:12:08.417Z"
   },
   {
    "duration": 418,
    "start_time": "2024-07-31T00:12:08.425Z"
   },
   {
    "duration": 12,
    "start_time": "2024-07-31T00:12:08.846Z"
   },
   {
    "duration": 3,
    "start_time": "2024-07-31T00:12:08.862Z"
   },
   {
    "duration": 221,
    "start_time": "2024-07-31T00:12:08.892Z"
   },
   {
    "duration": 18,
    "start_time": "2024-07-31T00:12:09.116Z"
   },
   {
    "duration": 7,
    "start_time": "2024-07-31T00:12:09.137Z"
   },
   {
    "duration": 43,
    "start_time": "2024-07-31T00:12:09.147Z"
   },
   {
    "duration": 378,
    "start_time": "2024-07-31T00:12:09.193Z"
   },
   {
    "duration": 18,
    "start_time": "2024-07-31T00:12:09.575Z"
   },
   {
    "duration": 4,
    "start_time": "2024-07-31T00:12:09.596Z"
   },
   {
    "duration": 13,
    "start_time": "2024-07-31T00:12:09.604Z"
   },
   {
    "duration": 5,
    "start_time": "2024-07-31T00:12:09.619Z"
   },
   {
    "duration": 14,
    "start_time": "2024-07-31T00:12:09.626Z"
   },
   {
    "duration": 6,
    "start_time": "2024-07-31T00:12:09.691Z"
   },
   {
    "duration": 14,
    "start_time": "2024-07-31T00:12:09.701Z"
   },
   {
    "duration": 437,
    "start_time": "2024-07-31T00:12:09.719Z"
   },
   {
    "duration": 65,
    "start_time": "2024-07-31T00:12:10.159Z"
   },
   {
    "duration": 310,
    "start_time": "2024-07-31T00:13:41.627Z"
   },
   {
    "duration": 419,
    "start_time": "2024-07-31T00:14:07.660Z"
   },
   {
    "duration": 1674,
    "start_time": "2024-07-31T00:14:09.523Z"
   },
   {
    "duration": 30,
    "start_time": "2024-07-31T00:14:12.234Z"
   },
   {
    "duration": 22,
    "start_time": "2024-07-31T00:14:15.290Z"
   },
   {
    "duration": 20,
    "start_time": "2024-07-31T00:14:17.738Z"
   },
   {
    "duration": 22,
    "start_time": "2024-07-31T00:14:20.716Z"
   },
   {
    "duration": 193,
    "start_time": "2024-07-31T00:14:26.216Z"
   },
   {
    "duration": 206,
    "start_time": "2024-07-31T00:14:33.614Z"
   },
   {
    "duration": 15,
    "start_time": "2024-07-31T00:14:36.338Z"
   },
   {
    "duration": 221,
    "start_time": "2024-07-31T00:14:38.769Z"
   },
   {
    "duration": 208,
    "start_time": "2024-07-31T00:14:41.350Z"
   },
   {
    "duration": 53,
    "start_time": "2024-07-31T00:14:43.967Z"
   },
   {
    "duration": 24,
    "start_time": "2024-07-31T00:14:46.470Z"
   },
   {
    "duration": 12,
    "start_time": "2024-07-31T00:14:48.723Z"
   },
   {
    "duration": 30,
    "start_time": "2024-07-31T00:14:51.060Z"
   },
   {
    "duration": 32,
    "start_time": "2024-07-31T00:14:54.322Z"
   },
   {
    "duration": 9,
    "start_time": "2024-07-31T00:14:56.690Z"
   },
   {
    "duration": 9,
    "start_time": "2024-07-31T00:14:59.059Z"
   },
   {
    "duration": 10,
    "start_time": "2024-07-31T00:15:01.490Z"
   },
   {
    "duration": 9,
    "start_time": "2024-07-31T00:15:03.686Z"
   },
   {
    "duration": 1392,
    "start_time": "2024-07-31T00:15:06.017Z"
   },
   {
    "duration": 634,
    "start_time": "2024-07-31T00:15:09.890Z"
   },
   {
    "duration": 17,
    "start_time": "2024-07-31T00:15:16.106Z"
   },
   {
    "duration": 9,
    "start_time": "2024-07-31T00:15:19.069Z"
   },
   {
    "duration": 15,
    "start_time": "2024-07-31T00:15:21.074Z"
   },
   {
    "duration": 13,
    "start_time": "2024-07-31T00:15:23.746Z"
   },
   {
    "duration": 19,
    "start_time": "2024-07-31T00:15:37.620Z"
   },
   {
    "duration": 6,
    "start_time": "2024-07-31T00:15:40.268Z"
   },
   {
    "duration": 11,
    "start_time": "2024-07-31T00:15:42.147Z"
   },
   {
    "duration": 16,
    "start_time": "2024-07-31T00:15:44.722Z"
   },
   {
    "duration": 14,
    "start_time": "2024-07-31T00:15:46.826Z"
   },
   {
    "duration": 18,
    "start_time": "2024-07-31T00:15:49.674Z"
   },
   {
    "duration": 14,
    "start_time": "2024-07-31T00:15:52.507Z"
   },
   {
    "duration": 6,
    "start_time": "2024-07-31T00:15:54.869Z"
   },
   {
    "duration": 11,
    "start_time": "2024-07-31T00:15:56.642Z"
   },
   {
    "duration": 29,
    "start_time": "2024-07-31T00:15:58.673Z"
   },
   {
    "duration": 19,
    "start_time": "2024-07-31T00:16:00.851Z"
   },
   {
    "duration": 29,
    "start_time": "2024-07-31T00:16:03.318Z"
   },
   {
    "duration": 29,
    "start_time": "2024-07-31T00:16:05.177Z"
   },
   {
    "duration": 14,
    "start_time": "2024-07-31T00:16:07.506Z"
   },
   {
    "duration": 531,
    "start_time": "2024-07-31T00:16:10.406Z"
   },
   {
    "duration": 539,
    "start_time": "2024-07-31T00:16:12.474Z"
   },
   {
    "duration": 583,
    "start_time": "2024-07-31T00:16:16.761Z"
   },
   {
    "duration": 113,
    "start_time": "2024-07-31T00:16:21.026Z"
   },
   {
    "duration": 17,
    "start_time": "2024-07-31T00:16:25.458Z"
   },
   {
    "duration": 12,
    "start_time": "2024-07-31T00:16:27.684Z"
   },
   {
    "duration": 729,
    "start_time": "2024-07-31T00:16:30.894Z"
   },
   {
    "duration": 4,
    "start_time": "2024-07-31T00:16:34.018Z"
   },
   {
    "duration": 6,
    "start_time": "2024-07-31T00:16:35.702Z"
   },
   {
    "duration": 328,
    "start_time": "2024-07-31T00:16:39.225Z"
   },
   {
    "duration": 15,
    "start_time": "2024-07-31T00:16:43.090Z"
   },
   {
    "duration": 3,
    "start_time": "2024-07-31T00:16:45.314Z"
   },
   {
    "duration": 206,
    "start_time": "2024-07-31T00:16:47.506Z"
   },
   {
    "duration": 17,
    "start_time": "2024-07-31T00:16:52.402Z"
   },
   {
    "duration": 8,
    "start_time": "2024-07-31T00:16:55.136Z"
   },
   {
    "duration": 7,
    "start_time": "2024-07-31T00:16:56.794Z"
   },
   {
    "duration": 367,
    "start_time": "2024-07-31T00:16:58.947Z"
   },
   {
    "duration": 9,
    "start_time": "2024-07-31T00:17:03.625Z"
   },
   {
    "duration": 5,
    "start_time": "2024-07-31T00:17:05.401Z"
   },
   {
    "duration": 4,
    "start_time": "2024-07-31T00:17:07.813Z"
   },
   {
    "duration": 12,
    "start_time": "2024-07-31T00:17:09.981Z"
   },
   {
    "duration": 4,
    "start_time": "2024-07-31T00:17:14.173Z"
   },
   {
    "duration": 13,
    "start_time": "2024-07-31T00:17:16.369Z"
   },
   {
    "duration": 5,
    "start_time": "2024-07-31T00:17:19.281Z"
   },
   {
    "duration": 6,
    "start_time": "2024-07-31T00:17:21.426Z"
   },
   {
    "duration": 11,
    "start_time": "2024-07-31T00:17:23.179Z"
   },
   {
    "duration": 480,
    "start_time": "2024-07-31T00:17:26.162Z"
   },
   {
    "duration": 57,
    "start_time": "2024-07-31T00:17:30.201Z"
   },
   {
    "duration": 320,
    "start_time": "2024-07-31T00:32:24.892Z"
   },
   {
    "duration": 23,
    "start_time": "2024-07-31T00:32:39.561Z"
   },
   {
    "duration": 26,
    "start_time": "2024-07-31T00:34:54.119Z"
   },
   {
    "duration": 516,
    "start_time": "2024-07-31T00:35:35.925Z"
   },
   {
    "duration": 52,
    "start_time": "2024-07-31T00:35:37.881Z"
   },
   {
    "duration": 24,
    "start_time": "2024-07-31T00:35:57.657Z"
   },
   {
    "duration": 22,
    "start_time": "2024-07-31T00:36:02.325Z"
   },
   {
    "duration": 310,
    "start_time": "2024-07-31T00:36:06.317Z"
   },
   {
    "duration": 1730,
    "start_time": "2024-07-31T00:36:06.632Z"
   },
   {
    "duration": 46,
    "start_time": "2024-07-31T00:36:08.365Z"
   },
   {
    "duration": 26,
    "start_time": "2024-07-31T00:36:08.414Z"
   },
   {
    "duration": 47,
    "start_time": "2024-07-31T00:36:08.445Z"
   },
   {
    "duration": 22,
    "start_time": "2024-07-31T00:36:08.495Z"
   },
   {
    "duration": 19,
    "start_time": "2024-07-31T00:36:08.521Z"
   },
   {
    "duration": 225,
    "start_time": "2024-07-31T00:36:08.543Z"
   },
   {
    "duration": 187,
    "start_time": "2024-07-31T00:36:08.772Z"
   },
   {
    "duration": 28,
    "start_time": "2024-07-31T00:36:08.962Z"
   },
   {
    "duration": 199,
    "start_time": "2024-07-31T00:36:08.993Z"
   },
   {
    "duration": 182,
    "start_time": "2024-07-31T00:36:09.196Z"
   },
   {
    "duration": 62,
    "start_time": "2024-07-31T00:36:09.381Z"
   },
   {
    "duration": 45,
    "start_time": "2024-07-31T00:36:09.452Z"
   },
   {
    "duration": 12,
    "start_time": "2024-07-31T00:36:09.502Z"
   },
   {
    "duration": 31,
    "start_time": "2024-07-31T00:36:09.517Z"
   },
   {
    "duration": 59,
    "start_time": "2024-07-31T00:36:09.551Z"
   },
   {
    "duration": 9,
    "start_time": "2024-07-31T00:36:09.614Z"
   },
   {
    "duration": 10,
    "start_time": "2024-07-31T00:36:09.626Z"
   },
   {
    "duration": 13,
    "start_time": "2024-07-31T00:36:09.639Z"
   },
   {
    "duration": 10,
    "start_time": "2024-07-31T00:36:09.691Z"
   },
   {
    "duration": 1377,
    "start_time": "2024-07-31T00:36:09.705Z"
   },
   {
    "duration": 606,
    "start_time": "2024-07-31T00:36:11.090Z"
   },
   {
    "duration": 18,
    "start_time": "2024-07-31T00:36:11.699Z"
   },
   {
    "duration": 9,
    "start_time": "2024-07-31T00:36:11.720Z"
   },
   {
    "duration": 15,
    "start_time": "2024-07-31T00:36:11.733Z"
   },
   {
    "duration": 50,
    "start_time": "2024-07-31T00:36:11.751Z"
   },
   {
    "duration": 4,
    "start_time": "2024-07-31T00:36:11.805Z"
   },
   {
    "duration": 19,
    "start_time": "2024-07-31T00:36:11.811Z"
   },
   {
    "duration": 7,
    "start_time": "2024-07-31T00:36:11.833Z"
   },
   {
    "duration": 10,
    "start_time": "2024-07-31T00:36:11.891Z"
   },
   {
    "duration": 17,
    "start_time": "2024-07-31T00:36:11.904Z"
   },
   {
    "duration": 11,
    "start_time": "2024-07-31T00:36:11.924Z"
   },
   {
    "duration": 55,
    "start_time": "2024-07-31T00:36:11.938Z"
   },
   {
    "duration": 12,
    "start_time": "2024-07-31T00:36:11.996Z"
   },
   {
    "duration": 5,
    "start_time": "2024-07-31T00:36:12.011Z"
   },
   {
    "duration": 11,
    "start_time": "2024-07-31T00:36:12.019Z"
   },
   {
    "duration": 77,
    "start_time": "2024-07-31T00:36:12.032Z"
   },
   {
    "duration": 20,
    "start_time": "2024-07-31T00:36:12.114Z"
   },
   {
    "duration": 53,
    "start_time": "2024-07-31T00:36:12.137Z"
   },
   {
    "duration": 28,
    "start_time": "2024-07-31T00:36:12.200Z"
   },
   {
    "duration": 18,
    "start_time": "2024-07-31T00:36:12.231Z"
   },
   {
    "duration": 584,
    "start_time": "2024-07-31T00:36:12.251Z"
   },
   {
    "duration": 570,
    "start_time": "2024-07-31T00:36:12.838Z"
   },
   {
    "duration": 119,
    "start_time": "2024-07-31T00:36:13.411Z"
   },
   {
    "duration": 120,
    "start_time": "2024-07-31T00:36:13.533Z"
   },
   {
    "duration": 83,
    "start_time": "2024-07-31T00:36:13.657Z"
   },
   {
    "duration": 17,
    "start_time": "2024-07-31T00:36:13.743Z"
   },
   {
    "duration": 29,
    "start_time": "2024-07-31T00:36:13.763Z"
   },
   {
    "duration": 6,
    "start_time": "2024-07-31T00:36:13.795Z"
   },
   {
    "duration": 7,
    "start_time": "2024-07-31T00:36:13.804Z"
   },
   {
    "duration": 388,
    "start_time": "2024-07-31T00:36:13.814Z"
   },
   {
    "duration": 12,
    "start_time": "2024-07-31T00:36:14.205Z"
   },
   {
    "duration": 4,
    "start_time": "2024-07-31T00:36:14.220Z"
   },
   {
    "duration": 254,
    "start_time": "2024-07-31T00:36:14.227Z"
   },
   {
    "duration": 18,
    "start_time": "2024-07-31T00:36:14.485Z"
   },
   {
    "duration": 8,
    "start_time": "2024-07-31T00:36:14.507Z"
   },
   {
    "duration": 7,
    "start_time": "2024-07-31T00:36:14.518Z"
   },
   {
    "duration": 447,
    "start_time": "2024-07-31T00:36:14.528Z"
   },
   {
    "duration": 18,
    "start_time": "2024-07-31T00:36:14.978Z"
   },
   {
    "duration": 5,
    "start_time": "2024-07-31T00:36:14.998Z"
   },
   {
    "duration": 15,
    "start_time": "2024-07-31T00:36:15.006Z"
   },
   {
    "duration": 5,
    "start_time": "2024-07-31T00:36:15.024Z"
   },
   {
    "duration": 64,
    "start_time": "2024-07-31T00:36:15.032Z"
   },
   {
    "duration": 6,
    "start_time": "2024-07-31T00:36:15.099Z"
   },
   {
    "duration": 12,
    "start_time": "2024-07-31T00:36:15.109Z"
   },
   {
    "duration": 521,
    "start_time": "2024-07-31T00:36:15.124Z"
   },
   {
    "duration": 74,
    "start_time": "2024-07-31T00:36:15.648Z"
   },
   {
    "duration": 4,
    "start_time": "2024-07-31T00:36:15.725Z"
   },
   {
    "duration": 339,
    "start_time": "2024-07-31T00:36:15.733Z"
   },
   {
    "duration": 553,
    "start_time": "2024-07-31T00:36:16.075Z"
   },
   {
    "duration": 8,
    "start_time": "2024-07-31T00:36:16.631Z"
   },
   {
    "duration": 14,
    "start_time": "2024-07-31T00:36:16.643Z"
   },
   {
    "duration": 38,
    "start_time": "2024-07-31T00:36:16.660Z"
   },
   {
    "duration": 439,
    "start_time": "2024-07-31T00:36:16.702Z"
   },
   {
    "duration": 503,
    "start_time": "2024-07-31T00:41:43.607Z"
   },
   {
    "duration": 1708,
    "start_time": "2024-07-31T00:41:44.113Z"
   },
   {
    "duration": 34,
    "start_time": "2024-07-31T00:41:45.826Z"
   },
   {
    "duration": 40,
    "start_time": "2024-07-31T00:41:45.863Z"
   },
   {
    "duration": 20,
    "start_time": "2024-07-31T00:41:45.907Z"
   },
   {
    "duration": 61,
    "start_time": "2024-07-31T00:41:45.931Z"
   },
   {
    "duration": 20,
    "start_time": "2024-07-31T00:41:45.995Z"
   },
   {
    "duration": 206,
    "start_time": "2024-07-31T00:41:46.018Z"
   },
   {
    "duration": 183,
    "start_time": "2024-07-31T00:41:46.227Z"
   },
   {
    "duration": 14,
    "start_time": "2024-07-31T00:41:46.412Z"
   },
   {
    "duration": 210,
    "start_time": "2024-07-31T00:41:46.430Z"
   },
   {
    "duration": 205,
    "start_time": "2024-07-31T00:41:46.645Z"
   },
   {
    "duration": 64,
    "start_time": "2024-07-31T00:41:46.853Z"
   },
   {
    "duration": 28,
    "start_time": "2024-07-31T00:41:46.926Z"
   },
   {
    "duration": 35,
    "start_time": "2024-07-31T00:41:46.957Z"
   },
   {
    "duration": 29,
    "start_time": "2024-07-31T00:41:46.994Z"
   },
   {
    "duration": 35,
    "start_time": "2024-07-31T00:41:47.026Z"
   },
   {
    "duration": 34,
    "start_time": "2024-07-31T00:41:47.064Z"
   },
   {
    "duration": 10,
    "start_time": "2024-07-31T00:41:47.100Z"
   },
   {
    "duration": 10,
    "start_time": "2024-07-31T00:41:47.113Z"
   },
   {
    "duration": 11,
    "start_time": "2024-07-31T00:41:47.126Z"
   },
   {
    "duration": 1413,
    "start_time": "2024-07-31T00:41:47.142Z"
   },
   {
    "duration": 620,
    "start_time": "2024-07-31T00:41:48.558Z"
   },
   {
    "duration": 22,
    "start_time": "2024-07-31T00:41:49.181Z"
   },
   {
    "duration": 9,
    "start_time": "2024-07-31T00:41:49.206Z"
   },
   {
    "duration": 13,
    "start_time": "2024-07-31T00:41:49.218Z"
   },
   {
    "duration": 57,
    "start_time": "2024-07-31T00:41:49.233Z"
   },
   {
    "duration": 2,
    "start_time": "2024-07-31T00:41:49.294Z"
   },
   {
    "duration": 19,
    "start_time": "2024-07-31T00:41:49.299Z"
   },
   {
    "duration": 7,
    "start_time": "2024-07-31T00:41:49.321Z"
   },
   {
    "duration": 12,
    "start_time": "2024-07-31T00:41:49.331Z"
   },
   {
    "duration": 59,
    "start_time": "2024-07-31T00:41:49.345Z"
   },
   {
    "duration": 12,
    "start_time": "2024-07-31T00:41:49.410Z"
   },
   {
    "duration": 22,
    "start_time": "2024-07-31T00:41:49.424Z"
   },
   {
    "duration": 43,
    "start_time": "2024-07-31T00:41:49.449Z"
   },
   {
    "duration": 6,
    "start_time": "2024-07-31T00:41:49.495Z"
   },
   {
    "duration": 11,
    "start_time": "2024-07-31T00:41:49.504Z"
   },
   {
    "duration": 28,
    "start_time": "2024-07-31T00:41:49.518Z"
   },
   {
    "duration": 20,
    "start_time": "2024-07-31T00:41:49.590Z"
   },
   {
    "duration": 29,
    "start_time": "2024-07-31T00:41:49.613Z"
   },
   {
    "duration": 55,
    "start_time": "2024-07-31T00:41:49.652Z"
   },
   {
    "duration": 15,
    "start_time": "2024-07-31T00:41:49.710Z"
   },
   {
    "duration": 565,
    "start_time": "2024-07-31T00:41:49.728Z"
   },
   {
    "duration": 558,
    "start_time": "2024-07-31T00:41:50.295Z"
   },
   {
    "duration": 126,
    "start_time": "2024-07-31T00:41:50.856Z"
   },
   {
    "duration": 121,
    "start_time": "2024-07-31T00:41:50.985Z"
   },
   {
    "duration": 65,
    "start_time": "2024-07-31T00:41:51.108Z"
   },
   {
    "duration": 17,
    "start_time": "2024-07-31T00:41:51.192Z"
   },
   {
    "duration": 12,
    "start_time": "2024-07-31T00:41:51.212Z"
   },
   {
    "duration": 260,
    "start_time": "2024-07-31T00:41:51.227Z"
   },
   {
    "duration": 6,
    "start_time": "2024-07-31T00:41:51.491Z"
   },
   {
    "duration": 408,
    "start_time": "2024-07-31T00:41:51.500Z"
   },
   {
    "duration": 12,
    "start_time": "2024-07-31T00:41:51.911Z"
   },
   {
    "duration": 6,
    "start_time": "2024-07-31T00:41:51.926Z"
   },
   {
    "duration": 246,
    "start_time": "2024-07-31T00:41:51.935Z"
   },
   {
    "duration": 17,
    "start_time": "2024-07-31T00:41:52.184Z"
   },
   {
    "duration": 8,
    "start_time": "2024-07-31T00:41:52.203Z"
   },
   {
    "duration": 9,
    "start_time": "2024-07-31T00:41:52.214Z"
   },
   {
    "duration": 444,
    "start_time": "2024-07-31T00:41:52.226Z"
   },
   {
    "duration": 25,
    "start_time": "2024-07-31T00:41:52.673Z"
   },
   {
    "duration": 5,
    "start_time": "2024-07-31T00:41:52.700Z"
   },
   {
    "duration": 14,
    "start_time": "2024-07-31T00:41:52.708Z"
   },
   {
    "duration": 5,
    "start_time": "2024-07-31T00:41:52.726Z"
   },
   {
    "duration": 61,
    "start_time": "2024-07-31T00:41:52.735Z"
   },
   {
    "duration": 5,
    "start_time": "2024-07-31T00:41:52.799Z"
   },
   {
    "duration": 12,
    "start_time": "2024-07-31T00:41:52.808Z"
   },
   {
    "duration": 470,
    "start_time": "2024-07-31T00:41:52.823Z"
   },
   {
    "duration": 54,
    "start_time": "2024-07-31T00:41:53.296Z"
   },
   {
    "duration": 4,
    "start_time": "2024-07-31T00:41:53.353Z"
   },
   {
    "duration": 497,
    "start_time": "2024-07-31T00:45:44.448Z"
   },
   {
    "duration": 1691,
    "start_time": "2024-07-31T00:45:44.949Z"
   },
   {
    "duration": 53,
    "start_time": "2024-07-31T00:45:46.644Z"
   },
   {
    "duration": 27,
    "start_time": "2024-07-31T00:45:46.702Z"
   },
   {
    "duration": 58,
    "start_time": "2024-07-31T00:45:46.734Z"
   },
   {
    "duration": 23,
    "start_time": "2024-07-31T00:45:46.796Z"
   },
   {
    "duration": 22,
    "start_time": "2024-07-31T00:45:46.823Z"
   },
   {
    "duration": 254,
    "start_time": "2024-07-31T00:45:46.849Z"
   },
   {
    "duration": 224,
    "start_time": "2024-07-31T00:45:47.106Z"
   },
   {
    "duration": 16,
    "start_time": "2024-07-31T00:45:47.334Z"
   },
   {
    "duration": 241,
    "start_time": "2024-07-31T00:45:47.354Z"
   },
   {
    "duration": 198,
    "start_time": "2024-07-31T00:45:47.598Z"
   },
   {
    "duration": 62,
    "start_time": "2024-07-31T00:45:47.801Z"
   },
   {
    "duration": 28,
    "start_time": "2024-07-31T00:45:47.890Z"
   },
   {
    "duration": 12,
    "start_time": "2024-07-31T00:45:47.922Z"
   },
   {
    "duration": 60,
    "start_time": "2024-07-31T00:45:47.940Z"
   },
   {
    "duration": 36,
    "start_time": "2024-07-31T00:45:48.003Z"
   },
   {
    "duration": 10,
    "start_time": "2024-07-31T00:45:48.042Z"
   },
   {
    "duration": 37,
    "start_time": "2024-07-31T00:45:48.056Z"
   },
   {
    "duration": 11,
    "start_time": "2024-07-31T00:45:48.097Z"
   },
   {
    "duration": 10,
    "start_time": "2024-07-31T00:45:48.111Z"
   },
   {
    "duration": 1442,
    "start_time": "2024-07-31T00:45:48.125Z"
   },
   {
    "duration": 650,
    "start_time": "2024-07-31T00:45:49.570Z"
   },
   {
    "duration": 19,
    "start_time": "2024-07-31T00:45:50.223Z"
   },
   {
    "duration": 10,
    "start_time": "2024-07-31T00:45:50.245Z"
   },
   {
    "duration": 41,
    "start_time": "2024-07-31T00:45:50.258Z"
   },
   {
    "duration": 12,
    "start_time": "2024-07-31T00:45:50.302Z"
   },
   {
    "duration": 3,
    "start_time": "2024-07-31T00:45:50.318Z"
   },
   {
    "duration": 20,
    "start_time": "2024-07-31T00:45:50.325Z"
   },
   {
    "duration": 48,
    "start_time": "2024-07-31T00:45:50.348Z"
   },
   {
    "duration": 11,
    "start_time": "2024-07-31T00:45:50.399Z"
   },
   {
    "duration": 17,
    "start_time": "2024-07-31T00:45:50.413Z"
   },
   {
    "duration": 13,
    "start_time": "2024-07-31T00:45:50.433Z"
   },
   {
    "duration": 19,
    "start_time": "2024-07-31T00:45:50.491Z"
   },
   {
    "duration": 11,
    "start_time": "2024-07-31T00:45:50.513Z"
   },
   {
    "duration": 5,
    "start_time": "2024-07-31T00:45:50.527Z"
   },
   {
    "duration": 55,
    "start_time": "2024-07-31T00:45:50.535Z"
   },
   {
    "duration": 28,
    "start_time": "2024-07-31T00:45:50.593Z"
   },
   {
    "duration": 23,
    "start_time": "2024-07-31T00:45:50.624Z"
   },
   {
    "duration": 56,
    "start_time": "2024-07-31T00:45:50.651Z"
   },
   {
    "duration": 27,
    "start_time": "2024-07-31T00:45:50.718Z"
   },
   {
    "duration": 47,
    "start_time": "2024-07-31T00:45:50.748Z"
   },
   {
    "duration": 537,
    "start_time": "2024-07-31T00:45:50.798Z"
   },
   {
    "duration": 577,
    "start_time": "2024-07-31T00:45:51.338Z"
   },
   {
    "duration": 122,
    "start_time": "2024-07-31T00:45:51.918Z"
   },
   {
    "duration": 117,
    "start_time": "2024-07-31T00:45:52.043Z"
   },
   {
    "duration": 74,
    "start_time": "2024-07-31T00:45:52.163Z"
   },
   {
    "duration": 17,
    "start_time": "2024-07-31T00:45:52.239Z"
   },
   {
    "duration": 36,
    "start_time": "2024-07-31T00:45:52.259Z"
   },
   {
    "duration": 250,
    "start_time": "2024-07-31T00:45:52.297Z"
   },
   {
    "duration": 8,
    "start_time": "2024-07-31T00:45:52.550Z"
   },
   {
    "duration": 421,
    "start_time": "2024-07-31T00:45:52.560Z"
   },
   {
    "duration": 14,
    "start_time": "2024-07-31T00:45:52.990Z"
   },
   {
    "duration": 3,
    "start_time": "2024-07-31T00:45:53.008Z"
   },
   {
    "duration": 245,
    "start_time": "2024-07-31T00:45:53.014Z"
   },
   {
    "duration": 36,
    "start_time": "2024-07-31T00:45:53.262Z"
   },
   {
    "duration": 7,
    "start_time": "2024-07-31T00:45:53.302Z"
   },
   {
    "duration": 7,
    "start_time": "2024-07-31T00:45:53.312Z"
   },
   {
    "duration": 410,
    "start_time": "2024-07-31T00:45:53.323Z"
   },
   {
    "duration": 8,
    "start_time": "2024-07-31T00:45:53.737Z"
   },
   {
    "duration": 5,
    "start_time": "2024-07-31T00:45:53.748Z"
   },
   {
    "duration": 42,
    "start_time": "2024-07-31T00:45:53.757Z"
   },
   {
    "duration": 5,
    "start_time": "2024-07-31T00:45:53.802Z"
   },
   {
    "duration": 13,
    "start_time": "2024-07-31T00:45:53.811Z"
   },
   {
    "duration": 6,
    "start_time": "2024-07-31T00:45:53.827Z"
   },
   {
    "duration": 54,
    "start_time": "2024-07-31T00:45:53.836Z"
   },
   {
    "duration": 429,
    "start_time": "2024-07-31T00:45:53.893Z"
   },
   {
    "duration": 70,
    "start_time": "2024-07-31T00:45:54.327Z"
   },
   {
    "duration": 4,
    "start_time": "2024-07-31T00:45:54.400Z"
   },
   {
    "duration": 317,
    "start_time": "2024-07-31T00:48:49.624Z"
   },
   {
    "duration": 458,
    "start_time": "2024-07-31T00:48:55.565Z"
   },
   {
    "duration": 1707,
    "start_time": "2024-07-31T00:48:56.028Z"
   },
   {
    "duration": 33,
    "start_time": "2024-07-31T00:48:57.737Z"
   },
   {
    "duration": 24,
    "start_time": "2024-07-31T00:48:57.792Z"
   },
   {
    "duration": 22,
    "start_time": "2024-07-31T00:48:57.822Z"
   },
   {
    "duration": 57,
    "start_time": "2024-07-31T00:48:57.847Z"
   },
   {
    "duration": 21,
    "start_time": "2024-07-31T00:48:57.907Z"
   },
   {
    "duration": 246,
    "start_time": "2024-07-31T00:48:57.931Z"
   },
   {
    "duration": 215,
    "start_time": "2024-07-31T00:48:58.180Z"
   },
   {
    "duration": 21,
    "start_time": "2024-07-31T00:48:58.398Z"
   },
   {
    "duration": 229,
    "start_time": "2024-07-31T00:48:58.423Z"
   },
   {
    "duration": 213,
    "start_time": "2024-07-31T00:48:58.655Z"
   },
   {
    "duration": 75,
    "start_time": "2024-07-31T00:48:58.871Z"
   },
   {
    "duration": 45,
    "start_time": "2024-07-31T00:48:58.956Z"
   },
   {
    "duration": 12,
    "start_time": "2024-07-31T00:48:59.005Z"
   },
   {
    "duration": 32,
    "start_time": "2024-07-31T00:48:59.020Z"
   },
   {
    "duration": 68,
    "start_time": "2024-07-31T00:48:59.055Z"
   },
   {
    "duration": 12,
    "start_time": "2024-07-31T00:48:59.126Z"
   },
   {
    "duration": 10,
    "start_time": "2024-07-31T00:48:59.142Z"
   },
   {
    "duration": 9,
    "start_time": "2024-07-31T00:48:59.190Z"
   },
   {
    "duration": 9,
    "start_time": "2024-07-31T00:48:59.203Z"
   },
   {
    "duration": 1484,
    "start_time": "2024-07-31T00:48:59.215Z"
   },
   {
    "duration": 678,
    "start_time": "2024-07-31T00:49:00.702Z"
   },
   {
    "duration": 19,
    "start_time": "2024-07-31T00:49:01.390Z"
   },
   {
    "duration": 10,
    "start_time": "2024-07-31T00:49:01.414Z"
   },
   {
    "duration": 17,
    "start_time": "2024-07-31T00:49:01.428Z"
   },
   {
    "duration": 48,
    "start_time": "2024-07-31T00:49:01.450Z"
   },
   {
    "duration": 4,
    "start_time": "2024-07-31T00:49:01.502Z"
   },
   {
    "duration": 19,
    "start_time": "2024-07-31T00:49:01.509Z"
   },
   {
    "duration": 7,
    "start_time": "2024-07-31T00:49:01.531Z"
   },
   {
    "duration": 55,
    "start_time": "2024-07-31T00:49:01.542Z"
   },
   {
    "duration": 16,
    "start_time": "2024-07-31T00:49:01.600Z"
   },
   {
    "duration": 13,
    "start_time": "2024-07-31T00:49:01.619Z"
   },
   {
    "duration": 61,
    "start_time": "2024-07-31T00:49:01.634Z"
   },
   {
    "duration": 13,
    "start_time": "2024-07-31T00:49:01.698Z"
   },
   {
    "duration": 5,
    "start_time": "2024-07-31T00:49:01.714Z"
   },
   {
    "duration": 12,
    "start_time": "2024-07-31T00:49:01.723Z"
   },
   {
    "duration": 73,
    "start_time": "2024-07-31T00:49:01.738Z"
   },
   {
    "duration": 19,
    "start_time": "2024-07-31T00:49:01.814Z"
   },
   {
    "duration": 61,
    "start_time": "2024-07-31T00:49:01.837Z"
   },
   {
    "duration": 29,
    "start_time": "2024-07-31T00:49:01.908Z"
   },
   {
    "duration": 14,
    "start_time": "2024-07-31T00:49:01.940Z"
   },
   {
    "duration": 561,
    "start_time": "2024-07-31T00:49:01.990Z"
   },
   {
    "duration": 624,
    "start_time": "2024-07-31T00:49:02.554Z"
   },
   {
    "duration": 123,
    "start_time": "2024-07-31T00:49:03.180Z"
   },
   {
    "duration": 117,
    "start_time": "2024-07-31T00:49:03.306Z"
   },
   {
    "duration": 77,
    "start_time": "2024-07-31T00:49:03.426Z"
   },
   {
    "duration": 17,
    "start_time": "2024-07-31T00:49:03.507Z"
   },
   {
    "duration": 14,
    "start_time": "2024-07-31T00:49:03.526Z"
   },
   {
    "duration": 327,
    "start_time": "2024-07-31T00:49:03.545Z"
   },
   {
    "duration": 6,
    "start_time": "2024-07-31T00:49:03.875Z"
   },
   {
    "duration": 349,
    "start_time": "2024-07-31T00:49:03.892Z"
   },
   {
    "duration": 12,
    "start_time": "2024-07-31T00:49:04.243Z"
   },
   {
    "duration": 4,
    "start_time": "2024-07-31T00:49:04.258Z"
   },
   {
    "duration": 220,
    "start_time": "2024-07-31T00:49:04.290Z"
   },
   {
    "duration": 18,
    "start_time": "2024-07-31T00:49:04.512Z"
   },
   {
    "duration": 8,
    "start_time": "2024-07-31T00:49:04.533Z"
   },
   {
    "duration": 46,
    "start_time": "2024-07-31T00:49:04.544Z"
   },
   {
    "duration": 420,
    "start_time": "2024-07-31T00:49:04.593Z"
   },
   {
    "duration": 9,
    "start_time": "2024-07-31T00:49:05.016Z"
   },
   {
    "duration": 4,
    "start_time": "2024-07-31T00:49:05.029Z"
   },
   {
    "duration": 14,
    "start_time": "2024-07-31T00:49:05.037Z"
   },
   {
    "duration": 39,
    "start_time": "2024-07-31T00:49:05.054Z"
   },
   {
    "duration": 14,
    "start_time": "2024-07-31T00:49:05.095Z"
   },
   {
    "duration": 6,
    "start_time": "2024-07-31T00:49:05.112Z"
   },
   {
    "duration": 14,
    "start_time": "2024-07-31T00:49:05.122Z"
   },
   {
    "duration": 441,
    "start_time": "2024-07-31T00:49:05.139Z"
   },
   {
    "duration": 57,
    "start_time": "2024-07-31T00:49:05.590Z"
   },
   {
    "duration": 4,
    "start_time": "2024-07-31T00:49:05.650Z"
   },
   {
    "duration": 324,
    "start_time": "2024-07-31T00:51:22.967Z"
   },
   {
    "duration": 22,
    "start_time": "2024-07-31T00:53:13.685Z"
   },
   {
    "duration": 21,
    "start_time": "2024-07-31T01:06:42.937Z"
   },
   {
    "duration": 457,
    "start_time": "2024-07-31T01:06:52.454Z"
   },
   {
    "duration": 1664,
    "start_time": "2024-07-31T01:06:52.915Z"
   },
   {
    "duration": 37,
    "start_time": "2024-07-31T01:06:54.582Z"
   },
   {
    "duration": 25,
    "start_time": "2024-07-31T01:06:54.623Z"
   },
   {
    "duration": 48,
    "start_time": "2024-07-31T01:06:54.652Z"
   },
   {
    "duration": 21,
    "start_time": "2024-07-31T01:06:54.702Z"
   },
   {
    "duration": 64,
    "start_time": "2024-07-31T01:06:54.728Z"
   },
   {
    "duration": 198,
    "start_time": "2024-07-31T01:06:54.795Z"
   },
   {
    "duration": 180,
    "start_time": "2024-07-31T01:06:54.996Z"
   },
   {
    "duration": 23,
    "start_time": "2024-07-31T01:06:55.178Z"
   },
   {
    "duration": 211,
    "start_time": "2024-07-31T01:06:55.204Z"
   },
   {
    "duration": 179,
    "start_time": "2024-07-31T01:06:55.418Z"
   },
   {
    "duration": 50,
    "start_time": "2024-07-31T01:06:55.600Z"
   },
   {
    "duration": 50,
    "start_time": "2024-07-31T01:06:55.657Z"
   },
   {
    "duration": 13,
    "start_time": "2024-07-31T01:06:55.710Z"
   },
   {
    "duration": 30,
    "start_time": "2024-07-31T01:06:55.727Z"
   },
   {
    "duration": 33,
    "start_time": "2024-07-31T01:06:55.792Z"
   },
   {
    "duration": 12,
    "start_time": "2024-07-31T01:06:55.828Z"
   },
   {
    "duration": 12,
    "start_time": "2024-07-31T01:06:55.844Z"
   },
   {
    "duration": 14,
    "start_time": "2024-07-31T01:06:55.892Z"
   },
   {
    "duration": 11,
    "start_time": "2024-07-31T01:06:55.909Z"
   },
   {
    "duration": 1392,
    "start_time": "2024-07-31T01:06:55.923Z"
   },
   {
    "duration": 623,
    "start_time": "2024-07-31T01:06:57.318Z"
   },
   {
    "duration": 19,
    "start_time": "2024-07-31T01:06:57.943Z"
   },
   {
    "duration": 29,
    "start_time": "2024-07-31T01:06:57.965Z"
   },
   {
    "duration": 14,
    "start_time": "2024-07-31T01:06:57.997Z"
   },
   {
    "duration": 14,
    "start_time": "2024-07-31T01:06:58.014Z"
   },
   {
    "duration": 5,
    "start_time": "2024-07-31T01:06:58.033Z"
   },
   {
    "duration": 64,
    "start_time": "2024-07-31T01:06:58.042Z"
   },
   {
    "duration": 7,
    "start_time": "2024-07-31T01:06:58.109Z"
   },
   {
    "duration": 12,
    "start_time": "2024-07-31T01:06:58.119Z"
   },
   {
    "duration": 57,
    "start_time": "2024-07-31T01:06:58.134Z"
   },
   {
    "duration": 12,
    "start_time": "2024-07-31T01:06:58.193Z"
   },
   {
    "duration": 20,
    "start_time": "2024-07-31T01:06:58.207Z"
   },
   {
    "duration": 11,
    "start_time": "2024-07-31T01:06:58.229Z"
   },
   {
    "duration": 50,
    "start_time": "2024-07-31T01:06:58.244Z"
   },
   {
    "duration": 10,
    "start_time": "2024-07-31T01:06:58.297Z"
   },
   {
    "duration": 29,
    "start_time": "2024-07-31T01:06:58.310Z"
   },
   {
    "duration": 55,
    "start_time": "2024-07-31T01:06:58.342Z"
   },
   {
    "duration": 28,
    "start_time": "2024-07-31T01:06:58.400Z"
   },
   {
    "duration": 53,
    "start_time": "2024-07-31T01:06:58.438Z"
   },
   {
    "duration": 13,
    "start_time": "2024-07-31T01:06:58.494Z"
   },
   {
    "duration": 555,
    "start_time": "2024-07-31T01:06:58.510Z"
   },
   {
    "duration": 568,
    "start_time": "2024-07-31T01:06:59.068Z"
   },
   {
    "duration": 125,
    "start_time": "2024-07-31T01:06:59.640Z"
   },
   {
    "duration": 118,
    "start_time": "2024-07-31T01:06:59.767Z"
   },
   {
    "duration": 65,
    "start_time": "2024-07-31T01:06:59.890Z"
   },
   {
    "duration": 41,
    "start_time": "2024-07-31T01:06:59.959Z"
   },
   {
    "duration": 13,
    "start_time": "2024-07-31T01:07:00.004Z"
   },
   {
    "duration": 321,
    "start_time": "2024-07-31T01:07:00.020Z"
   },
   {
    "duration": 6,
    "start_time": "2024-07-31T01:07:00.344Z"
   },
   {
    "duration": 366,
    "start_time": "2024-07-31T01:07:00.353Z"
   },
   {
    "duration": 14,
    "start_time": "2024-07-31T01:07:00.722Z"
   },
   {
    "duration": 4,
    "start_time": "2024-07-31T01:07:00.739Z"
   },
   {
    "duration": 262,
    "start_time": "2024-07-31T01:07:00.746Z"
   },
   {
    "duration": 19,
    "start_time": "2024-07-31T01:07:01.010Z"
   },
   {
    "duration": 8,
    "start_time": "2024-07-31T01:07:01.031Z"
   },
   {
    "duration": 8,
    "start_time": "2024-07-31T01:07:01.042Z"
   },
   {
    "duration": 385,
    "start_time": "2024-07-31T01:07:01.092Z"
   },
   {
    "duration": 14,
    "start_time": "2024-07-31T01:07:01.480Z"
   },
   {
    "duration": 5,
    "start_time": "2024-07-31T01:07:01.497Z"
   },
   {
    "duration": 14,
    "start_time": "2024-07-31T01:07:01.505Z"
   },
   {
    "duration": 5,
    "start_time": "2024-07-31T01:07:01.521Z"
   },
   {
    "duration": 63,
    "start_time": "2024-07-31T01:07:01.529Z"
   },
   {
    "duration": 6,
    "start_time": "2024-07-31T01:07:01.594Z"
   },
   {
    "duration": 11,
    "start_time": "2024-07-31T01:07:01.603Z"
   },
   {
    "duration": 438,
    "start_time": "2024-07-31T01:07:01.617Z"
   },
   {
    "duration": 65,
    "start_time": "2024-07-31T01:07:02.058Z"
   },
   {
    "duration": 4,
    "start_time": "2024-07-31T01:07:02.126Z"
   },
   {
    "duration": 335,
    "start_time": "2024-07-31T19:25:51.739Z"
   },
   {
    "duration": 518,
    "start_time": "2024-07-31T19:25:56.359Z"
   },
   {
    "duration": 1737,
    "start_time": "2024-07-31T19:25:56.881Z"
   },
   {
    "duration": 42,
    "start_time": "2024-07-31T19:25:58.621Z"
   },
   {
    "duration": 22,
    "start_time": "2024-07-31T19:25:58.667Z"
   },
   {
    "duration": 51,
    "start_time": "2024-07-31T19:25:58.692Z"
   },
   {
    "duration": 19,
    "start_time": "2024-07-31T19:25:58.746Z"
   },
   {
    "duration": 19,
    "start_time": "2024-07-31T19:25:58.768Z"
   },
   {
    "duration": 237,
    "start_time": "2024-07-31T19:25:58.791Z"
   },
   {
    "duration": 178,
    "start_time": "2024-07-31T19:25:59.031Z"
   },
   {
    "duration": 20,
    "start_time": "2024-07-31T19:25:59.217Z"
   },
   {
    "duration": 207,
    "start_time": "2024-07-31T19:25:59.241Z"
   },
   {
    "duration": 181,
    "start_time": "2024-07-31T19:25:59.450Z"
   },
   {
    "duration": 52,
    "start_time": "2024-07-31T19:25:59.634Z"
   },
   {
    "duration": 50,
    "start_time": "2024-07-31T19:25:59.689Z"
   },
   {
    "duration": 13,
    "start_time": "2024-07-31T19:25:59.742Z"
   },
   {
    "duration": 29,
    "start_time": "2024-07-31T19:25:59.758Z"
   },
   {
    "duration": 65,
    "start_time": "2024-07-31T19:25:59.790Z"
   },
   {
    "duration": 8,
    "start_time": "2024-07-31T19:25:59.858Z"
   },
   {
    "duration": 9,
    "start_time": "2024-07-31T19:25:59.869Z"
   },
   {
    "duration": 10,
    "start_time": "2024-07-31T19:25:59.882Z"
   },
   {
    "duration": 10,
    "start_time": "2024-07-31T19:25:59.931Z"
   },
   {
    "duration": 1369,
    "start_time": "2024-07-31T19:25:59.945Z"
   },
   {
    "duration": 650,
    "start_time": "2024-07-31T19:26:01.317Z"
   },
   {
    "duration": 20,
    "start_time": "2024-07-31T19:26:01.971Z"
   },
   {
    "duration": 40,
    "start_time": "2024-07-31T19:26:01.994Z"
   },
   {
    "duration": 17,
    "start_time": "2024-07-31T19:26:02.037Z"
   },
   {
    "duration": 14,
    "start_time": "2024-07-31T19:26:02.059Z"
   },
   {
    "duration": 3,
    "start_time": "2024-07-31T19:26:02.082Z"
   },
   {
    "duration": 59,
    "start_time": "2024-07-31T19:26:02.088Z"
   },
   {
    "duration": 8,
    "start_time": "2024-07-31T19:26:02.150Z"
   },
   {
    "duration": 13,
    "start_time": "2024-07-31T19:26:02.161Z"
   },
   {
    "duration": 58,
    "start_time": "2024-07-31T19:26:02.177Z"
   },
   {
    "duration": 13,
    "start_time": "2024-07-31T19:26:02.238Z"
   },
   {
    "duration": 19,
    "start_time": "2024-07-31T19:26:02.254Z"
   },
   {
    "duration": 56,
    "start_time": "2024-07-31T19:26:02.276Z"
   },
   {
    "duration": 6,
    "start_time": "2024-07-31T19:26:02.335Z"
   },
   {
    "duration": 11,
    "start_time": "2024-07-31T19:26:02.345Z"
   },
   {
    "duration": 29,
    "start_time": "2024-07-31T19:26:02.359Z"
   },
   {
    "duration": 59,
    "start_time": "2024-07-31T19:26:02.391Z"
   },
   {
    "duration": 29,
    "start_time": "2024-07-31T19:26:02.452Z"
   },
   {
    "duration": 66,
    "start_time": "2024-07-31T19:26:02.484Z"
   },
   {
    "duration": 13,
    "start_time": "2024-07-31T19:26:02.553Z"
   },
   {
    "duration": 538,
    "start_time": "2024-07-31T19:26:02.570Z"
   },
   {
    "duration": 557,
    "start_time": "2024-07-31T19:26:03.110Z"
   },
   {
    "duration": 124,
    "start_time": "2024-07-31T19:26:03.670Z"
   },
   {
    "duration": 114,
    "start_time": "2024-07-31T19:26:03.797Z"
   },
   {
    "duration": 72,
    "start_time": "2024-07-31T19:26:03.914Z"
   },
   {
    "duration": 17,
    "start_time": "2024-07-31T19:26:03.990Z"
   },
   {
    "duration": 12,
    "start_time": "2024-07-31T19:26:04.030Z"
   },
   {
    "duration": 4119,
    "start_time": "2024-07-31T19:26:04.045Z"
   },
   {
    "duration": 6,
    "start_time": "2024-07-31T19:26:08.166Z"
   },
   {
    "duration": 417,
    "start_time": "2024-07-31T19:26:08.175Z"
   },
   {
    "duration": 15,
    "start_time": "2024-07-31T19:26:08.595Z"
   },
   {
    "duration": 4,
    "start_time": "2024-07-31T19:26:08.631Z"
   },
   {
    "duration": 238,
    "start_time": "2024-07-31T19:26:08.638Z"
   },
   {
    "duration": 18,
    "start_time": "2024-07-31T19:26:08.879Z"
   },
   {
    "duration": 32,
    "start_time": "2024-07-31T19:26:08.901Z"
   },
   {
    "duration": 8,
    "start_time": "2024-07-31T19:26:08.935Z"
   },
   {
    "duration": 385,
    "start_time": "2024-07-31T19:26:08.946Z"
   },
   {
    "duration": 11,
    "start_time": "2024-07-31T19:26:09.334Z"
   },
   {
    "duration": 4,
    "start_time": "2024-07-31T19:26:09.348Z"
   },
   {
    "duration": 15,
    "start_time": "2024-07-31T19:26:09.355Z"
   },
   {
    "duration": 4,
    "start_time": "2024-07-31T19:26:09.373Z"
   },
   {
    "duration": 58,
    "start_time": "2024-07-31T19:26:09.380Z"
   },
   {
    "duration": 6,
    "start_time": "2024-07-31T19:26:09.441Z"
   },
   {
    "duration": 11,
    "start_time": "2024-07-31T19:26:09.450Z"
   },
   {
    "duration": 434,
    "start_time": "2024-07-31T19:26:09.464Z"
   },
   {
    "duration": 64,
    "start_time": "2024-07-31T19:26:09.901Z"
   },
   {
    "duration": 4,
    "start_time": "2024-07-31T19:26:09.968Z"
   },
   {
    "duration": 318,
    "start_time": "2024-07-31T19:27:38.264Z"
   },
   {
    "duration": 22,
    "start_time": "2024-07-31T19:28:25.426Z"
   },
   {
    "duration": 452,
    "start_time": "2024-07-31T19:28:29.691Z"
   },
   {
    "duration": 45,
    "start_time": "2024-07-31T19:30:04.365Z"
   },
   {
    "duration": 24,
    "start_time": "2024-07-31T19:30:06.505Z"
   },
   {
    "duration": 504,
    "start_time": "2024-07-31T19:30:22.838Z"
   },
   {
    "duration": 1659,
    "start_time": "2024-07-31T19:30:23.346Z"
   },
   {
    "duration": 44,
    "start_time": "2024-07-31T19:30:25.007Z"
   },
   {
    "duration": 23,
    "start_time": "2024-07-31T19:30:25.055Z"
   },
   {
    "duration": 49,
    "start_time": "2024-07-31T19:30:25.081Z"
   },
   {
    "duration": 19,
    "start_time": "2024-07-31T19:30:25.133Z"
   },
   {
    "duration": 19,
    "start_time": "2024-07-31T19:30:25.155Z"
   },
   {
    "duration": 226,
    "start_time": "2024-07-31T19:30:25.177Z"
   },
   {
    "duration": 182,
    "start_time": "2024-07-31T19:30:25.406Z"
   },
   {
    "duration": 14,
    "start_time": "2024-07-31T19:30:25.594Z"
   },
   {
    "duration": 219,
    "start_time": "2024-07-31T19:30:25.611Z"
   },
   {
    "duration": 186,
    "start_time": "2024-07-31T19:30:25.833Z"
   },
   {
    "duration": 59,
    "start_time": "2024-07-31T19:30:26.021Z"
   },
   {
    "duration": 28,
    "start_time": "2024-07-31T19:30:26.084Z"
   },
   {
    "duration": 13,
    "start_time": "2024-07-31T19:30:26.132Z"
   },
   {
    "duration": 30,
    "start_time": "2024-07-31T19:30:26.148Z"
   },
   {
    "duration": 72,
    "start_time": "2024-07-31T19:30:26.181Z"
   },
   {
    "duration": 11,
    "start_time": "2024-07-31T19:30:26.256Z"
   },
   {
    "duration": 11,
    "start_time": "2024-07-31T19:30:26.269Z"
   },
   {
    "duration": 16,
    "start_time": "2024-07-31T19:30:26.284Z"
   },
   {
    "duration": 13,
    "start_time": "2024-07-31T19:30:26.335Z"
   },
   {
    "duration": 1439,
    "start_time": "2024-07-31T19:30:26.351Z"
   },
   {
    "duration": 606,
    "start_time": "2024-07-31T19:30:27.793Z"
   },
   {
    "duration": 40,
    "start_time": "2024-07-31T19:30:28.402Z"
   },
   {
    "duration": 19,
    "start_time": "2024-07-31T19:30:28.445Z"
   },
   {
    "duration": 20,
    "start_time": "2024-07-31T19:30:28.467Z"
   },
   {
    "duration": 15,
    "start_time": "2024-07-31T19:30:28.491Z"
   },
   {
    "duration": 4,
    "start_time": "2024-07-31T19:30:28.532Z"
   },
   {
    "duration": 19,
    "start_time": "2024-07-31T19:30:28.544Z"
   },
   {
    "duration": 9,
    "start_time": "2024-07-31T19:30:28.566Z"
   },
   {
    "duration": 11,
    "start_time": "2024-07-31T19:30:28.577Z"
   },
   {
    "duration": 17,
    "start_time": "2024-07-31T19:30:28.630Z"
   },
   {
    "duration": 12,
    "start_time": "2024-07-31T19:30:28.650Z"
   },
   {
    "duration": 18,
    "start_time": "2024-07-31T19:30:28.664Z"
   },
   {
    "duration": 48,
    "start_time": "2024-07-31T19:30:28.685Z"
   },
   {
    "duration": 5,
    "start_time": "2024-07-31T19:30:28.736Z"
   },
   {
    "duration": 11,
    "start_time": "2024-07-31T19:30:28.744Z"
   },
   {
    "duration": 28,
    "start_time": "2024-07-31T19:30:28.757Z"
   },
   {
    "duration": 20,
    "start_time": "2024-07-31T19:30:28.829Z"
   },
   {
    "duration": 27,
    "start_time": "2024-07-31T19:30:28.852Z"
   },
   {
    "duration": 64,
    "start_time": "2024-07-31T19:30:28.881Z"
   },
   {
    "duration": 13,
    "start_time": "2024-07-31T19:30:28.948Z"
   },
   {
    "duration": 517,
    "start_time": "2024-07-31T19:30:28.964Z"
   },
   {
    "duration": 553,
    "start_time": "2024-07-31T19:30:29.484Z"
   },
   {
    "duration": 123,
    "start_time": "2024-07-31T19:30:30.040Z"
   },
   {
    "duration": 116,
    "start_time": "2024-07-31T19:30:30.166Z"
   },
   {
    "duration": 74,
    "start_time": "2024-07-31T19:30:30.285Z"
   },
   {
    "duration": 17,
    "start_time": "2024-07-31T19:30:30.362Z"
   },
   {
    "duration": 13,
    "start_time": "2024-07-31T19:30:30.381Z"
   },
   {
    "duration": 266,
    "start_time": "2024-07-31T19:30:30.397Z"
   },
   {
    "duration": 6,
    "start_time": "2024-07-31T19:30:30.665Z"
   },
   {
    "duration": 410,
    "start_time": "2024-07-31T19:30:30.674Z"
   },
   {
    "duration": 12,
    "start_time": "2024-07-31T19:30:31.087Z"
   },
   {
    "duration": 4,
    "start_time": "2024-07-31T19:30:31.102Z"
   },
   {
    "duration": 221,
    "start_time": "2024-07-31T19:30:31.131Z"
   },
   {
    "duration": 18,
    "start_time": "2024-07-31T19:30:31.354Z"
   },
   {
    "duration": 7,
    "start_time": "2024-07-31T19:30:31.374Z"
   },
   {
    "duration": 8,
    "start_time": "2024-07-31T19:30:31.384Z"
   },
   {
    "duration": 422,
    "start_time": "2024-07-31T19:30:31.430Z"
   },
   {
    "duration": 10,
    "start_time": "2024-07-31T19:30:31.856Z"
   },
   {
    "duration": 5,
    "start_time": "2024-07-31T19:30:31.868Z"
   },
   {
    "duration": 13,
    "start_time": "2024-07-31T19:30:31.877Z"
   },
   {
    "duration": 3,
    "start_time": "2024-07-31T19:30:31.930Z"
   },
   {
    "duration": 14,
    "start_time": "2024-07-31T19:30:31.936Z"
   },
   {
    "duration": 8,
    "start_time": "2024-07-31T19:30:31.953Z"
   },
   {
    "duration": 11,
    "start_time": "2024-07-31T19:30:31.964Z"
   },
   {
    "duration": 497,
    "start_time": "2024-07-31T19:30:31.978Z"
   },
   {
    "duration": 62,
    "start_time": "2024-07-31T19:30:32.479Z"
   },
   {
    "duration": 5,
    "start_time": "2024-07-31T19:30:32.543Z"
   },
   {
    "duration": 15,
    "start_time": "2024-07-31T19:37:37.213Z"
   },
   {
    "duration": 346,
    "start_time": "2024-07-31T19:45:57.067Z"
   },
   {
    "duration": 21,
    "start_time": "2024-07-31T19:46:40.506Z"
   },
   {
    "duration": 20,
    "start_time": "2024-07-31T19:47:00.147Z"
   },
   {
    "duration": 21,
    "start_time": "2024-07-31T19:47:49.821Z"
   },
   {
    "duration": 21,
    "start_time": "2024-07-31T19:47:51.408Z"
   },
   {
    "duration": 20,
    "start_time": "2024-07-31T19:49:10.753Z"
   },
   {
    "duration": 511,
    "start_time": "2024-07-31T19:49:12.921Z"
   },
   {
    "duration": 45,
    "start_time": "2024-07-31T19:49:15.855Z"
   },
   {
    "duration": 547,
    "start_time": "2024-07-31T19:50:16.030Z"
   },
   {
    "duration": 1737,
    "start_time": "2024-07-31T19:50:16.584Z"
   },
   {
    "duration": 36,
    "start_time": "2024-07-31T19:50:18.324Z"
   },
   {
    "duration": 23,
    "start_time": "2024-07-31T19:50:18.365Z"
   },
   {
    "duration": 52,
    "start_time": "2024-07-31T19:50:18.391Z"
   },
   {
    "duration": 20,
    "start_time": "2024-07-31T19:50:18.446Z"
   },
   {
    "duration": 61,
    "start_time": "2024-07-31T19:50:18.471Z"
   },
   {
    "duration": 188,
    "start_time": "2024-07-31T19:50:18.535Z"
   },
   {
    "duration": 175,
    "start_time": "2024-07-31T19:50:18.732Z"
   },
   {
    "duration": 21,
    "start_time": "2024-07-31T19:50:18.915Z"
   },
   {
    "duration": 205,
    "start_time": "2024-07-31T19:50:18.939Z"
   },
   {
    "duration": 179,
    "start_time": "2024-07-31T19:50:19.146Z"
   },
   {
    "duration": 51,
    "start_time": "2024-07-31T19:50:19.331Z"
   },
   {
    "duration": 48,
    "start_time": "2024-07-31T19:50:19.385Z"
   },
   {
    "duration": 14,
    "start_time": "2024-07-31T19:50:19.436Z"
   },
   {
    "duration": 31,
    "start_time": "2024-07-31T19:50:19.453Z"
   },
   {
    "duration": 65,
    "start_time": "2024-07-31T19:50:19.487Z"
   },
   {
    "duration": 12,
    "start_time": "2024-07-31T19:50:19.555Z"
   },
   {
    "duration": 11,
    "start_time": "2024-07-31T19:50:19.570Z"
   },
   {
    "duration": 48,
    "start_time": "2024-07-31T19:50:19.584Z"
   },
   {
    "duration": 11,
    "start_time": "2024-07-31T19:50:19.635Z"
   },
   {
    "duration": 1381,
    "start_time": "2024-07-31T19:50:19.649Z"
   },
   {
    "duration": 616,
    "start_time": "2024-07-31T19:50:21.033Z"
   },
   {
    "duration": 19,
    "start_time": "2024-07-31T19:50:21.652Z"
   },
   {
    "duration": 8,
    "start_time": "2024-07-31T19:50:21.675Z"
   },
   {
    "duration": 45,
    "start_time": "2024-07-31T19:50:21.687Z"
   },
   {
    "duration": 14,
    "start_time": "2024-07-31T19:50:21.736Z"
   },
   {
    "duration": 4,
    "start_time": "2024-07-31T19:50:21.763Z"
   },
   {
    "duration": 28,
    "start_time": "2024-07-31T19:50:21.771Z"
   },
   {
    "duration": 10,
    "start_time": "2024-07-31T19:50:21.831Z"
   },
   {
    "duration": 10,
    "start_time": "2024-07-31T19:50:21.846Z"
   },
   {
    "duration": 16,
    "start_time": "2024-07-31T19:50:21.860Z"
   },
   {
    "duration": 11,
    "start_time": "2024-07-31T19:50:21.879Z"
   },
   {
    "duration": 19,
    "start_time": "2024-07-31T19:50:21.932Z"
   },
   {
    "duration": 12,
    "start_time": "2024-07-31T19:50:21.954Z"
   },
   {
    "duration": 6,
    "start_time": "2024-07-31T19:50:21.969Z"
   },
   {
    "duration": 67,
    "start_time": "2024-07-31T19:50:21.977Z"
   },
   {
    "duration": 29,
    "start_time": "2024-07-31T19:50:22.050Z"
   },
   {
    "duration": 19,
    "start_time": "2024-07-31T19:50:22.081Z"
   },
   {
    "duration": 54,
    "start_time": "2024-07-31T19:50:22.104Z"
   },
   {
    "duration": 29,
    "start_time": "2024-07-31T19:50:22.161Z"
   },
   {
    "duration": 47,
    "start_time": "2024-07-31T19:50:22.193Z"
   },
   {
    "duration": 527,
    "start_time": "2024-07-31T19:50:22.245Z"
   },
   {
    "duration": 564,
    "start_time": "2024-07-31T19:50:22.775Z"
   },
   {
    "duration": 120,
    "start_time": "2024-07-31T19:50:23.341Z"
   },
   {
    "duration": 114,
    "start_time": "2024-07-31T19:50:23.464Z"
   },
   {
    "duration": 75,
    "start_time": "2024-07-31T19:50:23.581Z"
   },
   {
    "duration": 16,
    "start_time": "2024-07-31T19:50:23.658Z"
   },
   {
    "duration": 21,
    "start_time": "2024-07-31T19:50:23.677Z"
   },
   {
    "duration": 263,
    "start_time": "2024-07-31T19:50:23.701Z"
   },
   {
    "duration": 6,
    "start_time": "2024-07-31T19:50:23.967Z"
   },
   {
    "duration": 405,
    "start_time": "2024-07-31T19:50:23.976Z"
   },
   {
    "duration": 14,
    "start_time": "2024-07-31T19:50:24.386Z"
   },
   {
    "duration": 3,
    "start_time": "2024-07-31T19:50:24.403Z"
   },
   {
    "duration": 246,
    "start_time": "2024-07-31T19:50:24.410Z"
   },
   {
    "duration": 17,
    "start_time": "2024-07-31T19:50:24.659Z"
   },
   {
    "duration": 7,
    "start_time": "2024-07-31T19:50:24.679Z"
   },
   {
    "duration": 42,
    "start_time": "2024-07-31T19:50:24.688Z"
   },
   {
    "duration": 407,
    "start_time": "2024-07-31T19:50:24.733Z"
   },
   {
    "duration": 9,
    "start_time": "2024-07-31T19:50:25.143Z"
   },
   {
    "duration": 5,
    "start_time": "2024-07-31T19:50:25.155Z"
   },
   {
    "duration": 17,
    "start_time": "2024-07-31T19:50:25.166Z"
   },
   {
    "duration": 4,
    "start_time": "2024-07-31T19:50:25.186Z"
   },
   {
    "duration": 16,
    "start_time": "2024-07-31T19:50:25.232Z"
   },
   {
    "duration": 5,
    "start_time": "2024-07-31T19:50:25.251Z"
   },
   {
    "duration": 11,
    "start_time": "2024-07-31T19:50:25.260Z"
   },
   {
    "duration": 433,
    "start_time": "2024-07-31T19:50:25.274Z"
   },
   {
    "duration": 65,
    "start_time": "2024-07-31T19:50:25.710Z"
   },
   {
    "duration": 4,
    "start_time": "2024-07-31T19:50:25.778Z"
   },
   {
    "duration": 482,
    "start_time": "2024-07-31T19:53:40.954Z"
   },
   {
    "duration": 334,
    "start_time": "2024-07-31T19:53:42.890Z"
   },
   {
    "duration": 3,
    "start_time": "2024-07-31T19:53:54.775Z"
   },
   {
    "duration": 26,
    "start_time": "2024-07-31T19:53:56.383Z"
   },
   {
    "duration": 22,
    "start_time": "2024-07-31T19:54:09.627Z"
   },
   {
    "duration": 21,
    "start_time": "2024-07-31T19:54:11.879Z"
   },
   {
    "duration": 21,
    "start_time": "2024-07-31T19:54:14.903Z"
   },
   {
    "duration": 29,
    "start_time": "2024-07-31T19:54:17.311Z"
   },
   {
    "duration": 311,
    "start_time": "2024-07-31T19:55:35.620Z"
   },
   {
    "duration": 1866,
    "start_time": "2024-07-31T19:55:35.935Z"
   },
   {
    "duration": 37,
    "start_time": "2024-07-31T19:55:37.804Z"
   },
   {
    "duration": 24,
    "start_time": "2024-07-31T19:55:37.844Z"
   },
   {
    "duration": 19,
    "start_time": "2024-07-31T19:55:37.873Z"
   },
   {
    "duration": 19,
    "start_time": "2024-07-31T19:55:37.932Z"
   },
   {
    "duration": 18,
    "start_time": "2024-07-31T19:55:37.954Z"
   },
   {
    "duration": 213,
    "start_time": "2024-07-31T19:55:37.975Z"
   },
   {
    "duration": 179,
    "start_time": "2024-07-31T19:55:38.191Z"
   },
   {
    "duration": 15,
    "start_time": "2024-07-31T19:55:38.372Z"
   },
   {
    "duration": 227,
    "start_time": "2024-07-31T19:55:38.390Z"
   },
   {
    "duration": 181,
    "start_time": "2024-07-31T19:55:38.620Z"
   },
   {
    "duration": 64,
    "start_time": "2024-07-31T19:55:38.805Z"
   },
   {
    "duration": 27,
    "start_time": "2024-07-31T19:55:38.877Z"
   },
   {
    "duration": 31,
    "start_time": "2024-07-31T19:55:38.907Z"
   },
   {
    "duration": 31,
    "start_time": "2024-07-31T19:55:38.941Z"
   },
   {
    "duration": 56,
    "start_time": "2024-07-31T19:55:38.975Z"
   },
   {
    "duration": 10,
    "start_time": "2024-07-31T19:55:39.034Z"
   },
   {
    "duration": 11,
    "start_time": "2024-07-31T19:55:39.047Z"
   },
   {
    "duration": 9,
    "start_time": "2024-07-31T19:55:39.062Z"
   },
   {
    "duration": 10,
    "start_time": "2024-07-31T19:55:39.074Z"
   },
   {
    "duration": 1394,
    "start_time": "2024-07-31T19:55:39.086Z"
   },
   {
    "duration": 622,
    "start_time": "2024-07-31T19:55:40.483Z"
   },
   {
    "duration": 28,
    "start_time": "2024-07-31T19:55:41.108Z"
   },
   {
    "duration": 9,
    "start_time": "2024-07-31T19:55:41.139Z"
   },
   {
    "duration": 13,
    "start_time": "2024-07-31T19:55:41.151Z"
   },
   {
    "duration": 13,
    "start_time": "2024-07-31T19:55:41.166Z"
   },
   {
    "duration": 49,
    "start_time": "2024-07-31T19:55:41.182Z"
   },
   {
    "duration": 17,
    "start_time": "2024-07-31T19:55:41.235Z"
   },
   {
    "duration": 7,
    "start_time": "2024-07-31T19:55:41.255Z"
   },
   {
    "duration": 11,
    "start_time": "2024-07-31T19:55:41.265Z"
   },
   {
    "duration": 58,
    "start_time": "2024-07-31T19:55:41.279Z"
   },
   {
    "duration": 12,
    "start_time": "2024-07-31T19:55:41.340Z"
   },
   {
    "duration": 18,
    "start_time": "2024-07-31T19:55:41.355Z"
   },
   {
    "duration": 12,
    "start_time": "2024-07-31T19:55:41.376Z"
   },
   {
    "duration": 43,
    "start_time": "2024-07-31T19:55:41.390Z"
   },
   {
    "duration": 12,
    "start_time": "2024-07-31T19:55:41.436Z"
   },
   {
    "duration": 29,
    "start_time": "2024-07-31T19:55:41.450Z"
   },
   {
    "duration": 59,
    "start_time": "2024-07-31T19:55:41.481Z"
   },
   {
    "duration": 30,
    "start_time": "2024-07-31T19:55:41.543Z"
   },
   {
    "duration": 51,
    "start_time": "2024-07-31T19:55:41.584Z"
   },
   {
    "duration": 14,
    "start_time": "2024-07-31T19:55:41.638Z"
   },
   {
    "duration": 560,
    "start_time": "2024-07-31T19:55:41.655Z"
   },
   {
    "duration": 566,
    "start_time": "2024-07-31T19:55:42.219Z"
   },
   {
    "duration": 121,
    "start_time": "2024-07-31T19:55:42.788Z"
   },
   {
    "duration": 119,
    "start_time": "2024-07-31T19:55:42.912Z"
   },
   {
    "duration": 64,
    "start_time": "2024-07-31T19:55:43.035Z"
   },
   {
    "duration": 35,
    "start_time": "2024-07-31T19:55:43.103Z"
   },
   {
    "duration": 13,
    "start_time": "2024-07-31T19:55:43.141Z"
   },
   {
    "duration": 3,
    "start_time": "2024-07-31T19:55:43.157Z"
   },
   {
    "duration": 6,
    "start_time": "2024-07-31T19:55:43.164Z"
   },
   {
    "duration": 387,
    "start_time": "2024-07-31T19:55:43.173Z"
   },
   {
    "duration": 13,
    "start_time": "2024-07-31T19:55:43.563Z"
   },
   {
    "duration": 4,
    "start_time": "2024-07-31T19:55:43.578Z"
   },
   {
    "duration": 245,
    "start_time": "2024-07-31T19:55:43.585Z"
   },
   {
    "duration": 17,
    "start_time": "2024-07-31T19:55:43.834Z"
   },
   {
    "duration": 8,
    "start_time": "2024-07-31T19:55:43.854Z"
   },
   {
    "duration": 7,
    "start_time": "2024-07-31T19:55:43.865Z"
   },
   {
    "duration": 421,
    "start_time": "2024-07-31T19:55:43.875Z"
   },
   {
    "duration": 9,
    "start_time": "2024-07-31T19:55:44.299Z"
   },
   {
    "duration": 17,
    "start_time": "2024-07-31T19:55:44.314Z"
   },
   {
    "duration": 14,
    "start_time": "2024-07-31T19:55:44.333Z"
   },
   {
    "duration": 4,
    "start_time": "2024-07-31T19:55:44.350Z"
   },
   {
    "duration": 15,
    "start_time": "2024-07-31T19:55:44.357Z"
   },
   {
    "duration": 7,
    "start_time": "2024-07-31T19:55:44.375Z"
   },
   {
    "duration": 13,
    "start_time": "2024-07-31T19:55:44.431Z"
   },
   {
    "duration": 418,
    "start_time": "2024-07-31T19:55:44.449Z"
   },
   {
    "duration": 63,
    "start_time": "2024-07-31T19:55:44.870Z"
   },
   {
    "duration": 3,
    "start_time": "2024-07-31T19:55:44.936Z"
   },
   {
    "duration": 14,
    "start_time": "2024-07-31T19:57:55.330Z"
   },
   {
    "duration": 330,
    "start_time": "2024-07-31T20:02:32.037Z"
   },
   {
    "duration": 20,
    "start_time": "2024-07-31T20:03:18.949Z"
   },
   {
    "duration": 3,
    "start_time": "2024-07-31T20:06:20.882Z"
   },
   {
    "duration": 1510,
    "start_time": "2024-07-31T20:06:20.889Z"
   },
   {
    "duration": 38,
    "start_time": "2024-07-31T20:06:22.402Z"
   },
   {
    "duration": 23,
    "start_time": "2024-07-31T20:06:22.446Z"
   },
   {
    "duration": 18,
    "start_time": "2024-07-31T20:06:22.475Z"
   },
   {
    "duration": 58,
    "start_time": "2024-07-31T20:06:22.496Z"
   },
   {
    "duration": 22,
    "start_time": "2024-07-31T20:06:22.557Z"
   },
   {
    "duration": 193,
    "start_time": "2024-07-31T20:06:22.583Z"
   },
   {
    "duration": 153,
    "start_time": "2024-07-31T20:06:22.779Z"
   },
   {
    "duration": 14,
    "start_time": "2024-07-31T20:06:22.935Z"
   },
   {
    "duration": 187,
    "start_time": "2024-07-31T20:06:22.952Z"
   },
   {
    "duration": 164,
    "start_time": "2024-07-31T20:06:23.142Z"
   },
   {
    "duration": 54,
    "start_time": "2024-07-31T20:06:23.309Z"
   },
   {
    "duration": 25,
    "start_time": "2024-07-31T20:06:23.370Z"
   },
   {
    "duration": 35,
    "start_time": "2024-07-31T20:06:23.397Z"
   },
   {
    "duration": 32,
    "start_time": "2024-07-31T20:06:23.434Z"
   },
   {
    "duration": 60,
    "start_time": "2024-07-31T20:06:23.469Z"
   },
   {
    "duration": 9,
    "start_time": "2024-07-31T20:06:23.533Z"
   },
   {
    "duration": 10,
    "start_time": "2024-07-31T20:06:23.544Z"
   },
   {
    "duration": 10,
    "start_time": "2024-07-31T20:06:23.557Z"
   },
   {
    "duration": 10,
    "start_time": "2024-07-31T20:06:23.570Z"
   },
   {
    "duration": 1378,
    "start_time": "2024-07-31T20:06:23.583Z"
   },
   {
    "duration": 578,
    "start_time": "2024-07-31T20:06:24.964Z"
   },
   {
    "duration": 18,
    "start_time": "2024-07-31T20:06:25.546Z"
   },
   {
    "duration": 8,
    "start_time": "2024-07-31T20:06:25.567Z"
   },
   {
    "duration": 53,
    "start_time": "2024-07-31T20:06:25.578Z"
   },
   {
    "duration": 16,
    "start_time": "2024-07-31T20:06:25.634Z"
   },
   {
    "duration": 4,
    "start_time": "2024-07-31T20:06:25.653Z"
   },
   {
    "duration": 18,
    "start_time": "2024-07-31T20:06:25.660Z"
   },
   {
    "duration": 8,
    "start_time": "2024-07-31T20:06:25.681Z"
   },
   {
    "duration": 50,
    "start_time": "2024-07-31T20:06:25.691Z"
   },
   {
    "duration": 16,
    "start_time": "2024-07-31T20:06:25.744Z"
   },
   {
    "duration": 14,
    "start_time": "2024-07-31T20:06:25.763Z"
   },
   {
    "duration": 59,
    "start_time": "2024-07-31T20:06:25.781Z"
   },
   {
    "duration": 12,
    "start_time": "2024-07-31T20:06:25.843Z"
   },
   {
    "duration": 5,
    "start_time": "2024-07-31T20:06:25.858Z"
   },
   {
    "duration": 12,
    "start_time": "2024-07-31T20:06:25.865Z"
   },
   {
    "duration": 73,
    "start_time": "2024-07-31T20:06:25.879Z"
   },
   {
    "duration": 21,
    "start_time": "2024-07-31T20:06:25.955Z"
   },
   {
    "duration": 64,
    "start_time": "2024-07-31T20:06:25.980Z"
   },
   {
    "duration": 27,
    "start_time": "2024-07-31T20:06:26.056Z"
   },
   {
    "duration": 15,
    "start_time": "2024-07-31T20:06:26.088Z"
   },
   {
    "duration": 536,
    "start_time": "2024-07-31T20:06:26.131Z"
   },
   {
    "duration": 595,
    "start_time": "2024-07-31T20:06:26.670Z"
   },
   {
    "duration": 130,
    "start_time": "2024-07-31T20:06:27.272Z"
   },
   {
    "duration": 120,
    "start_time": "2024-07-31T20:06:27.405Z"
   },
   {
    "duration": 76,
    "start_time": "2024-07-31T20:06:27.534Z"
   },
   {
    "duration": 31,
    "start_time": "2024-07-31T20:06:27.614Z"
   },
   {
    "duration": 13,
    "start_time": "2024-07-31T20:06:27.648Z"
   },
   {
    "duration": 260,
    "start_time": "2024-07-31T20:06:27.664Z"
   },
   {
    "duration": 6,
    "start_time": "2024-07-31T20:06:27.930Z"
   },
   {
    "duration": 413,
    "start_time": "2024-07-31T20:06:27.939Z"
   },
   {
    "duration": 11,
    "start_time": "2024-07-31T20:06:28.357Z"
   },
   {
    "duration": 4,
    "start_time": "2024-07-31T20:06:28.371Z"
   },
   {
    "duration": 238,
    "start_time": "2024-07-31T20:06:28.378Z"
   },
   {
    "duration": 26,
    "start_time": "2024-07-31T20:06:28.619Z"
   },
   {
    "duration": 9,
    "start_time": "2024-07-31T20:06:28.650Z"
   },
   {
    "duration": 8,
    "start_time": "2024-07-31T20:06:28.662Z"
   },
   {
    "duration": 401,
    "start_time": "2024-07-31T20:06:28.673Z"
   },
   {
    "duration": 11,
    "start_time": "2024-07-31T20:06:29.077Z"
   },
   {
    "duration": 5,
    "start_time": "2024-07-31T20:06:29.091Z"
   },
   {
    "duration": 38,
    "start_time": "2024-07-31T20:06:29.099Z"
   },
   {
    "duration": 5,
    "start_time": "2024-07-31T20:06:29.139Z"
   },
   {
    "duration": 14,
    "start_time": "2024-07-31T20:06:29.147Z"
   },
   {
    "duration": 7,
    "start_time": "2024-07-31T20:06:29.164Z"
   },
   {
    "duration": 12,
    "start_time": "2024-07-31T20:06:29.174Z"
   },
   {
    "duration": 406,
    "start_time": "2024-07-31T20:06:29.232Z"
   },
   {
    "duration": 53,
    "start_time": "2024-07-31T20:06:29.641Z"
   },
   {
    "duration": 5,
    "start_time": "2024-07-31T20:06:29.697Z"
   },
   {
    "duration": 326,
    "start_time": "2024-07-31T20:38:08.538Z"
   },
   {
    "duration": 21,
    "start_time": "2024-07-31T20:39:15.212Z"
   },
   {
    "duration": 21,
    "start_time": "2024-07-31T20:39:31.028Z"
   },
   {
    "duration": 22,
    "start_time": "2024-07-31T20:39:35.356Z"
   },
   {
    "duration": 438,
    "start_time": "2024-07-31T20:39:38.796Z"
   },
   {
    "duration": 1665,
    "start_time": "2024-07-31T20:39:39.238Z"
   },
   {
    "duration": 41,
    "start_time": "2024-07-31T20:39:40.905Z"
   },
   {
    "duration": 25,
    "start_time": "2024-07-31T20:39:40.949Z"
   },
   {
    "duration": 55,
    "start_time": "2024-07-31T20:39:40.979Z"
   },
   {
    "duration": 19,
    "start_time": "2024-07-31T20:39:41.037Z"
   },
   {
    "duration": 19,
    "start_time": "2024-07-31T20:39:41.060Z"
   },
   {
    "duration": 220,
    "start_time": "2024-07-31T20:39:41.082Z"
   },
   {
    "duration": 177,
    "start_time": "2024-07-31T20:39:41.305Z"
   },
   {
    "duration": 15,
    "start_time": "2024-07-31T20:39:41.487Z"
   },
   {
    "duration": 213,
    "start_time": "2024-07-31T20:39:41.505Z"
   },
   {
    "duration": 181,
    "start_time": "2024-07-31T20:39:41.720Z"
   },
   {
    "duration": 64,
    "start_time": "2024-07-31T20:39:41.904Z"
   },
   {
    "duration": 25,
    "start_time": "2024-07-31T20:39:41.978Z"
   },
   {
    "duration": 33,
    "start_time": "2024-07-31T20:39:42.006Z"
   },
   {
    "duration": 31,
    "start_time": "2024-07-31T20:39:42.041Z"
   },
   {
    "duration": 61,
    "start_time": "2024-07-31T20:39:42.074Z"
   },
   {
    "duration": 9,
    "start_time": "2024-07-31T20:39:42.138Z"
   },
   {
    "duration": 10,
    "start_time": "2024-07-31T20:39:42.150Z"
   },
   {
    "duration": 10,
    "start_time": "2024-07-31T20:39:42.164Z"
   },
   {
    "duration": 56,
    "start_time": "2024-07-31T20:39:42.177Z"
   },
   {
    "duration": 1347,
    "start_time": "2024-07-31T20:39:42.236Z"
   },
   {
    "duration": 613,
    "start_time": "2024-07-31T20:39:43.586Z"
   },
   {
    "duration": 35,
    "start_time": "2024-07-31T20:39:44.202Z"
   },
   {
    "duration": 9,
    "start_time": "2024-07-31T20:39:44.240Z"
   },
   {
    "duration": 12,
    "start_time": "2024-07-31T20:39:44.252Z"
   },
   {
    "duration": 11,
    "start_time": "2024-07-31T20:39:44.268Z"
   },
   {
    "duration": 4,
    "start_time": "2024-07-31T20:39:44.282Z"
   },
   {
    "duration": 62,
    "start_time": "2024-07-31T20:39:44.289Z"
   },
   {
    "duration": 7,
    "start_time": "2024-07-31T20:39:44.354Z"
   },
   {
    "duration": 10,
    "start_time": "2024-07-31T20:39:44.365Z"
   },
   {
    "duration": 57,
    "start_time": "2024-07-31T20:39:44.378Z"
   },
   {
    "duration": 11,
    "start_time": "2024-07-31T20:39:44.438Z"
   },
   {
    "duration": 20,
    "start_time": "2024-07-31T20:39:44.452Z"
   },
   {
    "duration": 11,
    "start_time": "2024-07-31T20:39:44.474Z"
   },
   {
    "duration": 48,
    "start_time": "2024-07-31T20:39:44.488Z"
   },
   {
    "duration": 11,
    "start_time": "2024-07-31T20:39:44.539Z"
   },
   {
    "duration": 28,
    "start_time": "2024-07-31T20:39:44.553Z"
   },
   {
    "duration": 59,
    "start_time": "2024-07-31T20:39:44.584Z"
   },
   {
    "duration": 28,
    "start_time": "2024-07-31T20:39:44.645Z"
   },
   {
    "duration": 57,
    "start_time": "2024-07-31T20:39:44.684Z"
   },
   {
    "duration": 13,
    "start_time": "2024-07-31T20:39:44.744Z"
   },
   {
    "duration": 519,
    "start_time": "2024-07-31T20:39:44.760Z"
   },
   {
    "duration": 597,
    "start_time": "2024-07-31T20:39:45.282Z"
   },
   {
    "duration": 124,
    "start_time": "2024-07-31T20:39:45.882Z"
   },
   {
    "duration": 116,
    "start_time": "2024-07-31T20:39:46.009Z"
   },
   {
    "duration": 74,
    "start_time": "2024-07-31T20:39:46.128Z"
   },
   {
    "duration": 35,
    "start_time": "2024-07-31T20:39:46.204Z"
   },
   {
    "duration": 15,
    "start_time": "2024-07-31T20:39:46.243Z"
   },
   {
    "duration": 3932,
    "start_time": "2024-07-31T20:39:46.261Z"
   },
   {
    "duration": 6,
    "start_time": "2024-07-31T20:39:50.196Z"
   },
   {
    "duration": 419,
    "start_time": "2024-07-31T20:39:50.206Z"
   },
   {
    "duration": 13,
    "start_time": "2024-07-31T20:39:50.628Z"
   },
   {
    "duration": 3,
    "start_time": "2024-07-31T20:39:50.644Z"
   },
   {
    "duration": 239,
    "start_time": "2024-07-31T20:39:50.650Z"
   },
   {
    "duration": 18,
    "start_time": "2024-07-31T20:39:50.893Z"
   },
   {
    "duration": 25,
    "start_time": "2024-07-31T20:39:50.914Z"
   },
   {
    "duration": 8,
    "start_time": "2024-07-31T20:39:50.942Z"
   },
   {
    "duration": 401,
    "start_time": "2024-07-31T20:39:50.953Z"
   },
   {
    "duration": 9,
    "start_time": "2024-07-31T20:39:51.357Z"
   },
   {
    "duration": 4,
    "start_time": "2024-07-31T20:39:51.369Z"
   },
   {
    "duration": 15,
    "start_time": "2024-07-31T20:39:51.376Z"
   },
   {
    "duration": 41,
    "start_time": "2024-07-31T20:39:51.394Z"
   },
   {
    "duration": 13,
    "start_time": "2024-07-31T20:39:51.439Z"
   },
   {
    "duration": 6,
    "start_time": "2024-07-31T20:39:51.455Z"
   },
   {
    "duration": 11,
    "start_time": "2024-07-31T20:39:51.464Z"
   },
   {
    "duration": 436,
    "start_time": "2024-07-31T20:39:51.478Z"
   },
   {
    "duration": 65,
    "start_time": "2024-07-31T20:39:51.917Z"
   },
   {
    "duration": 472,
    "start_time": "2024-07-31T20:55:52.703Z"
   },
   {
    "duration": 1673,
    "start_time": "2024-07-31T20:55:53.179Z"
   },
   {
    "duration": 32,
    "start_time": "2024-07-31T20:55:54.855Z"
   },
   {
    "duration": 46,
    "start_time": "2024-07-31T20:55:54.892Z"
   },
   {
    "duration": 19,
    "start_time": "2024-07-31T20:55:54.941Z"
   },
   {
    "duration": 21,
    "start_time": "2024-07-31T20:55:54.963Z"
   },
   {
    "duration": 59,
    "start_time": "2024-07-31T20:55:54.986Z"
   },
   {
    "duration": 197,
    "start_time": "2024-07-31T20:55:55.048Z"
   },
   {
    "duration": 178,
    "start_time": "2024-07-31T20:55:55.248Z"
   },
   {
    "duration": 14,
    "start_time": "2024-07-31T20:55:55.437Z"
   },
   {
    "duration": 214,
    "start_time": "2024-07-31T20:55:55.454Z"
   },
   {
    "duration": 178,
    "start_time": "2024-07-31T20:55:55.671Z"
   },
   {
    "duration": 49,
    "start_time": "2024-07-31T20:55:55.853Z"
   },
   {
    "duration": 50,
    "start_time": "2024-07-31T20:55:55.905Z"
   },
   {
    "duration": 16,
    "start_time": "2024-07-31T20:55:55.957Z"
   },
   {
    "duration": 28,
    "start_time": "2024-07-31T20:55:55.980Z"
   },
   {
    "duration": 35,
    "start_time": "2024-07-31T20:55:56.036Z"
   },
   {
    "duration": 10,
    "start_time": "2024-07-31T20:55:56.076Z"
   },
   {
    "duration": 45,
    "start_time": "2024-07-31T20:55:56.089Z"
   },
   {
    "duration": 12,
    "start_time": "2024-07-31T20:55:56.138Z"
   },
   {
    "duration": 12,
    "start_time": "2024-07-31T20:55:56.153Z"
   },
   {
    "duration": 1399,
    "start_time": "2024-07-31T20:55:56.168Z"
   },
   {
    "duration": 620,
    "start_time": "2024-07-31T20:55:57.569Z"
   },
   {
    "duration": 18,
    "start_time": "2024-07-31T20:55:58.192Z"
   },
   {
    "duration": 9,
    "start_time": "2024-07-31T20:55:58.233Z"
   },
   {
    "duration": 13,
    "start_time": "2024-07-31T20:55:58.245Z"
   },
   {
    "duration": 12,
    "start_time": "2024-07-31T20:55:58.261Z"
   },
   {
    "duration": 3,
    "start_time": "2024-07-31T20:55:58.283Z"
   },
   {
    "duration": 61,
    "start_time": "2024-07-31T20:55:58.289Z"
   },
   {
    "duration": 11,
    "start_time": "2024-07-31T20:55:58.354Z"
   },
   {
    "duration": 11,
    "start_time": "2024-07-31T20:55:58.368Z"
   },
   {
    "duration": 52,
    "start_time": "2024-07-31T20:55:58.382Z"
   },
   {
    "duration": 12,
    "start_time": "2024-07-31T20:55:58.437Z"
   },
   {
    "duration": 19,
    "start_time": "2024-07-31T20:55:58.452Z"
   },
   {
    "duration": 10,
    "start_time": "2024-07-31T20:55:58.474Z"
   },
   {
    "duration": 47,
    "start_time": "2024-07-31T20:55:58.488Z"
   },
   {
    "duration": 15,
    "start_time": "2024-07-31T20:55:58.538Z"
   },
   {
    "duration": 29,
    "start_time": "2024-07-31T20:55:58.556Z"
   },
   {
    "duration": 50,
    "start_time": "2024-07-31T20:55:58.588Z"
   },
   {
    "duration": 29,
    "start_time": "2024-07-31T20:55:58.641Z"
   },
   {
    "duration": 27,
    "start_time": "2024-07-31T20:55:58.673Z"
   },
   {
    "duration": 16,
    "start_time": "2024-07-31T20:55:58.734Z"
   },
   {
    "duration": 523,
    "start_time": "2024-07-31T20:55:58.753Z"
   },
   {
    "duration": 570,
    "start_time": "2024-07-31T20:55:59.280Z"
   },
   {
    "duration": 120,
    "start_time": "2024-07-31T20:55:59.853Z"
   },
   {
    "duration": 115,
    "start_time": "2024-07-31T20:55:59.976Z"
   },
   {
    "duration": 75,
    "start_time": "2024-07-31T20:56:00.094Z"
   },
   {
    "duration": 17,
    "start_time": "2024-07-31T20:56:00.172Z"
   },
   {
    "duration": 13,
    "start_time": "2024-07-31T20:56:00.192Z"
   },
   {
    "duration": 270,
    "start_time": "2024-07-31T20:56:00.208Z"
   },
   {
    "duration": 6,
    "start_time": "2024-07-31T20:56:00.481Z"
   },
   {
    "duration": 408,
    "start_time": "2024-07-31T20:56:00.490Z"
   },
   {
    "duration": 12,
    "start_time": "2024-07-31T20:56:00.901Z"
   },
   {
    "duration": 19,
    "start_time": "2024-07-31T20:56:00.915Z"
   },
   {
    "duration": 216,
    "start_time": "2024-07-31T20:56:00.937Z"
   },
   {
    "duration": 18,
    "start_time": "2024-07-31T20:56:01.156Z"
   },
   {
    "duration": 7,
    "start_time": "2024-07-31T20:56:01.177Z"
   },
   {
    "duration": 48,
    "start_time": "2024-07-31T20:56:01.187Z"
   },
   {
    "duration": 388,
    "start_time": "2024-07-31T20:56:01.238Z"
   },
   {
    "duration": 9,
    "start_time": "2024-07-31T20:56:01.635Z"
   },
   {
    "duration": 4,
    "start_time": "2024-07-31T20:56:01.647Z"
   },
   {
    "duration": 17,
    "start_time": "2024-07-31T20:56:01.654Z"
   },
   {
    "duration": 4,
    "start_time": "2024-07-31T20:56:01.674Z"
   },
   {
    "duration": 54,
    "start_time": "2024-07-31T20:56:01.681Z"
   },
   {
    "duration": 5,
    "start_time": "2024-07-31T20:56:01.739Z"
   },
   {
    "duration": 11,
    "start_time": "2024-07-31T20:56:01.748Z"
   },
   {
    "duration": 426,
    "start_time": "2024-07-31T20:56:01.763Z"
   },
   {
    "duration": 69,
    "start_time": "2024-07-31T20:56:02.192Z"
   },
   {
    "duration": 856,
    "start_time": "2024-07-31T20:59:41.116Z"
   },
   {
    "duration": 290,
    "start_time": "2024-07-31T21:00:18.999Z"
   },
   {
    "duration": 1678,
    "start_time": "2024-07-31T21:00:19.293Z"
   },
   {
    "duration": 28,
    "start_time": "2024-07-31T21:00:20.973Z"
   },
   {
    "duration": 43,
    "start_time": "2024-07-31T21:00:21.003Z"
   },
   {
    "duration": 19,
    "start_time": "2024-07-31T21:00:21.050Z"
   },
   {
    "duration": 21,
    "start_time": "2024-07-31T21:00:21.072Z"
   },
   {
    "duration": 54,
    "start_time": "2024-07-31T21:00:21.097Z"
   },
   {
    "duration": 214,
    "start_time": "2024-07-31T21:00:21.154Z"
   },
   {
    "duration": 178,
    "start_time": "2024-07-31T21:00:21.370Z"
   },
   {
    "duration": 14,
    "start_time": "2024-07-31T21:00:21.551Z"
   },
   {
    "duration": 210,
    "start_time": "2024-07-31T21:00:21.568Z"
   },
   {
    "duration": 173,
    "start_time": "2024-07-31T21:00:21.781Z"
   },
   {
    "duration": 48,
    "start_time": "2024-07-31T21:00:21.957Z"
   },
   {
    "duration": 43,
    "start_time": "2024-07-31T21:00:22.011Z"
   },
   {
    "duration": 14,
    "start_time": "2024-07-31T21:00:22.057Z"
   },
   {
    "duration": 60,
    "start_time": "2024-07-31T21:00:22.074Z"
   },
   {
    "duration": 36,
    "start_time": "2024-07-31T21:00:22.138Z"
   },
   {
    "duration": 10,
    "start_time": "2024-07-31T21:00:22.178Z"
   },
   {
    "duration": 44,
    "start_time": "2024-07-31T21:00:22.192Z"
   },
   {
    "duration": 11,
    "start_time": "2024-07-31T21:00:22.238Z"
   },
   {
    "duration": 10,
    "start_time": "2024-07-31T21:00:22.252Z"
   },
   {
    "duration": 1381,
    "start_time": "2024-07-31T21:00:22.265Z"
   },
   {
    "duration": 616,
    "start_time": "2024-07-31T21:00:23.649Z"
   },
   {
    "duration": 21,
    "start_time": "2024-07-31T21:00:24.268Z"
   },
   {
    "duration": 9,
    "start_time": "2024-07-31T21:00:24.291Z"
   },
   {
    "duration": 42,
    "start_time": "2024-07-31T21:00:24.303Z"
   },
   {
    "duration": 17,
    "start_time": "2024-07-31T21:00:24.349Z"
   },
   {
    "duration": 4,
    "start_time": "2024-07-31T21:00:24.369Z"
   },
   {
    "duration": 18,
    "start_time": "2024-07-31T21:00:24.377Z"
   },
   {
    "duration": 7,
    "start_time": "2024-07-31T21:00:24.435Z"
   },
   {
    "duration": 11,
    "start_time": "2024-07-31T21:00:24.445Z"
   },
   {
    "duration": 17,
    "start_time": "2024-07-31T21:00:24.459Z"
   },
   {
    "duration": 11,
    "start_time": "2024-07-31T21:00:24.478Z"
   },
   {
    "duration": 22,
    "start_time": "2024-07-31T21:00:24.534Z"
   },
   {
    "duration": 11,
    "start_time": "2024-07-31T21:00:24.559Z"
   },
   {
    "duration": 5,
    "start_time": "2024-07-31T21:00:24.573Z"
   },
   {
    "duration": 11,
    "start_time": "2024-07-31T21:00:24.581Z"
   },
   {
    "duration": 31,
    "start_time": "2024-07-31T21:00:24.636Z"
   },
   {
    "duration": 24,
    "start_time": "2024-07-31T21:00:24.672Z"
   },
   {
    "duration": 53,
    "start_time": "2024-07-31T21:00:24.699Z"
   },
   {
    "duration": 27,
    "start_time": "2024-07-31T21:00:24.764Z"
   },
   {
    "duration": 42,
    "start_time": "2024-07-31T21:00:24.794Z"
   },
   {
    "duration": 533,
    "start_time": "2024-07-31T21:00:24.839Z"
   },
   {
    "duration": 561,
    "start_time": "2024-07-31T21:00:25.376Z"
   },
   {
    "duration": 125,
    "start_time": "2024-07-31T21:00:25.940Z"
   },
   {
    "duration": 124,
    "start_time": "2024-07-31T21:00:26.067Z"
   },
   {
    "duration": 78,
    "start_time": "2024-07-31T21:00:26.194Z"
   },
   {
    "duration": 17,
    "start_time": "2024-07-31T21:00:26.275Z"
   },
   {
    "duration": 12,
    "start_time": "2024-07-31T21:00:26.294Z"
   },
   {
    "duration": 4,
    "start_time": "2024-07-31T21:00:26.336Z"
   },
   {
    "duration": 6,
    "start_time": "2024-07-31T21:00:26.344Z"
   },
   {
    "duration": 371,
    "start_time": "2024-07-31T21:00:26.353Z"
   },
   {
    "duration": 17,
    "start_time": "2024-07-31T21:00:26.727Z"
   },
   {
    "duration": 4,
    "start_time": "2024-07-31T21:00:26.747Z"
   },
   {
    "duration": 242,
    "start_time": "2024-07-31T21:00:26.754Z"
   },
   {
    "duration": 16,
    "start_time": "2024-07-31T21:00:26.999Z"
   },
   {
    "duration": 9,
    "start_time": "2024-07-31T21:00:27.034Z"
   },
   {
    "duration": 7,
    "start_time": "2024-07-31T21:00:27.046Z"
   },
   {
    "duration": 409,
    "start_time": "2024-07-31T21:00:27.056Z"
   },
   {
    "duration": 9,
    "start_time": "2024-07-31T21:00:27.468Z"
   },
   {
    "duration": 5,
    "start_time": "2024-07-31T21:00:27.479Z"
   },
   {
    "duration": 13,
    "start_time": "2024-07-31T21:00:27.487Z"
   },
   {
    "duration": 6,
    "start_time": "2024-07-31T21:00:27.536Z"
   },
   {
    "duration": 15,
    "start_time": "2024-07-31T21:00:27.546Z"
   },
   {
    "duration": 6,
    "start_time": "2024-07-31T21:00:27.564Z"
   },
   {
    "duration": 11,
    "start_time": "2024-07-31T21:00:27.574Z"
   },
   {
    "duration": 447,
    "start_time": "2024-07-31T21:00:27.589Z"
   },
   {
    "duration": 56,
    "start_time": "2024-07-31T21:00:28.039Z"
   },
   {
    "duration": 14,
    "start_time": "2024-07-31T21:33:37.324Z"
   },
   {
    "duration": 845,
    "start_time": "2024-07-31T21:33:46.613Z"
   },
   {
    "duration": 23,
    "start_time": "2024-07-31T21:34:01.836Z"
   },
   {
    "duration": 320,
    "start_time": "2024-07-31T21:34:09.227Z"
   },
   {
    "duration": 1692,
    "start_time": "2024-07-31T21:34:09.551Z"
   },
   {
    "duration": 30,
    "start_time": "2024-07-31T21:34:11.246Z"
   },
   {
    "duration": 52,
    "start_time": "2024-07-31T21:34:11.282Z"
   },
   {
    "duration": 19,
    "start_time": "2024-07-31T21:34:11.340Z"
   },
   {
    "duration": 20,
    "start_time": "2024-07-31T21:34:11.362Z"
   },
   {
    "duration": 60,
    "start_time": "2024-07-31T21:34:11.385Z"
   },
   {
    "duration": 206,
    "start_time": "2024-07-31T21:34:11.448Z"
   },
   {
    "duration": 178,
    "start_time": "2024-07-31T21:34:11.659Z"
   },
   {
    "duration": 13,
    "start_time": "2024-07-31T21:34:11.840Z"
   },
   {
    "duration": 211,
    "start_time": "2024-07-31T21:34:11.858Z"
   },
   {
    "duration": 181,
    "start_time": "2024-07-31T21:34:12.072Z"
   },
   {
    "duration": 50,
    "start_time": "2024-07-31T21:34:12.257Z"
   },
   {
    "duration": 46,
    "start_time": "2024-07-31T21:34:12.314Z"
   },
   {
    "duration": 14,
    "start_time": "2024-07-31T21:34:12.363Z"
   },
   {
    "duration": 60,
    "start_time": "2024-07-31T21:34:12.380Z"
   },
   {
    "duration": 33,
    "start_time": "2024-07-31T21:34:12.442Z"
   },
   {
    "duration": 10,
    "start_time": "2024-07-31T21:34:12.478Z"
   },
   {
    "duration": 9,
    "start_time": "2024-07-31T21:34:12.491Z"
   },
   {
    "duration": 10,
    "start_time": "2024-07-31T21:34:12.535Z"
   },
   {
    "duration": 10,
    "start_time": "2024-07-31T21:34:12.548Z"
   },
   {
    "duration": 1389,
    "start_time": "2024-07-31T21:34:12.561Z"
   },
   {
    "duration": 609,
    "start_time": "2024-07-31T21:34:13.953Z"
   },
   {
    "duration": 20,
    "start_time": "2024-07-31T21:34:14.565Z"
   },
   {
    "duration": 8,
    "start_time": "2024-07-31T21:34:14.589Z"
   },
   {
    "duration": 38,
    "start_time": "2024-07-31T21:34:14.600Z"
   },
   {
    "duration": 14,
    "start_time": "2024-07-31T21:34:14.641Z"
   },
   {
    "duration": 3,
    "start_time": "2024-07-31T21:34:14.660Z"
   },
   {
    "duration": 17,
    "start_time": "2024-07-31T21:34:14.666Z"
   },
   {
    "duration": 47,
    "start_time": "2024-07-31T21:34:14.687Z"
   },
   {
    "duration": 11,
    "start_time": "2024-07-31T21:34:14.737Z"
   },
   {
    "duration": 15,
    "start_time": "2024-07-31T21:34:14.753Z"
   },
   {
    "duration": 11,
    "start_time": "2024-07-31T21:34:14.772Z"
   },
   {
    "duration": 64,
    "start_time": "2024-07-31T21:34:14.785Z"
   },
   {
    "duration": 12,
    "start_time": "2024-07-31T21:34:14.853Z"
   },
   {
    "duration": 7,
    "start_time": "2024-07-31T21:34:14.868Z"
   },
   {
    "duration": 12,
    "start_time": "2024-07-31T21:34:14.878Z"
   },
   {
    "duration": 61,
    "start_time": "2024-07-31T21:34:14.892Z"
   },
   {
    "duration": 19,
    "start_time": "2024-07-31T21:34:14.956Z"
   },
   {
    "duration": 58,
    "start_time": "2024-07-31T21:34:14.978Z"
   },
   {
    "duration": 27,
    "start_time": "2024-07-31T21:34:15.048Z"
   },
   {
    "duration": 14,
    "start_time": "2024-07-31T21:34:15.078Z"
   },
   {
    "duration": 552,
    "start_time": "2024-07-31T21:34:15.095Z"
   },
   {
    "duration": 617,
    "start_time": "2024-07-31T21:34:15.650Z"
   },
   {
    "duration": 120,
    "start_time": "2024-07-31T21:34:16.270Z"
   },
   {
    "duration": 112,
    "start_time": "2024-07-31T21:34:16.392Z"
   },
   {
    "duration": 74,
    "start_time": "2024-07-31T21:34:16.508Z"
   },
   {
    "duration": 17,
    "start_time": "2024-07-31T21:34:16.585Z"
   },
   {
    "duration": 33,
    "start_time": "2024-07-31T21:34:16.605Z"
   },
   {
    "duration": 4,
    "start_time": "2024-07-31T21:34:16.640Z"
   },
   {
    "duration": 7,
    "start_time": "2024-07-31T21:34:16.647Z"
   },
   {
    "duration": 386,
    "start_time": "2024-07-31T21:34:16.657Z"
   },
   {
    "duration": 14,
    "start_time": "2024-07-31T21:34:17.046Z"
   },
   {
    "duration": 4,
    "start_time": "2024-07-31T21:34:17.063Z"
   },
   {
    "duration": 253,
    "start_time": "2024-07-31T21:34:17.070Z"
   },
   {
    "duration": 21,
    "start_time": "2024-07-31T21:34:17.326Z"
   },
   {
    "duration": 7,
    "start_time": "2024-07-31T21:34:17.350Z"
   },
   {
    "duration": 7,
    "start_time": "2024-07-31T21:34:17.360Z"
   },
   {
    "duration": 419,
    "start_time": "2024-07-31T21:34:17.370Z"
   },
   {
    "duration": 9,
    "start_time": "2024-07-31T21:34:17.791Z"
   },
   {
    "duration": 5,
    "start_time": "2024-07-31T21:34:17.804Z"
   },
   {
    "duration": 14,
    "start_time": "2024-07-31T21:34:17.835Z"
   },
   {
    "duration": 5,
    "start_time": "2024-07-31T21:34:17.852Z"
   },
   {
    "duration": 14,
    "start_time": "2024-07-31T21:34:17.860Z"
   },
   {
    "duration": 7,
    "start_time": "2024-07-31T21:34:17.877Z"
   },
   {
    "duration": 12,
    "start_time": "2024-07-31T21:34:17.933Z"
   },
   {
    "duration": 424,
    "start_time": "2024-07-31T21:34:17.949Z"
   },
   {
    "duration": 65,
    "start_time": "2024-07-31T21:34:18.376Z"
   },
   {
    "duration": 4391,
    "start_time": "2024-08-01T20:11:25.100Z"
   },
   {
    "duration": 1,
    "start_time": "2024-08-01T20:11:29.494Z"
   },
   {
    "duration": 22,
    "start_time": "2024-08-01T20:11:29.720Z"
   },
   {
    "duration": 507,
    "start_time": "2024-08-01T23:55:07.513Z"
   },
   {
    "duration": 1695,
    "start_time": "2024-08-01T23:55:08.032Z"
   },
   {
    "duration": 33,
    "start_time": "2024-08-01T23:55:09.732Z"
   },
   {
    "duration": 24,
    "start_time": "2024-08-01T23:55:09.768Z"
   },
   {
    "duration": 18,
    "start_time": "2024-08-01T23:55:09.832Z"
   },
   {
    "duration": 19,
    "start_time": "2024-08-01T23:55:09.854Z"
   },
   {
    "duration": 18,
    "start_time": "2024-08-01T23:55:09.877Z"
   },
   {
    "duration": 191,
    "start_time": "2024-08-01T23:55:09.934Z"
   },
   {
    "duration": 178,
    "start_time": "2024-08-01T23:55:10.132Z"
   },
   {
    "duration": 26,
    "start_time": "2024-08-01T23:55:10.313Z"
   },
   {
    "duration": 207,
    "start_time": "2024-08-01T23:55:10.342Z"
   },
   {
    "duration": 183,
    "start_time": "2024-08-01T23:55:10.552Z"
   },
   {
    "duration": 58,
    "start_time": "2024-08-01T23:55:10.737Z"
   },
   {
    "duration": 51,
    "start_time": "2024-08-01T23:55:10.803Z"
   },
   {
    "duration": 12,
    "start_time": "2024-08-01T23:55:10.857Z"
   },
   {
    "duration": 31,
    "start_time": "2024-08-01T23:55:10.872Z"
   },
   {
    "duration": 34,
    "start_time": "2024-08-01T23:55:10.932Z"
   },
   {
    "duration": 10,
    "start_time": "2024-08-01T23:55:10.969Z"
   },
   {
    "duration": 10,
    "start_time": "2024-08-01T23:55:10.982Z"
   },
   {
    "duration": 45,
    "start_time": "2024-08-01T23:55:10.995Z"
   },
   {
    "duration": 9,
    "start_time": "2024-08-01T23:55:11.043Z"
   },
   {
    "duration": 1452,
    "start_time": "2024-08-01T23:55:11.055Z"
   },
   {
    "duration": 636,
    "start_time": "2024-08-01T23:55:12.509Z"
   },
   {
    "duration": 18,
    "start_time": "2024-08-01T23:55:13.148Z"
   },
   {
    "duration": 8,
    "start_time": "2024-08-01T23:55:13.169Z"
   },
   {
    "duration": 13,
    "start_time": "2024-08-01T23:55:13.180Z"
   },
   {
    "duration": 13,
    "start_time": "2024-08-01T23:55:13.233Z"
   },
   {
    "duration": 4,
    "start_time": "2024-08-01T23:55:13.249Z"
   },
   {
    "duration": 19,
    "start_time": "2024-08-01T23:55:13.256Z"
   },
   {
    "duration": 8,
    "start_time": "2024-08-01T23:55:13.279Z"
   },
   {
    "duration": 48,
    "start_time": "2024-08-01T23:55:13.290Z"
   },
   {
    "duration": 16,
    "start_time": "2024-08-01T23:55:13.341Z"
   },
   {
    "duration": 11,
    "start_time": "2024-08-01T23:55:13.360Z"
   },
   {
    "duration": 60,
    "start_time": "2024-08-01T23:55:13.374Z"
   },
   {
    "duration": 12,
    "start_time": "2024-08-01T23:55:13.437Z"
   },
   {
    "duration": 5,
    "start_time": "2024-08-01T23:55:13.452Z"
   },
   {
    "duration": 13,
    "start_time": "2024-08-01T23:55:13.459Z"
   },
   {
    "duration": 73,
    "start_time": "2024-08-01T23:55:13.474Z"
   },
   {
    "duration": 20,
    "start_time": "2024-08-01T23:55:13.550Z"
   },
   {
    "duration": 29,
    "start_time": "2024-08-01T23:55:13.572Z"
   },
   {
    "duration": 27,
    "start_time": "2024-08-01T23:55:13.640Z"
   },
   {
    "duration": 13,
    "start_time": "2024-08-01T23:55:13.671Z"
   },
   {
    "duration": 571,
    "start_time": "2024-08-01T23:55:13.687Z"
   },
   {
    "duration": 565,
    "start_time": "2024-08-01T23:55:14.261Z"
   },
   {
    "duration": 117,
    "start_time": "2024-08-01T23:55:14.833Z"
   },
   {
    "duration": 118,
    "start_time": "2024-08-01T23:55:14.953Z"
   },
   {
    "duration": 78,
    "start_time": "2024-08-01T23:55:15.074Z"
   },
   {
    "duration": 17,
    "start_time": "2024-08-01T23:55:15.154Z"
   },
   {
    "duration": 12,
    "start_time": "2024-08-01T23:55:15.173Z"
   },
   {
    "duration": 3841,
    "start_time": "2024-08-01T23:55:15.188Z"
   },
   {
    "duration": 5,
    "start_time": "2024-08-01T23:55:19.033Z"
   },
   {
    "duration": 380,
    "start_time": "2024-08-01T23:55:19.042Z"
   },
   {
    "duration": 17,
    "start_time": "2024-08-01T23:55:19.426Z"
   },
   {
    "duration": 3,
    "start_time": "2024-08-01T23:55:19.446Z"
   },
   {
    "duration": 237,
    "start_time": "2024-08-01T23:55:19.453Z"
   },
   {
    "duration": 18,
    "start_time": "2024-08-01T23:55:19.693Z"
   },
   {
    "duration": 24,
    "start_time": "2024-08-01T23:55:19.714Z"
   },
   {
    "duration": 9,
    "start_time": "2024-08-01T23:55:19.740Z"
   },
   {
    "duration": 400,
    "start_time": "2024-08-01T23:55:19.752Z"
   },
   {
    "duration": 8,
    "start_time": "2024-08-01T23:55:20.155Z"
   },
   {
    "duration": 5,
    "start_time": "2024-08-01T23:55:20.166Z"
   },
   {
    "duration": 15,
    "start_time": "2024-08-01T23:55:20.174Z"
   },
   {
    "duration": 42,
    "start_time": "2024-08-01T23:55:20.192Z"
   },
   {
    "duration": 15,
    "start_time": "2024-08-01T23:55:20.237Z"
   },
   {
    "duration": 5,
    "start_time": "2024-08-01T23:55:20.255Z"
   },
   {
    "duration": 11,
    "start_time": "2024-08-01T23:55:20.264Z"
   },
   {
    "duration": 509,
    "start_time": "2024-08-01T23:55:20.278Z"
   },
   {
    "duration": 66,
    "start_time": "2024-08-01T23:55:20.790Z"
   },
   {
    "duration": 12,
    "start_time": "2024-08-02T01:22:14.723Z"
   },
   {
    "duration": 6,
    "start_time": "2024-08-02T01:22:17.126Z"
   },
   {
    "duration": 466,
    "start_time": "2024-08-02T01:22:37.786Z"
   },
   {
    "duration": 1647,
    "start_time": "2024-08-02T01:22:38.256Z"
   },
   {
    "duration": 40,
    "start_time": "2024-08-02T01:22:39.906Z"
   },
   {
    "duration": 22,
    "start_time": "2024-08-02T01:22:39.949Z"
   },
   {
    "duration": 20,
    "start_time": "2024-08-02T01:22:39.975Z"
   },
   {
    "duration": 54,
    "start_time": "2024-08-02T01:22:39.998Z"
   },
   {
    "duration": 21,
    "start_time": "2024-08-02T01:22:40.056Z"
   },
   {
    "duration": 222,
    "start_time": "2024-08-02T01:22:40.081Z"
   },
   {
    "duration": 179,
    "start_time": "2024-08-02T01:22:40.305Z"
   },
   {
    "duration": 14,
    "start_time": "2024-08-02T01:22:40.487Z"
   },
   {
    "duration": 217,
    "start_time": "2024-08-02T01:22:40.504Z"
   },
   {
    "duration": 181,
    "start_time": "2024-08-02T01:22:40.724Z"
   },
   {
    "duration": 64,
    "start_time": "2024-08-02T01:22:40.908Z"
   },
   {
    "duration": 29,
    "start_time": "2024-08-02T01:22:40.979Z"
   },
   {
    "duration": 30,
    "start_time": "2024-08-02T01:22:41.011Z"
   },
   {
    "duration": 30,
    "start_time": "2024-08-02T01:22:41.044Z"
   },
   {
    "duration": 62,
    "start_time": "2024-08-02T01:22:41.076Z"
   },
   {
    "duration": 11,
    "start_time": "2024-08-02T01:22:41.141Z"
   },
   {
    "duration": 9,
    "start_time": "2024-08-02T01:22:41.155Z"
   },
   {
    "duration": 11,
    "start_time": "2024-08-02T01:22:41.167Z"
   },
   {
    "duration": 53,
    "start_time": "2024-08-02T01:22:41.182Z"
   },
   {
    "duration": 1385,
    "start_time": "2024-08-02T01:22:41.238Z"
   },
   {
    "duration": 601,
    "start_time": "2024-08-02T01:22:42.625Z"
   },
   {
    "duration": 21,
    "start_time": "2024-08-02T01:22:43.232Z"
   },
   {
    "duration": 10,
    "start_time": "2024-08-02T01:22:43.257Z"
   },
   {
    "duration": 12,
    "start_time": "2024-08-02T01:22:43.271Z"
   },
   {
    "duration": 49,
    "start_time": "2024-08-02T01:22:43.286Z"
   },
   {
    "duration": 6,
    "start_time": "2024-08-02T01:22:43.338Z"
   },
   {
    "duration": 0,
    "start_time": "2024-08-02T01:22:43.350Z"
   },
   {
    "duration": 0,
    "start_time": "2024-08-02T01:22:43.352Z"
   },
   {
    "duration": 0,
    "start_time": "2024-08-02T01:22:43.354Z"
   },
   {
    "duration": 0,
    "start_time": "2024-08-02T01:22:43.356Z"
   },
   {
    "duration": 0,
    "start_time": "2024-08-02T01:22:43.358Z"
   },
   {
    "duration": 0,
    "start_time": "2024-08-02T01:22:43.361Z"
   },
   {
    "duration": 0,
    "start_time": "2024-08-02T01:22:43.363Z"
   },
   {
    "duration": 0,
    "start_time": "2024-08-02T01:22:43.364Z"
   },
   {
    "duration": 0,
    "start_time": "2024-08-02T01:22:43.366Z"
   },
   {
    "duration": 0,
    "start_time": "2024-08-02T01:22:43.367Z"
   },
   {
    "duration": 0,
    "start_time": "2024-08-02T01:22:43.369Z"
   },
   {
    "duration": 0,
    "start_time": "2024-08-02T01:22:43.371Z"
   },
   {
    "duration": 1,
    "start_time": "2024-08-02T01:22:43.372Z"
   },
   {
    "duration": 0,
    "start_time": "2024-08-02T01:22:43.374Z"
   },
   {
    "duration": 0,
    "start_time": "2024-08-02T01:22:43.433Z"
   },
   {
    "duration": 0,
    "start_time": "2024-08-02T01:22:43.435Z"
   },
   {
    "duration": 0,
    "start_time": "2024-08-02T01:22:43.437Z"
   },
   {
    "duration": 0,
    "start_time": "2024-08-02T01:22:43.440Z"
   },
   {
    "duration": 0,
    "start_time": "2024-08-02T01:22:43.442Z"
   },
   {
    "duration": 0,
    "start_time": "2024-08-02T01:22:43.449Z"
   },
   {
    "duration": 0,
    "start_time": "2024-08-02T01:22:43.451Z"
   },
   {
    "duration": 0,
    "start_time": "2024-08-02T01:22:43.453Z"
   },
   {
    "duration": 0,
    "start_time": "2024-08-02T01:22:43.455Z"
   },
   {
    "duration": 0,
    "start_time": "2024-08-02T01:22:43.458Z"
   },
   {
    "duration": 0,
    "start_time": "2024-08-02T01:22:43.459Z"
   },
   {
    "duration": 0,
    "start_time": "2024-08-02T01:22:43.461Z"
   },
   {
    "duration": 0,
    "start_time": "2024-08-02T01:22:43.463Z"
   },
   {
    "duration": 0,
    "start_time": "2024-08-02T01:22:43.465Z"
   },
   {
    "duration": 0,
    "start_time": "2024-08-02T01:22:43.467Z"
   },
   {
    "duration": 0,
    "start_time": "2024-08-02T01:22:43.470Z"
   },
   {
    "duration": 0,
    "start_time": "2024-08-02T01:22:43.472Z"
   },
   {
    "duration": 0,
    "start_time": "2024-08-02T01:22:43.533Z"
   },
   {
    "duration": 0,
    "start_time": "2024-08-02T01:22:43.537Z"
   },
   {
    "duration": 0,
    "start_time": "2024-08-02T01:22:43.538Z"
   },
   {
    "duration": 0,
    "start_time": "2024-08-02T01:22:43.540Z"
   },
   {
    "duration": 0,
    "start_time": "2024-08-02T01:22:43.542Z"
   },
   {
    "duration": 0,
    "start_time": "2024-08-02T01:22:43.544Z"
   },
   {
    "duration": 0,
    "start_time": "2024-08-02T01:22:43.545Z"
   },
   {
    "duration": 0,
    "start_time": "2024-08-02T01:22:43.547Z"
   },
   {
    "duration": 0,
    "start_time": "2024-08-02T01:22:43.549Z"
   },
   {
    "duration": 0,
    "start_time": "2024-08-02T01:22:43.551Z"
   },
   {
    "duration": 0,
    "start_time": "2024-08-02T01:22:43.553Z"
   },
   {
    "duration": 0,
    "start_time": "2024-08-02T01:22:43.555Z"
   },
   {
    "duration": 0,
    "start_time": "2024-08-02T01:22:43.558Z"
   },
   {
    "duration": 0,
    "start_time": "2024-08-02T01:22:43.560Z"
   },
   {
    "duration": 0,
    "start_time": "2024-08-02T01:22:43.562Z"
   },
   {
    "duration": 0,
    "start_time": "2024-08-02T01:22:43.565Z"
   },
   {
    "duration": 0,
    "start_time": "2024-08-02T01:22:43.567Z"
   },
   {
    "duration": 0,
    "start_time": "2024-08-02T01:22:43.569Z"
   },
   {
    "duration": 0,
    "start_time": "2024-08-02T01:22:43.635Z"
   },
   {
    "duration": 0,
    "start_time": "2024-08-02T01:22:43.636Z"
   },
   {
    "duration": 0,
    "start_time": "2024-08-02T01:22:43.638Z"
   },
   {
    "duration": 0,
    "start_time": "2024-08-02T01:22:43.640Z"
   },
   {
    "duration": 0,
    "start_time": "2024-08-02T01:22:43.643Z"
   },
   {
    "duration": 4,
    "start_time": "2024-08-02T14:06:15.612Z"
   },
   {
    "duration": 443,
    "start_time": "2024-08-02T14:06:19.074Z"
   },
   {
    "duration": 1660,
    "start_time": "2024-08-02T14:06:19.521Z"
   },
   {
    "duration": 32,
    "start_time": "2024-08-02T14:06:21.184Z"
   },
   {
    "duration": 24,
    "start_time": "2024-08-02T14:06:21.231Z"
   },
   {
    "duration": 19,
    "start_time": "2024-08-02T14:06:21.260Z"
   },
   {
    "duration": 56,
    "start_time": "2024-08-02T14:06:21.282Z"
   },
   {
    "duration": 18,
    "start_time": "2024-08-02T14:06:21.342Z"
   },
   {
    "duration": 205,
    "start_time": "2024-08-02T14:06:21.364Z"
   },
   {
    "duration": 187,
    "start_time": "2024-08-02T14:06:21.571Z"
   },
   {
    "duration": 18,
    "start_time": "2024-08-02T14:06:21.763Z"
   },
   {
    "duration": 218,
    "start_time": "2024-08-02T14:06:21.784Z"
   },
   {
    "duration": 191,
    "start_time": "2024-08-02T14:06:22.005Z"
   },
   {
    "duration": 71,
    "start_time": "2024-08-02T14:06:22.198Z"
   },
   {
    "duration": 25,
    "start_time": "2024-08-02T14:06:22.276Z"
   },
   {
    "duration": 30,
    "start_time": "2024-08-02T14:06:22.304Z"
   },
   {
    "duration": 31,
    "start_time": "2024-08-02T14:06:22.337Z"
   },
   {
    "duration": 62,
    "start_time": "2024-08-02T14:06:22.371Z"
   },
   {
    "duration": 11,
    "start_time": "2024-08-02T14:06:22.436Z"
   },
   {
    "duration": 10,
    "start_time": "2024-08-02T14:06:22.450Z"
   },
   {
    "duration": 12,
    "start_time": "2024-08-02T14:06:22.463Z"
   },
   {
    "duration": 53,
    "start_time": "2024-08-02T14:06:22.478Z"
   },
   {
    "duration": 1407,
    "start_time": "2024-08-02T14:06:22.534Z"
   },
   {
    "duration": 613,
    "start_time": "2024-08-02T14:06:23.944Z"
   },
   {
    "duration": 19,
    "start_time": "2024-08-02T14:06:24.560Z"
   },
   {
    "duration": 9,
    "start_time": "2024-08-02T14:06:24.582Z"
   },
   {
    "duration": 45,
    "start_time": "2024-08-02T14:06:24.594Z"
   },
   {
    "duration": 12,
    "start_time": "2024-08-02T14:06:24.642Z"
   },
   {
    "duration": 4,
    "start_time": "2024-08-02T14:06:24.657Z"
   },
   {
    "duration": 19,
    "start_time": "2024-08-02T14:06:24.664Z"
   },
   {
    "duration": 52,
    "start_time": "2024-08-02T14:06:24.685Z"
   },
   {
    "duration": 13,
    "start_time": "2024-08-02T14:06:24.740Z"
   },
   {
    "duration": 19,
    "start_time": "2024-08-02T14:06:24.756Z"
   },
   {
    "duration": 58,
    "start_time": "2024-08-02T14:06:24.780Z"
   },
   {
    "duration": 19,
    "start_time": "2024-08-02T14:06:24.841Z"
   },
   {
    "duration": 11,
    "start_time": "2024-08-02T14:06:24.863Z"
   },
   {
    "duration": 6,
    "start_time": "2024-08-02T14:06:24.877Z"
   },
   {
    "duration": 50,
    "start_time": "2024-08-02T14:06:24.886Z"
   },
   {
    "duration": 29,
    "start_time": "2024-08-02T14:06:24.939Z"
   },
   {
    "duration": 18,
    "start_time": "2024-08-02T14:06:24.971Z"
   },
   {
    "duration": 66,
    "start_time": "2024-08-02T14:06:24.992Z"
   },
   {
    "duration": 28,
    "start_time": "2024-08-02T14:06:25.068Z"
   },
   {
    "duration": 42,
    "start_time": "2024-08-02T14:06:25.098Z"
   },
   {
    "duration": 535,
    "start_time": "2024-08-02T14:06:25.146Z"
   },
   {
    "duration": 562,
    "start_time": "2024-08-02T14:06:25.684Z"
   },
   {
    "duration": 122,
    "start_time": "2024-08-02T14:06:26.249Z"
   },
   {
    "duration": 116,
    "start_time": "2024-08-02T14:06:26.373Z"
   },
   {
    "duration": 74,
    "start_time": "2024-08-02T14:06:26.491Z"
   },
   {
    "duration": 17,
    "start_time": "2024-08-02T14:06:26.568Z"
   },
   {
    "duration": 12,
    "start_time": "2024-08-02T14:06:26.588Z"
   },
   {
    "duration": 3855,
    "start_time": "2024-08-02T14:06:26.602Z"
   },
   {
    "duration": 6,
    "start_time": "2024-08-02T14:06:30.460Z"
   },
   {
    "duration": 356,
    "start_time": "2024-08-02T14:06:30.469Z"
   },
   {
    "duration": 12,
    "start_time": "2024-08-02T14:06:30.828Z"
   },
   {
    "duration": 4,
    "start_time": "2024-08-02T14:06:30.843Z"
   },
   {
    "duration": 255,
    "start_time": "2024-08-02T14:06:30.850Z"
   },
   {
    "duration": 30,
    "start_time": "2024-08-02T14:06:31.108Z"
   },
   {
    "duration": 8,
    "start_time": "2024-08-02T14:06:31.141Z"
   },
   {
    "duration": 7,
    "start_time": "2024-08-02T14:06:31.152Z"
   },
   {
    "duration": 393,
    "start_time": "2024-08-02T14:06:31.162Z"
   },
   {
    "duration": 9,
    "start_time": "2024-08-02T14:06:31.558Z"
   },
   {
    "duration": 5,
    "start_time": "2024-08-02T14:06:31.570Z"
   },
   {
    "duration": 14,
    "start_time": "2024-08-02T14:06:31.578Z"
   },
   {
    "duration": 37,
    "start_time": "2024-08-02T14:06:31.595Z"
   },
   {
    "duration": 14,
    "start_time": "2024-08-02T14:06:31.635Z"
   },
   {
    "duration": 5,
    "start_time": "2024-08-02T14:06:31.652Z"
   },
   {
    "duration": 10,
    "start_time": "2024-08-02T14:06:31.662Z"
   },
   {
    "duration": 532,
    "start_time": "2024-08-02T14:06:31.676Z"
   },
   {
    "duration": 64,
    "start_time": "2024-08-02T14:06:32.211Z"
   },
   {
    "duration": 844,
    "start_time": "2024-08-02T14:37:31.815Z"
   },
   {
    "duration": 24,
    "start_time": "2024-08-02T14:38:18.028Z"
   },
   {
    "duration": 22,
    "start_time": "2024-08-02T14:38:22.396Z"
   },
   {
    "duration": 286,
    "start_time": "2024-08-02T14:38:31.026Z"
   },
   {
    "duration": 1725,
    "start_time": "2024-08-02T14:38:31.316Z"
   },
   {
    "duration": 31,
    "start_time": "2024-08-02T14:38:33.047Z"
   },
   {
    "duration": 23,
    "start_time": "2024-08-02T14:38:33.082Z"
   },
   {
    "duration": 21,
    "start_time": "2024-08-02T14:38:33.131Z"
   },
   {
    "duration": 20,
    "start_time": "2024-08-02T14:38:33.155Z"
   },
   {
    "duration": 54,
    "start_time": "2024-08-02T14:38:33.178Z"
   },
   {
    "duration": 195,
    "start_time": "2024-08-02T14:38:33.236Z"
   },
   {
    "duration": 184,
    "start_time": "2024-08-02T14:38:33.434Z"
   },
   {
    "duration": 17,
    "start_time": "2024-08-02T14:38:33.623Z"
   },
   {
    "duration": 215,
    "start_time": "2024-08-02T14:38:33.643Z"
   },
   {
    "duration": 179,
    "start_time": "2024-08-02T14:38:33.862Z"
   },
   {
    "duration": 54,
    "start_time": "2024-08-02T14:38:34.045Z"
   },
   {
    "duration": 49,
    "start_time": "2024-08-02T14:38:34.102Z"
   },
   {
    "duration": 13,
    "start_time": "2024-08-02T14:38:34.153Z"
   },
   {
    "duration": 29,
    "start_time": "2024-08-02T14:38:34.169Z"
   },
   {
    "duration": 57,
    "start_time": "2024-08-02T14:38:34.201Z"
   },
   {
    "duration": 9,
    "start_time": "2024-08-02T14:38:34.261Z"
   },
   {
    "duration": 9,
    "start_time": "2024-08-02T14:38:34.274Z"
   },
   {
    "duration": 50,
    "start_time": "2024-08-02T14:38:34.285Z"
   },
   {
    "duration": 10,
    "start_time": "2024-08-02T14:38:34.339Z"
   },
   {
    "duration": 1351,
    "start_time": "2024-08-02T14:38:34.352Z"
   },
   {
    "duration": 622,
    "start_time": "2024-08-02T14:38:35.710Z"
   },
   {
    "duration": 19,
    "start_time": "2024-08-02T14:38:36.334Z"
   },
   {
    "duration": 8,
    "start_time": "2024-08-02T14:38:36.356Z"
   },
   {
    "duration": 12,
    "start_time": "2024-08-02T14:38:36.367Z"
   },
   {
    "duration": 53,
    "start_time": "2024-08-02T14:38:36.383Z"
   },
   {
    "duration": 3,
    "start_time": "2024-08-02T14:38:36.446Z"
   },
   {
    "duration": 19,
    "start_time": "2024-08-02T14:38:36.451Z"
   },
   {
    "duration": 7,
    "start_time": "2024-08-02T14:38:36.473Z"
   },
   {
    "duration": 50,
    "start_time": "2024-08-02T14:38:36.483Z"
   },
   {
    "duration": 16,
    "start_time": "2024-08-02T14:38:36.535Z"
   },
   {
    "duration": 11,
    "start_time": "2024-08-02T14:38:36.554Z"
   },
   {
    "duration": 19,
    "start_time": "2024-08-02T14:38:36.567Z"
   },
   {
    "duration": 50,
    "start_time": "2024-08-02T14:38:36.588Z"
   },
   {
    "duration": 8,
    "start_time": "2024-08-02T14:38:36.641Z"
   },
   {
    "duration": 11,
    "start_time": "2024-08-02T14:38:36.652Z"
   },
   {
    "duration": 66,
    "start_time": "2024-08-02T14:38:36.666Z"
   },
   {
    "duration": 21,
    "start_time": "2024-08-02T14:38:36.734Z"
   },
   {
    "duration": 27,
    "start_time": "2024-08-02T14:38:36.758Z"
   },
   {
    "duration": 59,
    "start_time": "2024-08-02T14:38:36.788Z"
   },
   {
    "duration": 12,
    "start_time": "2024-08-02T14:38:36.850Z"
   },
   {
    "duration": 536,
    "start_time": "2024-08-02T14:38:36.865Z"
   },
   {
    "duration": 541,
    "start_time": "2024-08-02T14:38:37.404Z"
   },
   {
    "duration": 122,
    "start_time": "2024-08-02T14:38:37.948Z"
   },
   {
    "duration": 115,
    "start_time": "2024-08-02T14:38:38.072Z"
   },
   {
    "duration": 74,
    "start_time": "2024-08-02T14:38:38.189Z"
   },
   {
    "duration": 16,
    "start_time": "2024-08-02T14:38:38.266Z"
   },
   {
    "duration": 12,
    "start_time": "2024-08-02T14:38:38.286Z"
   },
   {
    "duration": 30,
    "start_time": "2024-08-02T14:38:38.301Z"
   },
   {
    "duration": 6,
    "start_time": "2024-08-02T14:38:38.334Z"
   },
   {
    "duration": 367,
    "start_time": "2024-08-02T14:38:38.344Z"
   },
   {
    "duration": 21,
    "start_time": "2024-08-02T14:38:38.714Z"
   },
   {
    "duration": 3,
    "start_time": "2024-08-02T14:38:38.738Z"
   },
   {
    "duration": 226,
    "start_time": "2024-08-02T14:38:38.744Z"
   },
   {
    "duration": 18,
    "start_time": "2024-08-02T14:38:38.973Z"
   },
   {
    "duration": 7,
    "start_time": "2024-08-02T14:38:38.994Z"
   },
   {
    "duration": 8,
    "start_time": "2024-08-02T14:38:39.033Z"
   },
   {
    "duration": 388,
    "start_time": "2024-08-02T14:38:39.044Z"
   },
   {
    "duration": 11,
    "start_time": "2024-08-02T14:38:39.436Z"
   },
   {
    "duration": 5,
    "start_time": "2024-08-02T14:38:39.449Z"
   },
   {
    "duration": 14,
    "start_time": "2024-08-02T14:38:39.457Z"
   },
   {
    "duration": 4,
    "start_time": "2024-08-02T14:38:39.475Z"
   },
   {
    "duration": 60,
    "start_time": "2024-08-02T14:38:39.481Z"
   },
   {
    "duration": 5,
    "start_time": "2024-08-02T14:38:39.544Z"
   },
   {
    "duration": 12,
    "start_time": "2024-08-02T14:38:39.552Z"
   },
   {
    "duration": 427,
    "start_time": "2024-08-02T14:38:39.567Z"
   },
   {
    "duration": 68,
    "start_time": "2024-08-02T14:38:39.998Z"
   },
   {
    "duration": 266,
    "start_time": "2024-08-02T14:38:56.837Z"
   },
   {
    "duration": 7,
    "start_time": "2024-08-02T14:39:51.394Z"
   },
   {
    "duration": 50,
    "start_time": "2024-08-02T14:39:55.376Z"
   },
   {
    "duration": 6,
    "start_time": "2024-08-02T14:40:18.410Z"
   },
   {
    "duration": 157,
    "start_time": "2024-08-02T14:40:24.716Z"
   },
   {
    "duration": 24,
    "start_time": "2024-08-02T14:40:30.914Z"
   },
   {
    "duration": 164,
    "start_time": "2024-08-02T14:40:47.338Z"
   },
   {
    "duration": 21,
    "start_time": "2024-08-02T14:41:16.384Z"
   },
   {
    "duration": 16,
    "start_time": "2024-08-02T14:41:57.264Z"
   },
   {
    "duration": 19,
    "start_time": "2024-08-02T14:42:06.667Z"
   },
   {
    "duration": 17,
    "start_time": "2024-08-02T14:42:23.699Z"
   },
   {
    "duration": 19,
    "start_time": "2024-08-02T14:43:04.043Z"
   },
   {
    "duration": 16,
    "start_time": "2024-08-02T14:43:07.722Z"
   },
   {
    "duration": 1184,
    "start_time": "2024-08-02T14:44:32.120Z"
   },
   {
    "duration": 1159,
    "start_time": "2024-08-02T14:45:54.105Z"
   },
   {
    "duration": 2024,
    "start_time": "2024-08-02T14:47:29.453Z"
   },
   {
    "duration": 511,
    "start_time": "2024-08-02T14:52:42.064Z"
   },
   {
    "duration": 7,
    "start_time": "2024-08-02T14:52:43.939Z"
   },
   {
    "duration": 12,
    "start_time": "2024-08-02T14:52:47.464Z"
   },
   {
    "duration": 8,
    "start_time": "2024-08-02T14:52:50.072Z"
   },
   {
    "duration": 402,
    "start_time": "2024-08-02T14:52:51.796Z"
   },
   {
    "duration": 210,
    "start_time": "2024-08-02T14:56:12.415Z"
   },
   {
    "duration": 7,
    "start_time": "2024-08-02T14:56:18.020Z"
   },
   {
    "duration": 687,
    "start_time": "2024-08-02T14:57:09.683Z"
   },
   {
    "duration": 7,
    "start_time": "2024-08-02T14:57:12.948Z"
   },
   {
    "duration": 156,
    "start_time": "2024-08-02T14:57:59.209Z"
   },
   {
    "duration": 251,
    "start_time": "2024-08-02T14:58:01.479Z"
   },
   {
    "duration": 13,
    "start_time": "2024-08-02T14:58:03.332Z"
   },
   {
    "duration": 151,
    "start_time": "2024-08-02T14:58:07.485Z"
   },
   {
    "duration": 6,
    "start_time": "2024-08-02T15:00:48.368Z"
   },
   {
    "duration": 6,
    "start_time": "2024-08-02T15:00:53.189Z"
   },
   {
    "duration": 783,
    "start_time": "2024-08-02T15:01:11.105Z"
   },
   {
    "duration": 7,
    "start_time": "2024-08-02T15:01:13.826Z"
   },
   {
    "duration": 13,
    "start_time": "2024-08-02T15:01:24.793Z"
   },
   {
    "duration": 23,
    "start_time": "2024-08-02T16:32:26.580Z"
   },
   {
    "duration": 10,
    "start_time": "2024-08-02T16:32:30.444Z"
   },
   {
    "duration": 23,
    "start_time": "2024-08-02T16:32:52.910Z"
   },
   {
    "duration": 11,
    "start_time": "2024-08-02T16:32:56.534Z"
   },
   {
    "duration": 22,
    "start_time": "2024-08-02T16:35:47.246Z"
   },
   {
    "duration": 25,
    "start_time": "2024-08-02T16:36:28.025Z"
   },
   {
    "duration": 22,
    "start_time": "2024-08-02T16:37:54.745Z"
   },
   {
    "duration": 22,
    "start_time": "2024-08-02T16:38:04.209Z"
   },
   {
    "duration": 23,
    "start_time": "2024-08-02T16:38:13.480Z"
   },
   {
    "duration": 10,
    "start_time": "2024-08-02T16:38:16.150Z"
   },
   {
    "duration": 23,
    "start_time": "2024-08-02T16:39:13.316Z"
   },
   {
    "duration": 22,
    "start_time": "2024-08-02T16:39:18.477Z"
   },
   {
    "duration": 30,
    "start_time": "2024-08-02T16:39:32.040Z"
   },
   {
    "duration": 1524,
    "start_time": "2024-08-02T16:39:37.744Z"
   },
   {
    "duration": 10,
    "start_time": "2024-08-02T16:39:40.474Z"
   },
   {
    "duration": 23,
    "start_time": "2024-08-02T16:40:21.931Z"
   },
   {
    "duration": 1490,
    "start_time": "2024-08-02T16:40:36.120Z"
   },
   {
    "duration": 23,
    "start_time": "2024-08-02T16:41:49.011Z"
   },
   {
    "duration": 1009,
    "start_time": "2024-08-02T16:42:03.788Z"
   },
   {
    "duration": 1034,
    "start_time": "2024-08-02T16:43:34.832Z"
   },
   {
    "duration": 747,
    "start_time": "2024-08-02T16:56:39.641Z"
   },
   {
    "duration": 1206,
    "start_time": "2024-08-02T16:57:06.688Z"
   },
   {
    "duration": 183,
    "start_time": "2024-08-02T16:57:16.121Z"
   },
   {
    "duration": 314,
    "start_time": "2024-08-02T16:57:55.625Z"
   },
   {
    "duration": 27,
    "start_time": "2024-08-02T16:58:04.369Z"
   },
   {
    "duration": 488,
    "start_time": "2024-08-02T16:58:10.261Z"
   },
   {
    "duration": 1738,
    "start_time": "2024-08-02T16:58:10.753Z"
   },
   {
    "duration": 51,
    "start_time": "2024-08-02T16:58:12.494Z"
   },
   {
    "duration": 22,
    "start_time": "2024-08-02T16:58:12.552Z"
   },
   {
    "duration": 54,
    "start_time": "2024-08-02T16:58:12.577Z"
   },
   {
    "duration": 21,
    "start_time": "2024-08-02T16:58:12.634Z"
   },
   {
    "duration": 19,
    "start_time": "2024-08-02T16:58:12.658Z"
   },
   {
    "duration": 221,
    "start_time": "2024-08-02T16:58:12.680Z"
   },
   {
    "duration": 185,
    "start_time": "2024-08-02T16:58:12.904Z"
   },
   {
    "duration": 13,
    "start_time": "2024-08-02T16:58:13.095Z"
   },
   {
    "duration": 214,
    "start_time": "2024-08-02T16:58:13.111Z"
   },
   {
    "duration": 173,
    "start_time": "2024-08-02T16:58:13.330Z"
   },
   {
    "duration": 67,
    "start_time": "2024-08-02T16:58:13.505Z"
   },
   {
    "duration": 32,
    "start_time": "2024-08-02T16:58:13.575Z"
   },
   {
    "duration": 13,
    "start_time": "2024-08-02T16:58:13.630Z"
   },
   {
    "duration": 30,
    "start_time": "2024-08-02T16:58:13.646Z"
   },
   {
    "duration": 56,
    "start_time": "2024-08-02T16:58:13.679Z"
   },
   {
    "duration": 10,
    "start_time": "2024-08-02T16:58:13.738Z"
   },
   {
    "duration": 9,
    "start_time": "2024-08-02T16:58:13.751Z"
   },
   {
    "duration": 10,
    "start_time": "2024-08-02T16:58:13.763Z"
   },
   {
    "duration": 54,
    "start_time": "2024-08-02T16:58:13.776Z"
   },
   {
    "duration": 1351,
    "start_time": "2024-08-02T16:58:13.834Z"
   },
   {
    "duration": 597,
    "start_time": "2024-08-02T16:58:15.188Z"
   },
   {
    "duration": 19,
    "start_time": "2024-08-02T16:58:15.787Z"
   },
   {
    "duration": 9,
    "start_time": "2024-08-02T16:58:15.830Z"
   },
   {
    "duration": 13,
    "start_time": "2024-08-02T16:58:15.842Z"
   },
   {
    "duration": 12,
    "start_time": "2024-08-02T16:58:15.858Z"
   },
   {
    "duration": 3,
    "start_time": "2024-08-02T16:58:15.881Z"
   },
   {
    "duration": 58,
    "start_time": "2024-08-02T16:58:15.888Z"
   },
   {
    "duration": 7,
    "start_time": "2024-08-02T16:58:15.949Z"
   },
   {
    "duration": 10,
    "start_time": "2024-08-02T16:58:15.960Z"
   },
   {
    "duration": 16,
    "start_time": "2024-08-02T16:58:15.973Z"
   },
   {
    "duration": 48,
    "start_time": "2024-08-02T16:58:15.991Z"
   },
   {
    "duration": 18,
    "start_time": "2024-08-02T16:58:16.042Z"
   },
   {
    "duration": 11,
    "start_time": "2024-08-02T16:58:16.063Z"
   },
   {
    "duration": 5,
    "start_time": "2024-08-02T16:58:16.077Z"
   },
   {
    "duration": 50,
    "start_time": "2024-08-02T16:58:16.086Z"
   },
   {
    "duration": 29,
    "start_time": "2024-08-02T16:58:16.139Z"
   },
   {
    "duration": 19,
    "start_time": "2024-08-02T16:58:16.171Z"
   },
   {
    "duration": 67,
    "start_time": "2024-08-02T16:58:16.192Z"
   },
   {
    "duration": 28,
    "start_time": "2024-08-02T16:58:16.262Z"
   },
   {
    "duration": 45,
    "start_time": "2024-08-02T16:58:16.293Z"
   },
   {
    "duration": 533,
    "start_time": "2024-08-02T16:58:16.340Z"
   },
   {
    "duration": 542,
    "start_time": "2024-08-02T16:58:16.875Z"
   },
   {
    "duration": 119,
    "start_time": "2024-08-02T16:58:17.420Z"
   },
   {
    "duration": 116,
    "start_time": "2024-08-02T16:58:17.542Z"
   },
   {
    "duration": 75,
    "start_time": "2024-08-02T16:58:17.661Z"
   },
   {
    "duration": 18,
    "start_time": "2024-08-02T16:58:17.739Z"
   },
   {
    "duration": 12,
    "start_time": "2024-08-02T16:58:17.760Z"
   },
   {
    "duration": 276,
    "start_time": "2024-08-02T16:58:17.774Z"
   },
   {
    "duration": 6,
    "start_time": "2024-08-02T16:58:18.054Z"
   },
   {
    "duration": 401,
    "start_time": "2024-08-02T16:58:18.064Z"
   },
   {
    "duration": 14,
    "start_time": "2024-08-02T16:58:18.468Z"
   },
   {
    "duration": 4,
    "start_time": "2024-08-02T16:58:18.485Z"
   },
   {
    "duration": 250,
    "start_time": "2024-08-02T16:58:18.493Z"
   },
   {
    "duration": 19,
    "start_time": "2024-08-02T16:58:18.746Z"
   },
   {
    "duration": 8,
    "start_time": "2024-08-02T16:58:18.768Z"
   },
   {
    "duration": 7,
    "start_time": "2024-08-02T16:58:18.781Z"
   },
   {
    "duration": 405,
    "start_time": "2024-08-02T16:58:18.791Z"
   },
   {
    "duration": 10,
    "start_time": "2024-08-02T16:58:19.199Z"
   },
   {
    "duration": 4,
    "start_time": "2024-08-02T16:58:19.230Z"
   },
   {
    "duration": 14,
    "start_time": "2024-08-02T16:58:19.237Z"
   },
   {
    "duration": 5,
    "start_time": "2024-08-02T16:58:19.254Z"
   },
   {
    "duration": 14,
    "start_time": "2024-08-02T16:58:19.263Z"
   },
   {
    "duration": 50,
    "start_time": "2024-08-02T16:58:19.280Z"
   },
   {
    "duration": 14,
    "start_time": "2024-08-02T16:58:19.333Z"
   },
   {
    "duration": 423,
    "start_time": "2024-08-02T16:58:19.350Z"
   },
   {
    "duration": 65,
    "start_time": "2024-08-02T16:58:19.778Z"
   },
   {
    "duration": 219,
    "start_time": "2024-08-02T16:58:19.847Z"
   },
   {
    "duration": 2040,
    "start_time": "2024-08-02T16:58:20.070Z"
   },
   {
    "duration": 522,
    "start_time": "2024-08-02T16:58:22.113Z"
   },
   {
    "duration": 9,
    "start_time": "2024-08-02T16:58:22.639Z"
   },
   {
    "duration": 13,
    "start_time": "2024-08-02T16:58:22.651Z"
   },
   {
    "duration": 9,
    "start_time": "2024-08-02T16:58:22.667Z"
   },
   {
    "duration": 428,
    "start_time": "2024-08-02T16:58:22.679Z"
   },
   {
    "duration": 707,
    "start_time": "2024-08-02T16:58:23.110Z"
   },
   {
    "duration": 16,
    "start_time": "2024-08-02T16:58:23.820Z"
   },
   {
    "duration": 1510,
    "start_time": "2024-08-02T16:58:23.840Z"
   },
   {
    "duration": 190,
    "start_time": "2024-08-02T16:58:25.353Z"
   },
   {
    "duration": 158,
    "start_time": "2024-08-02T17:01:55.436Z"
   },
   {
    "duration": 163,
    "start_time": "2024-08-02T17:02:02.648Z"
   },
   {
    "duration": 431,
    "start_time": "2024-08-02T17:03:37.370Z"
   },
   {
    "duration": 23,
    "start_time": "2024-08-02T17:03:41.419Z"
   },
   {
    "duration": 97,
    "start_time": "2024-08-02T17:03:44.478Z"
   },
   {
    "duration": 50,
    "start_time": "2024-08-02T17:03:52.802Z"
   },
   {
    "duration": 14,
    "start_time": "2024-08-02T17:04:14.667Z"
   },
   {
    "duration": 17,
    "start_time": "2024-08-02T17:04:22.771Z"
   },
   {
    "duration": 23,
    "start_time": "2024-08-02T17:04:38.978Z"
   },
   {
    "duration": 23,
    "start_time": "2024-08-02T17:04:51.264Z"
   },
   {
    "duration": 24,
    "start_time": "2024-08-02T17:05:11.332Z"
   },
   {
    "duration": 30,
    "start_time": "2024-08-02T17:05:17.501Z"
   },
   {
    "duration": 21,
    "start_time": "2024-08-02T17:05:26.174Z"
   },
   {
    "duration": 1319,
    "start_time": "2024-08-02T17:12:57.653Z"
   },
   {
    "duration": 188,
    "start_time": "2024-08-02T17:15:31.848Z"
   },
   {
    "duration": 182,
    "start_time": "2024-08-02T17:15:44.820Z"
   },
   {
    "duration": 290,
    "start_time": "2024-08-02T17:16:31.988Z"
   },
   {
    "duration": 327,
    "start_time": "2024-08-02T19:29:31.708Z"
   },
   {
    "duration": 25,
    "start_time": "2024-08-02T19:30:08.640Z"
   },
   {
    "duration": 453,
    "start_time": "2024-08-02T19:30:22.253Z"
   },
   {
    "duration": 1766,
    "start_time": "2024-08-02T19:30:22.710Z"
   },
   {
    "duration": 40,
    "start_time": "2024-08-02T19:30:24.479Z"
   },
   {
    "duration": 27,
    "start_time": "2024-08-02T19:30:24.524Z"
   },
   {
    "duration": 55,
    "start_time": "2024-08-02T19:30:24.554Z"
   },
   {
    "duration": 25,
    "start_time": "2024-08-02T19:30:24.613Z"
   },
   {
    "duration": 58,
    "start_time": "2024-08-02T19:30:24.642Z"
   },
   {
    "duration": 273,
    "start_time": "2024-08-02T19:30:24.704Z"
   },
   {
    "duration": 209,
    "start_time": "2024-08-02T19:30:24.981Z"
   },
   {
    "duration": 16,
    "start_time": "2024-08-02T19:30:25.197Z"
   },
   {
    "duration": 224,
    "start_time": "2024-08-02T19:30:25.215Z"
   },
   {
    "duration": 196,
    "start_time": "2024-08-02T19:30:25.442Z"
   },
   {
    "duration": 69,
    "start_time": "2024-08-02T19:30:25.642Z"
   },
   {
    "duration": 26,
    "start_time": "2024-08-02T19:30:25.714Z"
   },
   {
    "duration": 13,
    "start_time": "2024-08-02T19:30:25.746Z"
   },
   {
    "duration": 56,
    "start_time": "2024-08-02T19:30:25.762Z"
   },
   {
    "duration": 36,
    "start_time": "2024-08-02T19:30:25.820Z"
   },
   {
    "duration": 38,
    "start_time": "2024-08-02T19:30:25.859Z"
   },
   {
    "duration": 15,
    "start_time": "2024-08-02T19:30:25.900Z"
   },
   {
    "duration": 10,
    "start_time": "2024-08-02T19:30:25.918Z"
   },
   {
    "duration": 9,
    "start_time": "2024-08-02T19:30:25.931Z"
   },
   {
    "duration": 1526,
    "start_time": "2024-08-02T19:30:25.943Z"
   },
   {
    "duration": 670,
    "start_time": "2024-08-02T19:30:27.471Z"
   },
   {
    "duration": 23,
    "start_time": "2024-08-02T19:30:28.147Z"
   },
   {
    "duration": 10,
    "start_time": "2024-08-02T19:30:28.190Z"
   },
   {
    "duration": 14,
    "start_time": "2024-08-02T19:30:28.204Z"
   },
   {
    "duration": 15,
    "start_time": "2024-08-02T19:30:28.220Z"
   },
   {
    "duration": 59,
    "start_time": "2024-08-02T19:30:38.073Z"
   },
   {
    "duration": 28,
    "start_time": "2024-08-02T19:31:18.729Z"
   },
   {
    "duration": 12,
    "start_time": "2024-08-02T19:31:30.510Z"
   },
   {
    "duration": 25,
    "start_time": "2024-08-02T19:32:00.414Z"
   },
   {
    "duration": 10,
    "start_time": "2024-08-02T19:32:10.668Z"
   },
   {
    "duration": 3,
    "start_time": "2024-08-02T19:32:36.030Z"
   },
   {
    "duration": 1500,
    "start_time": "2024-08-02T19:32:36.039Z"
   },
   {
    "duration": 27,
    "start_time": "2024-08-02T19:32:37.542Z"
   },
   {
    "duration": 40,
    "start_time": "2024-08-02T19:32:37.571Z"
   },
   {
    "duration": 21,
    "start_time": "2024-08-02T19:32:37.616Z"
   },
   {
    "duration": 57,
    "start_time": "2024-08-02T19:32:37.643Z"
   },
   {
    "duration": 20,
    "start_time": "2024-08-02T19:32:37.703Z"
   },
   {
    "duration": 224,
    "start_time": "2024-08-02T19:32:37.726Z"
   },
   {
    "duration": 203,
    "start_time": "2024-08-02T19:32:37.953Z"
   },
   {
    "duration": 13,
    "start_time": "2024-08-02T19:32:38.159Z"
   },
   {
    "duration": 228,
    "start_time": "2024-08-02T19:32:38.175Z"
   },
   {
    "duration": 205,
    "start_time": "2024-08-02T19:32:38.406Z"
   },
   {
    "duration": 53,
    "start_time": "2024-08-02T19:32:38.615Z"
   },
   {
    "duration": 28,
    "start_time": "2024-08-02T19:32:38.695Z"
   },
   {
    "duration": 14,
    "start_time": "2024-08-02T19:32:38.726Z"
   },
   {
    "duration": 64,
    "start_time": "2024-08-02T19:32:38.743Z"
   },
   {
    "duration": 37,
    "start_time": "2024-08-02T19:32:38.811Z"
   },
   {
    "duration": 10,
    "start_time": "2024-08-02T19:32:38.851Z"
   },
   {
    "duration": 12,
    "start_time": "2024-08-02T19:32:38.892Z"
   },
   {
    "duration": 11,
    "start_time": "2024-08-02T19:32:38.907Z"
   },
   {
    "duration": 12,
    "start_time": "2024-08-02T19:32:38.922Z"
   },
   {
    "duration": 1606,
    "start_time": "2024-08-02T19:32:38.938Z"
   },
   {
    "duration": 747,
    "start_time": "2024-08-02T19:32:40.548Z"
   },
   {
    "duration": 21,
    "start_time": "2024-08-02T19:32:41.302Z"
   },
   {
    "duration": 11,
    "start_time": "2024-08-02T19:32:41.327Z"
   },
   {
    "duration": 54,
    "start_time": "2024-08-02T19:32:41.342Z"
   },
   {
    "duration": 16,
    "start_time": "2024-08-02T19:32:41.399Z"
   },
   {
    "duration": 25,
    "start_time": "2024-08-02T19:32:41.420Z"
   },
   {
    "duration": 22,
    "start_time": "2024-08-02T19:33:01.785Z"
   },
   {
    "duration": 831,
    "start_time": "2024-08-02T19:34:09.752Z"
   },
   {
    "duration": 11,
    "start_time": "2024-08-02T19:34:14.303Z"
   },
   {
    "duration": 493,
    "start_time": "2024-08-02T20:27:21.228Z"
   },
   {
    "duration": 6,
    "start_time": "2024-08-02T20:27:23.627Z"
   },
   {
    "duration": 509,
    "start_time": "2024-08-02T20:27:47.613Z"
   },
   {
    "duration": 7,
    "start_time": "2024-08-02T20:27:49.975Z"
   },
   {
    "duration": 11,
    "start_time": "2024-08-02T20:27:54.657Z"
   },
   {
    "duration": 13,
    "start_time": "2024-08-02T20:28:02.730Z"
   },
   {
    "duration": 6,
    "start_time": "2024-08-02T20:29:30.683Z"
   },
   {
    "duration": 6,
    "start_time": "2024-08-02T20:29:42.585Z"
   },
   {
    "duration": 24,
    "start_time": "2024-08-02T20:37:40.447Z"
   },
   {
    "duration": 24,
    "start_time": "2024-08-02T20:37:44.666Z"
   },
   {
    "duration": 3,
    "start_time": "2024-08-02T20:37:52.863Z"
   },
   {
    "duration": 1490,
    "start_time": "2024-08-02T20:37:52.874Z"
   },
   {
    "duration": 33,
    "start_time": "2024-08-02T20:37:54.367Z"
   },
   {
    "duration": 25,
    "start_time": "2024-08-02T20:37:54.403Z"
   },
   {
    "duration": 20,
    "start_time": "2024-08-02T20:37:54.430Z"
   },
   {
    "duration": 19,
    "start_time": "2024-08-02T20:37:54.494Z"
   },
   {
    "duration": 19,
    "start_time": "2024-08-02T20:37:54.516Z"
   },
   {
    "duration": 190,
    "start_time": "2024-08-02T20:37:54.539Z"
   },
   {
    "duration": 161,
    "start_time": "2024-08-02T20:37:54.732Z"
   },
   {
    "duration": 12,
    "start_time": "2024-08-02T20:37:54.896Z"
   },
   {
    "duration": 180,
    "start_time": "2024-08-02T20:37:54.911Z"
   },
   {
    "duration": 157,
    "start_time": "2024-08-02T20:37:55.094Z"
   },
   {
    "duration": 54,
    "start_time": "2024-08-02T20:37:55.254Z"
   },
   {
    "duration": 28,
    "start_time": "2024-08-02T20:37:55.313Z"
   },
   {
    "duration": 14,
    "start_time": "2024-08-02T20:37:55.350Z"
   },
   {
    "duration": 31,
    "start_time": "2024-08-02T20:37:55.389Z"
   },
   {
    "duration": 34,
    "start_time": "2024-08-02T20:37:55.423Z"
   },
   {
    "duration": 34,
    "start_time": "2024-08-02T20:37:55.460Z"
   },
   {
    "duration": 9,
    "start_time": "2024-08-02T20:37:55.498Z"
   },
   {
    "duration": 10,
    "start_time": "2024-08-02T20:37:55.511Z"
   },
   {
    "duration": 9,
    "start_time": "2024-08-02T20:37:55.524Z"
   },
   {
    "duration": 1385,
    "start_time": "2024-08-02T20:37:55.537Z"
   },
   {
    "duration": 568,
    "start_time": "2024-08-02T20:37:56.925Z"
   },
   {
    "duration": 25,
    "start_time": "2024-08-02T20:37:57.497Z"
   },
   {
    "duration": 11,
    "start_time": "2024-08-02T20:37:57.525Z"
   },
   {
    "duration": 12,
    "start_time": "2024-08-02T20:37:57.539Z"
   },
   {
    "duration": 45,
    "start_time": "2024-08-02T20:37:57.554Z"
   },
   {
    "duration": 11,
    "start_time": "2024-08-02T20:37:57.602Z"
   },
   {
    "duration": 11,
    "start_time": "2024-08-02T20:37:57.617Z"
   },
   {
    "duration": 68,
    "start_time": "2024-08-02T20:37:57.632Z"
   },
   {
    "duration": 7,
    "start_time": "2024-08-02T20:37:57.703Z"
   },
   {
    "duration": 13,
    "start_time": "2024-08-02T20:37:57.713Z"
   },
   {
    "duration": 17,
    "start_time": "2024-08-02T20:37:57.728Z"
   },
   {
    "duration": 51,
    "start_time": "2024-08-02T20:37:57.748Z"
   },
   {
    "duration": 19,
    "start_time": "2024-08-02T20:37:57.802Z"
   },
   {
    "duration": 11,
    "start_time": "2024-08-02T20:37:57.824Z"
   },
   {
    "duration": 6,
    "start_time": "2024-08-02T20:37:57.839Z"
   },
   {
    "duration": 12,
    "start_time": "2024-08-02T20:37:57.892Z"
   },
   {
    "duration": 29,
    "start_time": "2024-08-02T20:37:57.907Z"
   },
   {
    "duration": 60,
    "start_time": "2024-08-02T20:37:57.939Z"
   },
   {
    "duration": 30,
    "start_time": "2024-08-02T20:37:58.002Z"
   },
   {
    "duration": 58,
    "start_time": "2024-08-02T20:37:58.044Z"
   },
   {
    "duration": 14,
    "start_time": "2024-08-02T20:37:58.105Z"
   },
   {
    "duration": 526,
    "start_time": "2024-08-02T20:37:58.122Z"
   },
   {
    "duration": 540,
    "start_time": "2024-08-02T20:37:58.651Z"
   },
   {
    "duration": 124,
    "start_time": "2024-08-02T20:37:59.194Z"
   },
   {
    "duration": 116,
    "start_time": "2024-08-02T20:37:59.321Z"
   },
   {
    "duration": 77,
    "start_time": "2024-08-02T20:37:59.440Z"
   },
   {
    "duration": 18,
    "start_time": "2024-08-02T20:37:59.520Z"
   },
   {
    "duration": 12,
    "start_time": "2024-08-02T20:37:59.541Z"
   },
   {
    "duration": 4104,
    "start_time": "2024-08-02T20:37:59.556Z"
   },
   {
    "duration": 5,
    "start_time": "2024-08-02T20:38:03.664Z"
   },
   {
    "duration": 382,
    "start_time": "2024-08-02T20:38:03.673Z"
   },
   {
    "duration": 12,
    "start_time": "2024-08-02T20:38:04.058Z"
   },
   {
    "duration": 20,
    "start_time": "2024-08-02T20:38:04.073Z"
   },
   {
    "duration": 242,
    "start_time": "2024-08-02T20:38:04.096Z"
   },
   {
    "duration": 18,
    "start_time": "2024-08-02T20:38:04.341Z"
   },
   {
    "duration": 28,
    "start_time": "2024-08-02T20:38:04.362Z"
   },
   {
    "duration": 7,
    "start_time": "2024-08-02T20:38:04.393Z"
   },
   {
    "duration": 425,
    "start_time": "2024-08-02T20:38:04.403Z"
   },
   {
    "duration": 14,
    "start_time": "2024-08-02T20:38:04.832Z"
   },
   {
    "duration": 5,
    "start_time": "2024-08-02T20:38:04.849Z"
   },
   {
    "duration": 40,
    "start_time": "2024-08-02T20:38:04.858Z"
   },
   {
    "duration": 5,
    "start_time": "2024-08-02T20:38:04.902Z"
   },
   {
    "duration": 15,
    "start_time": "2024-08-02T20:38:04.911Z"
   },
   {
    "duration": 5,
    "start_time": "2024-08-02T20:38:04.929Z"
   },
   {
    "duration": 59,
    "start_time": "2024-08-02T20:38:04.937Z"
   },
   {
    "duration": 509,
    "start_time": "2024-08-02T20:38:04.999Z"
   },
   {
    "duration": 52,
    "start_time": "2024-08-02T20:38:05.511Z"
   },
   {
    "duration": 246,
    "start_time": "2024-08-02T20:38:05.567Z"
   },
   {
    "duration": 473,
    "start_time": "2024-08-02T20:39:24.106Z"
   },
   {
    "duration": 1721,
    "start_time": "2024-08-02T20:39:24.582Z"
   },
   {
    "duration": 35,
    "start_time": "2024-08-02T20:39:26.306Z"
   },
   {
    "duration": 46,
    "start_time": "2024-08-02T20:39:26.346Z"
   },
   {
    "duration": 22,
    "start_time": "2024-08-02T20:39:26.397Z"
   },
   {
    "duration": 20,
    "start_time": "2024-08-02T20:39:26.422Z"
   },
   {
    "duration": 59,
    "start_time": "2024-08-02T20:39:26.445Z"
   },
   {
    "duration": 210,
    "start_time": "2024-08-02T20:39:26.507Z"
   },
   {
    "duration": 204,
    "start_time": "2024-08-02T20:39:26.720Z"
   },
   {
    "duration": 14,
    "start_time": "2024-08-02T20:39:26.927Z"
   },
   {
    "duration": 221,
    "start_time": "2024-08-02T20:39:26.946Z"
   },
   {
    "duration": 186,
    "start_time": "2024-08-02T20:39:27.170Z"
   },
   {
    "duration": 63,
    "start_time": "2024-08-02T20:39:27.360Z"
   },
   {
    "duration": 26,
    "start_time": "2024-08-02T20:39:27.431Z"
   },
   {
    "duration": 37,
    "start_time": "2024-08-02T20:39:27.459Z"
   },
   {
    "duration": 30,
    "start_time": "2024-08-02T20:39:27.499Z"
   },
   {
    "duration": 35,
    "start_time": "2024-08-02T20:39:27.532Z"
   },
   {
    "duration": 10,
    "start_time": "2024-08-02T20:39:27.591Z"
   },
   {
    "duration": 9,
    "start_time": "2024-08-02T20:39:27.605Z"
   },
   {
    "duration": 10,
    "start_time": "2024-08-02T20:39:27.617Z"
   },
   {
    "duration": 10,
    "start_time": "2024-08-02T20:39:27.630Z"
   },
   {
    "duration": 1436,
    "start_time": "2024-08-02T20:39:27.690Z"
   },
   {
    "duration": 647,
    "start_time": "2024-08-02T20:39:29.129Z"
   },
   {
    "duration": 25,
    "start_time": "2024-08-02T20:39:29.779Z"
   },
   {
    "duration": 9,
    "start_time": "2024-08-02T20:39:29.807Z"
   },
   {
    "duration": 12,
    "start_time": "2024-08-02T20:39:29.820Z"
   },
   {
    "duration": 13,
    "start_time": "2024-08-02T20:39:29.835Z"
   },
   {
    "duration": 12,
    "start_time": "2024-08-02T20:39:29.892Z"
   },
   {
    "duration": 11,
    "start_time": "2024-08-02T20:39:29.907Z"
   },
   {
    "duration": 19,
    "start_time": "2024-08-02T20:39:29.921Z"
   },
   {
    "duration": 53,
    "start_time": "2024-08-02T20:39:29.942Z"
   },
   {
    "duration": 16,
    "start_time": "2024-08-02T20:39:29.999Z"
   },
   {
    "duration": 18,
    "start_time": "2024-08-02T20:39:30.019Z"
   },
   {
    "duration": 52,
    "start_time": "2024-08-02T20:39:30.040Z"
   },
   {
    "duration": 19,
    "start_time": "2024-08-02T20:39:30.094Z"
   },
   {
    "duration": 12,
    "start_time": "2024-08-02T20:39:30.117Z"
   },
   {
    "duration": 5,
    "start_time": "2024-08-02T20:39:30.132Z"
   },
   {
    "duration": 52,
    "start_time": "2024-08-02T20:39:30.141Z"
   },
   {
    "duration": 30,
    "start_time": "2024-08-02T20:39:30.196Z"
   },
   {
    "duration": 20,
    "start_time": "2024-08-02T20:39:30.229Z"
   },
   {
    "duration": 29,
    "start_time": "2024-08-02T20:39:30.296Z"
   },
   {
    "duration": 30,
    "start_time": "2024-08-02T20:39:30.328Z"
   },
   {
    "duration": 38,
    "start_time": "2024-08-02T20:39:30.361Z"
   },
   {
    "duration": 570,
    "start_time": "2024-08-02T20:39:30.402Z"
   },
   {
    "duration": 574,
    "start_time": "2024-08-02T20:39:30.976Z"
   },
   {
    "duration": 124,
    "start_time": "2024-08-02T20:39:31.554Z"
   },
   {
    "duration": 116,
    "start_time": "2024-08-02T20:39:31.680Z"
   },
   {
    "duration": 67,
    "start_time": "2024-08-02T20:39:31.800Z"
   },
   {
    "duration": 17,
    "start_time": "2024-08-02T20:39:31.892Z"
   },
   {
    "duration": 12,
    "start_time": "2024-08-02T20:39:31.911Z"
   },
   {
    "duration": 270,
    "start_time": "2024-08-02T20:39:31.926Z"
   },
   {
    "duration": 7,
    "start_time": "2024-08-02T20:39:32.199Z"
   },
   {
    "duration": 431,
    "start_time": "2024-08-02T20:39:32.209Z"
   },
   {
    "duration": 12,
    "start_time": "2024-08-02T20:39:32.644Z"
   },
   {
    "duration": 4,
    "start_time": "2024-08-02T20:39:32.659Z"
   },
   {
    "duration": 265,
    "start_time": "2024-08-02T20:39:32.666Z"
   },
   {
    "duration": 18,
    "start_time": "2024-08-02T20:39:32.934Z"
   },
   {
    "duration": 36,
    "start_time": "2024-08-02T20:39:32.956Z"
   },
   {
    "duration": 10,
    "start_time": "2024-08-02T20:39:32.994Z"
   },
   {
    "duration": 400,
    "start_time": "2024-08-02T20:39:33.007Z"
   },
   {
    "duration": 9,
    "start_time": "2024-08-02T20:39:33.410Z"
   },
   {
    "duration": 4,
    "start_time": "2024-08-02T20:39:33.422Z"
   },
   {
    "duration": 13,
    "start_time": "2024-08-02T20:39:33.430Z"
   },
   {
    "duration": 45,
    "start_time": "2024-08-02T20:39:33.446Z"
   },
   {
    "duration": 15,
    "start_time": "2024-08-02T20:39:33.495Z"
   },
   {
    "duration": 6,
    "start_time": "2024-08-02T20:39:33.512Z"
   },
   {
    "duration": 11,
    "start_time": "2024-08-02T20:39:33.521Z"
   },
   {
    "duration": 455,
    "start_time": "2024-08-02T20:39:33.535Z"
   },
   {
    "duration": 55,
    "start_time": "2024-08-02T20:39:33.993Z"
   },
   {
    "duration": 239,
    "start_time": "2024-08-02T20:39:34.051Z"
   },
   {
    "duration": 2135,
    "start_time": "2024-08-02T20:39:34.293Z"
   },
   {
    "duration": 534,
    "start_time": "2024-08-02T20:39:36.431Z"
   },
   {
    "duration": 7,
    "start_time": "2024-08-02T20:39:36.968Z"
   },
   {
    "duration": 7,
    "start_time": "2024-08-02T20:39:36.992Z"
   },
   {
    "duration": 12,
    "start_time": "2024-08-02T20:39:37.001Z"
   },
   {
    "duration": 9,
    "start_time": "2024-08-02T20:39:37.017Z"
   },
   {
    "duration": 427,
    "start_time": "2024-08-02T20:39:37.029Z"
   },
   {
    "duration": 740,
    "start_time": "2024-08-02T20:39:37.459Z"
   },
   {
    "duration": 8,
    "start_time": "2024-08-02T20:39:38.202Z"
   },
   {
    "duration": 1573,
    "start_time": "2024-08-02T20:39:38.214Z"
   },
   {
    "duration": 196,
    "start_time": "2024-08-02T20:39:39.792Z"
   },
   {
    "duration": 1524,
    "start_time": "2024-08-02T20:39:39.991Z"
   },
   {
    "duration": 224,
    "start_time": "2024-08-02T20:39:41.519Z"
   },
   {
    "duration": 130,
    "start_time": "2024-08-02T20:39:41.747Z"
   },
   {
    "duration": 23,
    "start_time": "2024-08-02T20:39:41.880Z"
   },
   {
    "duration": 21,
    "start_time": "2024-08-02T20:39:41.906Z"
   },
   {
    "duration": 172,
    "start_time": "2024-08-02T20:41:08.480Z"
   },
   {
    "duration": 190,
    "start_time": "2024-08-02T20:41:22.464Z"
   },
   {
    "duration": 7,
    "start_time": "2024-08-02T20:41:29.198Z"
   },
   {
    "duration": 7,
    "start_time": "2024-08-02T20:43:30.535Z"
   },
   {
    "duration": 11,
    "start_time": "2024-08-02T21:12:23.255Z"
   },
   {
    "duration": 8,
    "start_time": "2024-08-02T21:12:28.333Z"
   },
   {
    "duration": 8,
    "start_time": "2024-08-02T21:12:34.481Z"
   },
   {
    "duration": 19,
    "start_time": "2024-08-06T12:52:32.347Z"
   }
  ],
  "colab": {
   "provenance": []
  },
  "kernelspec": {
   "display_name": "Python 3 (ipykernel)",
   "language": "python",
   "name": "python3"
  },
  "language_info": {
   "codemirror_mode": {
    "name": "ipython",
    "version": 3
   },
   "file_extension": ".py",
   "mimetype": "text/x-python",
   "name": "python",
   "nbconvert_exporter": "python",
   "pygments_lexer": "ipython3",
   "version": "3.9.19"
  },
  "toc": {
   "base_numbering": 1,
   "nav_menu": {},
   "number_sections": true,
   "sideBar": true,
   "skip_h1_title": true,
   "title_cell": "Table of Contents",
   "title_sidebar": "Contents",
   "toc_cell": false,
   "toc_position": {},
   "toc_section_display": true,
   "toc_window_display": false
  },
  "vscode": {
   "interpreter": {
    "hash": "01a7be9ec63e704a62cefc5fe7a4756944464ee731be31632bdf42a4cb4688cf"
   }
  }
 },
 "nbformat": 4,
 "nbformat_minor": 5
}
